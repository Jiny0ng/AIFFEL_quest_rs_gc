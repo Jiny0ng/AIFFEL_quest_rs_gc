{
 "cells": [
  {
   "cell_type": "markdown",
   "id": "8cc6816a-a10f-4f0e-a4a9-41f5e8e1b32c",
   "metadata": {},
   "source": [
    "#### Project: 번역가는 대화에도 능하다\n",
    "##### Rubrics\n",
    "1. 데이터 전처리가 잘 이루어졌다. 데이터 정제, SentencePiece를 활용한 토큰화 및 데이터셋 구축 과정이 태스크에 맞게 진행되었다.\n",
    "2. Augmentation을 적절히 수행하여 증강된 데이터셋을 확보하였다.\n",
    "3. 과적합을 피하여 Transformer 모델이 안정적으로 훈련되었다.\n",
    "4. 모델의 생성 기능이 정상적으로 동작한다.\n",
    "5. 테스트 결과 의미있는 수준의 생성문을 확보하였으며, Attention Map의 시각화 결과를 보여준다.\n",
    "6. 평가지표를 적용하여 번역/생성문을 정량적으로 평가할 수 있다."
   ]
  },
  {
   "cell_type": "markdown",
   "id": "3891c8f0-85d1-4fc8-8341-9aefd5a77082",
   "metadata": {},
   "source": [
    "##### 라이브러리 설치 및 임포트"
   ]
  },
  {
   "cell_type": "code",
   "execution_count": 1,
   "id": "6fd24220-d2e7-4746-8560-619efea6177e",
   "metadata": {},
   "outputs": [
    {
     "name": "stdout",
     "output_type": "stream",
     "text": [
      "라이브러리 임포트 완료.\n"
     ]
    }
   ],
   "source": [
    "# !pip install torch sentencepiece scikit-learn pandas matplotlib tqdm rouge-score gensim\n",
    "\n",
    "import os\n",
    "import math\n",
    "import time\n",
    "import numpy as np\n",
    "import pandas as pd\n",
    "import matplotlib.pyplot as plt\n",
    "import matplotlib.font_manager as fm\n",
    "import urllib.request\n",
    "import zipfile\n",
    "import re\n",
    "import random\n",
    "\n",
    "import torch\n",
    "import torch.nn as nn\n",
    "from torch.utils.data import Dataset, DataLoader\n",
    "from torch.nn import TransformerEncoder, TransformerEncoderLayer, TransformerDecoder\n",
    "\n",
    "import sentencepiece as spm\n",
    "from sklearn.model_selection import train_test_split\n",
    "from tqdm.notebook import tqdm\n",
    "from rouge import Rouge\n",
    "from gensim.models import KeyedVectors\n",
    "\n",
    "print(\"라이브러리 임포트 완료.\")"
   ]
  },
  {
   "cell_type": "markdown",
   "id": "4c7a58f2-aa30-4adf-bcce-6cb5984d9fcc",
   "metadata": {},
   "source": [
    "##### 한글 폰트 설정"
   ]
  },
  {
   "cell_type": "code",
   "execution_count": 2,
   "id": "aacc13a0-1c88-4fc9-8a2d-df2931662c26",
   "metadata": {},
   "outputs": [
    {
     "name": "stdout",
     "output_type": "stream",
     "text": [
      "'NanumGothic' 폰트가 없어 다운로드를 시작합니다.\n",
      "'NanumGothic' 폰트 설정이 완료되었습니다.\n",
      "현재 Matplotlib 폰트: ['NanumGothic']\n"
     ]
    }
   ],
   "source": [
    "def setup_korean_font():\n",
    "    \"\"\"\n",
    "    Matplotlib에서 한글을 지원하기 위한 폰트 설정을 수행합니다.\n",
    "    나눔 폰트가 없으면 자동으로 다운로드하여 설정합니다.\n",
    "    \"\"\"\n",
    "    font_name = 'NanumGothic'\n",
    "\n",
    "    if any(font_name in f.name for f in fm.fontManager.ttflist):\n",
    "        print(f\"'{font_name}' 폰트가 이미 설치되어 있습니다.\")\n",
    "        plt.rcParams['font.family'] = font_name\n",
    "    else:\n",
    "        print(f\"'{font_name}' 폰트가 없어 다운로드를 시작합니다.\")\n",
    "\n",
    "        font_url = 'https://github.com/google/fonts/raw/main/ofl/nanumgothic/NanumGothic-Regular.ttf'\n",
    "        font_path = 'NanumGothic-Regular.ttf'\n",
    "\n",
    "        try:\n",
    "            if not os.path.exists(font_path):\n",
    "                urllib.request.urlretrieve(font_url, font_path)\n",
    "            fm.fontManager.addfont(font_path)\n",
    "            plt.rcParams['font.family'] = 'NanumGothic'\n",
    "            print(f\"'{font_name}' 폰트 설정이 완료되었습니다.\")\n",
    "        except Exception as e:\n",
    "            print(f\"폰트 다운로드 또는 설정에 실패했습니다: {e}\")\n",
    "            print(\"기본 폰트로 그래프를 생성합니다. 한글이 깨질 수 있습니다.\")\n",
    "            plt.rcParams['font.family'] = 'sans-serif'\n",
    "\n",
    "    plt.rcParams['axes.unicode_minus'] = False\n",
    "    print(f\"현재 Matplotlib 폰트: {plt.rcParams['font.family']}\")\n",
    "\n",
    "setup_korean_font()"
   ]
  },
  {
   "cell_type": "markdown",
   "id": "01f78d81-15bd-4cad-837c-9d6b691b0a53",
   "metadata": {},
   "source": [
    "##### 데이터 로드, 전처리 및 분할"
   ]
  },
  {
   "cell_type": "code",
   "execution_count": 3,
   "id": "6e17ed5b-60e3-4cd2-9435-8d35872c056a",
   "metadata": {},
   "outputs": [
    {
     "name": "stdout",
     "output_type": "stream",
     "text": [
      "1. 데이터 로드 및 전처리 시작\n",
      "초기 데이터 개수: 11823\n",
      "전처리 후 데이터 개수: 11750\n",
      "\n",
      "분할 전 훈련 데이터: 9400개, 검증 데이터: 1175개, 테스트 데이터: 1175개\n",
      "------------------------------\n"
     ]
    }
   ],
   "source": [
    "print(\"1. 데이터 로드 및 전처리 시작\")\n",
    "try:\n",
    "    df = pd.read_csv(\"ChatbotData.csv\")\n",
    "    print(f\"초기 데이터 개수: {len(df)}\")\n",
    "\n",
    "    df = df.dropna(subset=[\"Q\", \"A\"])\n",
    "    df = df.drop_duplicates(subset=[\"Q\", \"A\"])\n",
    "    df = df.reset_index(drop=True)\n",
    "\n",
    "    questions = df[\"Q\"].values\n",
    "    answers = df[\"A\"].values\n",
    "    print(f\"전처리 후 데이터 개수: {len(df)}\")\n",
    "\n",
    "except FileNotFoundError:\n",
    "    print(\"Error: ChatbotData.csv 파일을 찾을 수 없습니다.\")\n",
    "    exit()\n",
    "\n",
    "# 데이터를 8:1:1 비율로 분할\n",
    "train_val_questions, test_questions, train_val_answers, test_answers = train_test_split(\n",
    "    questions, answers, test_size=0.1, random_state=42)\n",
    "train_questions, val_questions, train_answers, val_answers = train_test_split(\n",
    "    train_val_questions, train_val_answers, test_size=1/9, random_state=42)\n",
    "\n",
    "print(f\"\\n분할 전 훈련 데이터: {len(train_questions)}개, 검증 데이터: {len(val_questions)}개, 테스트 데이터: {len(test_questions)}개\")\n",
    "print(\"-\" * 30)"
   ]
  },
  {
   "cell_type": "markdown",
   "id": "f95d23f0-a507-4582-9111-03dc52c45f7e",
   "metadata": {},
   "source": [
    "##### Word2Vec 이용한 데이터 증강"
   ]
  },
  {
   "cell_type": "code",
   "execution_count": null,
   "id": "88804a6b-2078-4766-bbe9-750901efab28",
   "metadata": {},
   "outputs": [
    {
     "name": "stdout",
     "output_type": "stream",
     "text": [
      "\n",
      "1-2. Word2Vec 이용한 데이터 증강 시작\n",
      "Word2Vec 모델 로드 완료.\n"
     ]
    },
    {
     "data": {
      "application/vnd.jupyter.widget-view+json": {
       "model_id": "4f9adb003f834fbe8b7f4817ea168e00",
       "version_major": 2,
       "version_minor": 0
      },
      "text/plain": [
       "데이터 증강 중:   0%|          | 0/9400 [00:00<?, ?it/s]"
      ]
     },
     "metadata": {},
     "output_type": "display_data"
    }
   ],
   "source": [
    "print(\"\\n1-2. Word2Vec 이용한 데이터 증강 시작\")\n",
    "\n",
    "# Word2Vec 모델 로드\n",
    "word2vec_path = 'ko.vec'\n",
    "kv = KeyedVectors.load_word2vec_format(word2vec_path, binary=False)\n",
    "print(\"Word2Vec 모델 로드 완료.\")\n",
    "\n",
    "if kv:\n",
    "    _VALID = re.compile(r\"^[가-힣a-zA-Z0-9]+$\")\n",
    "\n",
    "    def lexical_sub_tokens(tokens, kv, p=0.2, topk=10, min_sim=0.5, seed=None):\n",
    "        if seed is not None: random.seed(seed)\n",
    "        if not tokens: return tokens\n",
    "        new, changed = [], False\n",
    "        for t in tokens:\n",
    "            if t in kv and _VALID.match(t) and random.random() < p:\n",
    "                try: cands = kv.most_similar(t, topn=topk)\n",
    "                except KeyError: cands = []\n",
    "                repl = None\n",
    "                for cand, sim in cands:\n",
    "                    if cand != t and sim >= min_sim and _VALID.match(cand) and (cand in kv):\n",
    "                        repl = cand\n",
    "                        break\n",
    "                if repl:\n",
    "                    new.append(repl)\n",
    "                    changed = True\n",
    "                else: new.append(t)\n",
    "            else: new.append(t)\n",
    "        if not changed:\n",
    "            for i, t in enumerate(tokens):\n",
    "                if t in kv and _VALID.match(t):\n",
    "                    try:\n",
    "                        cand, sim = kv.most_similar(t, topn=1)[0]\n",
    "                        if cand != t and sim >= min_sim and _VALID.match(cand):\n",
    "                            new[i] = cand\n",
    "                            break\n",
    "                    except Exception: pass\n",
    "        return new\n",
    "\n",
    "    def augment_qa_pairs(q_corpus, a_corpus, kv, n_q=1, n_a=1, n_both=0, include_orig=True, p=0.2, topk=10, min_sim=0.35, seed=42):\n",
    "        random.seed(seed)\n",
    "        aug_q, aug_a = [], []\n",
    "        for q_tokens, a_tokens in tqdm(zip(q_corpus, a_corpus), total=len(q_corpus), desc=\"데이터 증강 중\"):\n",
    "            if include_orig:\n",
    "                aug_q.append(q_tokens)\n",
    "                aug_a.append(a_tokens)\n",
    "            for _ in range(n_q):\n",
    "                q_new = lexical_sub_tokens(q_tokens, kv, p=p, topk=topk, min_sim=min_sim)\n",
    "                aug_q.append(q_new)\n",
    "                aug_a.append(a_tokens)\n",
    "            for _ in range(n_a):\n",
    "                a_new = lexical_sub_tokens(a_tokens, kv, p=p, topk=topk, min_sim=min_sim)\n",
    "                aug_q.append(q_tokens)\n",
    "                aug_a.append(a_new)\n",
    "            for _ in range(n_both):\n",
    "                q_new = lexical_sub_tokens(q_tokens, kv, p=p, topk=topk, min_sim=min_sim)\n",
    "                a_new = lexical_sub_tokens(a_tokens, kv, p=p, topk=topk, min_sim=min_sim)\n",
    "                aug_q.append(q_new)\n",
    "                aug_a.append(a_new)\n",
    "        return aug_q, aug_a\n",
    "\n",
    "    def deduplicate_pairs(q_list, a_list):\n",
    "        pair_set, new_q, new_a = set(), [], []\n",
    "        for q, a in zip(q_list, a_list):\n",
    "            pair = (\" \".join(q), \" \".join(a))\n",
    "            if pair not in pair_set:\n",
    "                pair_set.add(pair)\n",
    "                new_q.append(q)\n",
    "                new_a.append(a)\n",
    "        return new_q, new_a\n",
    "\n",
    "    train_questions_tok = [q.split() for q in train_questions]\n",
    "    train_answers_tok = [a.split() for a in train_answers]\n",
    "\n",
    "    # 증강 파라미터 설정 (필요에 따라 조절)\n",
    "    aug_q_tok, aug_a_tok = augment_qa_pairs(\n",
    "        train_questions_tok, train_answers_tok, kv,\n",
    "        n_q=2, n_a=1, n_both=0, include_orig=True,\n",
    "        p=0.2, topk=10, min_sim=0.7, seed=42\n",
    "    )\n",
    "\n",
    "    dedup_q_tok, dedup_a_tok = deduplicate_pairs(aug_q_tok, aug_a_tok)\n",
    "    train_questions = [\" \".join(tokens) for tokens in dedup_q_tok]\n",
    "    train_answers = [\" \".join(tokens) for tokens in dedup_a_tok]\n",
    "\n",
    "    print(f\"증강 및 중복 제거 후 훈련 데이터: {len(train_questions)}개\")\n",
    "else:\n",
    "    print(\"Word2Vec 모델 로드 실패로 데이터 증강을 건너뜁니다.\")\n",
    "print(\"-\" * 30)"
   ]
  },
  {
   "cell_type": "markdown",
   "id": "3fb10d9a-2577-4bf5-ba76-a31853703cae",
   "metadata": {},
   "source": [
    "##### 증강된 데이터 확인"
   ]
  },
  {
   "cell_type": "code",
   "execution_count": 17,
   "id": "7ec4d416-1973-4984-9c9c-f866fb6687ed",
   "metadata": {},
   "outputs": [
    {
     "data": {
      "application/vnd.jupyter.widget-view+json": {
       "model_id": "68b85813b5bf47d39dcd7c3dfe7d4b4e",
       "version_major": 2,
       "version_minor": 0
      },
      "text/plain": [
       "데이터 증강 중:   0%|          | 0/9400 [00:00<?, ?it/s]"
      ]
     },
     "metadata": {},
     "output_type": "display_data"
    },
    {
     "name": "stdout",
     "output_type": "stream",
     "text": [
      "--- 총 18800개의 증강 데이터 중 20개 미리보기 ---\n",
      "[증강 Q]: 아침 공개 나는데 떨려\n",
      "[증강 A]: 더 많이 연습하고 준비해보세요.\n",
      "----------------------------------------------------------------------\n",
      "[증강 Q]: 반지 뭘로 선물할까?\n",
      "[증강 A]: 같 고르는 것도 좋을 에요 같아요.\n",
      "----------------------------------------------------------------------\n",
      "[증강 Q]: 오마르 같 하는 당신 좋아\n",
      "[증강 A]: 용기내서 고백해보세요.\n",
      "----------------------------------------------------------------------\n",
      "[증강 Q]: 좋아하는 여자애가 남친 사귈 마음이 없다는데 진짜일까?\n",
      "[증강 A]: 그건 본인만 알 거예요.\n",
      "----------------------------------------------------------------------\n",
      "[증강 Q]: 공부하기 싫은 날으\n",
      "[증강 A]: 잠시 쉬어도 돼요.\n",
      "----------------------------------------------------------------------\n",
      "[증강 Q]: 자신을 사랑하기\n",
      "[증강 A]: 중요한 자세해요. 칭찬해줄게요.\n",
      "----------------------------------------------------------------------\n",
      "[증강 Q]: 현실의 외벽\n",
      "[증강 A]: 현실적인 문제가 중요할 때가 있죠.\n",
      "----------------------------------------------------------------------\n",
      "[증강 Q]: 많 먹었더니 졸려\n",
      "[증강 A]: 자연의 이치죠. 안녕히 주무세요.\n",
      "----------------------------------------------------------------------\n",
      "[증강 Q]: 사랑은 나이를 초월해?\n",
      "[증강 A]: 물리적 나이보다 정신적 나이가 중요해요.\n",
      "----------------------------------------------------------------------\n",
      "[증강 Q]: 오늘 그냥 쉬고 싶다\n",
      "[증강 A]: 아무런 을까 무하 말고 쉬세요.\n",
      "----------------------------------------------------------------------\n",
      "[증강 Q]: 그냥 다 포기하려구\n",
      "[증강 A]: 거부 무하 마요.\n",
      "----------------------------------------------------------------------\n",
      "[증강 Q]: 사랑 한달 반째\n",
      "[증강 A]: 날짜를 그만 세어 보세요.\n",
      "----------------------------------------------------------------------\n",
      "[증강 Q]: 여자친구 만나고왔어~\n",
      "[증강 A]: 좋은 만남이었길 바랍니다.\n",
      "----------------------------------------------------------------------\n",
      "[증강 Q]: 학년도 어떻게해\n",
      "[증강 A]: 잘 볼 수 있을 거예요.\n",
      "----------------------------------------------------------------------\n",
      "[증강 Q]: 헤어진지 3주가 아직안됐네\n",
      "[증강 A]: 부서지 지나갈 거예요.\n",
      "----------------------------------------------------------------------\n",
      "[증강 Q]: 남자친구한테 안 설레\n",
      "[증강 A]: 큰일이네요.\n",
      "----------------------------------------------------------------------\n",
      "[증강 Q]: 친구랑 썸남이 연락했나봐\n",
      "[증강 A]: 도와주려는 것일 도읍 있어요.\n",
      "----------------------------------------------------------------------\n",
      "[증강 Q]: 좋아하 좀더 만들어볼까?\n",
      "[증강 A]: 뭐든 시작해보면 좋을 거예요.\n",
      "----------------------------------------------------------------------\n",
      "[증강 Q]: 적당히 좀 하지\n",
      "[증강 A]: 사람들이 중간을 몰라요.\n",
      "----------------------------------------------------------------------\n",
      "[증강 Q]: 생각이 불순해져\n",
      "[증강 A]: 좋은 생각 많이 하세요.\n",
      "----------------------------------------------------------------------\n"
     ]
    }
   ],
   "source": [
    "# 1. 원본 데이터를 제외하고 매우 강한 강도로 증강을 수행합니다.\n",
    "# (결과 확인을 위한 설정이며, 실제 학습 시에는 include_orig=True 및 파라미터 조절을 권장합니다.)\n",
    "train_questions_tok = [q.split() for q in train_questions]\n",
    "    train_answers_tok = [a.split() for a in train_answers]\n",
    "\n",
    "aug_q_tok, aug_a_tok = augment_qa_pairs(\n",
    "    train_questions_tok, train_answers_tok, kv,\n",
    "    n_q=1, n_a=1, n_both=0, include_orig=False,\n",
    "    p=1.0, topk=10, min_sim=0.1, seed=42\n",
    ")\n",
    "\n",
    "# 2. 증강된 QA 데이터를 미리보기하는 함수를 정의합니다. (내부에서 문장으로 join)\n",
    "def preview_augmented_data(q_tok_list, a_tok_list, n_samples=5, seed=42):\n",
    "    \"\"\"\n",
    "    증강된 토큰화된 QA 데이터의 샘플을 문장 형태로 출력합니다.\n",
    "\n",
    "    Args:\n",
    "        q_tok_list (list[list[str]]): 증강된 질문 토큰 리스트\n",
    "        a_tok_list (list[list[str]]): 증강된 답변 토큰 리스트\n",
    "        n_samples (int): 출력할 샘플 개수\n",
    "        seed (int): 랜덤 시드\n",
    "    \"\"\"\n",
    "    if len(q_tok_list) == 0:\n",
    "        print(\"증강된 데이터가 없습니다.\")\n",
    "        return\n",
    "\n",
    "    random.seed(seed)\n",
    "    # 전체 데이터 길이 내에서 샘플링하도록 min() 함수 사용\n",
    "    num_to_sample = min(n_samples, len(q_tok_list))\n",
    "    indices = random.sample(range(len(q_tok_list)), num_to_sample)\n",
    "    \n",
    "    print(f\"--- 총 {len(q_tok_list)}개의 증강 데이터 중 {num_to_sample}개 미리보기 ---\")\n",
    "    for i in indices:\n",
    "        # 토큰 리스트를 공백으로 합쳐 문장으로 만듭니다.\n",
    "        q_sentence = \" \".join(q_tok_list[i])\n",
    "        a_sentence = \" \".join(a_tok_list[i])\n",
    "        \n",
    "        print(f\"[증강 Q]: {q_sentence}\")\n",
    "        print(f\"[증강 A]: {a_sentence}\")\n",
    "        print(\"-\" * 70)\n",
    "\n",
    "# 3. 함수에 증강 결과인 aug_q_tok, aug_a_tok를 직접 전달하여 미리보기를 실행합니다.\n",
    "preview_augmented_data(aug_q_tok, aug_a_tok, n_samples=20)"
   ]
  },
  {
   "cell_type": "code",
   "execution_count": 18,
   "id": "01c7da5d-1ade-4149-b9ea-e212904307ca",
   "metadata": {},
   "outputs": [
    {
     "data": {
      "application/vnd.jupyter.widget-view+json": {
       "model_id": "6f5500daa97c47ceb0e3a5e4a5e2fa4d",
       "version_major": 2,
       "version_minor": 0
      },
      "text/plain": [
       "데이터 증강 중:   0%|          | 0/9400 [00:00<?, ?it/s]"
      ]
     },
     "metadata": {},
     "output_type": "display_data"
    },
    {
     "name": "stdout",
     "output_type": "stream",
     "text": [
      "--- 총 37600개의 증강 데이터 중 20개 미리보기 ---\n",
      "[증강 Q]: 내일 발표 나는데 떨려\n",
      "[증강 A]: 더 많이 연습하고 준비해보세요.\n",
      "----------------------------------------------------------------------\n",
      "[증강 Q]: 반지 뭘로 선물할까?\n",
      "[증강 A]: 같이 고르는 것도 좋을 거 같아요.\n",
      "----------------------------------------------------------------------\n",
      "[증강 Q]: 알바 같이 하는 사람 좋아\n",
      "[증강 A]: 용기내서 고백해보세요.\n",
      "----------------------------------------------------------------------\n",
      "[증강 Q]: 좋아하는 여자애가 남친 사귈 마음이 없다는데 진짜일까?\n",
      "[증강 A]: 그건 본인만 알 거예요.\n",
      "----------------------------------------------------------------------\n",
      "[증강 Q]: 공부하기 싫은 날\n",
      "[증강 A]: 잠시 쉬어도 돼요.\n",
      "----------------------------------------------------------------------\n",
      "[증강 Q]: 자신을 사랑하기\n",
      "[증강 A]: 중요한 자세해요. 칭찬해줄게요.\n",
      "----------------------------------------------------------------------\n",
      "[증강 Q]: 현실의 벽\n",
      "[증강 A]: 현실적인 문제가 중요할 때가 있죠.\n",
      "----------------------------------------------------------------------\n",
      "[증강 Q]: 많 먹었더니 졸려\n",
      "[증강 A]: 자연의 이치죠. 안녕히 주무세요.\n",
      "----------------------------------------------------------------------\n",
      "[증강 Q]: 사랑은 나이를 초월해?\n",
      "[증강 A]: 물리적 나이보다 정신적 나이가 중요해요.\n",
      "----------------------------------------------------------------------\n",
      "[증강 Q]: 오늘 그냥 쉬고 싶다\n",
      "[증강 A]: 아무 생각 하지 말고 쉬세요.\n",
      "----------------------------------------------------------------------\n",
      "[증강 Q]: 그냥 다 포기하려구\n",
      "[증강 A]: 포기 하지 마요.\n",
      "----------------------------------------------------------------------\n",
      "[증강 Q]: 이별 한달 반째\n",
      "[증강 A]: 날짜를 그만 세어 보세요.\n",
      "----------------------------------------------------------------------\n",
      "[증강 Q]: 여자친구 만나고왔어~\n",
      "[증강 A]: 좋은 만남이었길 바랍니다.\n",
      "----------------------------------------------------------------------\n",
      "[증강 Q]: 수능 어떻게해\n",
      "[증강 A]: 잘 볼 수 있을 거예요.\n",
      "----------------------------------------------------------------------\n",
      "[증강 Q]: 헤어진지 3주가 아직안됐네\n",
      "[증강 A]: 금방 지나갈 거예요.\n",
      "----------------------------------------------------------------------\n",
      "[증강 Q]: 남자친구한테 안 설레\n",
      "[증강 A]: 큰일이네요.\n",
      "----------------------------------------------------------------------\n",
      "[증강 Q]: 친구랑 썸남이 연락했나봐\n",
      "[증강 A]: 도와주려는 것일 수도 있어요.\n",
      "----------------------------------------------------------------------\n",
      "[증강 Q]: 취미 좀 만들어볼까?\n",
      "[증강 A]: 뭐든 시작해보면 좋을 거예요.\n",
      "----------------------------------------------------------------------\n",
      "[증강 Q]: 적당히 좀 하지\n",
      "[증강 A]: 사람들이 중간을 몰라요.\n",
      "----------------------------------------------------------------------\n",
      "[증강 Q]: 생각이 불순해져\n",
      "[증강 A]: 좋은 생각 많이 하세요.\n",
      "----------------------------------------------------------------------\n"
     ]
    }
   ],
   "source": [
    "# 1. 원본 데이터를 제외하고 매우 약한 강도로 증강을 수행합니다.\n",
    "# (결과 확인을 위한 설정이며, 실제 학습 시에는 include_orig=True 및 파라미터 조절을 권장합니다.)\n",
    "train_questions_tok = [q.split() for q in train_questions]\n",
    "    train_answers_tok = [a.split() for a in train_answers]\n",
    "\n",
    "aug_q_tok, aug_a_tok = augment_qa_pairs(\n",
    "    train_questions_tok, train_answers_tok, kv,\n",
    "    n_q=2, n_a=1, n_both=0, include_orig=True,\n",
    "    p=0.2, topk=10, min_sim=0.7, seed=42\n",
    ")\n",
    "\n",
    "# 2. 증강된 QA 데이터를 미리보기하는 함수를 정의합니다. (내부에서 문장으로 join)\n",
    "def preview_augmented_data(q_tok_list, a_tok_list, n_samples=5, seed=42):\n",
    "    \"\"\"\n",
    "    증강된 토큰화된 QA 데이터의 샘플을 문장 형태로 출력합니다.\n",
    "\n",
    "    Args:\n",
    "        q_tok_list (list[list[str]]): 증강된 질문 토큰 리스트\n",
    "        a_tok_list (list[list[str]]): 증강된 답변 토큰 리스트\n",
    "        n_samples (int): 출력할 샘플 개수\n",
    "        seed (int): 랜덤 시드\n",
    "    \"\"\"\n",
    "    if len(q_tok_list) == 0:\n",
    "        print(\"증강된 데이터가 없습니다.\")\n",
    "        return\n",
    "\n",
    "    random.seed(seed)\n",
    "    # 전체 데이터 길이 내에서 샘플링하도록 min() 함수 사용\n",
    "    num_to_sample = min(n_samples, len(q_tok_list))\n",
    "    indices = random.sample(range(len(q_tok_list)), num_to_sample)\n",
    "    \n",
    "    print(f\"--- 총 {len(q_tok_list)}개의 증강 데이터 중 {num_to_sample}개 미리보기 ---\")\n",
    "    for i in indices:\n",
    "        # 토큰 리스트를 공백으로 합쳐 문장으로 만듭니다.\n",
    "        q_sentence = \" \".join(q_tok_list[i])\n",
    "        a_sentence = \" \".join(a_tok_list[i])\n",
    "        \n",
    "        print(f\"[증강 Q]: {q_sentence}\")\n",
    "        print(f\"[증강 A]: {a_sentence}\")\n",
    "        print(\"-\" * 70)\n",
    "\n",
    "# 3. 함수에 증강 결과인 aug_q_tok, aug_a_tok를 직접 전달하여 미리보기를 실행합니다.\n",
    "preview_augmented_data(aug_q_tok, aug_a_tok, n_samples=20)"
   ]
  },
  {
   "cell_type": "markdown",
   "id": "a695a26c-edc7-4b99-829e-ee3734f569f7",
   "metadata": {},
   "source": [
    "##### SentencePiece 토크나이저 훈련"
   ]
  },
  {
   "cell_type": "code",
   "execution_count": 6,
   "id": "383bdce8-3626-45bf-9855-014e95d3ddf7",
   "metadata": {},
   "outputs": [
    {
     "name": "stdout",
     "output_type": "stream",
     "text": [
      "\n",
      "2. SentencePiece 토크나이저 훈련 시작\n",
      "SentencePiece 모델 훈련 완료.\n",
      "단어장 크기: 8000\n",
      "PAD: 3, SOS: 4, EOS: 5, UNK: 0\n",
      "------------------------------\n"
     ]
    },
    {
     "name": "stderr",
     "output_type": "stream",
     "text": [
      "sentencepiece_trainer.cc(178) LOG(INFO) Running command: --input=chatbot_corpus.txt --model_prefix=chatbot_spm --vocab_size=8000 --model_type=bpe --user_defined_symbols=<pad>,<sos>,<eos>\n",
      "sentencepiece_trainer.cc(78) LOG(INFO) Starts training with : \n",
      "trainer_spec {\n",
      "  input: chatbot_corpus.txt\n",
      "  input_format: \n",
      "  model_prefix: chatbot_spm\n",
      "  model_type: BPE\n",
      "  vocab_size: 8000\n",
      "  self_test_sample_size: 0\n",
      "  character_coverage: 0.9995\n",
      "  input_sentence_size: 0\n",
      "  shuffle_input_sentence: 1\n",
      "  seed_sentencepiece_size: 1000000\n",
      "  shrinking_factor: 0.75\n",
      "  max_sentence_length: 4192\n",
      "  num_threads: 16\n",
      "  num_sub_iterations: 2\n",
      "  max_sentencepiece_length: 16\n",
      "  split_by_unicode_script: 1\n",
      "  split_by_number: 1\n",
      "  split_by_whitespace: 1\n",
      "  split_digits: 0\n",
      "  pretokenization_delimiter: \n",
      "  treat_whitespace_as_suffix: 0\n",
      "  allow_whitespace_only_pieces: 0\n",
      "  user_defined_symbols: <pad>\n",
      "  user_defined_symbols: <sos>\n",
      "  user_defined_symbols: <eos>\n",
      "  required_chars: \n",
      "  byte_fallback: 0\n",
      "  vocabulary_output_piece_score: 1\n",
      "  train_extremely_large_corpus: 0\n",
      "  seed_sentencepieces_file: \n",
      "  hard_vocab_limit: 1\n",
      "  use_all_vocab: 0\n",
      "  unk_id: 0\n",
      "  bos_id: 1\n",
      "  eos_id: 2\n",
      "  pad_id: -1\n",
      "  unk_piece: <unk>\n",
      "  bos_piece: <s>\n",
      "  eos_piece: </s>\n",
      "  pad_piece: <pad>\n",
      "  unk_surface:  ⁇ \n",
      "  enable_differential_privacy: 0\n",
      "  differential_privacy_noise_level: 0\n",
      "  differential_privacy_clipping_threshold: 0\n",
      "}\n",
      "normalizer_spec {\n",
      "  name: nmt_nfkc\n",
      "  add_dummy_prefix: 1\n",
      "  remove_extra_whitespaces: 1\n",
      "  escape_whitespaces: 1\n",
      "  normalization_rule_tsv: \n",
      "}\n",
      "denormalizer_spec {}\n",
      "trainer_interface.cc(355) LOG(INFO) SentenceIterator is not specified. Using MultiFileSentenceIterator.\n",
      "trainer_interface.cc(186) LOG(INFO) Loading corpus: chatbot_corpus.txt\n",
      "trainer_interface.cc(411) LOG(INFO) Loaded all 22610 sentences\n",
      "trainer_interface.cc(427) LOG(INFO) Adding meta_piece: <unk>\n",
      "trainer_interface.cc(427) LOG(INFO) Adding meta_piece: <s>\n",
      "trainer_interface.cc(427) LOG(INFO) Adding meta_piece: </s>\n",
      "trainer_interface.cc(427) LOG(INFO) Adding meta_piece: <pad>\n",
      "trainer_interface.cc(427) LOG(INFO) Adding meta_piece: <sos>\n",
      "trainer_interface.cc(427) LOG(INFO) Adding meta_piece: <eos>\n",
      "trainer_interface.cc(432) LOG(INFO) Normalizing sentences...\n",
      "trainer_interface.cc(541) LOG(INFO) all chars count=340786\n",
      "trainer_interface.cc(552) LOG(INFO) Done: 99.9501% characters are covered.\n",
      "trainer_interface.cc(562) LOG(INFO) Alphabet size=1067\n",
      "trainer_interface.cc(563) LOG(INFO) Final character coverage=0.999501\n",
      "trainer_interface.cc(594) LOG(INFO) Done! preprocessed 22610 sentences.\n",
      "trainer_interface.cc(600) LOG(INFO) Tokenizing input sentences with whitespace: 22610\n",
      "trainer_interface.cc(611) LOG(INFO) Done! 19266\n",
      "bpe_model_trainer.cc(159) LOG(INFO) Updating active symbols. max_freq=3177 min_freq=41\n",
      "bpe_model_trainer.cc(268) LOG(INFO) Added: freq=1022 size=20 all=15281 active=1817 piece=▁거예요\n",
      "bpe_model_trainer.cc(268) LOG(INFO) Added: freq=743 size=40 all=15877 active=2413 piece=▁잘\n",
      "bpe_model_trainer.cc(268) LOG(INFO) Added: freq=558 size=60 all=16505 active=3041 piece=▁이별\n",
      "bpe_model_trainer.cc(268) LOG(INFO) Added: freq=398 size=80 all=17151 active=3687 piece=▁모\n",
      "bpe_model_trainer.cc(268) LOG(INFO) Added: freq=338 size=100 all=17749 active=4285 piece=으로\n",
      "bpe_model_trainer.cc(159) LOG(INFO) Updating active symbols. max_freq=334 min_freq=36\n",
      "bpe_model_trainer.cc(268) LOG(INFO) Added: freq=284 size=120 all=18254 active=1427 piece=▁뭐\n",
      "bpe_model_trainer.cc(268) LOG(INFO) Added: freq=250 size=140 all=18771 active=1944 piece=▁소\n",
      "bpe_model_trainer.cc(268) LOG(INFO) Added: freq=208 size=160 all=19102 active=2275 piece=는게\n",
      "bpe_model_trainer.cc(268) LOG(INFO) Added: freq=196 size=180 all=19508 active=2681 piece=▁서\n",
      "bpe_model_trainer.cc(268) LOG(INFO) Added: freq=177 size=200 all=19803 active=2976 piece=▁싶다\n",
      "bpe_model_trainer.cc(159) LOG(INFO) Updating active symbols. max_freq=176 min_freq=32\n",
      "bpe_model_trainer.cc(268) LOG(INFO) Added: freq=161 size=220 all=20094 active=1290 piece=▁결혼\n",
      "bpe_model_trainer.cc(268) LOG(INFO) Added: freq=146 size=240 all=20377 active=1573 piece=▁싫\n",
      "bpe_model_trainer.cc(268) LOG(INFO) Added: freq=135 size=260 all=20697 active=1893 piece=▁성\n",
      "bpe_model_trainer.cc(268) LOG(INFO) Added: freq=129 size=280 all=21026 active=2222 piece=▁짝사랑\n",
      "bpe_model_trainer.cc(268) LOG(INFO) Added: freq=121 size=300 all=21395 active=2591 piece=▁헤어진지\n",
      "bpe_model_trainer.cc(159) LOG(INFO) Updating active symbols. max_freq=120 min_freq=27\n",
      "bpe_model_trainer.cc(268) LOG(INFO) Added: freq=114 size=320 all=21729 active=1402 piece=▁제가\n",
      "bpe_model_trainer.cc(268) LOG(INFO) Added: freq=110 size=340 all=21966 active=1639 piece=▁먹고\n",
      "bpe_model_trainer.cc(268) LOG(INFO) Added: freq=104 size=360 all=22192 active=1865 piece=▁이야\n",
      "bpe_model_trainer.cc(268) LOG(INFO) Added: freq=97 size=380 all=22528 active=2201 piece=▁간\n",
      "bpe_model_trainer.cc(268) LOG(INFO) Added: freq=93 size=400 all=22752 active=2425 piece=▁영\n",
      "bpe_model_trainer.cc(159) LOG(INFO) Updating active symbols. max_freq=93 min_freq=23\n",
      "bpe_model_trainer.cc(268) LOG(INFO) Added: freq=88 size=420 all=22977 active=1354 piece=리는\n",
      "bpe_model_trainer.cc(268) LOG(INFO) Added: freq=84 size=440 all=23299 active=1676 piece=하죠\n",
      "bpe_model_trainer.cc(268) LOG(INFO) Added: freq=81 size=460 all=23578 active=1955 piece=▁호\n",
      "bpe_model_trainer.cc(268) LOG(INFO) Added: freq=78 size=480 all=23785 active=2162 piece=▁누구\n",
      "bpe_model_trainer.cc(268) LOG(INFO) Added: freq=74 size=500 all=23938 active=2315 piece=▁궁\n",
      "bpe_model_trainer.cc(159) LOG(INFO) Updating active symbols. max_freq=74 min_freq=21\n",
      "bpe_model_trainer.cc(268) LOG(INFO) Added: freq=71 size=520 all=24151 active=1409 piece=▁타는\n",
      "bpe_model_trainer.cc(268) LOG(INFO) Added: freq=69 size=540 all=24316 active=1574 piece=▁않았\n",
      "bpe_model_trainer.cc(268) LOG(INFO) Added: freq=66 size=560 all=24519 active=1777 piece=▁복\n",
      "bpe_model_trainer.cc(268) LOG(INFO) Added: freq=64 size=580 all=24714 active=1972 piece=▁잡\n",
      "bpe_model_trainer.cc(268) LOG(INFO) Added: freq=62 size=600 all=24998 active=2256 piece=해지\n",
      "bpe_model_trainer.cc(159) LOG(INFO) Updating active symbols. max_freq=62 min_freq=18\n",
      "bpe_model_trainer.cc(268) LOG(INFO) Added: freq=60 size=620 all=25174 active=1388 piece=▁가는\n",
      "bpe_model_trainer.cc(268) LOG(INFO) Added: freq=58 size=640 all=25330 active=1544 piece=▁만큼\n",
      "bpe_model_trainer.cc(268) LOG(INFO) Added: freq=56 size=660 all=25532 active=1746 piece=▁같은데\n",
      "bpe_model_trainer.cc(268) LOG(INFO) Added: freq=54 size=680 all=25726 active=1940 piece=▁챙겨\n",
      "bpe_model_trainer.cc(268) LOG(INFO) Added: freq=52 size=700 all=25842 active=2056 piece=▁이별이\n",
      "bpe_model_trainer.cc(159) LOG(INFO) Updating active symbols. max_freq=52 min_freq=16\n",
      "bpe_model_trainer.cc(268) LOG(INFO) Added: freq=51 size=720 all=25950 active=1394 piece=▁찾아보세요\n",
      "bpe_model_trainer.cc(268) LOG(INFO) Added: freq=49 size=740 all=26023 active=1467 piece=▁헤어지고\n",
      "bpe_model_trainer.cc(268) LOG(INFO) Added: freq=48 size=760 all=26193 active=1637 piece=▁남자가\n",
      "bpe_model_trainer.cc(268) LOG(INFO) Added: freq=47 size=780 all=26314 active=1758 piece=▁지켜\n",
      "bpe_model_trainer.cc(268) LOG(INFO) Added: freq=45 size=800 all=26411 active=1855 piece=▁망\n",
      "bpe_model_trainer.cc(159) LOG(INFO) Updating active symbols. max_freq=45 min_freq=15\n",
      "bpe_model_trainer.cc(268) LOG(INFO) Added: freq=44 size=820 all=26558 active=1459 piece=▁말해\n",
      "bpe_model_trainer.cc(268) LOG(INFO) Added: freq=42 size=840 all=26694 active=1595 piece=▁밥\n",
      "bpe_model_trainer.cc(268) LOG(INFO) Added: freq=41 size=860 all=26823 active=1724 piece=▁마주\n",
      "bpe_model_trainer.cc(268) LOG(INFO) Added: freq=40 size=880 all=26968 active=1869 piece=▁마시\n",
      "bpe_model_trainer.cc(268) LOG(INFO) Added: freq=39 size=900 all=27070 active=1971 piece=▁나서\n",
      "bpe_model_trainer.cc(159) LOG(INFO) Updating active symbols. max_freq=39 min_freq=14\n",
      "bpe_model_trainer.cc(268) LOG(INFO) Added: freq=38 size=920 all=27137 active=1420 piece=다니\n",
      "bpe_model_trainer.cc(268) LOG(INFO) Added: freq=37 size=940 all=27254 active=1537 piece=해질\n",
      "bpe_model_trainer.cc(268) LOG(INFO) Added: freq=36 size=960 all=27371 active=1654 piece=��통\n",
      "bpe_model_trainer.cc(268) LOG(INFO) Added: freq=35 size=980 all=27479 active=1762 piece=▁무시\n",
      "bpe_model_trainer.cc(268) LOG(INFO) Added: freq=34 size=1000 all=27580 active=1863 piece=▁흔\n",
      "bpe_model_trainer.cc(159) LOG(INFO) Updating active symbols. max_freq=34 min_freq=13\n",
      "bpe_model_trainer.cc(268) LOG(INFO) Added: freq=34 size=1020 all=27712 active=1505 piece=▁필요한\n",
      "bpe_model_trainer.cc(268) LOG(INFO) Added: freq=33 size=1040 all=27847 active=1640 piece=▁점차\n",
      "bpe_model_trainer.cc(268) LOG(INFO) Added: freq=32 size=1060 all=27927 active=1720 piece=▁예뻐\n",
      "bpe_model_trainer.cc(268) LOG(INFO) Added: freq=31 size=1080 all=28002 active=1795 piece=러가\n",
      "bpe_model_trainer.cc(268) LOG(INFO) Added: freq=31 size=1100 all=28100 active=1893 piece=▁이별한지\n",
      "bpe_model_trainer.cc(159) LOG(INFO) Updating active symbols. max_freq=30 min_freq=12\n",
      "bpe_model_trainer.cc(268) LOG(INFO) Added: freq=30 size=1120 all=28202 active=1507 piece=▁소중\n",
      "bpe_model_trainer.cc(268) LOG(INFO) Added: freq=29 size=1140 all=28267 active=1572 piece=▁책\n",
      "bpe_model_trainer.cc(268) LOG(INFO) Added: freq=29 size=1160 all=28363 active=1668 piece=▁취미\n",
      "bpe_model_trainer.cc(268) LOG(INFO) Added: freq=28 size=1180 all=28510 active=1815 piece=져요\n",
      "bpe_model_trainer.cc(268) LOG(INFO) Added: freq=28 size=1200 all=28615 active=1920 piece=▁최고\n",
      "bpe_model_trainer.cc(159) LOG(INFO) Updating active symbols. max_freq=28 min_freq=11\n",
      "bpe_model_trainer.cc(268) LOG(INFO) Added: freq=27 size=1220 all=28704 active=1514 piece=▁없이\n",
      "bpe_model_trainer.cc(268) LOG(INFO) Added: freq=26 size=1240 all=28754 active=1564 piece=▁히\n",
      "bpe_model_trainer.cc(268) LOG(INFO) Added: freq=26 size=1260 all=28866 active=1676 piece=▁알게\n",
      "bpe_model_trainer.cc(268) LOG(INFO) Added: freq=25 size=1280 all=28922 active=1732 piece=▁가치\n",
      "bpe_model_trainer.cc(268) LOG(INFO) Added: freq=25 size=1300 all=29012 active=1822 piece=▁누구나\n",
      "bpe_model_trainer.cc(159) LOG(INFO) Updating active symbols. max_freq=25 min_freq=11\n",
      "bpe_model_trainer.cc(268) LOG(INFO) Added: freq=24 size=1320 all=29079 active=1518 piece=▁것을\n",
      "bpe_model_trainer.cc(268) LOG(INFO) Added: freq=24 size=1340 all=29108 active=1547 piece=▁죽을\n",
      "bpe_model_trainer.cc(268) LOG(INFO) Added: freq=24 size=1360 all=29157 active=1596 piece=▁전여친\n",
      "bpe_model_trainer.cc(268) LOG(INFO) Added: freq=23 size=1380 all=29226 active=1665 piece=밖에\n",
      "bpe_model_trainer.cc(268) LOG(INFO) Added: freq=23 size=1400 all=29343 active=1782 piece=▁가세요\n",
      "bpe_model_trainer.cc(159) LOG(INFO) Updating active symbols. max_freq=23 min_freq=10\n",
      "bpe_model_trainer.cc(268) LOG(INFO) Added: freq=23 size=1420 all=29357 active=1482 piece=▁못하겠어\n",
      "bpe_model_trainer.cc(268) LOG(INFO) Added: freq=22 size=1440 all=29460 active=1585 piece=▁10\n",
      "bpe_model_trainer.cc(268) LOG(INFO) Added: freq=22 size=1460 all=29494 active=1619 piece=▁이러\n",
      "bpe_model_trainer.cc(268) LOG(INFO) Added: freq=22 size=1480 all=29530 active=1655 piece=▁��제는\n",
      "bpe_model_trainer.cc(268) LOG(INFO) Added: freq=21 size=1500 all=29580 active=1705 piece=보여\n",
      "bpe_model_trainer.cc(159) LOG(INFO) Updating active symbols. max_freq=21 min_freq=10\n",
      "bpe_model_trainer.cc(268) LOG(INFO) Added: freq=21 size=1520 all=29702 active=1592 piece=▁비밀\n",
      "bpe_model_trainer.cc(268) LOG(INFO) Added: freq=21 size=1540 all=29749 active=1639 piece=▁무서워\n",
      "bpe_model_trainer.cc(268) LOG(INFO) Added: freq=20 size=1560 all=29798 active=1688 piece=케이\n",
      "bpe_model_trainer.cc(268) LOG(INFO) Added: freq=20 size=1580 all=29852 active=1742 piece=▁잠이\n",
      "bpe_model_trainer.cc(268) LOG(INFO) Added: freq=20 size=1600 all=29878 active=1768 piece=▁생각나는\n",
      "bpe_model_trainer.cc(159) LOG(INFO) Updating active symbols. max_freq=20 min_freq=9\n",
      "bpe_model_trainer.cc(268) LOG(INFO) Added: freq=19 size=1620 all=29957 active=1573 piece=장이\n",
      "bpe_model_trainer.cc(268) LOG(INFO) Added: freq=19 size=1640 all=30055 active=1671 piece=▁어쩔\n",
      "bpe_model_trainer.cc(268) LOG(INFO) Added: freq=19 size=1660 all=30156 active=1772 piece=하다고\n",
      "bpe_model_trainer.cc(268) LOG(INFO) Added: freq=19 size=1680 all=30202 active=1818 piece=▁사랑하고\n",
      "bpe_model_trainer.cc(268) LOG(INFO) Added: freq=18 size=1700 all=30238 active=1854 piece=▁톡\n",
      "bpe_model_trainer.cc(159) LOG(INFO) Updating active symbols. max_freq=18 min_freq=9\n",
      "bpe_model_trainer.cc(268) LOG(INFO) Added: freq=18 size=1720 all=30323 active=1592 piece=▁인형\n",
      "bpe_model_trainer.cc(268) LOG(INFO) Added: freq=18 size=1740 all=30353 active=1622 piece=▁제대로\n",
      "bpe_model_trainer.cc(268) LOG(INFO) Added: freq=17 size=1760 all=30380 active=1649 piece=니가\n",
      "bpe_model_trainer.cc(268) LOG(INFO) Added: freq=17 size=1780 all=30480 active=1749 piece=▁속상\n",
      "bpe_model_trainer.cc(268) LOG(INFO) Added: freq=17 size=1800 all=30525 active=1794 piece=▁사랑하\n",
      "bpe_model_trainer.cc(159) LOG(INFO) Updating active symbols. max_freq=17 min_freq=8\n",
      "bpe_model_trainer.cc(268) LOG(INFO) Added: freq=16 size=1820 all=30541 active=1534 piece=▁뜨\n",
      "bpe_model_trainer.cc(268) LOG(INFO) Added: freq=16 size=1840 all=30657 active=1650 piece=▁과정\n",
      "bpe_model_trainer.cc(268) LOG(INFO) Added: freq=16 size=1860 all=30730 active=1723 piece=▁심심\n",
      "bpe_model_trainer.cc(268) LOG(INFO) Added: freq=16 size=1880 all=30770 active=1763 piece=▁성격이\n",
      "bpe_model_trainer.cc(268) LOG(INFO) Added: freq=16 size=1900 all=30784 active=1777 piece=▁크리스마스\n",
      "bpe_model_trainer.cc(159) LOG(INFO) Updating active symbols. max_freq=16 min_freq=8\n",
      "bpe_model_trainer.cc(268) LOG(INFO) Added: freq=15 size=1920 all=30882 active=1633 piece=지네\n",
      "bpe_model_trainer.cc(268) LOG(INFO) Added: freq=15 size=1940 all=30956 active=1707 piece=▁받지\n",
      "bpe_model_trainer.cc(268) LOG(INFO) Added: freq=15 size=1960 all=31019 active=1770 piece=▁저렴\n",
      "bpe_model_trainer.cc(268) LOG(INFO) Added: freq=15 size=1980 all=31067 active=1818 piece=▁못하면\n",
      "bpe_model_trainer.cc(268) LOG(INFO) Added: freq=15 size=2000 all=31069 active=1820 piece=▁피곤해\n",
      "bpe_model_trainer.cc(159) LOG(INFO) Updating active symbols. max_freq=15 min_freq=8\n",
      "bpe_model_trainer.cc(268) LOG(INFO) Added: freq=15 size=2020 all=31061 active=1546 piece=▁자연스러운\n",
      "bpe_model_trainer.cc(268) LOG(INFO) Added: freq=14 size=2040 all=31163 active=1648 piece=학교\n",
      "bpe_model_trainer.cc(268) LOG(INFO) Added: freq=14 size=2060 all=31209 active=1694 piece=▁부탁\n",
      "bpe_model_trainer.cc(268) LOG(INFO) Added: freq=14 size=2080 all=31265 active=1750 piece=▁축구\n",
      "bpe_model_trainer.cc(268) LOG(INFO) Added: freq=14 size=2100 all=31303 active=1788 piece=▁놀아요\n",
      "bpe_model_trainer.cc(159) LOG(INFO) Updating active symbols. max_freq=14 min_freq=8\n",
      "bpe_model_trainer.cc(268) LOG(INFO) Added: freq=14 size=2120 all=31309 active=1572 piece=▁좋아한\n",
      "bpe_model_trainer.cc(268) LOG(INFO) Added: freq=14 size=2140 all=31312 active=1575 piece=▁여자친구의\n",
      "bpe_model_trainer.cc(268) LOG(INFO) Added: freq=13 size=2160 all=31359 active=1622 piece=두고\n",
      "bpe_model_trainer.cc(268) LOG(INFO) Added: freq=13 size=2180 all=31454 active=1717 piece=▁긴장\n",
      "bpe_model_trainer.cc(268) LOG(INFO) Added: freq=13 size=2200 all=31481 active=1744 piece=▁사귈\n",
      "bpe_model_trainer.cc(159) LOG(INFO) Updating active symbols. max_freq=13 min_freq=7\n",
      "bpe_model_trainer.cc(268) LOG(INFO) Added: freq=13 size=2220 all=31529 active=1621 piece=▁페북\n",
      "bpe_model_trainer.cc(268) LOG(INFO) Added: freq=13 size=2240 all=31553 active=1645 piece=▁배우는\n",
      "bpe_model_trainer.cc(268) LOG(INFO) Added: freq=13 size=2260 all=31546 active=1638 piece=▁가지세요\n",
      "bpe_model_trainer.cc(268) LOG(INFO) Added: freq=13 size=2280 all=31539 active=1631 piece=▁시작해보세요\n",
      "bpe_model_trainer.cc(268) LOG(INFO) Added: freq=12 size=2300 all=31571 active=1663 piece=▁패\n",
      "bpe_model_trainer.cc(159) LOG(INFO) Updating active symbols. max_freq=12 min_freq=7\n",
      "bpe_model_trainer.cc(268) LOG(INFO) Added: freq=12 size=2320 all=31659 active=1663 piece=▁건가\n",
      "bpe_model_trainer.cc(268) LOG(INFO) Added: freq=12 size=2340 all=31676 active=1680 piece=▁문득\n",
      "bpe_model_trainer.cc(268) LOG(INFO) Added: freq=12 size=2360 all=31698 active=1702 piece=▁않네\n",
      "bpe_model_trainer.cc(268) LOG(INFO) Added: freq=12 size=2380 all=31742 active=1746 piece=▁취업\n",
      "bpe_model_trainer.cc(268) LOG(INFO) Added: freq=12 size=2400 all=31769 active=1773 piece=▁물어봐\n",
      "bpe_model_trainer.cc(159) LOG(INFO) Updating active symbols. max_freq=12 min_freq=7\n",
      "bpe_model_trainer.cc(268) LOG(INFO) Added: freq=12 size=2420 all=31762 active=1578 piece=▁이상해\n",
      "bpe_model_trainer.cc(268) LOG(INFO) Added: freq=12 size=2440 all=31755 active=1571 piece=▁여기까지\n",
      "bpe_model_trainer.cc(268) LOG(INFO) Added: freq=12 size=2460 all=31746 active=1562 piece=▁헤어졌는데\n",
      "bpe_model_trainer.cc(268) LOG(INFO) Added: freq=11 size=2480 all=31810 active=1626 piece=디션\n",
      "bpe_model_trainer.cc(268) LOG(INFO) Added: freq=11 size=2500 all=31899 active=1715 piece=▁거울\n",
      "bpe_model_trainer.cc(159) LOG(INFO) Updating active symbols. max_freq=11 min_freq=6\n",
      "bpe_model_trainer.cc(268) LOG(INFO) Added: freq=11 size=2520 all=31931 active=1626 piece=▁됐네\n",
      "bpe_model_trainer.cc(268) LOG(INFO) Added: freq=11 size=2540 all=31937 active=1632 piece=▁아쉽\n",
      "bpe_model_trainer.cc(268) LOG(INFO) Added: freq=11 size=2560 all=31966 active=1661 piece=▁쳐다\n",
      "bpe_model_trainer.cc(268) LOG(INFO) Added: freq=11 size=2580 all=32022 active=1717 piece=▁그래서\n",
      "bpe_model_trainer.cc(268) LOG(INFO) Added: freq=11 size=2600 all=32014 active=1709 piece=▁생각한\n",
      "bpe_model_trainer.cc(159) LOG(INFO) Updating active symbols. max_freq=11 min_freq=6\n",
      "bpe_model_trainer.cc(268) LOG(INFO) Added: freq=11 size=2620 all=32013 active=1597 piece=▁표현해\n",
      "bpe_model_trainer.cc(268) LOG(INFO) Added: freq=11 size=2640 all=32006 active=1590 piece=▁좋아했던\n",
      "bpe_model_trainer.cc(268) LOG(INFO) Added: freq=10 size=2660 all=32001 active=1585 piece=▁놈\n",
      "bpe_model_trainer.cc(268) LOG(INFO) Added: freq=10 size=2680 all=32053 active=1637 piece=나게\n",
      "bpe_model_trainer.cc(268) LOG(INFO) Added: freq=10 size=2700 all=32122 active=1706 piece=줘야\n",
      "bpe_model_trainer.cc(159) LOG(INFO) Updating active symbols. max_freq=10 min_freq=6\n",
      "bpe_model_trainer.cc(268) LOG(INFO) Added: freq=10 size=2720 all=32163 active=1642 piece=▁남겨\n",
      "bpe_model_trainer.cc(268) LOG(INFO) Added: freq=10 size=2740 all=32188 active=1667 piece=▁예쁘\n",
      "bpe_model_trainer.cc(268) LOG(INFO) Added: freq=10 size=2760 all=32231 active=1710 piece=▁콩깍\n",
      "bpe_model_trainer.cc(268) LOG(INFO) Added: freq=10 size=2780 all=32306 active=1785 piece=▁거리를\n",
      "bpe_model_trainer.cc(268) LOG(INFO) Added: freq=10 size=2800 all=32314 active=1793 piece=▁마시면\n",
      "bpe_model_trainer.cc(159) LOG(INFO) Updating active symbols. max_freq=10 min_freq=6\n",
      "bpe_model_trainer.cc(268) LOG(INFO) Added: freq=10 size=2820 all=32314 active=1616 piece=▁썸인데\n",
      "bpe_model_trainer.cc(268) LOG(INFO) Added: freq=10 size=2840 all=32302 active=1604 piece=▁좋지만\n",
      "bpe_model_trainer.cc(268) LOG(INFO) Added: freq=10 size=2860 all=32292 active=1594 piece=▁안됐는데\n",
      "bpe_model_trainer.cc(268) LOG(INFO) Added: freq=10 size=2880 all=32285 active=1587 piece=▁행복할까\n",
      "bpe_model_trainer.cc(268) LOG(INFO) Added: freq=9 size=2900 all=32275 active=1577 piece=▁9\n",
      "bpe_model_trainer.cc(159) LOG(INFO) Updating active symbols. max_freq=9 min_freq=6\n",
      "bpe_model_trainer.cc(268) LOG(INFO) Added: freq=9 size=2920 all=32307 active=1646 piece=걸로\n",
      "bpe_model_trainer.cc(268) LOG(INFO) Added: freq=9 size=2940 all=32384 active=1723 piece=스타\n",
      "bpe_model_trainer.cc(268) LOG(INFO) Added: freq=9 size=2960 all=32462 active=1801 piece=▁가까\n",
      "bpe_model_trainer.cc(268) LOG(INFO) Added: freq=9 size=2980 all=32483 active=1822 piece=▁떠오\n",
      "bpe_model_trainer.cc(268) LOG(INFO) Added: freq=9 size=3000 all=32520 active=1859 piece=▁빠를\n",
      "bpe_model_trainer.cc(159) LOG(INFO) Updating active symbols. max_freq=9 min_freq=6\n",
      "bpe_model_trainer.cc(268) LOG(INFO) Added: freq=9 size=3020 all=32532 active=1638 piece=▁어머\n",
      "bpe_model_trainer.cc(268) LOG(INFO) Added: freq=9 size=3040 all=32562 active=1668 piece=▁하기\n",
      "bpe_model_trainer.cc(268) LOG(INFO) Added: freq=9 size=3060 all=32604 active=1710 piece=▁강아지\n",
      "bpe_model_trainer.cc(268) LOG(INFO) Added: freq=9 size=3080 all=32597 active=1703 piece=▁못해요\n",
      "bpe_model_trainer.cc(268) LOG(INFO) Added: freq=9 size=3100 all=32595 active=1701 piece=▁애한테\n",
      "bpe_model_trainer.cc(159) LOG(INFO) Updating active symbols. max_freq=9 min_freq=5\n",
      "bpe_model_trainer.cc(268) LOG(INFO) Added: freq=9 size=3120 all=32594 active=1629 piece=▁지내고\n",
      "bpe_model_trainer.cc(268) LOG(INFO) Added: freq=9 size=3140 all=32615 active=1650 piece=▁기대세요\n",
      "bpe_model_trainer.cc(268) LOG(INFO) Added: freq=9 size=3160 all=32601 active=1636 piece=▁잘했어요\n",
      "bpe_model_trainer.cc(268) LOG(INFO) Added: freq=9 size=3180 all=32585 active=1620 piece=▁생각해봐요\n",
      "bpe_model_trainer.cc(268) LOG(INFO) Added: freq=8 size=3200 all=32575 active=1610 piece=▁묻\n",
      "bpe_model_trainer.cc(159) LOG(INFO) Updating active symbols. max_freq=8 min_freq=5\n",
      "bpe_model_trainer.cc(268) LOG(INFO) Added: freq=8 size=3220 all=32617 active=1667 piece=리게\n",
      "bpe_model_trainer.cc(268) LOG(INFO) Added: freq=8 size=3240 all=32671 active=1721 piece=키는\n",
      "bpe_model_trainer.cc(268) LOG(INFO) Added: freq=8 size=3260 all=32711 active=1761 piece=▁그립\n",
      "bpe_model_trainer.cc(268) LOG(INFO) Added: freq=8 size=3280 all=32725 active=1775 piece=▁모른\n",
      "bpe_model_trainer.cc(268) LOG(INFO) Added: freq=8 size=3300 all=32760 active=1810 piece=▁심리\n",
      "bpe_model_trainer.cc(159) LOG(INFO) Updating active symbols. max_freq=8 min_freq=5\n",
      "bpe_model_trainer.cc(268) LOG(INFO) Added: freq=8 size=3320 all=32769 active=1645 piece=▁있길\n",
      "bpe_model_trainer.cc(268) LOG(INFO) Added: freq=8 size=3340 all=32787 active=1663 piece=▁핑계\n",
      "bpe_model_trainer.cc(268) LOG(INFO) Added: freq=8 size=3360 all=32840 active=1716 piece=하니까\n",
      "bpe_model_trainer.cc(268) LOG(INFO) Added: freq=8 size=3380 all=32839 active=1715 piece=▁냉장고\n",
      "bpe_model_trainer.cc(268) LOG(INFO) Added: freq=8 size=3400 all=32833 active=1709 piece=▁변하는\n",
      "bpe_model_trainer.cc(159) LOG(INFO) Updating active symbols. max_freq=8 min_freq=5\n",
      "bpe_model_trainer.cc(268) LOG(INFO) Added: freq=8 size=3420 all=32819 active=1627 piece=▁아픔을\n",
      "bpe_model_trainer.cc(268) LOG(INFO) Added: freq=8 size=3440 all=32809 active=1617 piece=▁정규직\n",
      "bpe_model_trainer.cc(268) LOG(INFO) Added: freq=8 size=3460 all=32798 active=1606 piece=▁혼자만\n",
      "bpe_model_trainer.cc(268) LOG(INFO) Added: freq=8 size=3480 all=32793 active=1601 piece=▁바쁘거나\n",
      "bpe_model_trainer.cc(268) LOG(INFO) Added: freq=8 size=3500 all=32781 active=1589 piece=▁자유로워\n",
      "bpe_model_trainer.cc(159) LOG(INFO) Updating active symbols. max_freq=8 min_freq=5\n",
      "bpe_model_trainer.cc(268) LOG(INFO) Added: freq=8 size=3520 all=32786 active=1642 piece=▁다녀오세요\n",
      "bpe_model_trainer.cc(268) LOG(INFO) Added: freq=8 size=3540 all=32770 active=1626 piece=▁여자친구한테\n",
      "bpe_model_trainer.cc(268) LOG(INFO) Added: freq=7 size=3560 all=32786 active=1642 piece=▁왤\n",
      "bpe_model_trainer.cc(268) LOG(INFO) Added: freq=7 size=3580 all=32850 active=1706 piece=면증\n",
      "bpe_model_trainer.cc(268) LOG(INFO) Added: freq=7 size=3600 all=32911 active=1767 piece=칼로\n",
      "bpe_model_trainer.cc(159) LOG(INFO) Updating active symbols. max_freq=7 min_freq=5\n",
      "bpe_model_trainer.cc(268) LOG(INFO) Added: freq=7 size=3620 all=32941 active=1673 piece=▁내요\n",
      "bpe_model_trainer.cc(268) LOG(INFO) Added: freq=7 size=3640 all=32959 active=1691 piece=▁라면\n",
      "bpe_model_trainer.cc(268) LOG(INFO) Added: freq=7 size=3660 all=32970 active=1702 piece=▁보름\n",
      "bpe_model_trainer.cc(268) LOG(INFO) Added: freq=7 size=3680 all=32985 active=1717 piece=▁속은\n",
      "bpe_model_trainer.cc(268) LOG(INFO) Added: freq=7 size=3700 all=33001 active=1733 piece=▁올해\n",
      "bpe_model_trainer.cc(159) LOG(INFO) Updating active symbols. max_freq=7 min_freq=5\n",
      "bpe_model_trainer.cc(268) LOG(INFO) Added: freq=7 size=3720 all=33014 active=1664 piece=▁주기\n",
      "bpe_model_trainer.cc(268) LOG(INFO) Added: freq=7 size=3740 all=33031 active=1681 piece=▁해주\n",
      "bpe_model_trainer.cc(268) LOG(INFO) Added: freq=7 size=3760 all=33081 active=1731 piece=▁각자의\n",
      "bpe_model_trainer.cc(268) LOG(INFO) Added: freq=7 size=3780 all=33070 active=1720 piece=▁동호회\n",
      "bpe_model_trainer.cc(268) LOG(INFO) Added: freq=7 size=3800 all=33056 active=1706 piece=▁보이지\n",
      "bpe_model_trainer.cc(159) LOG(INFO) Updating active symbols. max_freq=7 min_freq=5\n",
      "bpe_model_trainer.cc(268) LOG(INFO) Added: freq=7 size=3820 all=33052 active=1649 piece=▁아직은\n",
      "bpe_model_trainer.cc(268) LOG(INFO) Added: freq=7 size=3840 all=33042 active=1639 piece=▁재미가\n",
      "bpe_model_trainer.cc(268) LOG(INFO) Added: freq=7 size=3860 all=33034 active=1631 piece=▁힘내지\n",
      "bpe_model_trainer.cc(268) LOG(INFO) Added: freq=7 size=3880 all=33035 active=1632 piece=▁도전하는\n",
      "bpe_model_trainer.cc(268) LOG(INFO) Added: freq=7 size=3900 all=33025 active=1622 piece=▁언젠가는\n",
      "bpe_model_trainer.cc(159) LOG(INFO) Updating active symbols. max_freq=7 min_freq=4\n",
      "bpe_model_trainer.cc(268) LOG(INFO) Added: freq=7 size=3920 all=33009 active=1636 piece=▁피하세요\n",
      "bpe_model_trainer.cc(268) LOG(INFO) Added: freq=7 size=3940 all=32992 active=1619 piece=▁시작하세요\n",
      "bpe_model_trainer.cc(268) LOG(INFO) Added: freq=6 size=3960 all=32979 active=1606 piece=▁광\n",
      "bpe_model_trainer.cc(268) LOG(INFO) Added: freq=6 size=3980 all=33002 active=1629 piece=▁탔\n",
      "bpe_model_trainer.cc(268) LOG(INFO) Added: freq=6 size=4000 all=33047 active=1674 piece=되지\n",
      "bpe_model_trainer.cc(159) LOG(INFO) Updating active symbols. max_freq=6 min_freq=4\n",
      "bpe_model_trainer.cc(268) LOG(INFO) Added: freq=6 size=4020 all=33093 active=1694 piece=양말\n",
      "bpe_model_trainer.cc(268) LOG(INFO) Added: freq=6 size=4040 all=33128 active=1729 piece=하자\n",
      "bpe_model_trainer.cc(268) LOG(INFO) Added: freq=6 size=4060 all=33163 active=1764 piece=▁기준\n",
      "bpe_model_trainer.cc(268) LOG(INFO) Added: freq=6 size=4080 all=33171 active=1772 piece=▁단짠\n",
      "bpe_model_trainer.cc(268) LOG(INFO) Added: freq=6 size=4100 all=33178 active=1779 piece=▁먹은\n",
      "bpe_model_trainer.cc(159) LOG(INFO) Updating active symbols. max_freq=6 min_freq=4\n",
      "bpe_model_trainer.cc(268) LOG(INFO) Added: freq=6 size=4120 all=33193 active=1674 piece=▁사탕\n",
      "bpe_model_trainer.cc(268) LOG(INFO) Added: freq=6 size=4140 all=33200 active=1681 piece=▁수학\n",
      "bpe_model_trainer.cc(268) LOG(INFO) Added: freq=6 size=4160 all=33221 active=1702 piece=▁염색\n",
      "bpe_model_trainer.cc(268) LOG(INFO) Added: freq=6 size=4180 all=33232 active=1713 piece=▁있네\n",
      "bpe_model_trainer.cc(268) LOG(INFO) Added: freq=6 size=4200 all=33247 active=1728 piece=▁치고\n",
      "bpe_model_trainer.cc(159) LOG(INFO) Updating active symbols. max_freq=6 min_freq=4\n",
      "bpe_model_trainer.cc(268) LOG(INFO) Added: freq=6 size=4220 all=33277 active=1693 piece=▁해낼\n",
      "bpe_model_trainer.cc(268) LOG(INFO) Added: freq=6 size=4240 all=33312 active=1728 piece=집니다\n",
      "bpe_model_trainer.cc(268) LOG(INFO) Added: freq=6 size=4260 all=33333 active=1749 piece=▁결혼할\n",
      "bpe_model_trainer.cc(268) LOG(INFO) Added: freq=6 size=4280 all=33320 active=1736 piece=▁남자도\n",
      "bpe_model_trainer.cc(268) LOG(INFO) Added: freq=6 size=4300 all=33306 active=1722 piece=▁두세요\n",
      "bpe_model_trainer.cc(159) LOG(INFO) Updating active symbols. max_freq=6 min_freq=4\n",
      "bpe_model_trainer.cc(268) LOG(INFO) Added: freq=6 size=4320 all=33301 active=1661 piece=▁머리는\n",
      "bpe_model_trainer.cc(268) LOG(INFO) Added: freq=6 size=4340 all=33293 active=1653 piece=▁보일러\n",
      "bpe_model_trainer.cc(268) LOG(INFO) Added: freq=6 size=4360 all=33278 active=1638 piece=▁아름답\n",
      "bpe_model_trainer.cc(268) LOG(INFO) Added: freq=6 size=4380 all=33278 active=1638 piece=▁이해할\n",
      "bpe_model_trainer.cc(268) LOG(INFO) Added: freq=6 size=4400 all=33268 active=1628 piece=▁춥다고\n",
      "bpe_model_trainer.cc(159) LOG(INFO) Updating active symbols. max_freq=6 min_freq=4\n",
      "bpe_model_trainer.cc(268) LOG(INFO) Added: freq=6 size=4420 all=33258 active=1654 piece=▁현실을\n",
      "bpe_model_trainer.cc(268) LOG(INFO) Added: freq=6 size=4440 all=33279 active=1675 piece=▁결혼하고\n",
      "bpe_model_trainer.cc(268) LOG(INFO) Added: freq=6 size=4460 all=33262 active=1658 piece=▁먹었더니\n",
      "bpe_model_trainer.cc(268) LOG(INFO) Added: freq=6 size=4480 all=33245 active=1641 piece=▁소개시켜\n",
      "bpe_model_trainer.cc(268) LOG(INFO) Added: freq=6 size=4500 all=33231 active=1627 piece=▁연애하는\n",
      "bpe_model_trainer.cc(159) LOG(INFO) Updating active symbols. max_freq=6 min_freq=4\n",
      "bpe_model_trainer.cc(268) LOG(INFO) Added: freq=6 size=4520 all=33218 active=1649 piece=▁준비하고\n",
      "bpe_model_trainer.cc(268) LOG(INFO) Added: freq=6 size=4540 all=33200 active=1631 piece=▁데려가세요\n",
      "bpe_model_trainer.cc(268) LOG(INFO) Added: freq=6 size=4560 all=33184 active=1615 piece=��잘해주세요\n",
      "bpe_model_trainer.cc(268) LOG(INFO) Added: freq=5 size=4580 all=33165 active=1596 piece=,,\n",
      "bpe_model_trainer.cc(268) LOG(INFO) Added: freq=5 size=4600 all=33181 active=1612 piece=▁북\n",
      "bpe_model_trainer.cc(159) LOG(INFO) Updating active symbols. max_freq=5 min_freq=4\n",
      "bpe_model_trainer.cc(268) LOG(INFO) Added: freq=5 size=4620 all=33217 active=1694 piece=같지\n",
      "bpe_model_trainer.cc(268) LOG(INFO) Added: freq=5 size=4640 all=33255 active=1732 piece=련만\n",
      "bpe_model_trainer.cc(268) LOG(INFO) Added: freq=5 size=4660 all=33293 active=1770 piece=았네\n",
      "bpe_model_trainer.cc(268) LOG(INFO) Added: freq=5 size=4680 all=33324 active=1801 piece=차게\n",
      "bpe_model_trainer.cc(268) LOG(INFO) Added: freq=5 size=4700 all=33345 active=1822 piece=▁개의\n",
      "bpe_model_trainer.cc(159) LOG(INFO) Updating active symbols. max_freq=5 min_freq=4\n",
      "bpe_model_trainer.cc(268) LOG(INFO) Added: freq=5 size=4720 all=33345 active=1668 piece=▁꼼꼼\n",
      "bpe_model_trainer.cc(268) LOG(INFO) Added: freq=5 size=4740 all=33354 active=1677 piece=▁득템\n",
      "bpe_model_trainer.cc(268) LOG(INFO) Added: freq=5 size=4760 all=33351 active=1674 piece=▁모임\n",
      "bpe_model_trainer.cc(268) LOG(INFO) Added: freq=5 size=4780 all=33366 active=1689 piece=▁부드\n",
      "bpe_model_trainer.cc(268) LOG(INFO) Added: freq=5 size=4800 all=33380 active=1703 piece=▁수준\n",
      "bpe_model_trainer.cc(159) LOG(INFO) Updating active symbols. max_freq=5 min_freq=4\n",
      "bpe_model_trainer.cc(268) LOG(INFO) Added: freq=5 size=4820 all=33393 active=1679 piece=▁애교\n",
      "bpe_model_trainer.cc(268) LOG(INFO) Added: freq=5 size=4840 all=33405 active=1691 piece=▁육아\n",
      "bpe_model_trainer.cc(268) LOG(INFO) Added: freq=5 size=4860 all=33425 active=1711 piece=▁적을\n",
      "bpe_model_trainer.cc(268) LOG(INFO) Added: freq=5 size=4880 all=33428 active=1714 piece=▁질질\n",
      "bpe_model_trainer.cc(268) LOG(INFO) Added: freq=5 size=4900 all=33443 active=1729 piece=▁티를\n",
      "bpe_model_trainer.cc(159) LOG(INFO) Updating active symbols. max_freq=5 min_freq=4\n",
      "bpe_model_trainer.cc(268) LOG(INFO) Added: freq=5 size=4920 all=33458 active=1688 piece=▁효도\n",
      "bpe_model_trainer.cc(268) LOG(INFO) Added: freq=5 size=4940 all=33489 active=1719 piece=이겠죠\n",
      "bpe_model_trainer.cc(268) LOG(INFO) Added: freq=5 size=4960 all=33519 active=1749 piece=▁같아서\n",
      "bpe_model_trainer.cc(268) LOG(INFO) Added: freq=5 size=4980 all=33508 active=1738 piece=▁그러는\n",
      "bpe_model_trainer.cc(268) LOG(INFO) Added: freq=5 size=5000 all=33505 active=1735 piece=▁다독여\n",
      "bpe_model_trainer.cc(159) LOG(INFO) Updating active symbols. max_freq=5 min_freq=4\n",
      "bpe_model_trainer.cc(268) LOG(INFO) Added: freq=5 size=5020 all=33492 active=1662 piece=▁들어맞\n",
      "bpe_model_trainer.cc(268) LOG(INFO) Added: freq=5 size=5040 all=33480 active=1650 piece=▁먹자고\n",
      "bpe_model_trainer.cc(268) LOG(INFO) Added: freq=5 size=5060 all=33463 active=1633 piece=▁부지런\n",
      "bpe_model_trainer.cc(268) LOG(INFO) Added: freq=5 size=5080 all=33453 active=1623 piece=▁소액결\n",
      "bpe_model_trainer.cc(268) LOG(INFO) Added: freq=5 size=5100 all=33437 active=1607 piece=▁야경이\n",
      "bpe_model_trainer.cc(159) LOG(INFO) Updating active symbols. max_freq=5 min_freq=4\n",
      "bpe_model_trainer.cc(268) LOG(INFO) Added: freq=5 size=5120 all=33422 active=1657 piece=▁월급이\n",
      "bpe_model_trainer.cc(268) LOG(INFO) Added: freq=5 size=5140 all=33421 active=1656 piece=▁접어야\n",
      "bpe_model_trainer.cc(268) LOG(INFO) Added: freq=5 size=5160 all=33412 active=1647 piece=▁초기화\n",
      "bpe_model_trainer.cc(268) LOG(INFO) Added: freq=5 size=5180 all=33399 active=1634 piece=▁현실과\n",
      "bpe_model_trainer.cc(268) LOG(INFO) Added: freq=5 size=5200 all=33408 active=1643 piece=▁가벼워질\n",
      "bpe_model_trainer.cc(159) LOG(INFO) Updating active symbols. max_freq=5 min_freq=4\n",
      "bpe_model_trainer.cc(268) LOG(INFO) Added: freq=5 size=5220 all=33389 active=1651 piece=▁다하세요\n",
      "bpe_model_trainer.cc(268) LOG(INFO) Added: freq=5 size=5240 all=33373 active=1635 piece=▁보다보면\n",
      "bpe_model_trainer.cc(268) LOG(INFO) Added: freq=5 size=5260 all=33359 active=1621 piece=▁시작하기\n",
      "bpe_model_trainer.cc(268) LOG(INFO) Added: freq=5 size=5280 all=33344 active=1606 piece=▁이상형은\n",
      "bpe_model_trainer.cc(268) LOG(INFO) Added: freq=5 size=5300 all=33326 active=1588 piece=▁지나갔길\n",
      "bpe_model_trainer.cc(159) LOG(INFO) Updating active symbols. max_freq=5 min_freq=3\n",
      "bpe_model_trainer.cc(268) LOG(INFO) Added: freq=5 size=5320 all=33311 active=1652 piece=▁해야겠지\n",
      "bpe_model_trainer.cc(268) LOG(INFO) Added: freq=5 size=5340 all=33308 active=1649 piece=▁걸리겠지만\n",
      "bpe_model_trainer.cc(268) LOG(INFO) Added: freq=5 size=5360 all=33288 active=1629 piece=▁사랑하는게\n",
      "bpe_model_trainer.cc(268) LOG(INFO) Added: freq=5 size=5380 all=33269 active=1610 piece=▁재미있어요\n",
      "bpe_model_trainer.cc(268) LOG(INFO) Added: freq=5 size=5400 all=33252 active=1593 piece=▁사람이니까요\n",
      "bpe_model_trainer.cc(159) LOG(INFO) Updating active symbols. max_freq=5 min_freq=3\n",
      "bpe_model_trainer.cc(268) LOG(INFO) Added: freq=4 size=5420 all=33234 active=1645 piece=▁깐\n",
      "bpe_model_trainer.cc(268) LOG(INFO) Added: freq=4 size=5440 all=33246 active=1657 piece=▁엠\n",
      "bpe_model_trainer.cc(268) LOG(INFO) Added: freq=4 size=5460 all=33266 active=1677 piece=구니\n",
      "bpe_model_trainer.cc(268) LOG(INFO) Added: freq=4 size=5480 all=33293 active=1704 piece=달래\n",
      "bpe_model_trainer.cc(268) LOG(INFO) Added: freq=4 size=5500 all=33316 active=1727 piece=받은\n",
      "bpe_model_trainer.cc(159) LOG(INFO) Updating active symbols. max_freq=4 min_freq=3\n",
      "bpe_model_trainer.cc(268) LOG(INFO) Added: freq=4 size=5520 all=33346 active=1694 piece=쎄요\n",
      "bpe_model_trainer.cc(268) LOG(INFO) Added: freq=4 size=5540 all=33372 active=1720 piece=있죠\n",
      "bpe_model_trainer.cc(268) LOG(INFO) Added: freq=4 size=5560 all=33390 active=1738 piece=춤법\n",
      "bpe_model_trainer.cc(268) LOG(INFO) Added: freq=4 size=5580 all=33411 active=1759 piece=▁간직\n",
      "bpe_model_trainer.cc(268) LOG(INFO) Added: freq=4 size=5600 all=33416 active=1764 piece=▁괴로\n",
      "bpe_model_trainer.cc(159) LOG(INFO) Updating active symbols. max_freq=4 min_freq=3\n",
      "bpe_model_trainer.cc(268) LOG(INFO) Added: freq=4 size=5620 all=33425 active=1677 piece=▁나니\n",
      "bpe_model_trainer.cc(268) LOG(INFO) Added: freq=4 size=5640 all=33417 active=1669 piece=▁농담\n",
      "bpe_model_trainer.cc(268) LOG(INFO) Added: freq=4 size=5660 all=33429 active=1681 piece=▁덥다\n",
      "bpe_model_trainer.cc(268) LOG(INFO) Added: freq=4 size=5680 all=33423 active=1675 piece=▁리드\n",
      "bpe_model_trainer.cc(268) LOG(INFO) Added: freq=4 size=5700 all=33431 active=1683 piece=▁뭘로\n",
      "bpe_model_trainer.cc(159) LOG(INFO) Updating active symbols. max_freq=4 min_freq=3\n",
      "bpe_model_trainer.cc(268) LOG(INFO) Added: freq=4 size=5720 all=33434 active=1675 piece=▁본다\n",
      "bpe_model_trainer.cc(268) LOG(INFO) Added: freq=4 size=5740 all=33436 active=1677 piece=▁상메\n",
      "bpe_model_trainer.cc(268) LOG(INFO) Added: freq=4 size=5760 all=33434 active=1675 piece=▁식욕\n",
      "bpe_model_trainer.cc(268) LOG(INFO) Added: freq=4 size=5780 all=33442 active=1683 piece=▁야구\n",
      "bpe_model_trainer.cc(268) LOG(INFO) Added: freq=4 size=5800 all=33444 active=1685 piece=▁웃겨\n",
      "bpe_model_trainer.cc(159) LOG(INFO) Updating active symbols. max_freq=4 min_freq=3\n",
      "bpe_model_trainer.cc(268) LOG(INFO) Added: freq=4 size=5820 all=33444 active=1672 piece=▁적당\n",
      "bpe_model_trainer.cc(268) LOG(INFO) Added: freq=4 size=5840 all=33444 active=1672 piece=▁지수\n",
      "bpe_model_trainer.cc(268) LOG(INFO) Added: freq=4 size=5860 all=33451 active=1679 piece=▁타다\n",
      "bpe_model_trainer.cc(268) LOG(INFO) Added: freq=4 size=5880 all=33458 active=1686 piece=▁핫한\n",
      "bpe_model_trainer.cc(268) LOG(INFO) Added: freq=4 size=5900 all=33469 active=1697 piece=기간을\n",
      "bpe_model_trainer.cc(159) LOG(INFO) Updating active symbols. max_freq=4 min_freq=3\n",
      "bpe_model_trainer.cc(268) LOG(INFO) Added: freq=4 size=5920 all=33495 active=1699 piece=봐야지\n",
      "bpe_model_trainer.cc(268) LOG(INFO) Added: freq=4 size=5940 all=33526 active=1730 piece=일수도\n",
      "bpe_model_trainer.cc(268) LOG(INFO) Added: freq=4 size=5960 all=33551 active=1755 piece=▁가리는\n",
      "bpe_model_trainer.cc(268) LOG(INFO) Added: freq=4 size=5980 all=33537 active=1741 piece=▁골라줘\n",
      "bpe_model_trainer.cc(268) LOG(INFO) Added: freq=4 size=6000 all=33524 active=1728 piece=▁깎아요\n",
      "bpe_model_trainer.cc(159) LOG(INFO) Updating active symbols. max_freq=4 min_freq=3\n",
      "bpe_model_trainer.cc(268) LOG(INFO) Added: freq=4 size=6020 all=33506 active=1659 piece=▁내일이\n",
      "bpe_model_trainer.cc(268) LOG(INFO) Added: freq=4 size=6040 all=33495 active=1648 piece=▁도저히\n",
      "bpe_model_trainer.cc(268) LOG(INFO) Added: freq=4 size=6060 all=33488 active=1641 piece=▁만나실\n",
      "bpe_model_trainer.cc(268) LOG(INFO) Added: freq=4 size=6080 all=33474 active=1627 piece=▁맞춤법\n",
      "bpe_model_trainer.cc(268) LOG(INFO) Added: freq=4 size=6100 all=33462 active=1615 piece=▁무의식\n",
      "bpe_model_trainer.cc(159) LOG(INFO) Updating active symbols. max_freq=4 min_freq=3\n",
      "bpe_model_trainer.cc(268) LOG(INFO) Added: freq=4 size=6120 all=33448 active=1659 piece=▁벌어요\n",
      "bpe_model_trainer.cc(268) LOG(INFO) Added: freq=4 size=6140 all=33435 active=1646 piece=▁비틀어\n",
      "bpe_model_trainer.cc(268) LOG(INFO) Added: freq=4 size=6160 all=33419 active=1630 piece=▁서운한\n",
      "bpe_model_trainer.cc(268) LOG(INFO) Added: freq=4 size=6180 all=33402 active=1613 piece=▁싫어도\n",
      "bpe_model_trainer.cc(268) LOG(INFO) Added: freq=4 size=6200 all=33388 active=1599 piece=▁않는게\n",
      "bpe_model_trainer.cc(159) LOG(INFO) Updating active symbols. max_freq=4 min_freq=3\n",
      "bpe_model_trainer.cc(268) LOG(INFO) Added: freq=4 size=6220 all=33373 active=1655 piece=▁없지만\n",
      "bpe_model_trainer.cc(268) LOG(INFO) Added: freq=4 size=6240 all=33365 active=1647 piece=▁외로움\n",
      "bpe_model_trainer.cc(268) LOG(INFO) Added: freq=4 size=6260 all=33362 active=1644 piece=▁입냄새\n",
      "bpe_model_trainer.cc(268) LOG(INFO) Added: freq=4 size=6280 all=33355 active=1637 piece=▁잠기는\n",
      "bpe_model_trainer.cc(268) LOG(INFO) Added: freq=4 size=6300 all=33340 active=1622 piece=▁좋아서\n",
      "bpe_model_trainer.cc(159) LOG(INFO) Updating active symbols. max_freq=4 min_freq=3\n",
      "bpe_model_trainer.cc(268) LOG(INFO) Added: freq=4 size=6320 all=33321 active=1648 piece=▁찍었어\n",
      "bpe_model_trainer.cc(268) LOG(INFO) Added: freq=4 size=6340 all=33305 active=1632 piece=▁카톡을\n",
      "bpe_model_trainer.cc(268) LOG(INFO) Added: freq=4 size=6360 all=33289 active=1616 piece=▁하겠죠\n",
      "bpe_model_trainer.cc(268) LOG(INFO) Added: freq=4 size=6380 all=33270 active=1597 piece=▁후회를\n",
      "bpe_model_trainer.cc(268) LOG(INFO) Added: freq=4 size=6400 all=33266 active=1593 piece=▁결혼적령\n",
      "bpe_model_trainer.cc(159) LOG(INFO) Updating active symbols. max_freq=4 min_freq=3\n",
      "bpe_model_trainer.cc(268) LOG(INFO) Added: freq=4 size=6420 all=33249 active=1645 piece=▁그분에게\n",
      "bpe_model_trainer.cc(268) LOG(INFO) Added: freq=4 size=6440 all=33231 active=1627 piece=▁능력이긴\n",
      "bpe_model_trainer.cc(268) LOG(INFO) Added: freq=4 size=6460 all=33211 active=1607 piece=▁든든하게\n",
      "bpe_model_trainer.cc(268) LOG(INFO) Added: freq=4 size=6480 all=33192 active=1588 piece=▁머릿속이\n",
      "bpe_model_trainer.cc(268) LOG(INFO) Added: freq=4 size=6500 all=33172 active=1568 piece=▁배려해야\n",
      "bpe_model_trainer.cc(159) LOG(INFO) Updating active symbols. max_freq=4 min_freq=3\n",
      "bpe_model_trainer.cc(268) LOG(INFO) Added: freq=4 size=6520 all=33154 active=1640 piece=▁사람이다\n",
      "bpe_model_trainer.cc(268) LOG(INFO) Added: freq=4 size=6540 all=33139 active=1625 piece=▁수학여행\n",
      "bpe_model_trainer.cc(268) LOG(INFO) Added: freq=4 size=6560 all=33131 active=1617 piece=▁아닌가요\n",
      "bpe_model_trainer.cc(268) LOG(INFO) Added: freq=4 size=6580 all=33111 active=1597 piece=▁웃으면서\n",
      "bpe_model_trainer.cc(268) LOG(INFO) Added: freq=4 size=6600 all=33098 active=1584 piece=▁일상으로\n",
      "bpe_model_trainer.cc(159) LOG(INFO) Updating active symbols. max_freq=4 min_freq=3\n",
      "bpe_model_trainer.cc(268) LOG(INFO) Added: freq=4 size=6620 all=33081 active=1638 piece=▁종료네요\n",
      "bpe_model_trainer.cc(268) LOG(INFO) Added: freq=4 size=6640 all=33065 active=1622 piece=▁친구들을\n",
      "bpe_model_trainer.cc(268) LOG(INFO) Added: freq=4 size=6660 all=33046 active=1603 piece=▁헤어진후\n",
      "bpe_model_trainer.cc(268) LOG(INFO) Added: freq=4 size=6680 all=33043 active=1600 piece=▁간직하세요\n",
      "bpe_model_trainer.cc(268) LOG(INFO) Added: freq=4 size=6700 all=33025 active=1582 piece=▁달려있겠죠\n",
      "bpe_model_trainer.cc(159) LOG(INFO) Updating active symbols. max_freq=4 min_freq=3\n",
      "bpe_model_trainer.cc(268) LOG(INFO) Added: freq=4 size=6720 all=33005 active=1632 piece=▁무섭습니다\n",
      "bpe_model_trainer.cc(268) LOG(INFO) Added: freq=4 size=6740 all=32987 active=1614 piece=▁생각이네요\n",
      "bpe_model_trainer.cc(268) LOG(INFO) Added: freq=4 size=6760 all=32968 active=1595 piece=▁알아두세요\n",
      "bpe_model_trainer.cc(268) LOG(INFO) Added: freq=4 size=6780 all=32949 active=1576 piece=▁재회했는데\n",
      "bpe_model_trainer.cc(268) LOG(INFO) Added: freq=4 size=6800 all=32929 active=1556 piece=▁칭찬이네요\n",
      "bpe_model_trainer.cc(159) LOG(INFO) Updating active symbols. max_freq=4 min_freq=3\n",
      "bpe_model_trainer.cc(268) LOG(INFO) Added: freq=4 size=6820 all=32911 active=1629 piece=▁받으시나봐요\n",
      "bpe_model_trainer.cc(268) LOG(INFO) Added: freq=4 size=6840 all=32891 active=1609 piece=▁좋아하는데도\n",
      "bpe_model_trainer.cc(268) LOG(INFO) Added: freq=3 size=6860 all=32877 active=1595 piece=▁국\n",
      "bpe_model_trainer.cc(268) LOG(INFO) Added: freq=3 size=6880 all=32887 active=1605 piece=▁송\n",
      "bpe_model_trainer.cc(268) LOG(INFO) Added: freq=3 size=6900 all=32902 active=1620 piece=▁텀\n",
      "bpe_model_trainer.cc(159) LOG(INFO) Updating active symbols. max_freq=3 min_freq=3\n",
      "bpe_model_trainer.cc(268) LOG(INFO) Added: freq=3 size=6920 all=32921 active=1663 piece=가서\n",
      "trainer_interface.cc(689) LOG(INFO) Saving model: chatbot_spm.model\n",
      "trainer_interface.cc(701) LOG(INFO) Saving vocabs: chatbot_spm.vocab\n"
     ]
    }
   ],
   "source": [
    "print(\"\\n2. SentencePiece 토크나이저 훈련 시작\")\n",
    "VOCAB_SIZE = 8000\n",
    "SP_MODEL_PREFIX = 'chatbot_spm'\n",
    "SP_MODEL_PATH = f'{SP_MODEL_PREFIX}.model'\n",
    "SP_CORPUS_PATH = 'chatbot_corpus.txt'\n",
    "\n",
    "# 증강된 훈련 데이터로 토크나이저 학습\n",
    "with open(SP_CORPUS_PATH, 'w', encoding='utf-8') as f:\n",
    "    for q, a in zip(train_questions, train_answers):\n",
    "        f.write(f\"{q}\\n\")\n",
    "        f.write(f\"{a}\\n\")\n",
    "\n",
    "spm_command = (f'--input={SP_CORPUS_PATH} --model_prefix={SP_MODEL_PREFIX} '\n",
    "               f'--vocab_size={VOCAB_SIZE} --model_type=bpe '\n",
    "               f'--user_defined_symbols=<pad>,<sos>,<eos>')\n",
    "spm.SentencePieceTrainer.train(spm_command)\n",
    "print(\"SentencePiece 모델 훈련 완료.\")\n",
    "\n",
    "tokenizer = spm.SentencePieceProcessor()\n",
    "tokenizer.load(SP_MODEL_PATH)\n",
    "\n",
    "PAD_IDX = tokenizer.piece_to_id('<pad>')\n",
    "SOS_IDX = tokenizer.piece_to_id('<sos>')\n",
    "EOS_IDX = tokenizer.piece_to_id('<eos>')\n",
    "UNK_IDX = tokenizer.unk_id()\n",
    "\n",
    "print(f\"단어장 크기: {tokenizer.get_piece_size()}\")\n",
    "print(f\"PAD: {PAD_IDX}, SOS: {SOS_IDX}, EOS: {EOS_IDX}, UNK: {UNK_IDX}\")\n",
    "print(\"-\" * 30)"
   ]
  },
  {
   "cell_type": "markdown",
   "id": "1761b414-d6cd-49d0-a079-0f56d6f6abbe",
   "metadata": {},
   "source": [
    "##### 트랜스포머 모델 클래스 정의"
   ]
  },
  {
   "cell_type": "code",
   "execution_count": 7,
   "id": "0b47d832-45d5-4e20-a724-cbcae16f1336",
   "metadata": {},
   "outputs": [
    {
     "name": "stdout",
     "output_type": "stream",
     "text": [
      "\n",
      "3. 트랜스포머 모델 정의\n",
      "모델 클래스 정의 완료.\n",
      "------------------------------\n"
     ]
    }
   ],
   "source": [
    "print(\"\\n3. 트랜스포머 모델 정의\")\n",
    "\n",
    "class PositionalEncoding(nn.Module):\n",
    "    def __init__(self, d_model, dropout=0.1, max_len=5000):\n",
    "        super(PositionalEncoding, self).__init__()\n",
    "        self.dropout = nn.Dropout(p=dropout)\n",
    "        pe = torch.zeros(max_len, d_model)\n",
    "        position = torch.arange(0, max_len, dtype=torch.float).unsqueeze(1)\n",
    "        div_term = torch.exp(torch.arange(0, d_model, 2).float() * (-math.log(10000.0) / d_model))\n",
    "        pe[:, 0::2] = torch.sin(position * div_term)\n",
    "        pe[:, 1::2] = torch.cos(position * div_term)\n",
    "        pe = pe.unsqueeze(0).transpose(0, 1)\n",
    "        self.register_buffer('pe', pe)\n",
    "    def forward(self, x):\n",
    "        x = x + self.pe[:x.size(0), :]\n",
    "        return self.dropout(x)\n",
    "\n",
    "class CustomTransformerDecoderLayer(nn.TransformerDecoderLayer):\n",
    "    def forward(self, tgt, memory, tgt_mask=None, memory_mask=None,\n",
    "                tgt_key_padding_mask=None, memory_key_padding_mask=None):\n",
    "        tgt2 = self.self_attn(tgt, tgt, tgt, attn_mask=tgt_mask,\n",
    "                              key_padding_mask=tgt_key_padding_mask)[0]\n",
    "        tgt = tgt + self.dropout1(tgt2)\n",
    "        tgt = self.norm1(tgt)\n",
    "        \n",
    "        tgt2, attn_weights = self.multihead_attn(tgt, memory, memory, attn_mask=memory_mask,\n",
    "                                                 key_padding_mask=memory_key_padding_mask,\n",
    "                                                 average_attn_weights=False)\n",
    "        tgt = tgt + self.dropout2(tgt2)\n",
    "        tgt = self.norm2(tgt)\n",
    "        \n",
    "        tgt2 = self.linear2(self.dropout(self.activation(self.linear1(tgt))))\n",
    "        tgt = tgt + self.dropout3(tgt2)\n",
    "        tgt = self.norm3(tgt)\n",
    "        return tgt, attn_weights\n",
    "\n",
    "class TransformerChatbot(nn.Module):\n",
    "    def __init__(self, vocab_size, d_model, nhead, num_encoder_layers, num_decoder_layers, dim_feedforward, dropout):\n",
    "        super(TransformerChatbot, self).__init__()\n",
    "        self.d_model = d_model\n",
    "        \n",
    "        self.embedding = nn.Embedding(vocab_size, d_model)\n",
    "        self.pos_encoder = PositionalEncoding(d_model, dropout)\n",
    "\n",
    "        encoder_layer = TransformerEncoderLayer(d_model, nhead, dim_feedforward, dropout, batch_first=True)\n",
    "        self.transformer_encoder = TransformerEncoder(encoder_layer, num_encoder_layers)\n",
    "        \n",
    "        decoder_layer = CustomTransformerDecoderLayer(d_model, nhead, dim_feedforward, dropout, batch_first=True)\n",
    "        self.transformer_decoder = TransformerDecoder(decoder_layer, num_decoder_layers)\n",
    "        \n",
    "        self.fc_out = nn.Linear(d_model, vocab_size)\n",
    "\n",
    "    def forward(self, src, tgt, src_padding_mask, tgt_padding_mask, memory_key_padding_mask, tgt_mask):\n",
    "        src_emb = self.pos_encoder(self.embedding(src) * math.sqrt(self.d_model))\n",
    "        tgt_emb = self.pos_encoder(self.embedding(tgt) * math.sqrt(self.d_model))\n",
    "\n",
    "        memory = self.transformer_encoder(src_emb, src_key_padding_mask=src_padding_mask)\n",
    "        \n",
    "        output = tgt_emb\n",
    "        for mod in self.transformer_decoder.layers:\n",
    "            output, _ = mod(output, memory, \n",
    "                            tgt_mask=tgt_mask,\n",
    "                            tgt_key_padding_mask=tgt_padding_mask,\n",
    "                            memory_key_padding_mask=memory_key_padding_mask)\n",
    "        \n",
    "        return self.fc_out(output)\n",
    "\n",
    "    def generate_square_subsequent_mask(self, sz, device):\n",
    "        mask = (torch.triu(torch.ones(sz, sz, device=device)) == 1).transpose(0, 1)\n",
    "        mask = mask.float().masked_fill(mask == 0, float('-inf')).masked_fill(mask == 1, float(0.0))\n",
    "        return mask\n",
    "\n",
    "print(\"모델 클래스 정의 완료.\")\n",
    "print(\"-\" * 30)"
   ]
  },
  {
   "cell_type": "markdown",
   "id": "8f5f5026-045b-4ed1-8e89-e5c35bb6d4a7",
   "metadata": {},
   "source": [
    "##### 데이터셋 및 데이터로더 생성"
   ]
  },
  {
   "cell_type": "code",
   "execution_count": 9,
   "id": "8060acf8-ca58-4ebf-8e3e-8a0461240dbc",
   "metadata": {},
   "outputs": [
    {
     "name": "stdout",
     "output_type": "stream",
     "text": [
      "\n",
      "4. 데이터셋 및 데이터로더 생성\n",
      "데이터로더 생성 완료.\n",
      "------------------------------\n"
     ]
    }
   ],
   "source": [
    "print(\"\\n4. 데이터셋 및 데이터로더 생성\")\n",
    "MAX_LEN = 50\n",
    "\n",
    "def text_transform(text, tokenizer):\n",
    "    return torch.tensor([SOS_IDX] + tokenizer.encode_as_ids(text) + [EOS_IDX])\n",
    "\n",
    "class ChatbotDataset(Dataset):\n",
    "    def __init__(self, questions, answers, tokenizer):\n",
    "        self.questions = questions\n",
    "        self.answers = answers\n",
    "        self.tokenizer = tokenizer\n",
    "    def __len__(self): return len(self.questions)\n",
    "    def __getitem__(self, idx):\n",
    "        q_tensor = text_transform(self.questions[idx], self.tokenizer)\n",
    "        a_tensor = text_transform(self.answers[idx], self.tokenizer)\n",
    "        return q_tensor, a_tensor\n",
    "\n",
    "def collate_fn(batch):\n",
    "    src_batch, tgt_batch = [], []\n",
    "    for src_sample, tgt_sample in batch:\n",
    "        src_batch.append(src_sample[:MAX_LEN])\n",
    "        tgt_batch.append(tgt_sample[:MAX_LEN])\n",
    "    src_batch = nn.utils.rnn.pad_sequence(src_batch, padding_value=PAD_IDX, batch_first=True)\n",
    "    tgt_batch = nn.utils.rnn.pad_sequence(tgt_batch, padding_value=PAD_IDX, batch_first=True)\n",
    "    return src_batch, tgt_batch\n",
    "\n",
    "train_dataset = ChatbotDataset(train_questions, train_answers, tokenizer)\n",
    "val_dataset = ChatbotDataset(val_questions, val_answers, tokenizer)\n",
    "test_dataset = ChatbotDataset(test_questions, test_answers, tokenizer)\n",
    "\n",
    "BATCH_SIZE = 128\n",
    "train_dataloader = DataLoader(train_dataset, batch_size=BATCH_SIZE, collate_fn=collate_fn, shuffle=True)\n",
    "val_dataloader = DataLoader(val_dataset, batch_size=BATCH_SIZE, collate_fn=collate_fn)\n",
    "test_dataloader = DataLoader(test_dataset, batch_size=BATCH_SIZE, collate_fn=collate_fn)\n",
    "\n",
    "print(\"데이터로더 생성 완료.\")\n",
    "print(\"-\" * 30)"
   ]
  },
  {
   "cell_type": "markdown",
   "id": "c9591b6c-7f7a-4408-8345-55db6d7fd1a0",
   "metadata": {},
   "source": [
    "##### 훈련 설정 및 함수 정의"
   ]
  },
  {
   "cell_type": "code",
   "execution_count": 29,
   "id": "45b05c12-f0e0-4c1e-adea-20d382dedf18",
   "metadata": {},
   "outputs": [
    {
     "name": "stdout",
     "output_type": "stream",
     "text": [
      "\n",
      "5. 훈련 설정\n",
      "사용 디바이스: cuda\n",
      "모델 파라미터 수: 6,739,776\n",
      "훈련/평가 함수 정의 완료.\n",
      "------------------------------\n"
     ]
    }
   ],
   "source": [
    "print(\"\\n5. 훈련 설정\")\n",
    "DEVICE = torch.device('cuda' if torch.cuda.is_available() else 'cpu')\n",
    "print(f\"사용 디바이스: {DEVICE}\")\n",
    "\n",
    "# 하이퍼파라미터\n",
    "D_MODEL = 256\n",
    "N_HEAD = 8\n",
    "NUM_ENCODER_LAYERS = 2\n",
    "NUM_DECODER_LAYERS = 2\n",
    "D_FF = 512\n",
    "DROPOUT = 0.2\n",
    "LEARNING_RATE = 0.0001\n",
    "EPOCHS = 100\n",
    "\n",
    "# 모델, 손실 함수, 옵티마이저 초기화\n",
    "model = TransformerChatbot(\n",
    "    VOCAB_SIZE, D_MODEL, N_HEAD, NUM_ENCODER_LAYERS, NUM_DECODER_LAYERS, D_FF, DROPOUT\n",
    ").to(DEVICE)\n",
    "\n",
    "print(f'모델 파라미터 수: {sum(p.numel() for p in model.parameters() if p.requires_grad):,}')\n",
    "\n",
    "criterion = nn.CrossEntropyLoss(ignore_index=PAD_IDX)\n",
    "optimizer = torch.optim.Adam(model.parameters(), lr=LEARNING_RATE)\n",
    "\n",
    "# 훈련 및 평가 함수 정의\n",
    "def train_epoch(model, dataloader, optimizer, criterion, device, epoch):\n",
    "    model.train()\n",
    "    total_loss = 0\n",
    "    loop = tqdm(dataloader, desc=f'Epoch {epoch:02} Train')\n",
    "    for src, tgt in loop:\n",
    "        src, tgt = src.to(device), tgt.to(device)\n",
    "        tgt_input, tgt_out = tgt[:, :-1], tgt[:, 1:]\n",
    "        src_padding_mask = (src == PAD_IDX)\n",
    "        tgt_padding_mask = (tgt_input == PAD_IDX)\n",
    "        tgt_mask = model.generate_square_subsequent_mask(tgt_input.size(1), device)\n",
    "        optimizer.zero_grad()\n",
    "        output = model(src, tgt_input, src_padding_mask, tgt_padding_mask, src_padding_mask, tgt_mask)\n",
    "        loss = criterion(output.reshape(-1, output.shape[-1]), tgt_out.reshape(-1))\n",
    "        loss.backward()\n",
    "        optimizer.step()\n",
    "        total_loss += loss.item()\n",
    "        loop.set_postfix(loss=loss.item())\n",
    "    return total_loss / len(dataloader)\n",
    "\n",
    "def evaluate(model, dataloader, criterion, device, epoch):\n",
    "    model.eval()\n",
    "    total_loss = 0\n",
    "    with torch.no_grad():\n",
    "        loop = tqdm(dataloader, desc=f'Epoch {epoch:02} Val  ')\n",
    "        for src, tgt in loop:\n",
    "            src, tgt = src.to(device), tgt.to(device)\n",
    "            tgt_input, tgt_out = tgt[:, :-1], tgt[:, 1:]\n",
    "            src_padding_mask = (src == PAD_IDX)\n",
    "            tgt_padding_mask = (tgt_input == PAD_IDX)\n",
    "            tgt_mask = model.generate_square_subsequent_mask(tgt_input.size(1), device)\n",
    "            output = model(src, tgt_input, src_padding_mask, tgt_padding_mask, src_padding_mask, tgt_mask)\n",
    "            loss = criterion(output.reshape(-1, output.shape[-1]), tgt_out.reshape(-1))\n",
    "            total_loss += loss.item()\n",
    "            loop.set_postfix(loss=loss.item())\n",
    "    return total_loss / len(dataloader)\n",
    "\n",
    "print(\"훈련/평가 함수 정의 완료.\")\n",
    "print(\"-\" * 30)"
   ]
  },
  {
   "cell_type": "markdown",
   "id": "a7005aea-bab7-4071-8ea1-e9a013ffeb22",
   "metadata": {},
   "source": [
    "##### 모델 훈련 루프 실행"
   ]
  },
  {
   "cell_type": "code",
   "execution_count": 30,
   "id": "ac4811ec-f971-4185-b628-ed3b7d88c648",
   "metadata": {},
   "outputs": [
    {
     "name": "stdout",
     "output_type": "stream",
     "text": [
      "\n",
      "6. 훈련 시작\n"
     ]
    },
    {
     "data": {
      "application/vnd.jupyter.widget-view+json": {
       "model_id": "8c266f8a6fd047f4adcdc267cbd0110d",
       "version_major": 2,
       "version_minor": 0
      },
      "text/plain": [
       "Epoch 01 Train:   0%|          | 0/89 [00:00<?, ?it/s]"
      ]
     },
     "metadata": {},
     "output_type": "display_data"
    },
    {
     "name": "stderr",
     "output_type": "stream",
     "text": [
      "/opt/conda/lib/python3.12/site-packages/torch/nn/functional.py:5962: UserWarning: Support for mismatched key_padding_mask and attn_mask is deprecated. Use same type for both instead.\n",
      "  warnings.warn(\n"
     ]
    },
    {
     "data": {
      "application/vnd.jupyter.widget-view+json": {
       "model_id": "48495cc50af64090a733a6f21e1b3196",
       "version_major": 2,
       "version_minor": 0
      },
      "text/plain": [
       "Epoch 01 Val  :   0%|          | 0/10 [00:00<?, ?it/s]"
      ]
     },
     "metadata": {},
     "output_type": "display_data"
    },
    {
     "name": "stdout",
     "output_type": "stream",
     "text": [
      "Epoch: 01 | Time: 0m 3s\n",
      "\tTrain Loss: 6.959 | Val. Loss: 6.255\n",
      "\t-> 검증 손실 감소, 모델 저장 완료.\n"
     ]
    },
    {
     "data": {
      "application/vnd.jupyter.widget-view+json": {
       "model_id": "e9a8175262ad43c287f2dbddd052f0cd",
       "version_major": 2,
       "version_minor": 0
      },
      "text/plain": [
       "Epoch 02 Train:   0%|          | 0/89 [00:00<?, ?it/s]"
      ]
     },
     "metadata": {},
     "output_type": "display_data"
    },
    {
     "data": {
      "application/vnd.jupyter.widget-view+json": {
       "model_id": "b3400280f7d848aaab62c52cefbd2333",
       "version_major": 2,
       "version_minor": 0
      },
      "text/plain": [
       "Epoch 02 Val  :   0%|          | 0/10 [00:00<?, ?it/s]"
      ]
     },
     "metadata": {},
     "output_type": "display_data"
    },
    {
     "name": "stdout",
     "output_type": "stream",
     "text": [
      "Epoch: 02 | Time: 0m 3s\n",
      "\tTrain Loss: 6.029 | Val. Loss: 5.936\n",
      "\t-> 검증 손실 감소, 모델 저장 완료.\n"
     ]
    },
    {
     "data": {
      "application/vnd.jupyter.widget-view+json": {
       "model_id": "8e54ab12d0a14f608cfc59b41b9b5004",
       "version_major": 2,
       "version_minor": 0
      },
      "text/plain": [
       "Epoch 03 Train:   0%|          | 0/89 [00:00<?, ?it/s]"
      ]
     },
     "metadata": {},
     "output_type": "display_data"
    },
    {
     "data": {
      "application/vnd.jupyter.widget-view+json": {
       "model_id": "d8a827e2dcd54f7bbf30046f54fa4708",
       "version_major": 2,
       "version_minor": 0
      },
      "text/plain": [
       "Epoch 03 Val  :   0%|          | 0/10 [00:00<?, ?it/s]"
      ]
     },
     "metadata": {},
     "output_type": "display_data"
    },
    {
     "name": "stdout",
     "output_type": "stream",
     "text": [
      "Epoch: 03 | Time: 0m 3s\n",
      "\tTrain Loss: 5.813 | Val. Loss: 5.795\n",
      "\t-> 검증 손실 감소, 모델 저장 완료.\n"
     ]
    },
    {
     "data": {
      "application/vnd.jupyter.widget-view+json": {
       "model_id": "f2603ff4b6364b28ac8bc7c2d1c143f9",
       "version_major": 2,
       "version_minor": 0
      },
      "text/plain": [
       "Epoch 04 Train:   0%|          | 0/89 [00:00<?, ?it/s]"
      ]
     },
     "metadata": {},
     "output_type": "display_data"
    },
    {
     "data": {
      "application/vnd.jupyter.widget-view+json": {
       "model_id": "7997db0034834dee8ed3e557329d6d7c",
       "version_major": 2,
       "version_minor": 0
      },
      "text/plain": [
       "Epoch 04 Val  :   0%|          | 0/10 [00:00<?, ?it/s]"
      ]
     },
     "metadata": {},
     "output_type": "display_data"
    },
    {
     "name": "stdout",
     "output_type": "stream",
     "text": [
      "Epoch: 04 | Time: 0m 3s\n",
      "\tTrain Loss: 5.682 | Val. Loss: 5.698\n",
      "\t-> 검증 손실 감소, 모델 저장 완료.\n"
     ]
    },
    {
     "data": {
      "application/vnd.jupyter.widget-view+json": {
       "model_id": "c270f9e53b0244ef882333713c08b306",
       "version_major": 2,
       "version_minor": 0
      },
      "text/plain": [
       "Epoch 05 Train:   0%|          | 0/89 [00:00<?, ?it/s]"
      ]
     },
     "metadata": {},
     "output_type": "display_data"
    },
    {
     "data": {
      "application/vnd.jupyter.widget-view+json": {
       "model_id": "e517043dc1274bd3bcf473212589bfde",
       "version_major": 2,
       "version_minor": 0
      },
      "text/plain": [
       "Epoch 05 Val  :   0%|          | 0/10 [00:00<?, ?it/s]"
      ]
     },
     "metadata": {},
     "output_type": "display_data"
    },
    {
     "name": "stdout",
     "output_type": "stream",
     "text": [
      "Epoch: 05 | Time: 0m 3s\n",
      "\tTrain Loss: 5.576 | Val. Loss: 5.619\n",
      "\t-> 검증 손실 감소, 모델 저장 완료.\n"
     ]
    },
    {
     "data": {
      "application/vnd.jupyter.widget-view+json": {
       "model_id": "780cb4fd25c54f03af38fad8897215c7",
       "version_major": 2,
       "version_minor": 0
      },
      "text/plain": [
       "Epoch 06 Train:   0%|          | 0/89 [00:00<?, ?it/s]"
      ]
     },
     "metadata": {},
     "output_type": "display_data"
    },
    {
     "data": {
      "application/vnd.jupyter.widget-view+json": {
       "model_id": "24acc2c192d749ea9bd9b07b19a8de21",
       "version_major": 2,
       "version_minor": 0
      },
      "text/plain": [
       "Epoch 06 Val  :   0%|          | 0/10 [00:00<?, ?it/s]"
      ]
     },
     "metadata": {},
     "output_type": "display_data"
    },
    {
     "name": "stdout",
     "output_type": "stream",
     "text": [
      "Epoch: 06 | Time: 0m 3s\n",
      "\tTrain Loss: 5.476 | Val. Loss: 5.554\n",
      "\t-> 검증 손실 감소, 모델 저장 완료.\n"
     ]
    },
    {
     "data": {
      "application/vnd.jupyter.widget-view+json": {
       "model_id": "0be60029cfd54562aa2ce9b7e607f2ff",
       "version_major": 2,
       "version_minor": 0
      },
      "text/plain": [
       "Epoch 07 Train:   0%|          | 0/89 [00:00<?, ?it/s]"
      ]
     },
     "metadata": {},
     "output_type": "display_data"
    },
    {
     "data": {
      "application/vnd.jupyter.widget-view+json": {
       "model_id": "f0c4fbe23db54c1ab66ffcea4601247a",
       "version_major": 2,
       "version_minor": 0
      },
      "text/plain": [
       "Epoch 07 Val  :   0%|          | 0/10 [00:00<?, ?it/s]"
      ]
     },
     "metadata": {},
     "output_type": "display_data"
    },
    {
     "name": "stdout",
     "output_type": "stream",
     "text": [
      "Epoch: 07 | Time: 0m 3s\n",
      "\tTrain Loss: 5.380 | Val. Loss: 5.481\n",
      "\t-> 검증 손실 감소, 모델 저장 완료.\n"
     ]
    },
    {
     "data": {
      "application/vnd.jupyter.widget-view+json": {
       "model_id": "354585a786184b928e0fcc5005005eba",
       "version_major": 2,
       "version_minor": 0
      },
      "text/plain": [
       "Epoch 08 Train:   0%|          | 0/89 [00:00<?, ?it/s]"
      ]
     },
     "metadata": {},
     "output_type": "display_data"
    },
    {
     "data": {
      "application/vnd.jupyter.widget-view+json": {
       "model_id": "a66979e2da02494ca73e844f3480fd20",
       "version_major": 2,
       "version_minor": 0
      },
      "text/plain": [
       "Epoch 08 Val  :   0%|          | 0/10 [00:00<?, ?it/s]"
      ]
     },
     "metadata": {},
     "output_type": "display_data"
    },
    {
     "name": "stdout",
     "output_type": "stream",
     "text": [
      "Epoch: 08 | Time: 0m 3s\n",
      "\tTrain Loss: 5.288 | Val. Loss: 5.410\n",
      "\t-> 검증 손실 감소, 모델 저장 완료.\n"
     ]
    },
    {
     "data": {
      "application/vnd.jupyter.widget-view+json": {
       "model_id": "d2f0fa94d32e426f9d8226607d1f4e0e",
       "version_major": 2,
       "version_minor": 0
      },
      "text/plain": [
       "Epoch 09 Train:   0%|          | 0/89 [00:00<?, ?it/s]"
      ]
     },
     "metadata": {},
     "output_type": "display_data"
    },
    {
     "data": {
      "application/vnd.jupyter.widget-view+json": {
       "model_id": "dcc1ed063c3b4969b672333fafc21968",
       "version_major": 2,
       "version_minor": 0
      },
      "text/plain": [
       "Epoch 09 Val  :   0%|          | 0/10 [00:00<?, ?it/s]"
      ]
     },
     "metadata": {},
     "output_type": "display_data"
    },
    {
     "name": "stdout",
     "output_type": "stream",
     "text": [
      "Epoch: 09 | Time: 0m 3s\n",
      "\tTrain Loss: 5.191 | Val. Loss: 5.350\n",
      "\t-> 검증 손실 감소, 모델 저장 완료.\n"
     ]
    },
    {
     "data": {
      "application/vnd.jupyter.widget-view+json": {
       "model_id": "64c67999185c49f09ece054c195c5608",
       "version_major": 2,
       "version_minor": 0
      },
      "text/plain": [
       "Epoch 10 Train:   0%|          | 0/89 [00:00<?, ?it/s]"
      ]
     },
     "metadata": {},
     "output_type": "display_data"
    },
    {
     "data": {
      "application/vnd.jupyter.widget-view+json": {
       "model_id": "fcb6abdbe40d4b14aa9071c7c6e99678",
       "version_major": 2,
       "version_minor": 0
      },
      "text/plain": [
       "Epoch 10 Val  :   0%|          | 0/10 [00:00<?, ?it/s]"
      ]
     },
     "metadata": {},
     "output_type": "display_data"
    },
    {
     "name": "stdout",
     "output_type": "stream",
     "text": [
      "Epoch: 10 | Time: 0m 3s\n",
      "\tTrain Loss: 5.098 | Val. Loss: 5.289\n",
      "\t-> 검증 손실 감소, 모델 저장 완료.\n"
     ]
    },
    {
     "data": {
      "application/vnd.jupyter.widget-view+json": {
       "model_id": "8b6aadc962ee4e92b61e661201e8a399",
       "version_major": 2,
       "version_minor": 0
      },
      "text/plain": [
       "Epoch 11 Train:   0%|          | 0/89 [00:00<?, ?it/s]"
      ]
     },
     "metadata": {},
     "output_type": "display_data"
    },
    {
     "data": {
      "application/vnd.jupyter.widget-view+json": {
       "model_id": "853b54029a2a4600ab31f6f3130124d2",
       "version_major": 2,
       "version_minor": 0
      },
      "text/plain": [
       "Epoch 11 Val  :   0%|          | 0/10 [00:00<?, ?it/s]"
      ]
     },
     "metadata": {},
     "output_type": "display_data"
    },
    {
     "name": "stdout",
     "output_type": "stream",
     "text": [
      "Epoch: 11 | Time: 0m 3s\n",
      "\tTrain Loss: 5.008 | Val. Loss: 5.225\n",
      "\t-> 검증 손실 감소, 모델 저장 완료.\n"
     ]
    },
    {
     "data": {
      "application/vnd.jupyter.widget-view+json": {
       "model_id": "b5a140eb05e14d928d51dd0b9c801cf0",
       "version_major": 2,
       "version_minor": 0
      },
      "text/plain": [
       "Epoch 12 Train:   0%|          | 0/89 [00:00<?, ?it/s]"
      ]
     },
     "metadata": {},
     "output_type": "display_data"
    },
    {
     "data": {
      "application/vnd.jupyter.widget-view+json": {
       "model_id": "601084f90f2049009c59e4e972613988",
       "version_major": 2,
       "version_minor": 0
      },
      "text/plain": [
       "Epoch 12 Val  :   0%|          | 0/10 [00:00<?, ?it/s]"
      ]
     },
     "metadata": {},
     "output_type": "display_data"
    },
    {
     "name": "stdout",
     "output_type": "stream",
     "text": [
      "Epoch: 12 | Time: 0m 3s\n",
      "\tTrain Loss: 4.927 | Val. Loss: 5.172\n",
      "\t-> 검증 손실 감소, 모델 저장 완료.\n"
     ]
    },
    {
     "data": {
      "application/vnd.jupyter.widget-view+json": {
       "model_id": "b483693406b546ffaf8a1f9774a708a7",
       "version_major": 2,
       "version_minor": 0
      },
      "text/plain": [
       "Epoch 13 Train:   0%|          | 0/89 [00:00<?, ?it/s]"
      ]
     },
     "metadata": {},
     "output_type": "display_data"
    },
    {
     "data": {
      "application/vnd.jupyter.widget-view+json": {
       "model_id": "a615dd25940b4e8487c3bba736435b2b",
       "version_major": 2,
       "version_minor": 0
      },
      "text/plain": [
       "Epoch 13 Val  :   0%|          | 0/10 [00:00<?, ?it/s]"
      ]
     },
     "metadata": {},
     "output_type": "display_data"
    },
    {
     "name": "stdout",
     "output_type": "stream",
     "text": [
      "Epoch: 13 | Time: 0m 3s\n",
      "\tTrain Loss: 4.839 | Val. Loss: 5.120\n",
      "\t-> 검증 손실 감소, 모델 저장 완료.\n"
     ]
    },
    {
     "data": {
      "application/vnd.jupyter.widget-view+json": {
       "model_id": "7744e3a2a2a94dadb90a185507a7b25d",
       "version_major": 2,
       "version_minor": 0
      },
      "text/plain": [
       "Epoch 14 Train:   0%|          | 0/89 [00:00<?, ?it/s]"
      ]
     },
     "metadata": {},
     "output_type": "display_data"
    },
    {
     "data": {
      "application/vnd.jupyter.widget-view+json": {
       "model_id": "d593e738898c40fbb56aaa9b4f02ed8d",
       "version_major": 2,
       "version_minor": 0
      },
      "text/plain": [
       "Epoch 14 Val  :   0%|          | 0/10 [00:00<?, ?it/s]"
      ]
     },
     "metadata": {},
     "output_type": "display_data"
    },
    {
     "name": "stdout",
     "output_type": "stream",
     "text": [
      "Epoch: 14 | Time: 0m 3s\n",
      "\tTrain Loss: 4.752 | Val. Loss: 5.073\n",
      "\t-> 검증 손실 감소, 모델 저장 완료.\n"
     ]
    },
    {
     "data": {
      "application/vnd.jupyter.widget-view+json": {
       "model_id": "a20cae8d23b14f7e97b89a79d43bf0cd",
       "version_major": 2,
       "version_minor": 0
      },
      "text/plain": [
       "Epoch 15 Train:   0%|          | 0/89 [00:00<?, ?it/s]"
      ]
     },
     "metadata": {},
     "output_type": "display_data"
    },
    {
     "data": {
      "application/vnd.jupyter.widget-view+json": {
       "model_id": "4fafc0b974664a39ba06675ce0474afe",
       "version_major": 2,
       "version_minor": 0
      },
      "text/plain": [
       "Epoch 15 Val  :   0%|          | 0/10 [00:00<?, ?it/s]"
      ]
     },
     "metadata": {},
     "output_type": "display_data"
    },
    {
     "name": "stdout",
     "output_type": "stream",
     "text": [
      "Epoch: 15 | Time: 0m 3s\n",
      "\tTrain Loss: 4.668 | Val. Loss: 5.029\n",
      "\t-> 검증 손실 감소, 모델 저장 완료.\n"
     ]
    },
    {
     "data": {
      "application/vnd.jupyter.widget-view+json": {
       "model_id": "9d7371d3254440d29649387873356515",
       "version_major": 2,
       "version_minor": 0
      },
      "text/plain": [
       "Epoch 16 Train:   0%|          | 0/89 [00:00<?, ?it/s]"
      ]
     },
     "metadata": {},
     "output_type": "display_data"
    },
    {
     "data": {
      "application/vnd.jupyter.widget-view+json": {
       "model_id": "06a710fe1ebe4f7fba814f761619ba21",
       "version_major": 2,
       "version_minor": 0
      },
      "text/plain": [
       "Epoch 16 Val  :   0%|          | 0/10 [00:00<?, ?it/s]"
      ]
     },
     "metadata": {},
     "output_type": "display_data"
    },
    {
     "name": "stdout",
     "output_type": "stream",
     "text": [
      "Epoch: 16 | Time: 0m 3s\n",
      "\tTrain Loss: 4.592 | Val. Loss: 4.985\n",
      "\t-> 검증 손실 감소, 모델 저장 완료.\n"
     ]
    },
    {
     "data": {
      "application/vnd.jupyter.widget-view+json": {
       "model_id": "a655895cda6846099efb0a305ced719c",
       "version_major": 2,
       "version_minor": 0
      },
      "text/plain": [
       "Epoch 17 Train:   0%|          | 0/89 [00:00<?, ?it/s]"
      ]
     },
     "metadata": {},
     "output_type": "display_data"
    },
    {
     "data": {
      "application/vnd.jupyter.widget-view+json": {
       "model_id": "0e1c9238e8094003944dd1f298489505",
       "version_major": 2,
       "version_minor": 0
      },
      "text/plain": [
       "Epoch 17 Val  :   0%|          | 0/10 [00:00<?, ?it/s]"
      ]
     },
     "metadata": {},
     "output_type": "display_data"
    },
    {
     "name": "stdout",
     "output_type": "stream",
     "text": [
      "Epoch: 17 | Time: 0m 3s\n",
      "\tTrain Loss: 4.506 | Val. Loss: 4.950\n",
      "\t-> 검증 손실 감소, 모델 저장 완료.\n"
     ]
    },
    {
     "data": {
      "application/vnd.jupyter.widget-view+json": {
       "model_id": "70d5635143054ed6be4f81e11109b553",
       "version_major": 2,
       "version_minor": 0
      },
      "text/plain": [
       "Epoch 18 Train:   0%|          | 0/89 [00:00<?, ?it/s]"
      ]
     },
     "metadata": {},
     "output_type": "display_data"
    },
    {
     "data": {
      "application/vnd.jupyter.widget-view+json": {
       "model_id": "3e7d1f6662bd4a28aa25c392a17cc810",
       "version_major": 2,
       "version_minor": 0
      },
      "text/plain": [
       "Epoch 18 Val  :   0%|          | 0/10 [00:00<?, ?it/s]"
      ]
     },
     "metadata": {},
     "output_type": "display_data"
    },
    {
     "name": "stdout",
     "output_type": "stream",
     "text": [
      "Epoch: 18 | Time: 0m 3s\n",
      "\tTrain Loss: 4.430 | Val. Loss: 4.904\n",
      "\t-> 검증 손실 감소, 모델 저장 완료.\n"
     ]
    },
    {
     "data": {
      "application/vnd.jupyter.widget-view+json": {
       "model_id": "4b1984eede3f4ca3897ad9cc16f421e3",
       "version_major": 2,
       "version_minor": 0
      },
      "text/plain": [
       "Epoch 19 Train:   0%|          | 0/89 [00:00<?, ?it/s]"
      ]
     },
     "metadata": {},
     "output_type": "display_data"
    },
    {
     "data": {
      "application/vnd.jupyter.widget-view+json": {
       "model_id": "f65a1741236441e3828ac72baf62f22e",
       "version_major": 2,
       "version_minor": 0
      },
      "text/plain": [
       "Epoch 19 Val  :   0%|          | 0/10 [00:00<?, ?it/s]"
      ]
     },
     "metadata": {},
     "output_type": "display_data"
    },
    {
     "name": "stdout",
     "output_type": "stream",
     "text": [
      "Epoch: 19 | Time: 0m 3s\n",
      "\tTrain Loss: 4.353 | Val. Loss: 4.868\n",
      "\t-> 검증 손실 감소, 모델 저장 완료.\n"
     ]
    },
    {
     "data": {
      "application/vnd.jupyter.widget-view+json": {
       "model_id": "44ca8718dbb04d65aadaa697b472a233",
       "version_major": 2,
       "version_minor": 0
      },
      "text/plain": [
       "Epoch 20 Train:   0%|          | 0/89 [00:00<?, ?it/s]"
      ]
     },
     "metadata": {},
     "output_type": "display_data"
    },
    {
     "data": {
      "application/vnd.jupyter.widget-view+json": {
       "model_id": "12f4b1de3ab945a69eab8398907dc3e6",
       "version_major": 2,
       "version_minor": 0
      },
      "text/plain": [
       "Epoch 20 Val  :   0%|          | 0/10 [00:00<?, ?it/s]"
      ]
     },
     "metadata": {},
     "output_type": "display_data"
    },
    {
     "name": "stdout",
     "output_type": "stream",
     "text": [
      "Epoch: 20 | Time: 0m 3s\n",
      "\tTrain Loss: 4.279 | Val. Loss: 4.832\n",
      "\t-> 검증 손실 감소, 모델 저장 완료.\n"
     ]
    },
    {
     "data": {
      "application/vnd.jupyter.widget-view+json": {
       "model_id": "4606470463d2486888958d0aef2fb348",
       "version_major": 2,
       "version_minor": 0
      },
      "text/plain": [
       "Epoch 21 Train:   0%|          | 0/89 [00:00<?, ?it/s]"
      ]
     },
     "metadata": {},
     "output_type": "display_data"
    },
    {
     "data": {
      "application/vnd.jupyter.widget-view+json": {
       "model_id": "a3fd831e1b3e4aa289263fb83234d57d",
       "version_major": 2,
       "version_minor": 0
      },
      "text/plain": [
       "Epoch 21 Val  :   0%|          | 0/10 [00:00<?, ?it/s]"
      ]
     },
     "metadata": {},
     "output_type": "display_data"
    },
    {
     "name": "stdout",
     "output_type": "stream",
     "text": [
      "Epoch: 21 | Time: 0m 3s\n",
      "\tTrain Loss: 4.204 | Val. Loss: 4.799\n",
      "\t-> 검증 손실 감소, 모델 저장 완료.\n"
     ]
    },
    {
     "data": {
      "application/vnd.jupyter.widget-view+json": {
       "model_id": "db465482b8164072b3d11b5e7a8334a0",
       "version_major": 2,
       "version_minor": 0
      },
      "text/plain": [
       "Epoch 22 Train:   0%|          | 0/89 [00:00<?, ?it/s]"
      ]
     },
     "metadata": {},
     "output_type": "display_data"
    },
    {
     "data": {
      "application/vnd.jupyter.widget-view+json": {
       "model_id": "f7abd326d2ad46d69689f18c56741809",
       "version_major": 2,
       "version_minor": 0
      },
      "text/plain": [
       "Epoch 22 Val  :   0%|          | 0/10 [00:00<?, ?it/s]"
      ]
     },
     "metadata": {},
     "output_type": "display_data"
    },
    {
     "name": "stdout",
     "output_type": "stream",
     "text": [
      "Epoch: 22 | Time: 0m 3s\n",
      "\tTrain Loss: 4.127 | Val. Loss: 4.763\n",
      "\t-> 검증 손실 감소, 모델 저장 완료.\n"
     ]
    },
    {
     "data": {
      "application/vnd.jupyter.widget-view+json": {
       "model_id": "51766bd474f74d82b71212f0953db370",
       "version_major": 2,
       "version_minor": 0
      },
      "text/plain": [
       "Epoch 23 Train:   0%|          | 0/89 [00:00<?, ?it/s]"
      ]
     },
     "metadata": {},
     "output_type": "display_data"
    },
    {
     "data": {
      "application/vnd.jupyter.widget-view+json": {
       "model_id": "17531d1a42c04b28a47c6d4bfd6f64aa",
       "version_major": 2,
       "version_minor": 0
      },
      "text/plain": [
       "Epoch 23 Val  :   0%|          | 0/10 [00:00<?, ?it/s]"
      ]
     },
     "metadata": {},
     "output_type": "display_data"
    },
    {
     "name": "stdout",
     "output_type": "stream",
     "text": [
      "Epoch: 23 | Time: 0m 3s\n",
      "\tTrain Loss: 4.057 | Val. Loss: 4.738\n",
      "\t-> 검증 손실 감소, 모델 저장 완료.\n"
     ]
    },
    {
     "data": {
      "application/vnd.jupyter.widget-view+json": {
       "model_id": "64c6386f30fb474f9235ef1bdc2fa2ab",
       "version_major": 2,
       "version_minor": 0
      },
      "text/plain": [
       "Epoch 24 Train:   0%|          | 0/89 [00:00<?, ?it/s]"
      ]
     },
     "metadata": {},
     "output_type": "display_data"
    },
    {
     "data": {
      "application/vnd.jupyter.widget-view+json": {
       "model_id": "6233a30b59da4f5fb11c99a0c1a7dac5",
       "version_major": 2,
       "version_minor": 0
      },
      "text/plain": [
       "Epoch 24 Val  :   0%|          | 0/10 [00:00<?, ?it/s]"
      ]
     },
     "metadata": {},
     "output_type": "display_data"
    },
    {
     "name": "stdout",
     "output_type": "stream",
     "text": [
      "Epoch: 24 | Time: 0m 3s\n",
      "\tTrain Loss: 3.982 | Val. Loss: 4.700\n",
      "\t-> 검증 손실 감소, 모델 저장 완료.\n"
     ]
    },
    {
     "data": {
      "application/vnd.jupyter.widget-view+json": {
       "model_id": "f9cdf7c858c74d9fafc666ce337ad78d",
       "version_major": 2,
       "version_minor": 0
      },
      "text/plain": [
       "Epoch 25 Train:   0%|          | 0/89 [00:00<?, ?it/s]"
      ]
     },
     "metadata": {},
     "output_type": "display_data"
    },
    {
     "data": {
      "application/vnd.jupyter.widget-view+json": {
       "model_id": "99e857c58b4e4beb9bc28960e4eb76cc",
       "version_major": 2,
       "version_minor": 0
      },
      "text/plain": [
       "Epoch 25 Val  :   0%|          | 0/10 [00:00<?, ?it/s]"
      ]
     },
     "metadata": {},
     "output_type": "display_data"
    },
    {
     "name": "stdout",
     "output_type": "stream",
     "text": [
      "Epoch: 25 | Time: 0m 3s\n",
      "\tTrain Loss: 3.910 | Val. Loss: 4.673\n",
      "\t-> 검증 손실 감소, 모델 저장 완료.\n"
     ]
    },
    {
     "data": {
      "application/vnd.jupyter.widget-view+json": {
       "model_id": "001d7b5e5df04b2082731d37ffa6db80",
       "version_major": 2,
       "version_minor": 0
      },
      "text/plain": [
       "Epoch 26 Train:   0%|          | 0/89 [00:00<?, ?it/s]"
      ]
     },
     "metadata": {},
     "output_type": "display_data"
    },
    {
     "data": {
      "application/vnd.jupyter.widget-view+json": {
       "model_id": "0763b0a9aa0a453ba5679003b52a4f5c",
       "version_major": 2,
       "version_minor": 0
      },
      "text/plain": [
       "Epoch 26 Val  :   0%|          | 0/10 [00:00<?, ?it/s]"
      ]
     },
     "metadata": {},
     "output_type": "display_data"
    },
    {
     "name": "stdout",
     "output_type": "stream",
     "text": [
      "Epoch: 26 | Time: 0m 3s\n",
      "\tTrain Loss: 3.840 | Val. Loss: 4.643\n",
      "\t-> 검증 손실 감소, 모델 저장 완료.\n"
     ]
    },
    {
     "data": {
      "application/vnd.jupyter.widget-view+json": {
       "model_id": "42a4c0090ca24b62bd9c174026746cff",
       "version_major": 2,
       "version_minor": 0
      },
      "text/plain": [
       "Epoch 27 Train:   0%|          | 0/89 [00:00<?, ?it/s]"
      ]
     },
     "metadata": {},
     "output_type": "display_data"
    },
    {
     "data": {
      "application/vnd.jupyter.widget-view+json": {
       "model_id": "e771c86245724166a65dbe5aed3ab7e6",
       "version_major": 2,
       "version_minor": 0
      },
      "text/plain": [
       "Epoch 27 Val  :   0%|          | 0/10 [00:00<?, ?it/s]"
      ]
     },
     "metadata": {},
     "output_type": "display_data"
    },
    {
     "name": "stdout",
     "output_type": "stream",
     "text": [
      "Epoch: 27 | Time: 0m 3s\n",
      "\tTrain Loss: 3.771 | Val. Loss: 4.618\n",
      "\t-> 검증 손실 감소, 모델 저장 완료.\n"
     ]
    },
    {
     "data": {
      "application/vnd.jupyter.widget-view+json": {
       "model_id": "81cc78a21bfd469cb4d0be492b4aa8c9",
       "version_major": 2,
       "version_minor": 0
      },
      "text/plain": [
       "Epoch 28 Train:   0%|          | 0/89 [00:00<?, ?it/s]"
      ]
     },
     "metadata": {},
     "output_type": "display_data"
    },
    {
     "data": {
      "application/vnd.jupyter.widget-view+json": {
       "model_id": "5c82ca98ed7e42cbab695a08b6d5824c",
       "version_major": 2,
       "version_minor": 0
      },
      "text/plain": [
       "Epoch 28 Val  :   0%|          | 0/10 [00:00<?, ?it/s]"
      ]
     },
     "metadata": {},
     "output_type": "display_data"
    },
    {
     "name": "stdout",
     "output_type": "stream",
     "text": [
      "Epoch: 28 | Time: 0m 3s\n",
      "\tTrain Loss: 3.705 | Val. Loss: 4.594\n",
      "\t-> 검증 손실 감소, 모델 저장 완료.\n"
     ]
    },
    {
     "data": {
      "application/vnd.jupyter.widget-view+json": {
       "model_id": "c76693988ebe42fca88c0d96cb704f82",
       "version_major": 2,
       "version_minor": 0
      },
      "text/plain": [
       "Epoch 29 Train:   0%|          | 0/89 [00:00<?, ?it/s]"
      ]
     },
     "metadata": {},
     "output_type": "display_data"
    },
    {
     "data": {
      "application/vnd.jupyter.widget-view+json": {
       "model_id": "8753cc4e5fe144848ea137a5ad5efa7b",
       "version_major": 2,
       "version_minor": 0
      },
      "text/plain": [
       "Epoch 29 Val  :   0%|          | 0/10 [00:00<?, ?it/s]"
      ]
     },
     "metadata": {},
     "output_type": "display_data"
    },
    {
     "name": "stdout",
     "output_type": "stream",
     "text": [
      "Epoch: 29 | Time: 0m 3s\n",
      "\tTrain Loss: 3.635 | Val. Loss: 4.567\n",
      "\t-> 검증 손실 감소, 모델 저장 완료.\n"
     ]
    },
    {
     "data": {
      "application/vnd.jupyter.widget-view+json": {
       "model_id": "95ac673ee9ba4d969709382596169ae8",
       "version_major": 2,
       "version_minor": 0
      },
      "text/plain": [
       "Epoch 30 Train:   0%|          | 0/89 [00:00<?, ?it/s]"
      ]
     },
     "metadata": {},
     "output_type": "display_data"
    },
    {
     "data": {
      "application/vnd.jupyter.widget-view+json": {
       "model_id": "719f4e1de2ff476884186766fbacf242",
       "version_major": 2,
       "version_minor": 0
      },
      "text/plain": [
       "Epoch 30 Val  :   0%|          | 0/10 [00:00<?, ?it/s]"
      ]
     },
     "metadata": {},
     "output_type": "display_data"
    },
    {
     "name": "stdout",
     "output_type": "stream",
     "text": [
      "Epoch: 30 | Time: 0m 3s\n",
      "\tTrain Loss: 3.571 | Val. Loss: 4.545\n",
      "\t-> 검증 손실 감소, 모델 저장 완료.\n"
     ]
    },
    {
     "data": {
      "application/vnd.jupyter.widget-view+json": {
       "model_id": "a8528fe82c064fb68ea0fe2578fe1bf6",
       "version_major": 2,
       "version_minor": 0
      },
      "text/plain": [
       "Epoch 31 Train:   0%|          | 0/89 [00:00<?, ?it/s]"
      ]
     },
     "metadata": {},
     "output_type": "display_data"
    },
    {
     "data": {
      "application/vnd.jupyter.widget-view+json": {
       "model_id": "a892d148969447e391eb46ad94d59e84",
       "version_major": 2,
       "version_minor": 0
      },
      "text/plain": [
       "Epoch 31 Val  :   0%|          | 0/10 [00:00<?, ?it/s]"
      ]
     },
     "metadata": {},
     "output_type": "display_data"
    },
    {
     "name": "stdout",
     "output_type": "stream",
     "text": [
      "Epoch: 31 | Time: 0m 3s\n",
      "\tTrain Loss: 3.507 | Val. Loss: 4.525\n",
      "\t-> 검증 손실 감소, 모델 저장 완료.\n"
     ]
    },
    {
     "data": {
      "application/vnd.jupyter.widget-view+json": {
       "model_id": "57f90807757e4e3b98e15bc5aba436c7",
       "version_major": 2,
       "version_minor": 0
      },
      "text/plain": [
       "Epoch 32 Train:   0%|          | 0/89 [00:00<?, ?it/s]"
      ]
     },
     "metadata": {},
     "output_type": "display_data"
    },
    {
     "data": {
      "application/vnd.jupyter.widget-view+json": {
       "model_id": "83870f44d75c4f99802a5238bf19fd49",
       "version_major": 2,
       "version_minor": 0
      },
      "text/plain": [
       "Epoch 32 Val  :   0%|          | 0/10 [00:00<?, ?it/s]"
      ]
     },
     "metadata": {},
     "output_type": "display_data"
    },
    {
     "name": "stdout",
     "output_type": "stream",
     "text": [
      "Epoch: 32 | Time: 0m 3s\n",
      "\tTrain Loss: 3.437 | Val. Loss: 4.502\n",
      "\t-> 검증 손실 감소, 모델 저장 완료.\n"
     ]
    },
    {
     "data": {
      "application/vnd.jupyter.widget-view+json": {
       "model_id": "f2649e5d31bb462ba3ce18cc12331d02",
       "version_major": 2,
       "version_minor": 0
      },
      "text/plain": [
       "Epoch 33 Train:   0%|          | 0/89 [00:00<?, ?it/s]"
      ]
     },
     "metadata": {},
     "output_type": "display_data"
    },
    {
     "data": {
      "application/vnd.jupyter.widget-view+json": {
       "model_id": "35d44d71a3e743c4832d2a7556f4c65b",
       "version_major": 2,
       "version_minor": 0
      },
      "text/plain": [
       "Epoch 33 Val  :   0%|          | 0/10 [00:00<?, ?it/s]"
      ]
     },
     "metadata": {},
     "output_type": "display_data"
    },
    {
     "name": "stdout",
     "output_type": "stream",
     "text": [
      "Epoch: 33 | Time: 0m 3s\n",
      "\tTrain Loss: 3.378 | Val. Loss: 4.481\n",
      "\t-> 검증 손실 감소, 모델 저장 완료.\n"
     ]
    },
    {
     "data": {
      "application/vnd.jupyter.widget-view+json": {
       "model_id": "1e30f2f354bf4fa6af62f77e8b6dc5cb",
       "version_major": 2,
       "version_minor": 0
      },
      "text/plain": [
       "Epoch 34 Train:   0%|          | 0/89 [00:00<?, ?it/s]"
      ]
     },
     "metadata": {},
     "output_type": "display_data"
    },
    {
     "data": {
      "application/vnd.jupyter.widget-view+json": {
       "model_id": "17f49fe7c5c944aab4dd37a748f5f76c",
       "version_major": 2,
       "version_minor": 0
      },
      "text/plain": [
       "Epoch 34 Val  :   0%|          | 0/10 [00:00<?, ?it/s]"
      ]
     },
     "metadata": {},
     "output_type": "display_data"
    },
    {
     "name": "stdout",
     "output_type": "stream",
     "text": [
      "Epoch: 34 | Time: 0m 3s\n",
      "\tTrain Loss: 3.316 | Val. Loss: 4.464\n",
      "\t-> 검증 손실 감소, 모델 저장 완료.\n"
     ]
    },
    {
     "data": {
      "application/vnd.jupyter.widget-view+json": {
       "model_id": "a7f30f819c7a4d14ac7bccf72cb7726c",
       "version_major": 2,
       "version_minor": 0
      },
      "text/plain": [
       "Epoch 35 Train:   0%|          | 0/89 [00:00<?, ?it/s]"
      ]
     },
     "metadata": {},
     "output_type": "display_data"
    },
    {
     "data": {
      "application/vnd.jupyter.widget-view+json": {
       "model_id": "f82658574bc6468996af2f71cd4576e6",
       "version_major": 2,
       "version_minor": 0
      },
      "text/plain": [
       "Epoch 35 Val  :   0%|          | 0/10 [00:00<?, ?it/s]"
      ]
     },
     "metadata": {},
     "output_type": "display_data"
    },
    {
     "name": "stdout",
     "output_type": "stream",
     "text": [
      "Epoch: 35 | Time: 0m 3s\n",
      "\tTrain Loss: 3.253 | Val. Loss: 4.446\n",
      "\t-> 검증 손실 감소, 모델 저장 완료.\n"
     ]
    },
    {
     "data": {
      "application/vnd.jupyter.widget-view+json": {
       "model_id": "f246619571684997a5c2f93536ed2da8",
       "version_major": 2,
       "version_minor": 0
      },
      "text/plain": [
       "Epoch 36 Train:   0%|          | 0/89 [00:00<?, ?it/s]"
      ]
     },
     "metadata": {},
     "output_type": "display_data"
    },
    {
     "data": {
      "application/vnd.jupyter.widget-view+json": {
       "model_id": "f46f7d1ce3714c7d94e3f47c096d742b",
       "version_major": 2,
       "version_minor": 0
      },
      "text/plain": [
       "Epoch 36 Val  :   0%|          | 0/10 [00:00<?, ?it/s]"
      ]
     },
     "metadata": {},
     "output_type": "display_data"
    },
    {
     "name": "stdout",
     "output_type": "stream",
     "text": [
      "Epoch: 36 | Time: 0m 3s\n",
      "\tTrain Loss: 3.194 | Val. Loss: 4.431\n",
      "\t-> 검증 손실 감소, 모델 저장 완료.\n"
     ]
    },
    {
     "data": {
      "application/vnd.jupyter.widget-view+json": {
       "model_id": "7c03b0e15d5949dfb7057e78423d0b20",
       "version_major": 2,
       "version_minor": 0
      },
      "text/plain": [
       "Epoch 37 Train:   0%|          | 0/89 [00:00<?, ?it/s]"
      ]
     },
     "metadata": {},
     "output_type": "display_data"
    },
    {
     "data": {
      "application/vnd.jupyter.widget-view+json": {
       "model_id": "2ec7a6ce1496409ea7ec7697c1f27a6d",
       "version_major": 2,
       "version_minor": 0
      },
      "text/plain": [
       "Epoch 37 Val  :   0%|          | 0/10 [00:00<?, ?it/s]"
      ]
     },
     "metadata": {},
     "output_type": "display_data"
    },
    {
     "name": "stdout",
     "output_type": "stream",
     "text": [
      "Epoch: 37 | Time: 0m 3s\n",
      "\tTrain Loss: 3.140 | Val. Loss: 4.411\n",
      "\t-> 검증 손실 감소, 모델 저장 완료.\n"
     ]
    },
    {
     "data": {
      "application/vnd.jupyter.widget-view+json": {
       "model_id": "c8c44439aeb741dead7241b9cd2c3543",
       "version_major": 2,
       "version_minor": 0
      },
      "text/plain": [
       "Epoch 38 Train:   0%|          | 0/89 [00:00<?, ?it/s]"
      ]
     },
     "metadata": {},
     "output_type": "display_data"
    },
    {
     "data": {
      "application/vnd.jupyter.widget-view+json": {
       "model_id": "cc9cdefe160b46ac8574068fa356ff0b",
       "version_major": 2,
       "version_minor": 0
      },
      "text/plain": [
       "Epoch 38 Val  :   0%|          | 0/10 [00:00<?, ?it/s]"
      ]
     },
     "metadata": {},
     "output_type": "display_data"
    },
    {
     "name": "stdout",
     "output_type": "stream",
     "text": [
      "Epoch: 38 | Time: 0m 3s\n",
      "\tTrain Loss: 3.077 | Val. Loss: 4.399\n",
      "\t-> 검증 손실 감소, 모델 저장 완료.\n"
     ]
    },
    {
     "data": {
      "application/vnd.jupyter.widget-view+json": {
       "model_id": "047f39eb4b404cd583eb6c4e748b3140",
       "version_major": 2,
       "version_minor": 0
      },
      "text/plain": [
       "Epoch 39 Train:   0%|          | 0/89 [00:00<?, ?it/s]"
      ]
     },
     "metadata": {},
     "output_type": "display_data"
    },
    {
     "data": {
      "application/vnd.jupyter.widget-view+json": {
       "model_id": "fc6eb5fdae54441182da7bcd8be1f672",
       "version_major": 2,
       "version_minor": 0
      },
      "text/plain": [
       "Epoch 39 Val  :   0%|          | 0/10 [00:00<?, ?it/s]"
      ]
     },
     "metadata": {},
     "output_type": "display_data"
    },
    {
     "name": "stdout",
     "output_type": "stream",
     "text": [
      "Epoch: 39 | Time: 0m 3s\n",
      "\tTrain Loss: 3.018 | Val. Loss: 4.389\n",
      "\t-> 검증 손실 감소, 모델 저장 완료.\n"
     ]
    },
    {
     "data": {
      "application/vnd.jupyter.widget-view+json": {
       "model_id": "dedf594588d74eb9be0c571951bbb104",
       "version_major": 2,
       "version_minor": 0
      },
      "text/plain": [
       "Epoch 40 Train:   0%|          | 0/89 [00:00<?, ?it/s]"
      ]
     },
     "metadata": {},
     "output_type": "display_data"
    },
    {
     "data": {
      "application/vnd.jupyter.widget-view+json": {
       "model_id": "5de02ce0f9a44264b5833ef1b966763e",
       "version_major": 2,
       "version_minor": 0
      },
      "text/plain": [
       "Epoch 40 Val  :   0%|          | 0/10 [00:00<?, ?it/s]"
      ]
     },
     "metadata": {},
     "output_type": "display_data"
    },
    {
     "name": "stdout",
     "output_type": "stream",
     "text": [
      "Epoch: 40 | Time: 0m 3s\n",
      "\tTrain Loss: 2.968 | Val. Loss: 4.368\n",
      "\t-> 검증 손실 감소, 모델 저장 완료.\n"
     ]
    },
    {
     "data": {
      "application/vnd.jupyter.widget-view+json": {
       "model_id": "2cc47ea45b28489b9a9a1187dcd14500",
       "version_major": 2,
       "version_minor": 0
      },
      "text/plain": [
       "Epoch 41 Train:   0%|          | 0/89 [00:00<?, ?it/s]"
      ]
     },
     "metadata": {},
     "output_type": "display_data"
    },
    {
     "data": {
      "application/vnd.jupyter.widget-view+json": {
       "model_id": "90874a9d16cc464085928388e8ff54cf",
       "version_major": 2,
       "version_minor": 0
      },
      "text/plain": [
       "Epoch 41 Val  :   0%|          | 0/10 [00:00<?, ?it/s]"
      ]
     },
     "metadata": {},
     "output_type": "display_data"
    },
    {
     "name": "stdout",
     "output_type": "stream",
     "text": [
      "Epoch: 41 | Time: 0m 3s\n",
      "\tTrain Loss: 2.909 | Val. Loss: 4.358\n",
      "\t-> 검증 손실 감소, 모델 저장 완료.\n"
     ]
    },
    {
     "data": {
      "application/vnd.jupyter.widget-view+json": {
       "model_id": "a8c3498874244044af57235f09a544b4",
       "version_major": 2,
       "version_minor": 0
      },
      "text/plain": [
       "Epoch 42 Train:   0%|          | 0/89 [00:00<?, ?it/s]"
      ]
     },
     "metadata": {},
     "output_type": "display_data"
    },
    {
     "data": {
      "application/vnd.jupyter.widget-view+json": {
       "model_id": "12c0c3458f554fc2a941a88d925050a1",
       "version_major": 2,
       "version_minor": 0
      },
      "text/plain": [
       "Epoch 42 Val  :   0%|          | 0/10 [00:00<?, ?it/s]"
      ]
     },
     "metadata": {},
     "output_type": "display_data"
    },
    {
     "name": "stdout",
     "output_type": "stream",
     "text": [
      "Epoch: 42 | Time: 0m 3s\n",
      "\tTrain Loss: 2.855 | Val. Loss: 4.339\n",
      "\t-> 검증 손실 감소, 모델 저장 완료.\n"
     ]
    },
    {
     "data": {
      "application/vnd.jupyter.widget-view+json": {
       "model_id": "1a6141eceeda407a8cedd8463695458d",
       "version_major": 2,
       "version_minor": 0
      },
      "text/plain": [
       "Epoch 43 Train:   0%|          | 0/89 [00:00<?, ?it/s]"
      ]
     },
     "metadata": {},
     "output_type": "display_data"
    },
    {
     "data": {
      "application/vnd.jupyter.widget-view+json": {
       "model_id": "e83c64865c6f4e0c8131cd52ad31687e",
       "version_major": 2,
       "version_minor": 0
      },
      "text/plain": [
       "Epoch 43 Val  :   0%|          | 0/10 [00:00<?, ?it/s]"
      ]
     },
     "metadata": {},
     "output_type": "display_data"
    },
    {
     "name": "stdout",
     "output_type": "stream",
     "text": [
      "Epoch: 43 | Time: 0m 3s\n",
      "\tTrain Loss: 2.802 | Val. Loss: 4.332\n",
      "\t-> 검증 손실 감소, 모델 저장 완료.\n"
     ]
    },
    {
     "data": {
      "application/vnd.jupyter.widget-view+json": {
       "model_id": "4a901dbcc8b640dabcc602deac2f55c2",
       "version_major": 2,
       "version_minor": 0
      },
      "text/plain": [
       "Epoch 44 Train:   0%|          | 0/89 [00:00<?, ?it/s]"
      ]
     },
     "metadata": {},
     "output_type": "display_data"
    },
    {
     "data": {
      "application/vnd.jupyter.widget-view+json": {
       "model_id": "ac39886f3709476c9c839856448faaea",
       "version_major": 2,
       "version_minor": 0
      },
      "text/plain": [
       "Epoch 44 Val  :   0%|          | 0/10 [00:00<?, ?it/s]"
      ]
     },
     "metadata": {},
     "output_type": "display_data"
    },
    {
     "name": "stdout",
     "output_type": "stream",
     "text": [
      "Epoch: 44 | Time: 0m 3s\n",
      "\tTrain Loss: 2.751 | Val. Loss: 4.318\n",
      "\t-> 검증 손실 감소, 모델 저장 완료.\n"
     ]
    },
    {
     "data": {
      "application/vnd.jupyter.widget-view+json": {
       "model_id": "1a8f330a76124804a3badd82335d1766",
       "version_major": 2,
       "version_minor": 0
      },
      "text/plain": [
       "Epoch 45 Train:   0%|          | 0/89 [00:00<?, ?it/s]"
      ]
     },
     "metadata": {},
     "output_type": "display_data"
    },
    {
     "data": {
      "application/vnd.jupyter.widget-view+json": {
       "model_id": "c0ee9d564c9d4b07915c5ff906288525",
       "version_major": 2,
       "version_minor": 0
      },
      "text/plain": [
       "Epoch 45 Val  :   0%|          | 0/10 [00:00<?, ?it/s]"
      ]
     },
     "metadata": {},
     "output_type": "display_data"
    },
    {
     "name": "stdout",
     "output_type": "stream",
     "text": [
      "Epoch: 45 | Time: 0m 3s\n",
      "\tTrain Loss: 2.702 | Val. Loss: 4.305\n",
      "\t-> 검증 손실 감소, 모델 저장 완료.\n"
     ]
    },
    {
     "data": {
      "application/vnd.jupyter.widget-view+json": {
       "model_id": "532438aa0eb64c61b80fa0169d78316a",
       "version_major": 2,
       "version_minor": 0
      },
      "text/plain": [
       "Epoch 46 Train:   0%|          | 0/89 [00:00<?, ?it/s]"
      ]
     },
     "metadata": {},
     "output_type": "display_data"
    },
    {
     "data": {
      "application/vnd.jupyter.widget-view+json": {
       "model_id": "4b8eabcc744c408fb817d722b6628b53",
       "version_major": 2,
       "version_minor": 0
      },
      "text/plain": [
       "Epoch 46 Val  :   0%|          | 0/10 [00:00<?, ?it/s]"
      ]
     },
     "metadata": {},
     "output_type": "display_data"
    },
    {
     "name": "stdout",
     "output_type": "stream",
     "text": [
      "Epoch: 46 | Time: 0m 3s\n",
      "\tTrain Loss: 2.648 | Val. Loss: 4.295\n",
      "\t-> 검증 손실 감소, 모델 저장 완료.\n"
     ]
    },
    {
     "data": {
      "application/vnd.jupyter.widget-view+json": {
       "model_id": "ae610a876d77446b81dfcf631ea97187",
       "version_major": 2,
       "version_minor": 0
      },
      "text/plain": [
       "Epoch 47 Train:   0%|          | 0/89 [00:00<?, ?it/s]"
      ]
     },
     "metadata": {},
     "output_type": "display_data"
    },
    {
     "data": {
      "application/vnd.jupyter.widget-view+json": {
       "model_id": "bc162f8c415e46f59c66cd951ba29f0d",
       "version_major": 2,
       "version_minor": 0
      },
      "text/plain": [
       "Epoch 47 Val  :   0%|          | 0/10 [00:00<?, ?it/s]"
      ]
     },
     "metadata": {},
     "output_type": "display_data"
    },
    {
     "name": "stdout",
     "output_type": "stream",
     "text": [
      "Epoch: 47 | Time: 0m 3s\n",
      "\tTrain Loss: 2.596 | Val. Loss: 4.284\n",
      "\t-> 검증 손실 감소, 모델 저장 완료.\n"
     ]
    },
    {
     "data": {
      "application/vnd.jupyter.widget-view+json": {
       "model_id": "7a627113d8c84f8aaa608d9d86380ed4",
       "version_major": 2,
       "version_minor": 0
      },
      "text/plain": [
       "Epoch 48 Train:   0%|          | 0/89 [00:00<?, ?it/s]"
      ]
     },
     "metadata": {},
     "output_type": "display_data"
    },
    {
     "data": {
      "application/vnd.jupyter.widget-view+json": {
       "model_id": "8dfd39d1caed4bcea46e417613916ab7",
       "version_major": 2,
       "version_minor": 0
      },
      "text/plain": [
       "Epoch 48 Val  :   0%|          | 0/10 [00:00<?, ?it/s]"
      ]
     },
     "metadata": {},
     "output_type": "display_data"
    },
    {
     "name": "stdout",
     "output_type": "stream",
     "text": [
      "Epoch: 48 | Time: 0m 3s\n",
      "\tTrain Loss: 2.553 | Val. Loss: 4.276\n",
      "\t-> 검증 손실 감소, 모델 저장 완료.\n"
     ]
    },
    {
     "data": {
      "application/vnd.jupyter.widget-view+json": {
       "model_id": "a2140a2318d84de8a1382fc5a23b65a0",
       "version_major": 2,
       "version_minor": 0
      },
      "text/plain": [
       "Epoch 49 Train:   0%|          | 0/89 [00:00<?, ?it/s]"
      ]
     },
     "metadata": {},
     "output_type": "display_data"
    },
    {
     "data": {
      "application/vnd.jupyter.widget-view+json": {
       "model_id": "ad60e6a7f3ba4b05ac1313ded0981985",
       "version_major": 2,
       "version_minor": 0
      },
      "text/plain": [
       "Epoch 49 Val  :   0%|          | 0/10 [00:00<?, ?it/s]"
      ]
     },
     "metadata": {},
     "output_type": "display_data"
    },
    {
     "name": "stdout",
     "output_type": "stream",
     "text": [
      "Epoch: 49 | Time: 0m 3s\n",
      "\tTrain Loss: 2.508 | Val. Loss: 4.264\n",
      "\t-> 검증 손실 감소, 모델 저장 완료.\n"
     ]
    },
    {
     "data": {
      "application/vnd.jupyter.widget-view+json": {
       "model_id": "468d9074de254479afb130888f7b36c8",
       "version_major": 2,
       "version_minor": 0
      },
      "text/plain": [
       "Epoch 50 Train:   0%|          | 0/89 [00:00<?, ?it/s]"
      ]
     },
     "metadata": {},
     "output_type": "display_data"
    },
    {
     "data": {
      "application/vnd.jupyter.widget-view+json": {
       "model_id": "8fc8ba7a45564de29abc174e8b6a97d5",
       "version_major": 2,
       "version_minor": 0
      },
      "text/plain": [
       "Epoch 50 Val  :   0%|          | 0/10 [00:00<?, ?it/s]"
      ]
     },
     "metadata": {},
     "output_type": "display_data"
    },
    {
     "name": "stdout",
     "output_type": "stream",
     "text": [
      "Epoch: 50 | Time: 0m 3s\n",
      "\tTrain Loss: 2.459 | Val. Loss: 4.254\n",
      "\t-> 검증 손실 감소, 모델 저장 완료.\n"
     ]
    },
    {
     "data": {
      "application/vnd.jupyter.widget-view+json": {
       "model_id": "10e0b8ee84b84e3c8312dcb8d145b1bc",
       "version_major": 2,
       "version_minor": 0
      },
      "text/plain": [
       "Epoch 51 Train:   0%|          | 0/89 [00:00<?, ?it/s]"
      ]
     },
     "metadata": {},
     "output_type": "display_data"
    },
    {
     "data": {
      "application/vnd.jupyter.widget-view+json": {
       "model_id": "2fb2938d0b7744f696374ed8eb356998",
       "version_major": 2,
       "version_minor": 0
      },
      "text/plain": [
       "Epoch 51 Val  :   0%|          | 0/10 [00:00<?, ?it/s]"
      ]
     },
     "metadata": {},
     "output_type": "display_data"
    },
    {
     "name": "stdout",
     "output_type": "stream",
     "text": [
      "Epoch: 51 | Time: 0m 3s\n",
      "\tTrain Loss: 2.414 | Val. Loss: 4.249\n",
      "\t-> 검증 손실 감소, 모델 저장 완료.\n"
     ]
    },
    {
     "data": {
      "application/vnd.jupyter.widget-view+json": {
       "model_id": "62b467b35771485199e9fe06df311be2",
       "version_major": 2,
       "version_minor": 0
      },
      "text/plain": [
       "Epoch 52 Train:   0%|          | 0/89 [00:00<?, ?it/s]"
      ]
     },
     "metadata": {},
     "output_type": "display_data"
    },
    {
     "data": {
      "application/vnd.jupyter.widget-view+json": {
       "model_id": "60c497b19cab4e14a4e4bfca55456c25",
       "version_major": 2,
       "version_minor": 0
      },
      "text/plain": [
       "Epoch 52 Val  :   0%|          | 0/10 [00:00<?, ?it/s]"
      ]
     },
     "metadata": {},
     "output_type": "display_data"
    },
    {
     "name": "stdout",
     "output_type": "stream",
     "text": [
      "Epoch: 52 | Time: 0m 3s\n",
      "\tTrain Loss: 2.366 | Val. Loss: 4.238\n",
      "\t-> 검증 손실 감소, 모델 저장 완료.\n"
     ]
    },
    {
     "data": {
      "application/vnd.jupyter.widget-view+json": {
       "model_id": "4bec067e84584d6ca1dc9b641ddac56c",
       "version_major": 2,
       "version_minor": 0
      },
      "text/plain": [
       "Epoch 53 Train:   0%|          | 0/89 [00:00<?, ?it/s]"
      ]
     },
     "metadata": {},
     "output_type": "display_data"
    },
    {
     "data": {
      "application/vnd.jupyter.widget-view+json": {
       "model_id": "4cda2dee72c7488bb7ecb0c06e7fdb64",
       "version_major": 2,
       "version_minor": 0
      },
      "text/plain": [
       "Epoch 53 Val  :   0%|          | 0/10 [00:00<?, ?it/s]"
      ]
     },
     "metadata": {},
     "output_type": "display_data"
    },
    {
     "name": "stdout",
     "output_type": "stream",
     "text": [
      "Epoch: 53 | Time: 0m 3s\n",
      "\tTrain Loss: 2.323 | Val. Loss: 4.235\n",
      "\t-> 검증 손실 감소, 모델 저장 완료.\n"
     ]
    },
    {
     "data": {
      "application/vnd.jupyter.widget-view+json": {
       "model_id": "54c94547849c4c03830857e188db44be",
       "version_major": 2,
       "version_minor": 0
      },
      "text/plain": [
       "Epoch 54 Train:   0%|          | 0/89 [00:00<?, ?it/s]"
      ]
     },
     "metadata": {},
     "output_type": "display_data"
    },
    {
     "data": {
      "application/vnd.jupyter.widget-view+json": {
       "model_id": "fcd50ff2c9a043b88920480fafd6e042",
       "version_major": 2,
       "version_minor": 0
      },
      "text/plain": [
       "Epoch 54 Val  :   0%|          | 0/10 [00:00<?, ?it/s]"
      ]
     },
     "metadata": {},
     "output_type": "display_data"
    },
    {
     "name": "stdout",
     "output_type": "stream",
     "text": [
      "Epoch: 54 | Time: 0m 3s\n",
      "\tTrain Loss: 2.284 | Val. Loss: 4.228\n",
      "\t-> 검증 손실 감소, 모델 저장 완료.\n"
     ]
    },
    {
     "data": {
      "application/vnd.jupyter.widget-view+json": {
       "model_id": "09ae6d6f6e4345fa835cdb260ca6ac63",
       "version_major": 2,
       "version_minor": 0
      },
      "text/plain": [
       "Epoch 55 Train:   0%|          | 0/89 [00:00<?, ?it/s]"
      ]
     },
     "metadata": {},
     "output_type": "display_data"
    },
    {
     "data": {
      "application/vnd.jupyter.widget-view+json": {
       "model_id": "a22bc29d2e404eb089a3e0298aadc92b",
       "version_major": 2,
       "version_minor": 0
      },
      "text/plain": [
       "Epoch 55 Val  :   0%|          | 0/10 [00:00<?, ?it/s]"
      ]
     },
     "metadata": {},
     "output_type": "display_data"
    },
    {
     "name": "stdout",
     "output_type": "stream",
     "text": [
      "Epoch: 55 | Time: 0m 3s\n",
      "\tTrain Loss: 2.242 | Val. Loss: 4.222\n",
      "\t-> 검증 손실 감소, 모델 저장 완료.\n"
     ]
    },
    {
     "data": {
      "application/vnd.jupyter.widget-view+json": {
       "model_id": "e958a981691d40948d6f5ed92428a03b",
       "version_major": 2,
       "version_minor": 0
      },
      "text/plain": [
       "Epoch 56 Train:   0%|          | 0/89 [00:00<?, ?it/s]"
      ]
     },
     "metadata": {},
     "output_type": "display_data"
    },
    {
     "data": {
      "application/vnd.jupyter.widget-view+json": {
       "model_id": "e554de2ac008473091cd15573d28c5e8",
       "version_major": 2,
       "version_minor": 0
      },
      "text/plain": [
       "Epoch 56 Val  :   0%|          | 0/10 [00:00<?, ?it/s]"
      ]
     },
     "metadata": {},
     "output_type": "display_data"
    },
    {
     "name": "stdout",
     "output_type": "stream",
     "text": [
      "Epoch: 56 | Time: 0m 3s\n",
      "\tTrain Loss: 2.195 | Val. Loss: 4.214\n",
      "\t-> 검증 손실 감소, 모델 저장 완료.\n"
     ]
    },
    {
     "data": {
      "application/vnd.jupyter.widget-view+json": {
       "model_id": "62849e8360ee4326b92eae96a634f61d",
       "version_major": 2,
       "version_minor": 0
      },
      "text/plain": [
       "Epoch 57 Train:   0%|          | 0/89 [00:00<?, ?it/s]"
      ]
     },
     "metadata": {},
     "output_type": "display_data"
    },
    {
     "data": {
      "application/vnd.jupyter.widget-view+json": {
       "model_id": "a70e42ccef1c41d48cec3afa6c62c1cf",
       "version_major": 2,
       "version_minor": 0
      },
      "text/plain": [
       "Epoch 57 Val  :   0%|          | 0/10 [00:00<?, ?it/s]"
      ]
     },
     "metadata": {},
     "output_type": "display_data"
    },
    {
     "name": "stdout",
     "output_type": "stream",
     "text": [
      "Epoch: 57 | Time: 0m 3s\n",
      "\tTrain Loss: 2.157 | Val. Loss: 4.211\n",
      "\t-> 검증 손실 감소, 모델 저장 완료.\n"
     ]
    },
    {
     "data": {
      "application/vnd.jupyter.widget-view+json": {
       "model_id": "8810eb35535e4f91b8c542d13b507dfd",
       "version_major": 2,
       "version_minor": 0
      },
      "text/plain": [
       "Epoch 58 Train:   0%|          | 0/89 [00:00<?, ?it/s]"
      ]
     },
     "metadata": {},
     "output_type": "display_data"
    },
    {
     "data": {
      "application/vnd.jupyter.widget-view+json": {
       "model_id": "a2e961d7c4b64ca1ab105aaf9e64fd1c",
       "version_major": 2,
       "version_minor": 0
      },
      "text/plain": [
       "Epoch 58 Val  :   0%|          | 0/10 [00:00<?, ?it/s]"
      ]
     },
     "metadata": {},
     "output_type": "display_data"
    },
    {
     "name": "stdout",
     "output_type": "stream",
     "text": [
      "Epoch: 58 | Time: 0m 3s\n",
      "\tTrain Loss: 2.118 | Val. Loss: 4.210\n",
      "\t-> 검증 손실 감소, 모델 저장 완료.\n"
     ]
    },
    {
     "data": {
      "application/vnd.jupyter.widget-view+json": {
       "model_id": "538b4aa71b464dd1843d79ced30cd4c3",
       "version_major": 2,
       "version_minor": 0
      },
      "text/plain": [
       "Epoch 59 Train:   0%|          | 0/89 [00:00<?, ?it/s]"
      ]
     },
     "metadata": {},
     "output_type": "display_data"
    },
    {
     "data": {
      "application/vnd.jupyter.widget-view+json": {
       "model_id": "b444c7812bfe49d2a6f788a066dd5f8d",
       "version_major": 2,
       "version_minor": 0
      },
      "text/plain": [
       "Epoch 59 Val  :   0%|          | 0/10 [00:00<?, ?it/s]"
      ]
     },
     "metadata": {},
     "output_type": "display_data"
    },
    {
     "name": "stdout",
     "output_type": "stream",
     "text": [
      "Epoch: 59 | Time: 0m 3s\n",
      "\tTrain Loss: 2.084 | Val. Loss: 4.202\n",
      "\t-> 검증 손실 감소, 모델 저장 완료.\n"
     ]
    },
    {
     "data": {
      "application/vnd.jupyter.widget-view+json": {
       "model_id": "fddb5ba9ddc042888cd290fff4fdc360",
       "version_major": 2,
       "version_minor": 0
      },
      "text/plain": [
       "Epoch 60 Train:   0%|          | 0/89 [00:00<?, ?it/s]"
      ]
     },
     "metadata": {},
     "output_type": "display_data"
    },
    {
     "data": {
      "application/vnd.jupyter.widget-view+json": {
       "model_id": "b9ef023c524d46998e6f714bcc937703",
       "version_major": 2,
       "version_minor": 0
      },
      "text/plain": [
       "Epoch 60 Val  :   0%|          | 0/10 [00:00<?, ?it/s]"
      ]
     },
     "metadata": {},
     "output_type": "display_data"
    },
    {
     "name": "stdout",
     "output_type": "stream",
     "text": [
      "Epoch: 60 | Time: 0m 3s\n",
      "\tTrain Loss: 2.035 | Val. Loss: 4.199\n",
      "\t-> 검증 손실 감소, 모델 저장 완료.\n"
     ]
    },
    {
     "data": {
      "application/vnd.jupyter.widget-view+json": {
       "model_id": "da0c64ea9c53413ab2d586289abf8649",
       "version_major": 2,
       "version_minor": 0
      },
      "text/plain": [
       "Epoch 61 Train:   0%|          | 0/89 [00:00<?, ?it/s]"
      ]
     },
     "metadata": {},
     "output_type": "display_data"
    },
    {
     "data": {
      "application/vnd.jupyter.widget-view+json": {
       "model_id": "8a451593c76d44428d353c4532aabf18",
       "version_major": 2,
       "version_minor": 0
      },
      "text/plain": [
       "Epoch 61 Val  :   0%|          | 0/10 [00:00<?, ?it/s]"
      ]
     },
     "metadata": {},
     "output_type": "display_data"
    },
    {
     "name": "stdout",
     "output_type": "stream",
     "text": [
      "Epoch: 61 | Time: 0m 3s\n",
      "\tTrain Loss: 2.003 | Val. Loss: 4.196\n",
      "\t-> 검증 손실 감소, 모델 저장 완료.\n"
     ]
    },
    {
     "data": {
      "application/vnd.jupyter.widget-view+json": {
       "model_id": "ee982104b550485eb5fb2c08fe474210",
       "version_major": 2,
       "version_minor": 0
      },
      "text/plain": [
       "Epoch 62 Train:   0%|          | 0/89 [00:00<?, ?it/s]"
      ]
     },
     "metadata": {},
     "output_type": "display_data"
    },
    {
     "data": {
      "application/vnd.jupyter.widget-view+json": {
       "model_id": "82d6fa16f81141908d91b6f5378220cf",
       "version_major": 2,
       "version_minor": 0
      },
      "text/plain": [
       "Epoch 62 Val  :   0%|          | 0/10 [00:00<?, ?it/s]"
      ]
     },
     "metadata": {},
     "output_type": "display_data"
    },
    {
     "name": "stdout",
     "output_type": "stream",
     "text": [
      "Epoch: 62 | Time: 0m 3s\n",
      "\tTrain Loss: 1.963 | Val. Loss: 4.191\n",
      "\t-> 검증 손실 감소, 모델 저장 완료.\n"
     ]
    },
    {
     "data": {
      "application/vnd.jupyter.widget-view+json": {
       "model_id": "8bf0a3061d2640998a5bc9dc2591e8af",
       "version_major": 2,
       "version_minor": 0
      },
      "text/plain": [
       "Epoch 63 Train:   0%|          | 0/89 [00:00<?, ?it/s]"
      ]
     },
     "metadata": {},
     "output_type": "display_data"
    },
    {
     "data": {
      "application/vnd.jupyter.widget-view+json": {
       "model_id": "7f870c01d91f4c5498ab6f22f528bd1d",
       "version_major": 2,
       "version_minor": 0
      },
      "text/plain": [
       "Epoch 63 Val  :   0%|          | 0/10 [00:00<?, ?it/s]"
      ]
     },
     "metadata": {},
     "output_type": "display_data"
    },
    {
     "name": "stdout",
     "output_type": "stream",
     "text": [
      "Epoch: 63 | Time: 0m 3s\n",
      "\tTrain Loss: 1.926 | Val. Loss: 4.194\n",
      "\t-> 검증 손실 증가. (1/2)\n"
     ]
    },
    {
     "data": {
      "application/vnd.jupyter.widget-view+json": {
       "model_id": "314d05d4d47549f99d8158935aa5af90",
       "version_major": 2,
       "version_minor": 0
      },
      "text/plain": [
       "Epoch 64 Train:   0%|          | 0/89 [00:00<?, ?it/s]"
      ]
     },
     "metadata": {},
     "output_type": "display_data"
    },
    {
     "data": {
      "application/vnd.jupyter.widget-view+json": {
       "model_id": "42eb48a61c3b4b66abe160b26da33347",
       "version_major": 2,
       "version_minor": 0
      },
      "text/plain": [
       "Epoch 64 Val  :   0%|          | 0/10 [00:00<?, ?it/s]"
      ]
     },
     "metadata": {},
     "output_type": "display_data"
    },
    {
     "name": "stdout",
     "output_type": "stream",
     "text": [
      "Epoch: 64 | Time: 0m 3s\n",
      "\tTrain Loss: 1.893 | Val. Loss: 4.182\n",
      "\t-> 검증 손실 감소, 모델 저장 완료.\n"
     ]
    },
    {
     "data": {
      "application/vnd.jupyter.widget-view+json": {
       "model_id": "9734095b743841faa435674e849d6d08",
       "version_major": 2,
       "version_minor": 0
      },
      "text/plain": [
       "Epoch 65 Train:   0%|          | 0/89 [00:00<?, ?it/s]"
      ]
     },
     "metadata": {},
     "output_type": "display_data"
    },
    {
     "data": {
      "application/vnd.jupyter.widget-view+json": {
       "model_id": "82170e8abf4b48f78be16b26c8fd2ade",
       "version_major": 2,
       "version_minor": 0
      },
      "text/plain": [
       "Epoch 65 Val  :   0%|          | 0/10 [00:00<?, ?it/s]"
      ]
     },
     "metadata": {},
     "output_type": "display_data"
    },
    {
     "name": "stdout",
     "output_type": "stream",
     "text": [
      "Epoch: 65 | Time: 0m 3s\n",
      "\tTrain Loss: 1.850 | Val. Loss: 4.184\n",
      "\t-> 검증 손실 증가. (1/2)\n"
     ]
    },
    {
     "data": {
      "application/vnd.jupyter.widget-view+json": {
       "model_id": "fc076c4c2f24488482f7d1155fe9c887",
       "version_major": 2,
       "version_minor": 0
      },
      "text/plain": [
       "Epoch 66 Train:   0%|          | 0/89 [00:00<?, ?it/s]"
      ]
     },
     "metadata": {},
     "output_type": "display_data"
    },
    {
     "data": {
      "application/vnd.jupyter.widget-view+json": {
       "model_id": "b3a4e02ceadb4e09bd6524bbae964f8d",
       "version_major": 2,
       "version_minor": 0
      },
      "text/plain": [
       "Epoch 66 Val  :   0%|          | 0/10 [00:00<?, ?it/s]"
      ]
     },
     "metadata": {},
     "output_type": "display_data"
    },
    {
     "name": "stdout",
     "output_type": "stream",
     "text": [
      "Epoch: 66 | Time: 0m 3s\n",
      "\tTrain Loss: 1.826 | Val. Loss: 4.177\n",
      "\t-> 검증 손실 감소, 모델 저장 완료.\n"
     ]
    },
    {
     "data": {
      "application/vnd.jupyter.widget-view+json": {
       "model_id": "ebb232c088214e99870b925ba4a9ab70",
       "version_major": 2,
       "version_minor": 0
      },
      "text/plain": [
       "Epoch 67 Train:   0%|          | 0/89 [00:00<?, ?it/s]"
      ]
     },
     "metadata": {},
     "output_type": "display_data"
    },
    {
     "data": {
      "application/vnd.jupyter.widget-view+json": {
       "model_id": "7d61b294504544ba8f6bddf3ccc33d77",
       "version_major": 2,
       "version_minor": 0
      },
      "text/plain": [
       "Epoch 67 Val  :   0%|          | 0/10 [00:00<?, ?it/s]"
      ]
     },
     "metadata": {},
     "output_type": "display_data"
    },
    {
     "name": "stdout",
     "output_type": "stream",
     "text": [
      "Epoch: 67 | Time: 0m 3s\n",
      "\tTrain Loss: 1.785 | Val. Loss: 4.175\n",
      "\t-> 검증 손실 감소, 모델 저장 완료.\n"
     ]
    },
    {
     "data": {
      "application/vnd.jupyter.widget-view+json": {
       "model_id": "6043e7dcd2684f8e89f070f935de9323",
       "version_major": 2,
       "version_minor": 0
      },
      "text/plain": [
       "Epoch 68 Train:   0%|          | 0/89 [00:00<?, ?it/s]"
      ]
     },
     "metadata": {},
     "output_type": "display_data"
    },
    {
     "data": {
      "application/vnd.jupyter.widget-view+json": {
       "model_id": "953fd66ffea44fa0a788e28dadf1a99c",
       "version_major": 2,
       "version_minor": 0
      },
      "text/plain": [
       "Epoch 68 Val  :   0%|          | 0/10 [00:00<?, ?it/s]"
      ]
     },
     "metadata": {},
     "output_type": "display_data"
    },
    {
     "name": "stdout",
     "output_type": "stream",
     "text": [
      "Epoch: 68 | Time: 0m 3s\n",
      "\tTrain Loss: 1.756 | Val. Loss: 4.173\n",
      "\t-> 검증 손실 감소, 모델 저장 완료.\n"
     ]
    },
    {
     "data": {
      "application/vnd.jupyter.widget-view+json": {
       "model_id": "928415e0df9d4e778e3bdbeae8656487",
       "version_major": 2,
       "version_minor": 0
      },
      "text/plain": [
       "Epoch 69 Train:   0%|          | 0/89 [00:00<?, ?it/s]"
      ]
     },
     "metadata": {},
     "output_type": "display_data"
    },
    {
     "data": {
      "application/vnd.jupyter.widget-view+json": {
       "model_id": "8caca80cb6b240598a993dce644ec116",
       "version_major": 2,
       "version_minor": 0
      },
      "text/plain": [
       "Epoch 69 Val  :   0%|          | 0/10 [00:00<?, ?it/s]"
      ]
     },
     "metadata": {},
     "output_type": "display_data"
    },
    {
     "name": "stdout",
     "output_type": "stream",
     "text": [
      "Epoch: 69 | Time: 0m 3s\n",
      "\tTrain Loss: 1.728 | Val. Loss: 4.170\n",
      "\t-> 검증 손실 감소, 모델 저장 완료.\n"
     ]
    },
    {
     "data": {
      "application/vnd.jupyter.widget-view+json": {
       "model_id": "fe0ab77b70384f61bf0f22fa1bfbc1b1",
       "version_major": 2,
       "version_minor": 0
      },
      "text/plain": [
       "Epoch 70 Train:   0%|          | 0/89 [00:00<?, ?it/s]"
      ]
     },
     "metadata": {},
     "output_type": "display_data"
    },
    {
     "data": {
      "application/vnd.jupyter.widget-view+json": {
       "model_id": "bbf35dbd4ed94138938fe507fd15f58c",
       "version_major": 2,
       "version_minor": 0
      },
      "text/plain": [
       "Epoch 70 Val  :   0%|          | 0/10 [00:00<?, ?it/s]"
      ]
     },
     "metadata": {},
     "output_type": "display_data"
    },
    {
     "name": "stdout",
     "output_type": "stream",
     "text": [
      "Epoch: 70 | Time: 0m 3s\n",
      "\tTrain Loss: 1.691 | Val. Loss: 4.163\n",
      "\t-> 검증 손실 감소, 모델 저장 완료.\n"
     ]
    },
    {
     "data": {
      "application/vnd.jupyter.widget-view+json": {
       "model_id": "6f3c2c7b19e04e6b9b86f57ddba9d2ab",
       "version_major": 2,
       "version_minor": 0
      },
      "text/plain": [
       "Epoch 71 Train:   0%|          | 0/89 [00:00<?, ?it/s]"
      ]
     },
     "metadata": {},
     "output_type": "display_data"
    },
    {
     "data": {
      "application/vnd.jupyter.widget-view+json": {
       "model_id": "a84d02863e0b4745905e81339b30aff4",
       "version_major": 2,
       "version_minor": 0
      },
      "text/plain": [
       "Epoch 71 Val  :   0%|          | 0/10 [00:00<?, ?it/s]"
      ]
     },
     "metadata": {},
     "output_type": "display_data"
    },
    {
     "name": "stdout",
     "output_type": "stream",
     "text": [
      "Epoch: 71 | Time: 0m 3s\n",
      "\tTrain Loss: 1.661 | Val. Loss: 4.172\n",
      "\t-> 검증 손실 증가. (1/2)\n"
     ]
    },
    {
     "data": {
      "application/vnd.jupyter.widget-view+json": {
       "model_id": "eb0d233865b74a409e2c26002f4bf994",
       "version_major": 2,
       "version_minor": 0
      },
      "text/plain": [
       "Epoch 72 Train:   0%|          | 0/89 [00:00<?, ?it/s]"
      ]
     },
     "metadata": {},
     "output_type": "display_data"
    },
    {
     "data": {
      "application/vnd.jupyter.widget-view+json": {
       "model_id": "29ab2106c6674c1e95cfbc0de46f1cc2",
       "version_major": 2,
       "version_minor": 0
      },
      "text/plain": [
       "Epoch 72 Val  :   0%|          | 0/10 [00:00<?, ?it/s]"
      ]
     },
     "metadata": {},
     "output_type": "display_data"
    },
    {
     "name": "stdout",
     "output_type": "stream",
     "text": [
      "Epoch: 72 | Time: 0m 3s\n",
      "\tTrain Loss: 1.631 | Val. Loss: 4.165\n",
      "\t-> 검증 손실 증가. (2/2)\n",
      "Early stopping. 훈련을 중단합니다.\n",
      "\n",
      "훈련 종료.\n",
      "------------------------------\n"
     ]
    }
   ],
   "source": [
    "print(\"\\n6. 훈련 시작\")\n",
    "best_val_loss = float('inf')\n",
    "early_stop_counter = 0\n",
    "patience = 2\n",
    "model_save_path = 'best_transformer_chatbot_sp_layer2.pt'\n",
    "train_losses, val_losses = [], []\n",
    "\n",
    "for epoch in range(1, EPOCHS + 1):\n",
    "    start_time = time.time()\n",
    "    train_loss = train_epoch(model, train_dataloader, optimizer, criterion, DEVICE, epoch)\n",
    "    val_loss = evaluate(model, val_dataloader, criterion, DEVICE, epoch)\n",
    "    end_time = time.time()\n",
    "    epoch_mins, epoch_secs = divmod(end_time - start_time, 60)\n",
    "    train_losses.append(train_loss)\n",
    "    val_losses.append(val_loss)\n",
    "\n",
    "    print(f'Epoch: {epoch:02} | Time: {int(epoch_mins)}m {int(epoch_secs)}s')\n",
    "    print(f'\\tTrain Loss: {train_loss:.3f} | Val. Loss: {val_loss:.3f}')\n",
    "\n",
    "    if val_loss < best_val_loss:\n",
    "        best_val_loss = val_loss\n",
    "        torch.save(model.state_dict(), model_save_path)\n",
    "        early_stop_counter = 0\n",
    "        print(\"\\t-> 검증 손실 감소, 모델 저장 완료.\")\n",
    "    else:\n",
    "        early_stop_counter += 1\n",
    "        print(f\"\\t-> 검증 손실 증가. ({early_stop_counter}/{patience})\")\n",
    "    if early_stop_counter >= patience:\n",
    "        print(\"Early stopping. 훈련을 중단합니다.\")\n",
    "        break\n",
    "\n",
    "print(\"\\n훈련 종료.\")\n",
    "print(\"-\" * 30)"
   ]
  },
  {
   "cell_type": "markdown",
   "id": "093628de-e5a8-488e-8a3d-2a00c32e6605",
   "metadata": {},
   "source": [
    "##### 훈련 손실 시각화"
   ]
  },
  {
   "cell_type": "code",
   "execution_count": 37,
   "id": "83ca8b6f-5a3b-41d9-a596-78f0b04f9c46",
   "metadata": {},
   "outputs": [
    {
     "name": "stdout",
     "output_type": "stream",
     "text": [
      "\n",
      "7. 훈련/검증 손실 시각화\n",
      "손실 그래프를 'loss_curve_sp.png' 파일로 저장했습니다.\n"
     ]
    },
    {
     "data": {
      "image/png": "[encoded data removed]",
      "text/plain": [
       "<Figure size 1000x600 with 1 Axes>"
      ]
     },
     "metadata": {},
     "output_type": "display_data"
    },
    {
     "name": "stdout",
     "output_type": "stream",
     "text": [
      "------------------------------\n"
     ]
    }
   ],
   "source": [
    "print(\"\\n7. 훈련/검증 손실 시각화\")\n",
    "plt.figure(figsize=(10, 6))\n",
    "plt.plot(train_losses, label='Train Loss')\n",
    "plt.plot(val_losses, label='Validation Loss')\n",
    "plt.title('Epoch별 훈련 및 검증 손실')\n",
    "plt.xlabel('Epoch')\n",
    "plt.ylabel('Loss')\n",
    "plt.legend(); plt.grid(True)\n",
    "plt.savefig('loss_curve_sp.png')\n",
    "print(\"손실 그래프를 'loss_curve_sp.png' 파일로 저장했습니다.\")\n",
    "plt.show()\n",
    "print(\"-\" * 30)"
   ]
  },
  {
   "cell_type": "markdown",
   "id": "08a77cd3-994f-4bfa-be5a-e9a5107afd13",
   "metadata": {},
   "source": [
    "##### 추론 및 어텐션 시각화 함수 정의"
   ]
  },
  {
   "cell_type": "code",
   "execution_count": 38,
   "id": "3e1f7823-1410-41b6-b755-1c7c651ead33",
   "metadata": {},
   "outputs": [
    {
     "name": "stdout",
     "output_type": "stream",
     "text": [
      "\n",
      "8. 최적 모델 로드 및 추론/시각화 함수 정의\n",
      "함수 정의 완료.\n"
     ]
    }
   ],
   "source": [
    "print(\"\\n8. 최적 모델 로드 및 추론/시각화 함수 정의\")\n",
    "model.load_state_dict(torch.load(model_save_path, map_location=DEVICE))\n",
    "\n",
    "def translate_and_get_attention(model, sentence, tokenizer, device):\n",
    "    model.eval()\n",
    "    src_tensor = text_transform(sentence, tokenizer).unsqueeze(0).to(device)\n",
    "    src_padding_mask = (src_tensor == PAD_IDX)\n",
    "\n",
    "    with torch.no_grad():\n",
    "        memory = model.transformer_encoder(model.pos_encoder(model.embedding(src_tensor) * math.sqrt(D_MODEL)), \n",
    "                                           src_key_padding_mask=src_padding_mask)\n",
    "\n",
    "    ys = torch.ones(1, 1).fill_(SOS_IDX).type(torch.long).to(device)\n",
    "    attentions = []\n",
    "\n",
    "    for i in range(MAX_LEN - 1):\n",
    "        tgt_padding_mask = (ys == PAD_IDX)\n",
    "        tgt_mask = model.generate_square_subsequent_mask(ys.size(1), device)\n",
    "        tgt_emb = model.pos_encoder(model.embedding(ys) * math.sqrt(D_MODEL))\n",
    "\n",
    "        output = tgt_emb\n",
    "        temp_attention = None\n",
    "        for layer in model.transformer_decoder.layers:\n",
    "            output, temp_attention = layer(output, memory, tgt_mask=tgt_mask, \n",
    "                                           tgt_key_padding_mask=tgt_padding_mask,\n",
    "                                           memory_key_padding_mask=src_padding_mask)\n",
    "\n",
    "        attentions.append(temp_attention[0, :, -1, :])\n",
    "        \n",
    "        prob = model.fc_out(output[:, -1])\n",
    "        _, next_word = torch.max(prob, dim=1)\n",
    "        next_word = next_word.item()\n",
    "\n",
    "        ys = torch.cat([ys, torch.ones(1, 1).type_as(src_tensor.data).fill_(next_word)], dim=1)\n",
    "        if next_word == EOS_IDX: break\n",
    "            \n",
    "    generated_text = tokenizer.decode(ys.squeeze(0).tolist())\n",
    "    attentions = torch.stack(attentions, dim=1)\n",
    "    \n",
    "    return generated_text, attentions\n",
    "\n",
    "def display_attention(sentence, translation, attention_heads, tokenizer):\n",
    "    sentence_tokens = ['<sos>'] + tokenizer.encode_as_pieces(sentence) + ['<eos>']\n",
    "    translation_pieces = tokenizer.encode_as_pieces(translation)\n",
    "    translation_tokens = ['<sos>'] + translation_pieces + ['<eos>']\n",
    "\n",
    "    attention = attention_heads[:, :len(translation_tokens), :len(sentence_tokens)].cpu().detach().numpy()\n",
    "    \n",
    "    fig = plt.figure(figsize=(16, 8))\n",
    "    for i in range(N_HEAD):\n",
    "        ax = fig.add_subplot(2, 4, i + 1)\n",
    "        ax.matshow(attention[i], cmap='viridis')\n",
    "        ax.set_xticks(range(len(sentence_tokens)))\n",
    "        ax.set_yticks(range(len(translation_tokens)))\n",
    "        ax.set_xticklabels(sentence_tokens, rotation=90, fontsize=8)\n",
    "        ax.set_yticklabels(translation_tokens, fontsize=8)\n",
    "        ax.set_xlabel('Source (Question)'); ax.set_ylabel('Target (Answer)')\n",
    "        ax.set_title(f'Head {i+1}')\n",
    "        \n",
    "    plt.tight_layout(pad=3.0)\n",
    "    plt.savefig('attention_map_sp.png')\n",
    "    print(\"실제 어텐션 맵을 'attention_map_sp.png' 파일로 저장했습니다.\")\n",
    "    plt.show()\n",
    "\n",
    "print(\"함수 정의 완료.\")"
   ]
  },
  {
   "cell_type": "markdown",
   "id": "5d461428-f5bf-4c0d-a860-4754d8b2115f",
   "metadata": {},
   "source": [
    "##### 샘플 추론 및 어텐션 맵 시각화"
   ]
  },
  {
   "cell_type": "code",
   "execution_count": 40,
   "id": "50eddb55-12a9-45ef-b484-914c7edc9ca3",
   "metadata": {},
   "outputs": [
    {
     "name": "stdout",
     "output_type": "stream",
     "text": [
      "\n",
      "테스트 데이터 예측 결과 샘플:\n",
      "Q: 사랑이란 뭘까?\n",
      "실제 A: 사랑에는 답이 없어요.\n",
      "예측 A: 사랑은 헷갈리게 하는건 좋지 않아요.\n",
      "\n",
      "Q: 친구가 나 귀엽대\n",
      "실제 A: 친구가 보는 눈이 있네요.\n",
      "예측 A: 친구를 사귈 수 있을 거예요.\n",
      "\n",
      "Q: 끝이네\n",
      "실제 A: 수고했어요.\n",
      "예측 A: 또 다르 사랑이 찾아올 거예요.\n",
      "\n",
      "Q: 그녀는 무슨 생각일까?ㅠ\n",
      "실제 A: 그녀밖에 알 수가 없죠.\n",
      "예측 A: 사랑에 나이는 중요하지 않아요.\n",
      "\n",
      "Q: 한번의 기회쯤 있겠지 라고 생각했던 내생각이 어리석었습니다\n",
      "실제 A: 현실을 받아들이는 것도 중요합니다.\n",
      "예측 A: 누구나 몰려가는 줄에 설 필요는 없어요.\n",
      "\n",
      "------------------------------\n",
      "\n",
      "9. 실제 어텐션 맵 시각화\n",
      "시각화할 질문: 사랑이란 뭘까?\n",
      "생성된 답변: 사랑은 헷갈리게 하는건 좋지 않아요.\n"
     ]
    },
    {
     "name": "stderr",
     "output_type": "stream",
     "text": [
      "/tmp/ipykernel_1069/740873135.py:60: UserWarning: Glyph 9601 (\\N{LOWER ONE EIGHTH BLOCK}) missing from font(s) NanumGothic.\n",
      "  plt.tight_layout(pad=3.0)\n",
      "/tmp/ipykernel_1069/740873135.py:61: UserWarning: Glyph 9601 (\\N{LOWER ONE EIGHTH BLOCK}) missing from font(s) NanumGothic.\n",
      "  plt.savefig('attention_map_sp.png')\n"
     ]
    },
    {
     "name": "stdout",
     "output_type": "stream",
     "text": [
      "실제 어텐션 맵을 'attention_map_sp.png' 파일로 저장했습니다.\n"
     ]
    },
    {
     "name": "stderr",
     "output_type": "stream",
     "text": [
      "/opt/conda/lib/python3.12/site-packages/IPython/core/pylabtools.py:170: UserWarning: Glyph 9601 (\\N{LOWER ONE EIGHTH BLOCK}) missing from font(s) NanumGothic.\n",
      "  fig.canvas.print_figure(bytes_io, **kw)\n"
     ]
    },
    {
     "data": {
      "image/png": "[encoded data removed]",
      "text/plain": [
       "<Figure size 1600x800 with 8 Axes>"
      ]
     },
     "metadata": {},
     "output_type": "display_data"
    },
    {
     "name": "stdout",
     "output_type": "stream",
     "text": [
      "------------------------------\n"
     ]
    }
   ],
   "source": [
    "print(\"\\n테스트 데이터 예측 결과 샘플:\")\n",
    "for i in range(5):\n",
    "    q = test_questions[i]\n",
    "    true_a = test_answers[i]\n",
    "    pred_a, _ = translate_and_get_attention(model, q, tokenizer, DEVICE)\n",
    "    \n",
    "    clean_pred_a = pred_a.replace('<sos>', '').replace('<eos>', '').strip()\n",
    "    \n",
    "    print(f\"Q: {q}\")\n",
    "    print(f\"실제 A: {true_a}\")\n",
    "    print(f\"예측 A: {clean_pred_a}\\n\")\n",
    "print(\"-\" * 30)\n",
    "\n",
    "print(\"\\n9. 실제 어텐션 맵 시각화\")\n",
    "q_example = test_questions[0]\n",
    "pred_a_example, attention = translate_and_get_attention(model, q_example, tokenizer, DEVICE)\n",
    "clean_pred_a_example = pred_a_example.replace('<sos>', '').replace('<eos>', '').strip()\n",
    "\n",
    "print(f\"시각화할 질문: {q_example}\")\n",
    "print(f\"생성된 답변: {clean_pred_a_example}\")\n",
    "display_attention(q_example, clean_pred_a_example, attention, tokenizer)\n",
    "print(\"-\" * 30)"
   ]
  },
  {
   "cell_type": "markdown",
   "id": "aeab5b98-1e2f-4e0b-af91-218b3bd6da5f",
   "metadata": {},
   "source": [
    "##### ROUGE 스코어로 모델 성능 평가"
   ]
  },
  {
   "cell_type": "code",
   "execution_count": 41,
   "id": "adc98c6c-c9a4-4e96-aaaa-bd5de153d089",
   "metadata": {},
   "outputs": [
    {
     "name": "stdout",
     "output_type": "stream",
     "text": [
      "\n",
      "10. ROUGE 스코어 측정\n"
     ]
    },
    {
     "data": {
      "application/vnd.jupyter.widget-view+json": {
       "model_id": "f750b9e70b2d4264b030d6f30c31126b",
       "version_major": 2,
       "version_minor": 0
      },
      "text/plain": [
       "Calculating ROUGE Score:   0%|          | 0/1175 [00:00<?, ?it/s]"
      ]
     },
     "metadata": {},
     "output_type": "display_data"
    },
    {
     "name": "stderr",
     "output_type": "stream",
     "text": [
      "/opt/conda/lib/python3.12/site-packages/torch/nn/functional.py:5962: UserWarning: Support for mismatched key_padding_mask and attn_mask is deprecated. Use same type for both instead.\n",
      "  warnings.warn(\n"
     ]
    },
    {
     "name": "stdout",
     "output_type": "stream",
     "text": [
      "\n",
      "전체 테스트 데이터(1175개)에 대한 ROUGE 스코어:\n",
      "  ROUGE-1:\n",
      "    F1-Score: 4.06\n",
      "    Precision: 4.34\n",
      "    Recall: 4.04\n",
      "  ROUGE-2:\n",
      "    F1-Score: 1.92\n",
      "    Precision: 1.96\n",
      "    Recall: 1.91\n",
      "  ROUGE-L:\n",
      "    F1-Score: 4.04\n",
      "    Precision: 4.31\n",
      "    Recall: 4.03\n",
      "------------------------------\n",
      "\n",
      "모든 작업이 완료되었습니다.\n"
     ]
    }
   ],
   "source": [
    "print(\"\\n10. ROUGE 스코어 측정\")\n",
    "\n",
    "def calculate_rouge_score(model, dataset, tokenizer, device):\n",
    "    targets = []\n",
    "    predictions = []\n",
    "    rouge = Rouge()\n",
    "\n",
    "    loop = tqdm(zip(dataset.questions, dataset.answers), total=len(dataset.questions), desc=\"Calculating ROUGE Score\")\n",
    "    for question, answer in loop:\n",
    "        predicted_answer, _ = translate_and_get_attention(model, question, tokenizer, device)\n",
    "        clean_predicted_answer = predicted_answer.replace('<sos>', '').replace('<eos>', '').strip()\n",
    "\n",
    "        if not clean_predicted_answer:\n",
    "            clean_predicted_answer = \" \" # 비어있을 경우 에러 방지\n",
    "\n",
    "        targets.append(answer)\n",
    "        predictions.append(clean_predicted_answer)\n",
    "\n",
    "    scores = rouge.get_scores(predictions, targets, avg=True)\n",
    "    return scores\n",
    "\n",
    "# 전체 테스트 데이터로 ROUGE 스코어 계산\n",
    "rouge_scores = calculate_rouge_score(model, test_dataset, tokenizer, DEVICE)\n",
    "\n",
    "print(f\"\\n전체 테스트 데이터({len(test_dataset)}개)에 대한 ROUGE 스코어:\")\n",
    "for key, value in rouge_scores.items():\n",
    "    print(f\"  {key.upper()}:\")\n",
    "    print(f\"    F1-Score: {value['f']*100:.2f}\")\n",
    "    print(f\"    Precision: {value['p']*100:.2f}\")\n",
    "    print(f\"    Recall: {value['r']*100:.2f}\")\n",
    "print(\"-\" * 30)\n",
    "print(\"\\n모든 작업이 완료되었습니다.\")"
   ]
  },
  {
   "cell_type": "markdown",
   "id": "df1aefa4-a58a-4a0c-bdb0-9f01db2f5d03",
   "metadata": {},
   "source": [
    "#### 추가 실험"
   ]
  },
  {
   "cell_type": "code",
   "execution_count": 18,
   "id": "82735274-f5b5-401a-b347-a868176ef22b",
   "metadata": {},
   "outputs": [
    {
     "name": "stdout",
     "output_type": "stream",
     "text": [
      "\n",
      "5. 훈련 설정\n",
      "사용 디바이스: cuda\n",
      "모델 파라미터 수: 8,057,664\n",
      "훈련/평가 함수 정의 완료.\n",
      "------------------------------\n"
     ]
    }
   ],
   "source": [
    "print(\"\\n5. 훈련 설정\")\n",
    "DEVICE = torch.device('cuda' if torch.cuda.is_available() else 'cpu')\n",
    "print(f\"사용 디바이스: {DEVICE}\")\n",
    "\n",
    "# 하이퍼파라미터\n",
    "D_MODEL = 256\n",
    "N_HEAD = 8\n",
    "NUM_ENCODER_LAYERS = 3\n",
    "NUM_DECODER_LAYERS = 3\n",
    "D_FF = 512\n",
    "DROPOUT = 0.2\n",
    "LEARNING_RATE = 0.0001\n",
    "EPOCHS = 100\n",
    "\n",
    "# 모델, 손실 함수, 옵티마이저 초기화\n",
    "model = TransformerChatbot(\n",
    "    VOCAB_SIZE, D_MODEL, N_HEAD, NUM_ENCODER_LAYERS, NUM_DECODER_LAYERS, D_FF, DROPOUT\n",
    ").to(DEVICE)\n",
    "\n",
    "print(f'모델 파라미터 수: {sum(p.numel() for p in model.parameters() if p.requires_grad):,}')\n",
    "\n",
    "criterion = nn.CrossEntropyLoss(ignore_index=PAD_IDX)\n",
    "optimizer = torch.optim.Adam(model.parameters(), lr=LEARNING_RATE)\n",
    "\n",
    "# 훈련 및 평가 함수 정의\n",
    "def train_epoch(model, dataloader, optimizer, criterion, device, epoch):\n",
    "    model.train()\n",
    "    total_loss = 0\n",
    "    loop = tqdm(dataloader, desc=f'Epoch {epoch:02} Train')\n",
    "    for src, tgt in loop:\n",
    "        src, tgt = src.to(device), tgt.to(device)\n",
    "        tgt_input, tgt_out = tgt[:, :-1], tgt[:, 1:]\n",
    "        src_padding_mask = (src == PAD_IDX)\n",
    "        tgt_padding_mask = (tgt_input == PAD_IDX)\n",
    "        tgt_mask = model.generate_square_subsequent_mask(tgt_input.size(1), device)\n",
    "        optimizer.zero_grad()\n",
    "        output = model(src, tgt_input, src_padding_mask, tgt_padding_mask, src_padding_mask, tgt_mask)\n",
    "        loss = criterion(output.reshape(-1, output.shape[-1]), tgt_out.reshape(-1))\n",
    "        loss.backward()\n",
    "        optimizer.step()\n",
    "        total_loss += loss.item()\n",
    "        loop.set_postfix(loss=loss.item())\n",
    "    return total_loss / len(dataloader)\n",
    "\n",
    "def evaluate(model, dataloader, criterion, device, epoch):\n",
    "    model.eval()\n",
    "    total_loss = 0\n",
    "    with torch.no_grad():\n",
    "        loop = tqdm(dataloader, desc=f'Epoch {epoch:02} Val  ')\n",
    "        for src, tgt in loop:\n",
    "            src, tgt = src.to(device), tgt.to(device)\n",
    "            tgt_input, tgt_out = tgt[:, :-1], tgt[:, 1:]\n",
    "            src_padding_mask = (src == PAD_IDX)\n",
    "            tgt_padding_mask = (tgt_input == PAD_IDX)\n",
    "            tgt_mask = model.generate_square_subsequent_mask(tgt_input.size(1), device)\n",
    "            output = model(src, tgt_input, src_padding_mask, tgt_padding_mask, src_padding_mask, tgt_mask)\n",
    "            loss = criterion(output.reshape(-1, output.shape[-1]), tgt_out.reshape(-1))\n",
    "            total_loss += loss.item()\n",
    "            loop.set_postfix(loss=loss.item())\n",
    "    return total_loss / len(dataloader)\n",
    "\n",
    "print(\"훈련/평가 함수 정의 완료.\")\n",
    "print(\"-\" * 30)"
   ]
  },
  {
   "cell_type": "code",
   "execution_count": 19,
   "id": "396aa774-d13b-488c-9f2c-604ee13ce93a",
   "metadata": {},
   "outputs": [
    {
     "name": "stdout",
     "output_type": "stream",
     "text": [
      "\n",
      "6. 훈련 시작\n"
     ]
    },
    {
     "data": {
      "application/vnd.jupyter.widget-view+json": {
       "model_id": "868c12a5a78e480da4812a569825f3a1",
       "version_major": 2,
       "version_minor": 0
      },
      "text/plain": [
       "Epoch 01 Train:   0%|          | 0/89 [00:00<?, ?it/s]"
      ]
     },
     "metadata": {},
     "output_type": "display_data"
    },
    {
     "data": {
      "application/vnd.jupyter.widget-view+json": {
       "model_id": "8e6ae3c8a7864dbfb2d505007cbea252",
       "version_major": 2,
       "version_minor": 0
      },
      "text/plain": [
       "Epoch 01 Val  :   0%|          | 0/10 [00:00<?, ?it/s]"
      ]
     },
     "metadata": {},
     "output_type": "display_data"
    },
    {
     "name": "stdout",
     "output_type": "stream",
     "text": [
      "Epoch: 01 | Time: 0m 4s\n",
      "\tTrain Loss: 6.901 | Val. Loss: 6.243\n",
      "\t-> 검증 손실 감소, 모델 저장 완료.\n"
     ]
    },
    {
     "data": {
      "application/vnd.jupyter.widget-view+json": {
       "model_id": "9604a2f1ab9847159af82c02c8170e8d",
       "version_major": 2,
       "version_minor": 0
      },
      "text/plain": [
       "Epoch 02 Train:   0%|          | 0/89 [00:00<?, ?it/s]"
      ]
     },
     "metadata": {},
     "output_type": "display_data"
    },
    {
     "data": {
      "application/vnd.jupyter.widget-view+json": {
       "model_id": "c35cf380e45a45ab9c59d9a111ac245c",
       "version_major": 2,
       "version_minor": 0
      },
      "text/plain": [
       "Epoch 02 Val  :   0%|          | 0/10 [00:00<?, ?it/s]"
      ]
     },
     "metadata": {},
     "output_type": "display_data"
    },
    {
     "name": "stdout",
     "output_type": "stream",
     "text": [
      "Epoch: 02 | Time: 0m 4s\n",
      "\tTrain Loss: 6.001 | Val. Loss: 5.903\n",
      "\t-> 검증 손실 감소, 모델 저장 완료.\n"
     ]
    },
    {
     "data": {
      "application/vnd.jupyter.widget-view+json": {
       "model_id": "976bb7500fb542aaae9234636bea5358",
       "version_major": 2,
       "version_minor": 0
      },
      "text/plain": [
       "Epoch 03 Train:   0%|          | 0/89 [00:00<?, ?it/s]"
      ]
     },
     "metadata": {},
     "output_type": "display_data"
    },
    {
     "data": {
      "application/vnd.jupyter.widget-view+json": {
       "model_id": "147692b0e02043e8bf4721048e3e7f89",
       "version_major": 2,
       "version_minor": 0
      },
      "text/plain": [
       "Epoch 03 Val  :   0%|          | 0/10 [00:00<?, ?it/s]"
      ]
     },
     "metadata": {},
     "output_type": "display_data"
    },
    {
     "name": "stdout",
     "output_type": "stream",
     "text": [
      "Epoch: 03 | Time: 0m 4s\n",
      "\tTrain Loss: 5.795 | Val. Loss: 5.774\n",
      "\t-> 검증 손실 감소, 모델 저장 완료.\n"
     ]
    },
    {
     "data": {
      "application/vnd.jupyter.widget-view+json": {
       "model_id": "fcb9e89c598548d392e9e04590a2ce4e",
       "version_major": 2,
       "version_minor": 0
      },
      "text/plain": [
       "Epoch 04 Train:   0%|          | 0/89 [00:00<?, ?it/s]"
      ]
     },
     "metadata": {},
     "output_type": "display_data"
    },
    {
     "data": {
      "application/vnd.jupyter.widget-view+json": {
       "model_id": "1a67a0a0afab402ab6e705d75df3e6f3",
       "version_major": 2,
       "version_minor": 0
      },
      "text/plain": [
       "Epoch 04 Val  :   0%|          | 0/10 [00:00<?, ?it/s]"
      ]
     },
     "metadata": {},
     "output_type": "display_data"
    },
    {
     "name": "stdout",
     "output_type": "stream",
     "text": [
      "Epoch: 04 | Time: 0m 4s\n",
      "\tTrain Loss: 5.673 | Val. Loss: 5.693\n",
      "\t-> 검증 손실 감소, 모델 저장 완료.\n"
     ]
    },
    {
     "data": {
      "application/vnd.jupyter.widget-view+json": {
       "model_id": "dab55a52180641b58ff1052bc779a4c9",
       "version_major": 2,
       "version_minor": 0
      },
      "text/plain": [
       "Epoch 05 Train:   0%|          | 0/89 [00:00<?, ?it/s]"
      ]
     },
     "metadata": {},
     "output_type": "display_data"
    },
    {
     "data": {
      "application/vnd.jupyter.widget-view+json": {
       "model_id": "6e8d42c5770c440c8dafb206132bfc54",
       "version_major": 2,
       "version_minor": 0
      },
      "text/plain": [
       "Epoch 05 Val  :   0%|          | 0/10 [00:00<?, ?it/s]"
      ]
     },
     "metadata": {},
     "output_type": "display_data"
    },
    {
     "name": "stdout",
     "output_type": "stream",
     "text": [
      "Epoch: 05 | Time: 0m 4s\n",
      "\tTrain Loss: 5.567 | Val. Loss: 5.588\n",
      "\t-> 검증 손실 감소, 모델 저장 완료.\n"
     ]
    },
    {
     "data": {
      "application/vnd.jupyter.widget-view+json": {
       "model_id": "b856f562bc0446058586d52d9f8bbe75",
       "version_major": 2,
       "version_minor": 0
      },
      "text/plain": [
       "Epoch 06 Train:   0%|          | 0/89 [00:00<?, ?it/s]"
      ]
     },
     "metadata": {},
     "output_type": "display_data"
    },
    {
     "data": {
      "application/vnd.jupyter.widget-view+json": {
       "model_id": "909133a74cc840f8af280ea8cd576169",
       "version_major": 2,
       "version_minor": 0
      },
      "text/plain": [
       "Epoch 06 Val  :   0%|          | 0/10 [00:00<?, ?it/s]"
      ]
     },
     "metadata": {},
     "output_type": "display_data"
    },
    {
     "name": "stdout",
     "output_type": "stream",
     "text": [
      "Epoch: 06 | Time: 0m 4s\n",
      "\tTrain Loss: 5.464 | Val. Loss: 5.514\n",
      "\t-> 검증 손실 감소, 모델 저장 완료.\n"
     ]
    },
    {
     "data": {
      "application/vnd.jupyter.widget-view+json": {
       "model_id": "efb4f66d5b084400b21ebe9e65f69565",
       "version_major": 2,
       "version_minor": 0
      },
      "text/plain": [
       "Epoch 07 Train:   0%|          | 0/89 [00:00<?, ?it/s]"
      ]
     },
     "metadata": {},
     "output_type": "display_data"
    },
    {
     "data": {
      "application/vnd.jupyter.widget-view+json": {
       "model_id": "2d89c84d1f334f11b1ff364b817c3b9d",
       "version_major": 2,
       "version_minor": 0
      },
      "text/plain": [
       "Epoch 07 Val  :   0%|          | 0/10 [00:00<?, ?it/s]"
      ]
     },
     "metadata": {},
     "output_type": "display_data"
    },
    {
     "name": "stdout",
     "output_type": "stream",
     "text": [
      "Epoch: 07 | Time: 0m 4s\n",
      "\tTrain Loss: 5.365 | Val. Loss: 5.443\n",
      "\t-> 검증 손실 감소, 모델 저장 완료.\n"
     ]
    },
    {
     "data": {
      "application/vnd.jupyter.widget-view+json": {
       "model_id": "9fcee25ca445421ab44ee3d2e2482180",
       "version_major": 2,
       "version_minor": 0
      },
      "text/plain": [
       "Epoch 08 Train:   0%|          | 0/89 [00:00<?, ?it/s]"
      ]
     },
     "metadata": {},
     "output_type": "display_data"
    },
    {
     "data": {
      "application/vnd.jupyter.widget-view+json": {
       "model_id": "b7cee43707ba4131b123edc92304cbaa",
       "version_major": 2,
       "version_minor": 0
      },
      "text/plain": [
       "Epoch 08 Val  :   0%|          | 0/10 [00:00<?, ?it/s]"
      ]
     },
     "metadata": {},
     "output_type": "display_data"
    },
    {
     "name": "stdout",
     "output_type": "stream",
     "text": [
      "Epoch: 08 | Time: 0m 4s\n",
      "\tTrain Loss: 5.270 | Val. Loss: 5.375\n",
      "\t-> 검증 손실 감소, 모델 저장 완료.\n"
     ]
    },
    {
     "data": {
      "application/vnd.jupyter.widget-view+json": {
       "model_id": "3313d5b8994e4c79a36aed836ae8f305",
       "version_major": 2,
       "version_minor": 0
      },
      "text/plain": [
       "Epoch 09 Train:   0%|          | 0/89 [00:00<?, ?it/s]"
      ]
     },
     "metadata": {},
     "output_type": "display_data"
    },
    {
     "data": {
      "application/vnd.jupyter.widget-view+json": {
       "model_id": "a5753a0c8b214bb992e8b8a4b0c54f1e",
       "version_major": 2,
       "version_minor": 0
      },
      "text/plain": [
       "Epoch 09 Val  :   0%|          | 0/10 [00:00<?, ?it/s]"
      ]
     },
     "metadata": {},
     "output_type": "display_data"
    },
    {
     "name": "stdout",
     "output_type": "stream",
     "text": [
      "Epoch: 09 | Time: 0m 4s\n",
      "\tTrain Loss: 5.175 | Val. Loss: 5.309\n",
      "\t-> 검증 손실 감소, 모델 저장 완료.\n"
     ]
    },
    {
     "data": {
      "application/vnd.jupyter.widget-view+json": {
       "model_id": "53c156bc8f9c4aa7a4e21a77b90716a0",
       "version_major": 2,
       "version_minor": 0
      },
      "text/plain": [
       "Epoch 10 Train:   0%|          | 0/89 [00:00<?, ?it/s]"
      ]
     },
     "metadata": {},
     "output_type": "display_data"
    },
    {
     "data": {
      "application/vnd.jupyter.widget-view+json": {
       "model_id": "ec4d009cbcb54673a869064b620bcec0",
       "version_major": 2,
       "version_minor": 0
      },
      "text/plain": [
       "Epoch 10 Val  :   0%|          | 0/10 [00:00<?, ?it/s]"
      ]
     },
     "metadata": {},
     "output_type": "display_data"
    },
    {
     "name": "stdout",
     "output_type": "stream",
     "text": [
      "Epoch: 10 | Time: 0m 4s\n",
      "\tTrain Loss: 5.082 | Val. Loss: 5.251\n",
      "\t-> 검증 손실 감소, 모델 저장 완료.\n"
     ]
    },
    {
     "data": {
      "application/vnd.jupyter.widget-view+json": {
       "model_id": "9af923ca8ba94ad19b9cfdd5f6aedb36",
       "version_major": 2,
       "version_minor": 0
      },
      "text/plain": [
       "Epoch 11 Train:   0%|          | 0/89 [00:00<?, ?it/s]"
      ]
     },
     "metadata": {},
     "output_type": "display_data"
    },
    {
     "data": {
      "application/vnd.jupyter.widget-view+json": {
       "model_id": "f7b3b64031c94a3288263c236204f488",
       "version_major": 2,
       "version_minor": 0
      },
      "text/plain": [
       "Epoch 11 Val  :   0%|          | 0/10 [00:00<?, ?it/s]"
      ]
     },
     "metadata": {},
     "output_type": "display_data"
    },
    {
     "name": "stdout",
     "output_type": "stream",
     "text": [
      "Epoch: 11 | Time: 0m 4s\n",
      "\tTrain Loss: 4.996 | Val. Loss: 5.201\n",
      "\t-> 검증 손실 감소, 모델 저장 완료.\n"
     ]
    },
    {
     "data": {
      "application/vnd.jupyter.widget-view+json": {
       "model_id": "6a708e8e4bf3427d88f22461c3543bc1",
       "version_major": 2,
       "version_minor": 0
      },
      "text/plain": [
       "Epoch 12 Train:   0%|          | 0/89 [00:00<?, ?it/s]"
      ]
     },
     "metadata": {},
     "output_type": "display_data"
    },
    {
     "data": {
      "application/vnd.jupyter.widget-view+json": {
       "model_id": "0ef10017895a45bcada54034f5bc41ae",
       "version_major": 2,
       "version_minor": 0
      },
      "text/plain": [
       "Epoch 12 Val  :   0%|          | 0/10 [00:00<?, ?it/s]"
      ]
     },
     "metadata": {},
     "output_type": "display_data"
    },
    {
     "name": "stdout",
     "output_type": "stream",
     "text": [
      "Epoch: 12 | Time: 0m 4s\n",
      "\tTrain Loss: 4.908 | Val. Loss: 5.156\n",
      "\t-> 검증 손실 감소, 모델 저장 완료.\n"
     ]
    },
    {
     "data": {
      "application/vnd.jupyter.widget-view+json": {
       "model_id": "973e5368699749b1a0126d679a2c1599",
       "version_major": 2,
       "version_minor": 0
      },
      "text/plain": [
       "Epoch 13 Train:   0%|          | 0/89 [00:00<?, ?it/s]"
      ]
     },
     "metadata": {},
     "output_type": "display_data"
    },
    {
     "data": {
      "application/vnd.jupyter.widget-view+json": {
       "model_id": "f8f3e1c641e24ad9b2dd5f310c99361a",
       "version_major": 2,
       "version_minor": 0
      },
      "text/plain": [
       "Epoch 13 Val  :   0%|          | 0/10 [00:00<?, ?it/s]"
      ]
     },
     "metadata": {},
     "output_type": "display_data"
    },
    {
     "name": "stdout",
     "output_type": "stream",
     "text": [
      "Epoch: 13 | Time: 0m 4s\n",
      "\tTrain Loss: 4.826 | Val. Loss: 5.101\n",
      "\t-> 검증 손실 감소, 모델 저장 완료.\n"
     ]
    },
    {
     "data": {
      "application/vnd.jupyter.widget-view+json": {
       "model_id": "230e33c4cb144000a06824da8b40fced",
       "version_major": 2,
       "version_minor": 0
      },
      "text/plain": [
       "Epoch 14 Train:   0%|          | 0/89 [00:00<?, ?it/s]"
      ]
     },
     "metadata": {},
     "output_type": "display_data"
    },
    {
     "data": {
      "application/vnd.jupyter.widget-view+json": {
       "model_id": "4827f998c8e44ab4ac6a2b35ee386d50",
       "version_major": 2,
       "version_minor": 0
      },
      "text/plain": [
       "Epoch 14 Val  :   0%|          | 0/10 [00:00<?, ?it/s]"
      ]
     },
     "metadata": {},
     "output_type": "display_data"
    },
    {
     "name": "stdout",
     "output_type": "stream",
     "text": [
      "Epoch: 14 | Time: 0m 4s\n",
      "\tTrain Loss: 4.744 | Val. Loss: 5.058\n",
      "\t-> 검증 손실 감소, 모델 저장 완료.\n"
     ]
    },
    {
     "data": {
      "application/vnd.jupyter.widget-view+json": {
       "model_id": "3a809e3b49434d8e864cd1e48dbe0184",
       "version_major": 2,
       "version_minor": 0
      },
      "text/plain": [
       "Epoch 15 Train:   0%|          | 0/89 [00:00<?, ?it/s]"
      ]
     },
     "metadata": {},
     "output_type": "display_data"
    },
    {
     "data": {
      "application/vnd.jupyter.widget-view+json": {
       "model_id": "170d3052eee540a7be9d3122fe11f699",
       "version_major": 2,
       "version_minor": 0
      },
      "text/plain": [
       "Epoch 15 Val  :   0%|          | 0/10 [00:00<?, ?it/s]"
      ]
     },
     "metadata": {},
     "output_type": "display_data"
    },
    {
     "name": "stdout",
     "output_type": "stream",
     "text": [
      "Epoch: 15 | Time: 0m 4s\n",
      "\tTrain Loss: 4.661 | Val. Loss: 5.012\n",
      "\t-> 검증 손실 감소, 모델 저장 완료.\n"
     ]
    },
    {
     "data": {
      "application/vnd.jupyter.widget-view+json": {
       "model_id": "2996f7ab5e76497fabb4ed5f91173326",
       "version_major": 2,
       "version_minor": 0
      },
      "text/plain": [
       "Epoch 16 Train:   0%|          | 0/89 [00:00<?, ?it/s]"
      ]
     },
     "metadata": {},
     "output_type": "display_data"
    },
    {
     "data": {
      "application/vnd.jupyter.widget-view+json": {
       "model_id": "49af5ae51ec24bb78d967049fe8a9b53",
       "version_major": 2,
       "version_minor": 0
      },
      "text/plain": [
       "Epoch 16 Val  :   0%|          | 0/10 [00:00<?, ?it/s]"
      ]
     },
     "metadata": {},
     "output_type": "display_data"
    },
    {
     "name": "stdout",
     "output_type": "stream",
     "text": [
      "Epoch: 16 | Time: 0m 4s\n",
      "\tTrain Loss: 4.584 | Val. Loss: 4.971\n",
      "\t-> 검증 손실 감소, 모델 저장 완료.\n"
     ]
    },
    {
     "data": {
      "application/vnd.jupyter.widget-view+json": {
       "model_id": "1e1339d935ff4b62a93623bc12b58fcd",
       "version_major": 2,
       "version_minor": 0
      },
      "text/plain": [
       "Epoch 17 Train:   0%|          | 0/89 [00:00<?, ?it/s]"
      ]
     },
     "metadata": {},
     "output_type": "display_data"
    },
    {
     "data": {
      "application/vnd.jupyter.widget-view+json": {
       "model_id": "d7a6cb405b854d1082d42a48602e0154",
       "version_major": 2,
       "version_minor": 0
      },
      "text/plain": [
       "Epoch 17 Val  :   0%|          | 0/10 [00:00<?, ?it/s]"
      ]
     },
     "metadata": {},
     "output_type": "display_data"
    },
    {
     "name": "stdout",
     "output_type": "stream",
     "text": [
      "Epoch: 17 | Time: 0m 4s\n",
      "\tTrain Loss: 4.502 | Val. Loss: 4.928\n",
      "\t-> 검증 손실 감소, 모델 저장 완료.\n"
     ]
    },
    {
     "data": {
      "application/vnd.jupyter.widget-view+json": {
       "model_id": "88f215f68083482fa9559f1bd8f23cbb",
       "version_major": 2,
       "version_minor": 0
      },
      "text/plain": [
       "Epoch 18 Train:   0%|          | 0/89 [00:00<?, ?it/s]"
      ]
     },
     "metadata": {},
     "output_type": "display_data"
    },
    {
     "data": {
      "application/vnd.jupyter.widget-view+json": {
       "model_id": "42c02309d2ff4678b32438fe8c394205",
       "version_major": 2,
       "version_minor": 0
      },
      "text/plain": [
       "Epoch 18 Val  :   0%|          | 0/10 [00:00<?, ?it/s]"
      ]
     },
     "metadata": {},
     "output_type": "display_data"
    },
    {
     "name": "stdout",
     "output_type": "stream",
     "text": [
      "Epoch: 18 | Time: 0m 4s\n",
      "\tTrain Loss: 4.421 | Val. Loss: 4.895\n",
      "\t-> 검증 손실 감소, 모델 저장 완료.\n"
     ]
    },
    {
     "data": {
      "application/vnd.jupyter.widget-view+json": {
       "model_id": "42782ffe6dc44ecebb952fdcedc426e8",
       "version_major": 2,
       "version_minor": 0
      },
      "text/plain": [
       "Epoch 19 Train:   0%|          | 0/89 [00:00<?, ?it/s]"
      ]
     },
     "metadata": {},
     "output_type": "display_data"
    },
    {
     "data": {
      "application/vnd.jupyter.widget-view+json": {
       "model_id": "5f22370a710241e588aef724cd980bc2",
       "version_major": 2,
       "version_minor": 0
      },
      "text/plain": [
       "Epoch 19 Val  :   0%|          | 0/10 [00:00<?, ?it/s]"
      ]
     },
     "metadata": {},
     "output_type": "display_data"
    },
    {
     "name": "stdout",
     "output_type": "stream",
     "text": [
      "Epoch: 19 | Time: 0m 4s\n",
      "\tTrain Loss: 4.344 | Val. Loss: 4.853\n",
      "\t-> 검증 손실 감소, 모델 저장 완료.\n"
     ]
    },
    {
     "data": {
      "application/vnd.jupyter.widget-view+json": {
       "model_id": "0811e1aa7ead41179b0551e7a611ade1",
       "version_major": 2,
       "version_minor": 0
      },
      "text/plain": [
       "Epoch 20 Train:   0%|          | 0/89 [00:00<?, ?it/s]"
      ]
     },
     "metadata": {},
     "output_type": "display_data"
    },
    {
     "data": {
      "application/vnd.jupyter.widget-view+json": {
       "model_id": "2a7232024442415d900c4ed50d81d870",
       "version_major": 2,
       "version_minor": 0
      },
      "text/plain": [
       "Epoch 20 Val  :   0%|          | 0/10 [00:00<?, ?it/s]"
      ]
     },
     "metadata": {},
     "output_type": "display_data"
    },
    {
     "name": "stdout",
     "output_type": "stream",
     "text": [
      "Epoch: 20 | Time: 0m 4s\n",
      "\tTrain Loss: 4.267 | Val. Loss: 4.812\n",
      "\t-> 검증 손실 감소, 모델 저장 완료.\n"
     ]
    },
    {
     "data": {
      "application/vnd.jupyter.widget-view+json": {
       "model_id": "67a7e02f399247dcb84fdcca607702e8",
       "version_major": 2,
       "version_minor": 0
      },
      "text/plain": [
       "Epoch 21 Train:   0%|          | 0/89 [00:00<?, ?it/s]"
      ]
     },
     "metadata": {},
     "output_type": "display_data"
    },
    {
     "data": {
      "application/vnd.jupyter.widget-view+json": {
       "model_id": "8ae4ff9a71954f87a685f2d3f69f8f2b",
       "version_major": 2,
       "version_minor": 0
      },
      "text/plain": [
       "Epoch 21 Val  :   0%|          | 0/10 [00:00<?, ?it/s]"
      ]
     },
     "metadata": {},
     "output_type": "display_data"
    },
    {
     "name": "stdout",
     "output_type": "stream",
     "text": [
      "Epoch: 21 | Time: 0m 4s\n",
      "\tTrain Loss: 4.189 | Val. Loss: 4.775\n",
      "\t-> 검증 손실 감소, 모델 저장 완료.\n"
     ]
    },
    {
     "data": {
      "application/vnd.jupyter.widget-view+json": {
       "model_id": "d1e989bfe1f4438895f8fce5c9de879f",
       "version_major": 2,
       "version_minor": 0
      },
      "text/plain": [
       "Epoch 22 Train:   0%|          | 0/89 [00:00<?, ?it/s]"
      ]
     },
     "metadata": {},
     "output_type": "display_data"
    },
    {
     "data": {
      "application/vnd.jupyter.widget-view+json": {
       "model_id": "5af09695c96c48339365b00054883596",
       "version_major": 2,
       "version_minor": 0
      },
      "text/plain": [
       "Epoch 22 Val  :   0%|          | 0/10 [00:00<?, ?it/s]"
      ]
     },
     "metadata": {},
     "output_type": "display_data"
    },
    {
     "name": "stdout",
     "output_type": "stream",
     "text": [
      "Epoch: 22 | Time: 0m 4s\n",
      "\tTrain Loss: 4.111 | Val. Loss: 4.745\n",
      "\t-> 검증 손실 감소, 모델 저장 완료.\n"
     ]
    },
    {
     "data": {
      "application/vnd.jupyter.widget-view+json": {
       "model_id": "89204707f4004501890a22fc34928e12",
       "version_major": 2,
       "version_minor": 0
      },
      "text/plain": [
       "Epoch 23 Train:   0%|          | 0/89 [00:00<?, ?it/s]"
      ]
     },
     "metadata": {},
     "output_type": "display_data"
    },
    {
     "data": {
      "application/vnd.jupyter.widget-view+json": {
       "model_id": "7f9dd7f1041e41aca02c5b29247d5657",
       "version_major": 2,
       "version_minor": 0
      },
      "text/plain": [
       "Epoch 23 Val  :   0%|          | 0/10 [00:00<?, ?it/s]"
      ]
     },
     "metadata": {},
     "output_type": "display_data"
    },
    {
     "name": "stdout",
     "output_type": "stream",
     "text": [
      "Epoch: 23 | Time: 0m 4s\n",
      "\tTrain Loss: 4.037 | Val. Loss: 4.711\n",
      "\t-> 검증 손실 감소, 모델 저장 완료.\n"
     ]
    },
    {
     "data": {
      "application/vnd.jupyter.widget-view+json": {
       "model_id": "ea38fd05b2374650a56f7842d1188d02",
       "version_major": 2,
       "version_minor": 0
      },
      "text/plain": [
       "Epoch 24 Train:   0%|          | 0/89 [00:00<?, ?it/s]"
      ]
     },
     "metadata": {},
     "output_type": "display_data"
    },
    {
     "data": {
      "application/vnd.jupyter.widget-view+json": {
       "model_id": "2c89dfc1987f438e9f0a056b18190eb1",
       "version_major": 2,
       "version_minor": 0
      },
      "text/plain": [
       "Epoch 24 Val  :   0%|          | 0/10 [00:00<?, ?it/s]"
      ]
     },
     "metadata": {},
     "output_type": "display_data"
    },
    {
     "name": "stdout",
     "output_type": "stream",
     "text": [
      "Epoch: 24 | Time: 0m 4s\n",
      "\tTrain Loss: 3.962 | Val. Loss: 4.677\n",
      "\t-> 검증 손실 감소, 모델 저장 완료.\n"
     ]
    },
    {
     "data": {
      "application/vnd.jupyter.widget-view+json": {
       "model_id": "869962d1a35944308d3dc49d48baac65",
       "version_major": 2,
       "version_minor": 0
      },
      "text/plain": [
       "Epoch 25 Train:   0%|          | 0/89 [00:00<?, ?it/s]"
      ]
     },
     "metadata": {},
     "output_type": "display_data"
    },
    {
     "data": {
      "application/vnd.jupyter.widget-view+json": {
       "model_id": "e49f5b3987be4bd387b556f23904ffde",
       "version_major": 2,
       "version_minor": 0
      },
      "text/plain": [
       "Epoch 25 Val  :   0%|          | 0/10 [00:00<?, ?it/s]"
      ]
     },
     "metadata": {},
     "output_type": "display_data"
    },
    {
     "name": "stdout",
     "output_type": "stream",
     "text": [
      "Epoch: 25 | Time: 0m 4s\n",
      "\tTrain Loss: 3.882 | Val. Loss: 4.646\n",
      "\t-> 검증 손실 감소, 모델 저장 완료.\n"
     ]
    },
    {
     "data": {
      "application/vnd.jupyter.widget-view+json": {
       "model_id": "f87b43afd09c432b862f083b4eadcf24",
       "version_major": 2,
       "version_minor": 0
      },
      "text/plain": [
       "Epoch 26 Train:   0%|          | 0/89 [00:00<?, ?it/s]"
      ]
     },
     "metadata": {},
     "output_type": "display_data"
    },
    {
     "data": {
      "application/vnd.jupyter.widget-view+json": {
       "model_id": "0031d0d338a54e0c922804a493974470",
       "version_major": 2,
       "version_minor": 0
      },
      "text/plain": [
       "Epoch 26 Val  :   0%|          | 0/10 [00:00<?, ?it/s]"
      ]
     },
     "metadata": {},
     "output_type": "display_data"
    },
    {
     "name": "stdout",
     "output_type": "stream",
     "text": [
      "Epoch: 26 | Time: 0m 4s\n",
      "\tTrain Loss: 3.809 | Val. Loss: 4.616\n",
      "\t-> 검증 손실 감소, 모델 저장 완료.\n"
     ]
    },
    {
     "data": {
      "application/vnd.jupyter.widget-view+json": {
       "model_id": "a93e208e0ca444ce9b2892607b47f018",
       "version_major": 2,
       "version_minor": 0
      },
      "text/plain": [
       "Epoch 27 Train:   0%|          | 0/89 [00:00<?, ?it/s]"
      ]
     },
     "metadata": {},
     "output_type": "display_data"
    },
    {
     "data": {
      "application/vnd.jupyter.widget-view+json": {
       "model_id": "8f9fa91f7acc462092b154c012295709",
       "version_major": 2,
       "version_minor": 0
      },
      "text/plain": [
       "Epoch 27 Val  :   0%|          | 0/10 [00:00<?, ?it/s]"
      ]
     },
     "metadata": {},
     "output_type": "display_data"
    },
    {
     "name": "stdout",
     "output_type": "stream",
     "text": [
      "Epoch: 27 | Time: 0m 4s\n",
      "\tTrain Loss: 3.739 | Val. Loss: 4.589\n",
      "\t-> 검증 손실 감소, 모델 저장 완료.\n"
     ]
    },
    {
     "data": {
      "application/vnd.jupyter.widget-view+json": {
       "model_id": "a65a74ca23724e9ab2d0f4702740ce91",
       "version_major": 2,
       "version_minor": 0
      },
      "text/plain": [
       "Epoch 28 Train:   0%|          | 0/89 [00:00<?, ?it/s]"
      ]
     },
     "metadata": {},
     "output_type": "display_data"
    },
    {
     "data": {
      "application/vnd.jupyter.widget-view+json": {
       "model_id": "2576692390794d05b5f69fa757824fa1",
       "version_major": 2,
       "version_minor": 0
      },
      "text/plain": [
       "Epoch 28 Val  :   0%|          | 0/10 [00:00<?, ?it/s]"
      ]
     },
     "metadata": {},
     "output_type": "display_data"
    },
    {
     "name": "stdout",
     "output_type": "stream",
     "text": [
      "Epoch: 28 | Time: 0m 4s\n",
      "\tTrain Loss: 3.662 | Val. Loss: 4.562\n",
      "\t-> 검증 손실 감소, 모델 저장 완료.\n"
     ]
    },
    {
     "data": {
      "application/vnd.jupyter.widget-view+json": {
       "model_id": "d04a070008634cc282178024927f8477",
       "version_major": 2,
       "version_minor": 0
      },
      "text/plain": [
       "Epoch 29 Train:   0%|          | 0/89 [00:00<?, ?it/s]"
      ]
     },
     "metadata": {},
     "output_type": "display_data"
    },
    {
     "data": {
      "application/vnd.jupyter.widget-view+json": {
       "model_id": "907e02316fdc429a85176dd857c8b4d9",
       "version_major": 2,
       "version_minor": 0
      },
      "text/plain": [
       "Epoch 29 Val  :   0%|          | 0/10 [00:00<?, ?it/s]"
      ]
     },
     "metadata": {},
     "output_type": "display_data"
    },
    {
     "name": "stdout",
     "output_type": "stream",
     "text": [
      "Epoch: 29 | Time: 0m 4s\n",
      "\tTrain Loss: 3.590 | Val. Loss: 4.540\n",
      "\t-> 검증 손실 감소, 모델 저장 완료.\n"
     ]
    },
    {
     "data": {
      "application/vnd.jupyter.widget-view+json": {
       "model_id": "5c6feba781f9466a82824f99139453f7",
       "version_major": 2,
       "version_minor": 0
      },
      "text/plain": [
       "Epoch 30 Train:   0%|          | 0/89 [00:00<?, ?it/s]"
      ]
     },
     "metadata": {},
     "output_type": "display_data"
    },
    {
     "data": {
      "application/vnd.jupyter.widget-view+json": {
       "model_id": "4ab6061f94ef4364b5e89a3acb02a79b",
       "version_major": 2,
       "version_minor": 0
      },
      "text/plain": [
       "Epoch 30 Val  :   0%|          | 0/10 [00:00<?, ?it/s]"
      ]
     },
     "metadata": {},
     "output_type": "display_data"
    },
    {
     "name": "stdout",
     "output_type": "stream",
     "text": [
      "Epoch: 30 | Time: 0m 4s\n",
      "\tTrain Loss: 3.527 | Val. Loss: 4.514\n",
      "\t-> 검증 손실 감소, 모델 저장 완료.\n"
     ]
    },
    {
     "data": {
      "application/vnd.jupyter.widget-view+json": {
       "model_id": "277632c59b1149bda918dafec2d94235",
       "version_major": 2,
       "version_minor": 0
      },
      "text/plain": [
       "Epoch 31 Train:   0%|          | 0/89 [00:00<?, ?it/s]"
      ]
     },
     "metadata": {},
     "output_type": "display_data"
    },
    {
     "data": {
      "application/vnd.jupyter.widget-view+json": {
       "model_id": "c22c8b46618d4314ac86aee37980e0f4",
       "version_major": 2,
       "version_minor": 0
      },
      "text/plain": [
       "Epoch 31 Val  :   0%|          | 0/10 [00:00<?, ?it/s]"
      ]
     },
     "metadata": {},
     "output_type": "display_data"
    },
    {
     "name": "stdout",
     "output_type": "stream",
     "text": [
      "Epoch: 31 | Time: 0m 4s\n",
      "\tTrain Loss: 3.453 | Val. Loss: 4.481\n",
      "\t-> 검증 손실 감소, 모델 저장 완료.\n"
     ]
    },
    {
     "data": {
      "application/vnd.jupyter.widget-view+json": {
       "model_id": "9eb05c6919e24b2c878d5b1c49d9015d",
       "version_major": 2,
       "version_minor": 0
      },
      "text/plain": [
       "Epoch 32 Train:   0%|          | 0/89 [00:00<?, ?it/s]"
      ]
     },
     "metadata": {},
     "output_type": "display_data"
    },
    {
     "data": {
      "application/vnd.jupyter.widget-view+json": {
       "model_id": "5570ed2187b34de1b31e5551cf158533",
       "version_major": 2,
       "version_minor": 0
      },
      "text/plain": [
       "Epoch 32 Val  :   0%|          | 0/10 [00:00<?, ?it/s]"
      ]
     },
     "metadata": {},
     "output_type": "display_data"
    },
    {
     "name": "stdout",
     "output_type": "stream",
     "text": [
      "Epoch: 32 | Time: 0m 4s\n",
      "\tTrain Loss: 3.389 | Val. Loss: 4.458\n",
      "\t-> 검증 손실 감소, 모델 저장 완료.\n"
     ]
    },
    {
     "data": {
      "application/vnd.jupyter.widget-view+json": {
       "model_id": "6f35760680bc4185b59946d15da37aab",
       "version_major": 2,
       "version_minor": 0
      },
      "text/plain": [
       "Epoch 33 Train:   0%|          | 0/89 [00:00<?, ?it/s]"
      ]
     },
     "metadata": {},
     "output_type": "display_data"
    },
    {
     "data": {
      "application/vnd.jupyter.widget-view+json": {
       "model_id": "3c3b00e72a20423bba84d867c030ce96",
       "version_major": 2,
       "version_minor": 0
      },
      "text/plain": [
       "Epoch 33 Val  :   0%|          | 0/10 [00:00<?, ?it/s]"
      ]
     },
     "metadata": {},
     "output_type": "display_data"
    },
    {
     "name": "stdout",
     "output_type": "stream",
     "text": [
      "Epoch: 33 | Time: 0m 4s\n",
      "\tTrain Loss: 3.315 | Val. Loss: 4.439\n",
      "\t-> 검증 손실 감소, 모델 저장 완료.\n"
     ]
    },
    {
     "data": {
      "application/vnd.jupyter.widget-view+json": {
       "model_id": "0fa29f107a064e3a91d117a9b305e878",
       "version_major": 2,
       "version_minor": 0
      },
      "text/plain": [
       "Epoch 34 Train:   0%|          | 0/89 [00:00<?, ?it/s]"
      ]
     },
     "metadata": {},
     "output_type": "display_data"
    },
    {
     "data": {
      "application/vnd.jupyter.widget-view+json": {
       "model_id": "e51ecc5efdb84130b27bd573aa632288",
       "version_major": 2,
       "version_minor": 0
      },
      "text/plain": [
       "Epoch 34 Val  :   0%|          | 0/10 [00:00<?, ?it/s]"
      ]
     },
     "metadata": {},
     "output_type": "display_data"
    },
    {
     "name": "stdout",
     "output_type": "stream",
     "text": [
      "Epoch: 34 | Time: 0m 4s\n",
      "\tTrain Loss: 3.251 | Val. Loss: 4.415\n",
      "\t-> 검증 손실 감소, 모델 저장 완료.\n"
     ]
    },
    {
     "data": {
      "application/vnd.jupyter.widget-view+json": {
       "model_id": "46055f3dd8914f38b4a5db3ce8c010e9",
       "version_major": 2,
       "version_minor": 0
      },
      "text/plain": [
       "Epoch 35 Train:   0%|          | 0/89 [00:00<?, ?it/s]"
      ]
     },
     "metadata": {},
     "output_type": "display_data"
    },
    {
     "data": {
      "application/vnd.jupyter.widget-view+json": {
       "model_id": "51b461b97e944c9aa80f8125efb8cec0",
       "version_major": 2,
       "version_minor": 0
      },
      "text/plain": [
       "Epoch 35 Val  :   0%|          | 0/10 [00:00<?, ?it/s]"
      ]
     },
     "metadata": {},
     "output_type": "display_data"
    },
    {
     "name": "stdout",
     "output_type": "stream",
     "text": [
      "Epoch: 35 | Time: 0m 4s\n",
      "\tTrain Loss: 3.183 | Val. Loss: 4.395\n",
      "\t-> 검증 손실 감소, 모델 저장 완료.\n"
     ]
    },
    {
     "data": {
      "application/vnd.jupyter.widget-view+json": {
       "model_id": "e6ee0805a2ed4a2a86974390b1c2ad1b",
       "version_major": 2,
       "version_minor": 0
      },
      "text/plain": [
       "Epoch 36 Train:   0%|          | 0/89 [00:00<?, ?it/s]"
      ]
     },
     "metadata": {},
     "output_type": "display_data"
    },
    {
     "data": {
      "application/vnd.jupyter.widget-view+json": {
       "model_id": "62fd90ed5f744ce1bfdd497b08a01f83",
       "version_major": 2,
       "version_minor": 0
      },
      "text/plain": [
       "Epoch 36 Val  :   0%|          | 0/10 [00:00<?, ?it/s]"
      ]
     },
     "metadata": {},
     "output_type": "display_data"
    },
    {
     "name": "stdout",
     "output_type": "stream",
     "text": [
      "Epoch: 36 | Time: 0m 4s\n",
      "\tTrain Loss: 3.116 | Val. Loss: 4.377\n",
      "\t-> 검증 손실 감소, 모델 저장 완료.\n"
     ]
    },
    {
     "data": {
      "application/vnd.jupyter.widget-view+json": {
       "model_id": "e0da2d7850ea4ca68b0c8a6a5e89a1d0",
       "version_major": 2,
       "version_minor": 0
      },
      "text/plain": [
       "Epoch 37 Train:   0%|          | 0/89 [00:00<?, ?it/s]"
      ]
     },
     "metadata": {},
     "output_type": "display_data"
    },
    {
     "data": {
      "application/vnd.jupyter.widget-view+json": {
       "model_id": "1ebbdcb1321a436cba43b9b455387612",
       "version_major": 2,
       "version_minor": 0
      },
      "text/plain": [
       "Epoch 37 Val  :   0%|          | 0/10 [00:00<?, ?it/s]"
      ]
     },
     "metadata": {},
     "output_type": "display_data"
    },
    {
     "name": "stdout",
     "output_type": "stream",
     "text": [
      "Epoch: 37 | Time: 0m 4s\n",
      "\tTrain Loss: 3.052 | Val. Loss: 4.357\n",
      "\t-> 검증 손실 감소, 모델 저장 완료.\n"
     ]
    },
    {
     "data": {
      "application/vnd.jupyter.widget-view+json": {
       "model_id": "969899f6142343d0a7ee656b9136378e",
       "version_major": 2,
       "version_minor": 0
      },
      "text/plain": [
       "Epoch 38 Train:   0%|          | 0/89 [00:00<?, ?it/s]"
      ]
     },
     "metadata": {},
     "output_type": "display_data"
    },
    {
     "data": {
      "application/vnd.jupyter.widget-view+json": {
       "model_id": "99bfaf8fea6b4244ade4d341e4295d53",
       "version_major": 2,
       "version_minor": 0
      },
      "text/plain": [
       "Epoch 38 Val  :   0%|          | 0/10 [00:00<?, ?it/s]"
      ]
     },
     "metadata": {},
     "output_type": "display_data"
    },
    {
     "name": "stdout",
     "output_type": "stream",
     "text": [
      "Epoch: 38 | Time: 0m 4s\n",
      "\tTrain Loss: 2.991 | Val. Loss: 4.335\n",
      "\t-> 검증 손실 감소, 모델 저장 완료.\n"
     ]
    },
    {
     "data": {
      "application/vnd.jupyter.widget-view+json": {
       "model_id": "3b967f2e12fd4ad288823988289b357c",
       "version_major": 2,
       "version_minor": 0
      },
      "text/plain": [
       "Epoch 39 Train:   0%|          | 0/89 [00:00<?, ?it/s]"
      ]
     },
     "metadata": {},
     "output_type": "display_data"
    },
    {
     "data": {
      "application/vnd.jupyter.widget-view+json": {
       "model_id": "657f05a40e6f4a388b44f03fc756889c",
       "version_major": 2,
       "version_minor": 0
      },
      "text/plain": [
       "Epoch 39 Val  :   0%|          | 0/10 [00:00<?, ?it/s]"
      ]
     },
     "metadata": {},
     "output_type": "display_data"
    },
    {
     "name": "stdout",
     "output_type": "stream",
     "text": [
      "Epoch: 39 | Time: 0m 4s\n",
      "\tTrain Loss: 2.924 | Val. Loss: 4.319\n",
      "\t-> 검증 손실 감소, 모델 저장 완료.\n"
     ]
    },
    {
     "data": {
      "application/vnd.jupyter.widget-view+json": {
       "model_id": "09eb424a91054c418bf44a000b66f0eb",
       "version_major": 2,
       "version_minor": 0
      },
      "text/plain": [
       "Epoch 40 Train:   0%|          | 0/89 [00:00<?, ?it/s]"
      ]
     },
     "metadata": {},
     "output_type": "display_data"
    },
    {
     "data": {
      "application/vnd.jupyter.widget-view+json": {
       "model_id": "336b47a3cf3a433585cdf760d2bd23f8",
       "version_major": 2,
       "version_minor": 0
      },
      "text/plain": [
       "Epoch 40 Val  :   0%|          | 0/10 [00:00<?, ?it/s]"
      ]
     },
     "metadata": {},
     "output_type": "display_data"
    },
    {
     "name": "stdout",
     "output_type": "stream",
     "text": [
      "Epoch: 40 | Time: 0m 4s\n",
      "\tTrain Loss: 2.861 | Val. Loss: 4.302\n",
      "\t-> 검증 손실 감소, 모델 저장 완료.\n"
     ]
    },
    {
     "data": {
      "application/vnd.jupyter.widget-view+json": {
       "model_id": "11246418bfd041a9a6fe1b3a2292f07b",
       "version_major": 2,
       "version_minor": 0
      },
      "text/plain": [
       "Epoch 41 Train:   0%|          | 0/89 [00:00<?, ?it/s]"
      ]
     },
     "metadata": {},
     "output_type": "display_data"
    },
    {
     "data": {
      "application/vnd.jupyter.widget-view+json": {
       "model_id": "b02b2faf08d14b07a017ec1475a24949",
       "version_major": 2,
       "version_minor": 0
      },
      "text/plain": [
       "Epoch 41 Val  :   0%|          | 0/10 [00:00<?, ?it/s]"
      ]
     },
     "metadata": {},
     "output_type": "display_data"
    },
    {
     "name": "stdout",
     "output_type": "stream",
     "text": [
      "Epoch: 41 | Time: 0m 4s\n",
      "\tTrain Loss: 2.803 | Val. Loss: 4.284\n",
      "\t-> 검증 손실 감소, 모델 저장 완료.\n"
     ]
    },
    {
     "data": {
      "application/vnd.jupyter.widget-view+json": {
       "model_id": "03c563cac3084f9aa66b37b02bad4bb0",
       "version_major": 2,
       "version_minor": 0
      },
      "text/plain": [
       "Epoch 42 Train:   0%|          | 0/89 [00:00<?, ?it/s]"
      ]
     },
     "metadata": {},
     "output_type": "display_data"
    },
    {
     "data": {
      "application/vnd.jupyter.widget-view+json": {
       "model_id": "429b0861708a42c7a235cb799ac29d7a",
       "version_major": 2,
       "version_minor": 0
      },
      "text/plain": [
       "Epoch 42 Val  :   0%|          | 0/10 [00:00<?, ?it/s]"
      ]
     },
     "metadata": {},
     "output_type": "display_data"
    },
    {
     "name": "stdout",
     "output_type": "stream",
     "text": [
      "Epoch: 42 | Time: 0m 4s\n",
      "\tTrain Loss: 2.744 | Val. Loss: 4.269\n",
      "\t-> 검증 손실 감소, 모델 저장 완료.\n"
     ]
    },
    {
     "data": {
      "application/vnd.jupyter.widget-view+json": {
       "model_id": "a827edeaa997417c93b2525dd32eeba2",
       "version_major": 2,
       "version_minor": 0
      },
      "text/plain": [
       "Epoch 43 Train:   0%|          | 0/89 [00:00<?, ?it/s]"
      ]
     },
     "metadata": {},
     "output_type": "display_data"
    },
    {
     "data": {
      "application/vnd.jupyter.widget-view+json": {
       "model_id": "ecec497fd2ff4dedbe4af71d034c396c",
       "version_major": 2,
       "version_minor": 0
      },
      "text/plain": [
       "Epoch 43 Val  :   0%|          | 0/10 [00:00<?, ?it/s]"
      ]
     },
     "metadata": {},
     "output_type": "display_data"
    },
    {
     "name": "stdout",
     "output_type": "stream",
     "text": [
      "Epoch: 43 | Time: 0m 4s\n",
      "\tTrain Loss: 2.687 | Val. Loss: 4.257\n",
      "\t-> 검증 손실 감소, 모델 저장 완료.\n"
     ]
    },
    {
     "data": {
      "application/vnd.jupyter.widget-view+json": {
       "model_id": "bf3e7c157e5d4d179a9d63793e6fe362",
       "version_major": 2,
       "version_minor": 0
      },
      "text/plain": [
       "Epoch 44 Train:   0%|          | 0/89 [00:00<?, ?it/s]"
      ]
     },
     "metadata": {},
     "output_type": "display_data"
    },
    {
     "data": {
      "application/vnd.jupyter.widget-view+json": {
       "model_id": "98e7ef7209bc4b928a3b46da2acb46fa",
       "version_major": 2,
       "version_minor": 0
      },
      "text/plain": [
       "Epoch 44 Val  :   0%|          | 0/10 [00:00<?, ?it/s]"
      ]
     },
     "metadata": {},
     "output_type": "display_data"
    },
    {
     "name": "stdout",
     "output_type": "stream",
     "text": [
      "Epoch: 44 | Time: 0m 4s\n",
      "\tTrain Loss: 2.630 | Val. Loss: 4.241\n",
      "\t-> 검증 손실 감소, 모델 저장 완료.\n"
     ]
    },
    {
     "data": {
      "application/vnd.jupyter.widget-view+json": {
       "model_id": "b92b0c97a1c74425ae651ade5941c238",
       "version_major": 2,
       "version_minor": 0
      },
      "text/plain": [
       "Epoch 45 Train:   0%|          | 0/89 [00:00<?, ?it/s]"
      ]
     },
     "metadata": {},
     "output_type": "display_data"
    },
    {
     "data": {
      "application/vnd.jupyter.widget-view+json": {
       "model_id": "8ef34b0b45994795bf4d3fbd095e4a6e",
       "version_major": 2,
       "version_minor": 0
      },
      "text/plain": [
       "Epoch 45 Val  :   0%|          | 0/10 [00:00<?, ?it/s]"
      ]
     },
     "metadata": {},
     "output_type": "display_data"
    },
    {
     "name": "stdout",
     "output_type": "stream",
     "text": [
      "Epoch: 45 | Time: 0m 4s\n",
      "\tTrain Loss: 2.575 | Val. Loss: 4.232\n",
      "\t-> 검증 손실 감소, 모델 저장 완료.\n"
     ]
    },
    {
     "data": {
      "application/vnd.jupyter.widget-view+json": {
       "model_id": "b9019720e3ed41069b5edb0c2737d953",
       "version_major": 2,
       "version_minor": 0
      },
      "text/plain": [
       "Epoch 46 Train:   0%|          | 0/89 [00:00<?, ?it/s]"
      ]
     },
     "metadata": {},
     "output_type": "display_data"
    },
    {
     "data": {
      "application/vnd.jupyter.widget-view+json": {
       "model_id": "6a4fea245c124a7cb6b971e8322a087e",
       "version_major": 2,
       "version_minor": 0
      },
      "text/plain": [
       "Epoch 46 Val  :   0%|          | 0/10 [00:00<?, ?it/s]"
      ]
     },
     "metadata": {},
     "output_type": "display_data"
    },
    {
     "name": "stdout",
     "output_type": "stream",
     "text": [
      "Epoch: 46 | Time: 0m 4s\n",
      "\tTrain Loss: 2.518 | Val. Loss: 4.224\n",
      "\t-> 검증 손실 감소, 모델 저장 완료.\n"
     ]
    },
    {
     "data": {
      "application/vnd.jupyter.widget-view+json": {
       "model_id": "13ac7ac6b81147888b26d7b0fc547152",
       "version_major": 2,
       "version_minor": 0
      },
      "text/plain": [
       "Epoch 47 Train:   0%|          | 0/89 [00:00<?, ?it/s]"
      ]
     },
     "metadata": {},
     "output_type": "display_data"
    },
    {
     "data": {
      "application/vnd.jupyter.widget-view+json": {
       "model_id": "7775d279aab64a029f2223d41b9c6231",
       "version_major": 2,
       "version_minor": 0
      },
      "text/plain": [
       "Epoch 47 Val  :   0%|          | 0/10 [00:00<?, ?it/s]"
      ]
     },
     "metadata": {},
     "output_type": "display_data"
    },
    {
     "name": "stdout",
     "output_type": "stream",
     "text": [
      "Epoch: 47 | Time: 0m 4s\n",
      "\tTrain Loss: 2.460 | Val. Loss: 4.204\n",
      "\t-> 검증 손실 감소, 모델 저장 완료.\n"
     ]
    },
    {
     "data": {
      "application/vnd.jupyter.widget-view+json": {
       "model_id": "a1543b0d84d44fb687c6e7337ad4e91e",
       "version_major": 2,
       "version_minor": 0
      },
      "text/plain": [
       "Epoch 48 Train:   0%|          | 0/89 [00:00<?, ?it/s]"
      ]
     },
     "metadata": {},
     "output_type": "display_data"
    },
    {
     "data": {
      "application/vnd.jupyter.widget-view+json": {
       "model_id": "37e7b944fe1d4d5994598cf3b1b2623c",
       "version_major": 2,
       "version_minor": 0
      },
      "text/plain": [
       "Epoch 48 Val  :   0%|          | 0/10 [00:00<?, ?it/s]"
      ]
     },
     "metadata": {},
     "output_type": "display_data"
    },
    {
     "name": "stdout",
     "output_type": "stream",
     "text": [
      "Epoch: 48 | Time: 0m 4s\n",
      "\tTrain Loss: 2.409 | Val. Loss: 4.186\n",
      "\t-> 검증 손실 감소, 모델 저장 완료.\n"
     ]
    },
    {
     "data": {
      "application/vnd.jupyter.widget-view+json": {
       "model_id": "9dd9cd9663de46dc968e2514846760b2",
       "version_major": 2,
       "version_minor": 0
      },
      "text/plain": [
       "Epoch 49 Train:   0%|          | 0/89 [00:00<?, ?it/s]"
      ]
     },
     "metadata": {},
     "output_type": "display_data"
    },
    {
     "data": {
      "application/vnd.jupyter.widget-view+json": {
       "model_id": "a83efbf62b5e46b3b88620ae81b67a5e",
       "version_major": 2,
       "version_minor": 0
      },
      "text/plain": [
       "Epoch 49 Val  :   0%|          | 0/10 [00:00<?, ?it/s]"
      ]
     },
     "metadata": {},
     "output_type": "display_data"
    },
    {
     "name": "stdout",
     "output_type": "stream",
     "text": [
      "Epoch: 49 | Time: 0m 4s\n",
      "\tTrain Loss: 2.358 | Val. Loss: 4.184\n",
      "\t-> 검증 손실 감소, 모델 저장 완료.\n"
     ]
    },
    {
     "data": {
      "application/vnd.jupyter.widget-view+json": {
       "model_id": "9a85fd891f054de7ab7473b7a2d2148b",
       "version_major": 2,
       "version_minor": 0
      },
      "text/plain": [
       "Epoch 50 Train:   0%|          | 0/89 [00:00<?, ?it/s]"
      ]
     },
     "metadata": {},
     "output_type": "display_data"
    },
    {
     "data": {
      "application/vnd.jupyter.widget-view+json": {
       "model_id": "daa96af595a6440eb15ee8dce1584ab6",
       "version_major": 2,
       "version_minor": 0
      },
      "text/plain": [
       "Epoch 50 Val  :   0%|          | 0/10 [00:00<?, ?it/s]"
      ]
     },
     "metadata": {},
     "output_type": "display_data"
    },
    {
     "name": "stdout",
     "output_type": "stream",
     "text": [
      "Epoch: 50 | Time: 0m 4s\n",
      "\tTrain Loss: 2.306 | Val. Loss: 4.174\n",
      "\t-> 검증 손실 감소, 모델 저장 완료.\n"
     ]
    },
    {
     "data": {
      "application/vnd.jupyter.widget-view+json": {
       "model_id": "04c226a267e74281b2336c021ce28257",
       "version_major": 2,
       "version_minor": 0
      },
      "text/plain": [
       "Epoch 51 Train:   0%|          | 0/89 [00:00<?, ?it/s]"
      ]
     },
     "metadata": {},
     "output_type": "display_data"
    },
    {
     "data": {
      "application/vnd.jupyter.widget-view+json": {
       "model_id": "7c2fed1f9ec2464b99270fb5b868b9d1",
       "version_major": 2,
       "version_minor": 0
      },
      "text/plain": [
       "Epoch 51 Val  :   0%|          | 0/10 [00:00<?, ?it/s]"
      ]
     },
     "metadata": {},
     "output_type": "display_data"
    },
    {
     "name": "stdout",
     "output_type": "stream",
     "text": [
      "Epoch: 51 | Time: 0m 4s\n",
      "\tTrain Loss: 2.254 | Val. Loss: 4.158\n",
      "\t-> 검증 손실 감소, 모델 저장 완료.\n"
     ]
    },
    {
     "data": {
      "application/vnd.jupyter.widget-view+json": {
       "model_id": "906ffb692ca34b4983b602027d214e05",
       "version_major": 2,
       "version_minor": 0
      },
      "text/plain": [
       "Epoch 52 Train:   0%|          | 0/89 [00:00<?, ?it/s]"
      ]
     },
     "metadata": {},
     "output_type": "display_data"
    },
    {
     "data": {
      "application/vnd.jupyter.widget-view+json": {
       "model_id": "53d89aeec1fa473cbf97162c9b1d2da8",
       "version_major": 2,
       "version_minor": 0
      },
      "text/plain": [
       "Epoch 52 Val  :   0%|          | 0/10 [00:00<?, ?it/s]"
      ]
     },
     "metadata": {},
     "output_type": "display_data"
    },
    {
     "name": "stdout",
     "output_type": "stream",
     "text": [
      "Epoch: 52 | Time: 0m 4s\n",
      "\tTrain Loss: 2.201 | Val. Loss: 4.148\n",
      "\t-> 검증 손실 감소, 모델 저장 완료.\n"
     ]
    },
    {
     "data": {
      "application/vnd.jupyter.widget-view+json": {
       "model_id": "a042f26069484a8c91aaac4567a1558c",
       "version_major": 2,
       "version_minor": 0
      },
      "text/plain": [
       "Epoch 53 Train:   0%|          | 0/89 [00:00<?, ?it/s]"
      ]
     },
     "metadata": {},
     "output_type": "display_data"
    },
    {
     "data": {
      "application/vnd.jupyter.widget-view+json": {
       "model_id": "3366b2a80b6e414d8d707926759896ae",
       "version_major": 2,
       "version_minor": 0
      },
      "text/plain": [
       "Epoch 53 Val  :   0%|          | 0/10 [00:00<?, ?it/s]"
      ]
     },
     "metadata": {},
     "output_type": "display_data"
    },
    {
     "name": "stdout",
     "output_type": "stream",
     "text": [
      "Epoch: 53 | Time: 0m 4s\n",
      "\tTrain Loss: 2.160 | Val. Loss: 4.143\n",
      "\t-> 검증 손실 감소, 모델 저장 완료.\n"
     ]
    },
    {
     "data": {
      "application/vnd.jupyter.widget-view+json": {
       "model_id": "6bf79e0d903f45ae8453759801031419",
       "version_major": 2,
       "version_minor": 0
      },
      "text/plain": [
       "Epoch 54 Train:   0%|          | 0/89 [00:00<?, ?it/s]"
      ]
     },
     "metadata": {},
     "output_type": "display_data"
    },
    {
     "data": {
      "application/vnd.jupyter.widget-view+json": {
       "model_id": "13637342a2c74db9875456407c72e158",
       "version_major": 2,
       "version_minor": 0
      },
      "text/plain": [
       "Epoch 54 Val  :   0%|          | 0/10 [00:00<?, ?it/s]"
      ]
     },
     "metadata": {},
     "output_type": "display_data"
    },
    {
     "name": "stdout",
     "output_type": "stream",
     "text": [
      "Epoch: 54 | Time: 0m 4s\n",
      "\tTrain Loss: 2.104 | Val. Loss: 4.132\n",
      "\t-> 검증 손실 감소, 모델 저장 완료.\n"
     ]
    },
    {
     "data": {
      "application/vnd.jupyter.widget-view+json": {
       "model_id": "859f18edd7ac4e1da014c8358e6f5211",
       "version_major": 2,
       "version_minor": 0
      },
      "text/plain": [
       "Epoch 55 Train:   0%|          | 0/89 [00:00<?, ?it/s]"
      ]
     },
     "metadata": {},
     "output_type": "display_data"
    },
    {
     "data": {
      "application/vnd.jupyter.widget-view+json": {
       "model_id": "5cd8272ee60641d1bad98834ccf2807e",
       "version_major": 2,
       "version_minor": 0
      },
      "text/plain": [
       "Epoch 55 Val  :   0%|          | 0/10 [00:00<?, ?it/s]"
      ]
     },
     "metadata": {},
     "output_type": "display_data"
    },
    {
     "name": "stdout",
     "output_type": "stream",
     "text": [
      "Epoch: 55 | Time: 0m 4s\n",
      "\tTrain Loss: 2.062 | Val. Loss: 4.130\n",
      "\t-> 검증 손실 감소, 모델 저장 완료.\n"
     ]
    },
    {
     "data": {
      "application/vnd.jupyter.widget-view+json": {
       "model_id": "026343e711df4ea299e155561c90314d",
       "version_major": 2,
       "version_minor": 0
      },
      "text/plain": [
       "Epoch 56 Train:   0%|          | 0/89 [00:00<?, ?it/s]"
      ]
     },
     "metadata": {},
     "output_type": "display_data"
    },
    {
     "data": {
      "application/vnd.jupyter.widget-view+json": {
       "model_id": "f0ce64e69e5543fd9c0b6f8d8da55b6c",
       "version_major": 2,
       "version_minor": 0
      },
      "text/plain": [
       "Epoch 56 Val  :   0%|          | 0/10 [00:00<?, ?it/s]"
      ]
     },
     "metadata": {},
     "output_type": "display_data"
    },
    {
     "name": "stdout",
     "output_type": "stream",
     "text": [
      "Epoch: 56 | Time: 0m 4s\n",
      "\tTrain Loss: 2.016 | Val. Loss: 4.123\n",
      "\t-> 검증 손실 감소, 모델 저장 완료.\n"
     ]
    },
    {
     "data": {
      "application/vnd.jupyter.widget-view+json": {
       "model_id": "5b5cbd36b29c452ca1a01e6ab9cb01a2",
       "version_major": 2,
       "version_minor": 0
      },
      "text/plain": [
       "Epoch 57 Train:   0%|          | 0/89 [00:00<?, ?it/s]"
      ]
     },
     "metadata": {},
     "output_type": "display_data"
    },
    {
     "data": {
      "application/vnd.jupyter.widget-view+json": {
       "model_id": "ce3e01c3c44e46b39f973becbfffb7f4",
       "version_major": 2,
       "version_minor": 0
      },
      "text/plain": [
       "Epoch 57 Val  :   0%|          | 0/10 [00:00<?, ?it/s]"
      ]
     },
     "metadata": {},
     "output_type": "display_data"
    },
    {
     "name": "stdout",
     "output_type": "stream",
     "text": [
      "Epoch: 57 | Time: 0m 4s\n",
      "\tTrain Loss: 1.977 | Val. Loss: 4.111\n",
      "\t-> 검증 손실 감소, 모델 저장 완료.\n"
     ]
    },
    {
     "data": {
      "application/vnd.jupyter.widget-view+json": {
       "model_id": "515e86cfeb6a47968f683986bb863d96",
       "version_major": 2,
       "version_minor": 0
      },
      "text/plain": [
       "Epoch 58 Train:   0%|          | 0/89 [00:00<?, ?it/s]"
      ]
     },
     "metadata": {},
     "output_type": "display_data"
    },
    {
     "data": {
      "application/vnd.jupyter.widget-view+json": {
       "model_id": "4207d3ac206b46ca9f09599d8692d2dc",
       "version_major": 2,
       "version_minor": 0
      },
      "text/plain": [
       "Epoch 58 Val  :   0%|          | 0/10 [00:00<?, ?it/s]"
      ]
     },
     "metadata": {},
     "output_type": "display_data"
    },
    {
     "name": "stdout",
     "output_type": "stream",
     "text": [
      "Epoch: 58 | Time: 0m 4s\n",
      "\tTrain Loss: 1.922 | Val. Loss: 4.107\n",
      "\t-> 검증 손실 감소, 모델 저장 완료.\n"
     ]
    },
    {
     "data": {
      "application/vnd.jupyter.widget-view+json": {
       "model_id": "b5b0f46fd02f4062bc17ce635ac5e25e",
       "version_major": 2,
       "version_minor": 0
      },
      "text/plain": [
       "Epoch 59 Train:   0%|          | 0/89 [00:00<?, ?it/s]"
      ]
     },
     "metadata": {},
     "output_type": "display_data"
    },
    {
     "data": {
      "application/vnd.jupyter.widget-view+json": {
       "model_id": "602df36fdd664e9cb67619cbfd248960",
       "version_major": 2,
       "version_minor": 0
      },
      "text/plain": [
       "Epoch 59 Val  :   0%|          | 0/10 [00:00<?, ?it/s]"
      ]
     },
     "metadata": {},
     "output_type": "display_data"
    },
    {
     "name": "stdout",
     "output_type": "stream",
     "text": [
      "Epoch: 59 | Time: 0m 4s\n",
      "\tTrain Loss: 1.882 | Val. Loss: 4.096\n",
      "\t-> 검증 손실 감소, 모델 저장 완료.\n"
     ]
    },
    {
     "data": {
      "application/vnd.jupyter.widget-view+json": {
       "model_id": "f918c69ed4e44f458aa2bbf5d186d2df",
       "version_major": 2,
       "version_minor": 0
      },
      "text/plain": [
       "Epoch 60 Train:   0%|          | 0/89 [00:00<?, ?it/s]"
      ]
     },
     "metadata": {},
     "output_type": "display_data"
    },
    {
     "data": {
      "application/vnd.jupyter.widget-view+json": {
       "model_id": "22c42c99fe39495d944a821f12eba24b",
       "version_major": 2,
       "version_minor": 0
      },
      "text/plain": [
       "Epoch 60 Val  :   0%|          | 0/10 [00:00<?, ?it/s]"
      ]
     },
     "metadata": {},
     "output_type": "display_data"
    },
    {
     "name": "stdout",
     "output_type": "stream",
     "text": [
      "Epoch: 60 | Time: 0m 4s\n",
      "\tTrain Loss: 1.841 | Val. Loss: 4.091\n",
      "\t-> 검증 손실 감소, 모델 저장 완료.\n"
     ]
    },
    {
     "data": {
      "application/vnd.jupyter.widget-view+json": {
       "model_id": "67a4fa10070044169616dea2c822a73a",
       "version_major": 2,
       "version_minor": 0
      },
      "text/plain": [
       "Epoch 61 Train:   0%|          | 0/89 [00:00<?, ?it/s]"
      ]
     },
     "metadata": {},
     "output_type": "display_data"
    },
    {
     "data": {
      "application/vnd.jupyter.widget-view+json": {
       "model_id": "8496b376679f4af58a3df479d63caedd",
       "version_major": 2,
       "version_minor": 0
      },
      "text/plain": [
       "Epoch 61 Val  :   0%|          | 0/10 [00:00<?, ?it/s]"
      ]
     },
     "metadata": {},
     "output_type": "display_data"
    },
    {
     "name": "stdout",
     "output_type": "stream",
     "text": [
      "Epoch: 61 | Time: 0m 4s\n",
      "\tTrain Loss: 1.799 | Val. Loss: 4.087\n",
      "\t-> 검증 손실 감소, 모델 저장 완료.\n"
     ]
    },
    {
     "data": {
      "application/vnd.jupyter.widget-view+json": {
       "model_id": "7b01b4e5de8243adafb065729c163a9b",
       "version_major": 2,
       "version_minor": 0
      },
      "text/plain": [
       "Epoch 62 Train:   0%|          | 0/89 [00:00<?, ?it/s]"
      ]
     },
     "metadata": {},
     "output_type": "display_data"
    },
    {
     "data": {
      "application/vnd.jupyter.widget-view+json": {
       "model_id": "a8d961e3f8a0479188489a54028f89f7",
       "version_major": 2,
       "version_minor": 0
      },
      "text/plain": [
       "Epoch 62 Val  :   0%|          | 0/10 [00:00<?, ?it/s]"
      ]
     },
     "metadata": {},
     "output_type": "display_data"
    },
    {
     "name": "stdout",
     "output_type": "stream",
     "text": [
      "Epoch: 62 | Time: 0m 4s\n",
      "\tTrain Loss: 1.762 | Val. Loss: 4.082\n",
      "\t-> 검증 손실 감소, 모델 저장 완료.\n"
     ]
    },
    {
     "data": {
      "application/vnd.jupyter.widget-view+json": {
       "model_id": "260b150b53d7462a8fcec944ade452f3",
       "version_major": 2,
       "version_minor": 0
      },
      "text/plain": [
       "Epoch 63 Train:   0%|          | 0/89 [00:00<?, ?it/s]"
      ]
     },
     "metadata": {},
     "output_type": "display_data"
    },
    {
     "data": {
      "application/vnd.jupyter.widget-view+json": {
       "model_id": "b2c8d714b7844139b5ac00496fdd3873",
       "version_major": 2,
       "version_minor": 0
      },
      "text/plain": [
       "Epoch 63 Val  :   0%|          | 0/10 [00:00<?, ?it/s]"
      ]
     },
     "metadata": {},
     "output_type": "display_data"
    },
    {
     "name": "stdout",
     "output_type": "stream",
     "text": [
      "Epoch: 63 | Time: 0m 4s\n",
      "\tTrain Loss: 1.725 | Val. Loss: 4.076\n",
      "\t-> 검증 손실 감소, 모델 저장 완료.\n"
     ]
    },
    {
     "data": {
      "application/vnd.jupyter.widget-view+json": {
       "model_id": "c57ad8a7de154d6bb2c7fa6a0a5319d9",
       "version_major": 2,
       "version_minor": 0
      },
      "text/plain": [
       "Epoch 64 Train:   0%|          | 0/89 [00:00<?, ?it/s]"
      ]
     },
     "metadata": {},
     "output_type": "display_data"
    },
    {
     "data": {
      "application/vnd.jupyter.widget-view+json": {
       "model_id": "adbc5d438fc340288dc8a4f9bf5db76b",
       "version_major": 2,
       "version_minor": 0
      },
      "text/plain": [
       "Epoch 64 Val  :   0%|          | 0/10 [00:00<?, ?it/s]"
      ]
     },
     "metadata": {},
     "output_type": "display_data"
    },
    {
     "name": "stdout",
     "output_type": "stream",
     "text": [
      "Epoch: 64 | Time: 0m 4s\n",
      "\tTrain Loss: 1.683 | Val. Loss: 4.082\n",
      "\t-> 검증 손실 증가. (1/2)\n"
     ]
    },
    {
     "data": {
      "application/vnd.jupyter.widget-view+json": {
       "model_id": "682aebab2d234e64923353566dde1055",
       "version_major": 2,
       "version_minor": 0
      },
      "text/plain": [
       "Epoch 65 Train:   0%|          | 0/89 [00:00<?, ?it/s]"
      ]
     },
     "metadata": {},
     "output_type": "display_data"
    },
    {
     "data": {
      "application/vnd.jupyter.widget-view+json": {
       "model_id": "efb7009676fd4a34a3c37a5fbf9602c4",
       "version_major": 2,
       "version_minor": 0
      },
      "text/plain": [
       "Epoch 65 Val  :   0%|          | 0/10 [00:00<?, ?it/s]"
      ]
     },
     "metadata": {},
     "output_type": "display_data"
    },
    {
     "name": "stdout",
     "output_type": "stream",
     "text": [
      "Epoch: 65 | Time: 0m 4s\n",
      "\tTrain Loss: 1.645 | Val. Loss: 4.081\n",
      "\t-> 검증 손실 증가. (2/2)\n",
      "Early stopping. 훈련을 중단합니다.\n",
      "\n",
      "훈련 종료.\n",
      "------------------------------\n"
     ]
    }
   ],
   "source": [
    "print(\"\\n6. 훈련 시작\")\n",
    "best_val_loss = float('inf')\n",
    "early_stop_counter = 0\n",
    "patience = 2\n",
    "model_save_path = 'best_transformer_chatbot_sp_layer3.pt'\n",
    "train_losses, val_losses = [], []\n",
    "\n",
    "for epoch in range(1, EPOCHS + 1):\n",
    "    start_time = time.time()\n",
    "    train_loss = train_epoch(model, train_dataloader, optimizer, criterion, DEVICE, epoch)\n",
    "    val_loss = evaluate(model, val_dataloader, criterion, DEVICE, epoch)\n",
    "    end_time = time.time()\n",
    "    epoch_mins, epoch_secs = divmod(end_time - start_time, 60)\n",
    "    train_losses.append(train_loss)\n",
    "    val_losses.append(val_loss)\n",
    "\n",
    "    print(f'Epoch: {epoch:02} | Time: {int(epoch_mins)}m {int(epoch_secs)}s')\n",
    "    print(f'\\tTrain Loss: {train_loss:.3f} | Val. Loss: {val_loss:.3f}')\n",
    "\n",
    "    if val_loss < best_val_loss:\n",
    "        best_val_loss = val_loss\n",
    "        torch.save(model.state_dict(), model_save_path)\n",
    "        early_stop_counter = 0\n",
    "        print(\"\\t-> 검증 손실 감소, 모델 저장 완료.\")\n",
    "    else:\n",
    "        early_stop_counter += 1\n",
    "        print(f\"\\t-> 검증 손실 증가. ({early_stop_counter}/{patience})\")\n",
    "    if early_stop_counter >= patience:\n",
    "        print(\"Early stopping. 훈련을 중단합니다.\")\n",
    "        break\n",
    "\n",
    "print(\"\\n훈련 종료.\")\n",
    "print(\"-\" * 30)"
   ]
  },
  {
   "cell_type": "code",
   "execution_count": 20,
   "id": "999a83c0-4f12-46d1-8f1f-6e2f28517cff",
   "metadata": {},
   "outputs": [
    {
     "name": "stdout",
     "output_type": "stream",
     "text": [
      "\n",
      "7. 훈련/검증 손실 시각화\n",
      "손실 그래프를 'loss_curve_sp.png' 파일로 저장했습니다.\n"
     ]
    },
    {
     "data": {
      "image/png": "[encoded data removed]",
      "text/plain": [
       "<Figure size 1000x600 with 1 Axes>"
      ]
     },
     "metadata": {},
     "output_type": "display_data"
    },
    {
     "name": "stdout",
     "output_type": "stream",
     "text": [
      "------------------------------\n"
     ]
    }
   ],
   "source": [
    "print(\"\\n7. 훈련/검증 손실 시각화\")\n",
    "plt.figure(figsize=(10, 6))\n",
    "plt.plot(train_losses, label='Train Loss')\n",
    "plt.plot(val_losses, label='Validation Loss')\n",
    "plt.title('Epoch별 훈련 및 검증 손실')\n",
    "plt.xlabel('Epoch')\n",
    "plt.ylabel('Loss')\n",
    "plt.legend(); plt.grid(True)\n",
    "plt.savefig('loss_curve_sp.png')\n",
    "print(\"손실 그래프를 'loss_curve_sp.png' 파일로 저장했습니다.\")\n",
    "plt.show()\n",
    "print(\"-\" * 30)"
   ]
  },
  {
   "cell_type": "code",
   "execution_count": 21,
   "id": "cdfcb45f-3a13-4e2e-99d5-4c1c60e4de9b",
   "metadata": {},
   "outputs": [
    {
     "name": "stdout",
     "output_type": "stream",
     "text": [
      "\n",
      "8. 최적 모델 로드 및 추론/시각화 함수 정의\n",
      "함수 정의 완료.\n"
     ]
    }
   ],
   "source": [
    "print(\"\\n8. 최적 모델 로드 및 추론/시각화 함수 정의\")\n",
    "model.load_state_dict(torch.load(model_save_path, map_location=DEVICE))\n",
    "\n",
    "def translate_and_get_attention(model, sentence, tokenizer, device):\n",
    "    model.eval()\n",
    "    src_tensor = text_transform(sentence, tokenizer).unsqueeze(0).to(device)\n",
    "    src_padding_mask = (src_tensor == PAD_IDX)\n",
    "\n",
    "    with torch.no_grad():\n",
    "        memory = model.transformer_encoder(model.pos_encoder(model.embedding(src_tensor) * math.sqrt(D_MODEL)), \n",
    "                                           src_key_padding_mask=src_padding_mask)\n",
    "\n",
    "    ys = torch.ones(1, 1).fill_(SOS_IDX).type(torch.long).to(device)\n",
    "    attentions = []\n",
    "\n",
    "    for i in range(MAX_LEN - 1):\n",
    "        tgt_padding_mask = (ys == PAD_IDX)\n",
    "        tgt_mask = model.generate_square_subsequent_mask(ys.size(1), device)\n",
    "        tgt_emb = model.pos_encoder(model.embedding(ys) * math.sqrt(D_MODEL))\n",
    "\n",
    "        output = tgt_emb\n",
    "        temp_attention = None\n",
    "        for layer in model.transformer_decoder.layers:\n",
    "            output, temp_attention = layer(output, memory, tgt_mask=tgt_mask, \n",
    "                                           tgt_key_padding_mask=tgt_padding_mask,\n",
    "                                           memory_key_padding_mask=src_padding_mask)\n",
    "\n",
    "        attentions.append(temp_attention[0, :, -1, :])\n",
    "        \n",
    "        prob = model.fc_out(output[:, -1])\n",
    "        _, next_word = torch.max(prob, dim=1)\n",
    "        next_word = next_word.item()\n",
    "\n",
    "        ys = torch.cat([ys, torch.ones(1, 1).type_as(src_tensor.data).fill_(next_word)], dim=1)\n",
    "        if next_word == EOS_IDX: break\n",
    "            \n",
    "    generated_text = tokenizer.decode(ys.squeeze(0).tolist())\n",
    "    attentions = torch.stack(attentions, dim=1)\n",
    "    \n",
    "    return generated_text, attentions\n",
    "\n",
    "def display_attention(sentence, translation, attention_heads, tokenizer):\n",
    "    sentence_tokens = ['<sos>'] + tokenizer.encode_as_pieces(sentence) + ['<eos>']\n",
    "    translation_pieces = tokenizer.encode_as_pieces(translation)\n",
    "    translation_tokens = ['<sos>'] + translation_pieces + ['<eos>']\n",
    "\n",
    "    attention = attention_heads[:, :len(translation_tokens), :len(sentence_tokens)].cpu().detach().numpy()\n",
    "    \n",
    "    fig = plt.figure(figsize=(16, 8))\n",
    "    for i in range(N_HEAD):\n",
    "        ax = fig.add_subplot(2, 4, i + 1)\n",
    "        ax.matshow(attention[i], cmap='viridis')\n",
    "        ax.set_xticks(range(len(sentence_tokens)))\n",
    "        ax.set_yticks(range(len(translation_tokens)))\n",
    "        ax.set_xticklabels(sentence_tokens, rotation=90, fontsize=8)\n",
    "        ax.set_yticklabels(translation_tokens, fontsize=8)\n",
    "        ax.set_xlabel('Source (Question)'); ax.set_ylabel('Target (Answer)')\n",
    "        ax.set_title(f'Head {i+1}')\n",
    "        \n",
    "    plt.tight_layout(pad=3.0)\n",
    "    plt.savefig('attention_map_sp.png')\n",
    "    print(\"실제 어텐션 맵을 'attention_map_sp.png' 파일로 저장했습니다.\")\n",
    "    plt.show()\n",
    "\n",
    "print(\"함수 정의 완료.\")"
   ]
  },
  {
   "cell_type": "code",
   "execution_count": 22,
   "id": "d6004d2d-5678-48e8-994b-36cc6f65feec",
   "metadata": {},
   "outputs": [
    {
     "name": "stdout",
     "output_type": "stream",
     "text": [
      "\n",
      "테스트 데이터 예측 결과 샘플:\n",
      "Q: 사랑이란 뭘까?\n",
      "실제 A: 사랑에는 답이 없어요.\n",
      "예측 A: 당신이 사랑하는 것보다 낫죠.\n",
      "\n",
      "Q: 친구가 나 귀엽대\n",
      "실제 A: 친구가 보는 눈이 있네요.\n",
      "예측 A: 친구를 사귈 수 있을 거예요.\n",
      "\n",
      "Q: 끝이네\n",
      "실제 A: 수고했어요.\n",
      "예측 A: 또 다르 사랑이 찾아올 거예요.\n",
      "\n",
      "Q: 그녀는 무슨 생각일까?ㅠ\n",
      "실제 A: 그녀밖에 알 수가 없죠.\n",
      "예측 A: 사람 마다 다르겠지요.\n",
      "\n",
      "Q: 한번의 기회쯤 있겠지 라고 생각했던 내생각이 어리석었습니다\n",
      "실제 A: 현실을 받아들이는 것도 중요합니다.\n",
      "예측 A: 저는 비밀을뿐이에요.\n",
      "\n",
      "------------------------------\n",
      "\n",
      "9. 실제 어텐션 맵 시각화\n",
      "시각화할 질문: 사랑이란 뭘까?\n",
      "생성된 답변: 당신이 사랑하는 것보다 낫죠.\n"
     ]
    },
    {
     "name": "stderr",
     "output_type": "stream",
     "text": [
      "/tmp/ipykernel_1069/740873135.py:60: UserWarning: Glyph 9601 (\\N{LOWER ONE EIGHTH BLOCK}) missing from font(s) NanumGothic.\n",
      "  plt.tight_layout(pad=3.0)\n",
      "/tmp/ipykernel_1069/740873135.py:61: UserWarning: Glyph 9601 (\\N{LOWER ONE EIGHTH BLOCK}) missing from font(s) NanumGothic.\n",
      "  plt.savefig('attention_map_sp.png')\n"
     ]
    },
    {
     "name": "stdout",
     "output_type": "stream",
     "text": [
      "실제 어텐션 맵을 'attention_map_sp.png' 파일로 저장했습니다.\n"
     ]
    },
    {
     "name": "stderr",
     "output_type": "stream",
     "text": [
      "/opt/conda/lib/python3.12/site-packages/IPython/core/pylabtools.py:170: UserWarning: Glyph 9601 (\\N{LOWER ONE EIGHTH BLOCK}) missing from font(s) NanumGothic.\n",
      "  fig.canvas.print_figure(bytes_io, **kw)\n"
     ]
    },
    {
     "data": {
      "image/png": "[encoded data removed]",
      "text/plain": [
       "<Figure size 1600x800 with 8 Axes>"
      ]
     },
     "metadata": {},
     "output_type": "display_data"
    },
    {
     "name": "stdout",
     "output_type": "stream",
     "text": [
      "------------------------------\n"
     ]
    }
   ],
   "source": [
    "print(\"\\n테스트 데이터 예측 결과 샘플:\")\n",
    "for i in range(5):\n",
    "    q = test_questions[i]\n",
    "    true_a = test_answers[i]\n",
    "    pred_a, _ = translate_and_get_attention(model, q, tokenizer, DEVICE)\n",
    "    \n",
    "    clean_pred_a = pred_a.replace('<sos>', '').replace('<eos>', '').strip()\n",
    "    \n",
    "    print(f\"Q: {q}\")\n",
    "    print(f\"실제 A: {true_a}\")\n",
    "    print(f\"예측 A: {clean_pred_a}\\n\")\n",
    "print(\"-\" * 30)\n",
    "\n",
    "print(\"\\n9. 실제 어텐션 맵 시각화\")\n",
    "q_example = test_questions[0]\n",
    "pred_a_example, attention = translate_and_get_attention(model, q_example, tokenizer, DEVICE)\n",
    "clean_pred_a_example = pred_a_example.replace('<sos>', '').replace('<eos>', '').strip()\n",
    "\n",
    "print(f\"시각화할 질문: {q_example}\")\n",
    "print(f\"생성된 답변: {clean_pred_a_example}\")\n",
    "display_attention(q_example, clean_pred_a_example, attention, tokenizer)\n",
    "print(\"-\" * 30)"
   ]
  },
  {
   "cell_type": "code",
   "execution_count": 23,
   "id": "153be819-a522-4ebf-b4f6-f66c71f9d4c6",
   "metadata": {},
   "outputs": [
    {
     "name": "stdout",
     "output_type": "stream",
     "text": [
      "\n",
      "10. ROUGE 스코어 측정\n"
     ]
    },
    {
     "data": {
      "application/vnd.jupyter.widget-view+json": {
       "model_id": "f73a67040f09412f83786c90f8a85d41",
       "version_major": 2,
       "version_minor": 0
      },
      "text/plain": [
       "Calculating ROUGE Score:   0%|          | 0/1175 [00:00<?, ?it/s]"
      ]
     },
     "metadata": {},
     "output_type": "display_data"
    },
    {
     "name": "stderr",
     "output_type": "stream",
     "text": [
      "/opt/conda/lib/python3.12/site-packages/torch/nn/functional.py:5962: UserWarning: Support for mismatched key_padding_mask and attn_mask is deprecated. Use same type for both instead.\n",
      "  warnings.warn(\n"
     ]
    },
    {
     "name": "stdout",
     "output_type": "stream",
     "text": [
      "\n",
      "전체 테스트 데이터(1175개)에 대한 ROUGE 스코어:\n",
      "  ROUGE-1:\n",
      "    F1-Score: 4.19\n",
      "    Precision: 4.37\n",
      "    Recall: 4.22\n",
      "  ROUGE-2:\n",
      "    F1-Score: 2.28\n",
      "    Precision: 2.38\n",
      "    Recall: 2.24\n",
      "  ROUGE-L:\n",
      "    F1-Score: 4.17\n",
      "    Precision: 4.35\n",
      "    Recall: 4.20\n",
      "------------------------------\n",
      "\n",
      "모든 작업이 완료되었습니다.\n"
     ]
    }
   ],
   "source": [
    "print(\"\\n10. ROUGE 스코어 측정\")\n",
    "\n",
    "def calculate_rouge_score(model, dataset, tokenizer, device):\n",
    "    targets = []\n",
    "    predictions = []\n",
    "    rouge = Rouge()\n",
    "\n",
    "    loop = tqdm(zip(dataset.questions, dataset.answers), total=len(dataset.questions), desc=\"Calculating ROUGE Score\")\n",
    "    for question, answer in loop:\n",
    "        predicted_answer, _ = translate_and_get_attention(model, question, tokenizer, device)\n",
    "        clean_predicted_answer = predicted_answer.replace('<sos>', '').replace('<eos>', '').strip()\n",
    "\n",
    "        if not clean_predicted_answer:\n",
    "            clean_predicted_answer = \" \" # 비어있을 경우 에러 방지\n",
    "\n",
    "        targets.append(answer)\n",
    "        predictions.append(clean_predicted_answer)\n",
    "\n",
    "    scores = rouge.get_scores(predictions, targets, avg=True)\n",
    "    return scores\n",
    "\n",
    "# 전체 테스트 데이터로 ROUGE 스코어 계산\n",
    "rouge_scores = calculate_rouge_score(model, test_dataset, tokenizer, DEVICE)\n",
    "\n",
    "print(f\"\\n전체 테스트 데이터({len(test_dataset)}개)에 대한 ROUGE 스코어:\")\n",
    "for key, value in rouge_scores.items():\n",
    "    print(f\"  {key.upper()}:\")\n",
    "    print(f\"    F1-Score: {value['f']*100:.2f}\")\n",
    "    print(f\"    Precision: {value['p']*100:.2f}\")\n",
    "    print(f\"    Recall: {value['r']*100:.2f}\")\n",
    "print(\"-\" * 30)\n",
    "print(\"\\n모든 작업이 완료되었습니다.\")"
   ]
  },
  {
   "cell_type": "markdown",
   "id": "8190aaea-ac29-4b48-819b-c8e5826c8208",
   "metadata": {},
   "source": [
    "#### 회고"
   ]
  },
  {
   "cell_type": "markdown",
   "id": "c072a9c0-74db-4825-8624-9072bd047a20",
   "metadata": {},
   "source": [
    "이번 프로젝트에서는 한국어 Q&A 데이터셋 11,823개를 활용해 트랜스포머 기반 챗봇 모델을 직접 학습시켰다. \n",
    "\n",
    "사전학습된 가중치를 사용하지 않고 처음부터 학습을 진행했으며, 데이터 전처리 과정에서 결측치와 중복을 제거하여 최종적으로 11,750개의 데이터를 확보하였다. \n",
    "\n",
    "이후 데이터를 8:1:1 비율로 분할하여 훈련 데이터 9,400개, 검증 데이터 1,175개, 테스트 데이터 1,175개로 나누었다. \n",
    "\n",
    "데이터 증강을 위해 Word2Vec 임베딩을 활용해 유사도가 높은 토큰끼리 랜덤 치환을 수행하여 훈련 데이터를 11,305개로 확장하였으며, SentencePiece 토크나이저를 학습시켜 데이터 토큰화를 진행했다. 학습은 학습률 스케줄러 없이 고정된 학습률을 사용했고, 인코더와 디코더 레이어 수를 2개와 3개로 설정하여 성능을 비교하였다. \n",
    "\n",
    "레이어가 2개일 때 전체 테스트 데이터(1,175개)에 대한 ROUGE 점수는 ROUGE-1 F1 4.06, Precision 4.34, Recall 4.04 / ROUGE-2 F1 1.92, Precision 1.96, Recall 1.91 / ROUGE-L F1 4.04, Precision 4.31, Recall 4.03으로 나타났으며, 레이어가 3개일 때는 ROUGE-1 F1 4.19, Precision 4.37, Recall 4.22 / ROUGE-2 F1 2.28, Precision 2.38, Recall 2.24 / ROUGE-L F1 4.17, Precision 4.35, Recall 4.20으로 확인되었다. \n",
    "\n",
    "전반적으로 레이어 수를 3개로 늘렸을 때 ROUGE-1, ROUGE-2, ROUGE-L 모두에서 소폭의 성능 향상이 있었고, 특히 ROUGE-2의 F1 점수가 1.92에서 2.28로 개선되어 문맥적 연속성(2-gram 매칭)이 강화된 것으로 해석된다. 다만 전체적으로 수치는 낮은 편으로, 더 긴 학습, 하이퍼파라미터 조정, 사전학습된 언어모델 활용 등의 개선이 필요하다."
   ]
  },
  {
   "cell_type": "code",
   "execution_count": null,
   "id": "58d50486-6bfa-4cf3-91e4-0f728f6e2338",
   "metadata": {},
   "outputs": [],
   "source": []
  }
 ],
 "metadata": {
  "kernelspec": {
   "display_name": "Python 3 (ipykernel)",
   "language": "python",
   "name": "python3"
  },
  "language_info": {
   "codemirror_mode": {
    "name": "ipython",
    "version": 3
   },
   "file_extension": ".py",
   "mimetype": "text/x-python",
   "name": "python",
   "nbconvert_exporter": "python",
   "pygments_lexer": "ipython3",
   "version": "3.12.11"
  }
 },
 "nbformat": 4,
 "nbformat_minor": 5
}
