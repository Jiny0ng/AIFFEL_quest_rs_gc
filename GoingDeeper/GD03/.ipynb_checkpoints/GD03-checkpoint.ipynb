{
 "cells": [
  {
   "cell_type": "markdown",
   "id": "3c84518b-9943-45c8-baec-67bdfdae80e6",
   "metadata": {},
   "source": [
    "#### 프로젝트 : 모든 장르 간 편향성 측정해 보기\n",
    "1. 형태소 분석기를 이용하여 품사가 명사인 경우 해당 단어를 추출하기\n",
    "2. 추출된 결과로 embedding model 만들기\n",
    "3. target, attribute 단어 셋 만들기\n",
    "4. WEAT score 계산과 시각화\n",
    "\n",
    "#### 학습목표 \n",
    "1. 주어진 영화 코퍼스를 바탕으로 워드 임베딩 모델을 정상적으로 만들었다.\n",
    "2. 영화 구분, 장르별로 target, attribute에 대한 대표성있는 단어 셋을 생성하였다.\n",
    "3. WEAT score 계산 및 시각화를 정상적으로 진행하였다.\n",
    "\n",
    "#### 평가기준 \n",
    "1. 워드임베딩의 most_similar() 메소드 결과가 의미상 바르게 나왔다.\n",
    "2. 타당한 방법론을 통해 중복이 잘 제거되고 개념축을 의미적으로 잘 대표하는 단어 셋이 만들어졌다.\n",
    "3. 전체 영화 장르별로 예술/일반 영화에 대한 편향성 WEAT score가 상식에 부합하는 수치로 얻어졌으며 이를 잘 시각화하였다."
   ]
  },
  {
   "cell_type": "markdown",
   "id": "60ab3bab-66c2-489a-bbe7-66fd92568443",
   "metadata": {},
   "source": [
    "##### 라이브러리"
   ]
  },
  {
   "cell_type": "code",
   "execution_count": 20,
   "id": "92ed54d5-0bbf-4a79-884c-a877c56c88e4",
   "metadata": {},
   "outputs": [],
   "source": [
    "import os\n",
    "import numpy as np\n",
    "from numpy import dot\n",
    "from numpy.linalg import norm\n",
    "from sklearn.feature_extraction.text import TfidfVectorizer\n",
    "from konlpy.tag import Okt\n",
    "from gensim import corpora\n",
    "from gensim.models import Word2Vec, LdaModel\n",
    "import matplotlib.pyplot as plt\n",
    "import matplotlib.font_manager as fm\n",
    "import seaborn as sns\n",
    "\n",
    "# !pip install konlpy\n",
    "# !pip install gensim\n",
    "# !sudo apt-get update\n",
    "# !sudo apt-get install -y fonts-nanum\n",
    "# !sudo apt update\n",
    "# !sudo apt install openjdk-17-jdk -y\n",
    "# !echo 'export JAVA_HOME=$(dirname $(dirname $(readlink -f $(which java))))' >> ~/.bashrc\n",
    "# !source ~/.bashrc"
   ]
  },
  {
   "cell_type": "markdown",
   "id": "8d89024c-95dc-40ba-bc8a-abfcbbe049e5",
   "metadata": {},
   "source": [
    "##### 1. 형태소 분석기를 이용하여 품사가 명사인 경우 해당 단어를 추출하기"
   ]
  },
  {
   "cell_type": "code",
   "execution_count": 9,
   "id": "19220370-544c-47d6-81ed-3812e15bcfef",
   "metadata": {},
   "outputs": [
    {
     "name": "stdout",
     "output_type": "stream",
     "text": [
      "사운드 엔지니어 상우(유지태 분)는 치매에 걸린 할머니(백성희 분)와\n",
      " 젊은 시절 상처한 한 아버지(박인환 분), 고모(신신애 분)와 함께 살고 있다.\n",
      " 어느 겨울 그는 지방 방송국 라디오 PD 은수(이영애 분)를 만난다.\n",
      " 자연의 소리를 채집해 틀어주는 라디오 프로그램을 준비하는 은수는 상우와 녹음 여행을 떠난다.\n",
      " 자연스레 가까워지는 두 사람은 어느 날, 은수의 아파트에서 밤을 보낸다.\n",
      " 너무 쉽게 사랑에 빠진 두 사람... 상우는 주체할 수 없을 정도로 그녀에게 빨려든다.\n",
      " 그러나 겨울에 만난 두 사람의 관계는 봄을 지나 여름을 맞이하면서 삐걱거린다.\n",
      " 이혼 경험이 있는 은수는 상우에게 결혼할 생각이 없다며 부담스러운 표정을 내비친다.\n",
      " \"어떻게 사랑이 변하니?...\"라고 묻는 상우에게 은수는 그저 \"헤어져\" 라고 단호하게 말한다.\n",
      " 영원히 변할 것 같지 않던 사랑이 변하고, 그 사실을 받아들이지 못하는 상우는 어찌 할 바를 모른다.\n",
      " 은수를 잊지 못하는 상우는 미련과 집착의 감정을 이기지 못하고 서울과 강릉을 오간다.\n",
      "유사 이래 연령, 성별, 빈부의 차이와 정치적인 입장을 불문하고 일거에 국민을 통합해 온 '애국심'이라는 성역에 일침을 가하는 다큐멘터리. 재작년 전국 민족민주 유가족협의회의 장기농성을 다룬 인상적인 다큐멘터리 <민들레>를 만들었던 독립영화집단 '빨간 눈사람'이 우리 사회 구석구석을 발빠르게 돌아다니며 애국심과 민족주의가 강요되는 현장을 발굴하여 카메라에 담았다. 박홍 서강대 명예총장, 이도형 '한국논단' 발행인, 축구해설자 신문선, 홍세화, 박노해 등 사회 각계의 '스타'들이 등장해 저마다의 확고한 신념을 성토한다. 감독 이경순과 최하동하는 이 작품을 위해 3년간 백여 명을 인터뷰했다고 한다. 2001 올해의 독립영화상 수상.\n",
      " 민족과 국가란 공동체에서 부단히 권력과 부를 얻는 자, 나아가 민족과 국가란 공동체에서 얻은 신분과 부귀를 영원히 그의 자손에게 대물림하려는 자, 그래서 민족과 국가란 공동체를 부단히 유지해야만 하는 자, 따라서 민족과 국가란 공동체의 당위성과 개인의 가치를 초월하는 그 존엄성을 끝도 없이 창조하고 되뇌어야 하는 자, 종국에는 민족과 국가란 공동체에 속해 있다고 태내에서부터 세뇌된 모든 이들의 삶과 행동에서 영원히 자기복제되는 순환의 고리, 영생하는 애국의 원동력은 그 순환의 골에서 온다.\n",
      "엽기적인 살인사건이 발생한 장소를 관광하는 투어팀. 그 팀에서 관광객들은 살인사건과 관련하여 히스테리컬한 반응을 보이는데 과연 이들의 정체는? (Tourists see whrer a murder take place. They respond hysterically to the murder…what are they?)\n",
      " 제46회 발라돌리드 국제영화제 (2001, 스페인)\n",
      "착하지만 엉뚱한 태희(배두나 분), 예쁜 깍쟁이 혜주(이요원 분), 그림을 잘 그리는 지영(옥지영 분), 명랑한 쌍둥이 비류(이은실 분)와 온조(이은주 분)는 단짝친구들. 늘 함께였던 그들이지만 스무 살이 되면서 길이 달라진다. 증권회사에 입사한 혜주는 성공한 커리어우먼의 야심을 키우고 미술에 재능이 있는 지영은 유학을 꿈꾼다. 한편 태희는 봉사활동에서 알게 된 뇌성마비 시인을 좋아하는데...\n",
      "  어느 날 지영이 길 잃은 새끼 고양이 티티를 만남면서 스무 살 그녀들의 삶에 고양이 한 마리가 끼어들게 된다. 혼자 있길 좋아하고, 쉽게 마음을 열지 않는 신비로운 동물 고양이. 고양이를 닮은 스무 살 그녀들. 고양이 티티와 함께 한 시간동안 삶은 예상못한 방향으로 흘러가지만 마침내 그녀들만의 해결책을 찾게 되는데... 사랑스런 몽상가 태희, 아름다운 야심가 혜주, 신비로운 아웃사이더 지영. 마지막으로 고양이를 부탁받은 사람은 누구일까?\n",
      "인도 등 아시아 식민지에 처음 발을 디딘 뒤 여행하고 “경영”한 이들은 과연 누구였을까? 과거의 이미지들은, 이민과 인종 문제, ‘오리엔탈리즘’이 격렬히 충돌하고 있는 현재와 강력하게 공명한다.\n",
      " [제19회 인디다큐페스티발]\n",
      "홀로 살아가는 미국 할머니와 한국 할머니의 이야기. 공원에서 가끔 마주치게 되는 그들은 비록 언어 소통의 어려움을 겪지만 시간이 흘러감에 따라 서로 가까워져 그들의 외로움과 우정을 공유하게 된다. 겨울이 지나고 봄이 왔을 때 길가의 민들레 홀씨는 삶의 이치를 말해주듯 한 할머니의 주위를 맴돈다. (Two elderly widows, an American and a Korean, frequent the same park in Philadelphia and attempt a friendship, though the Korean widow speaks no English. Driven by loneliness and a spark of hope, they persevere within the limits of body language, and the outcome poses a question of life as fundamental as a flower.)\n"
     ]
    }
   ],
   "source": [
    "data_dir = os.path.join(os.getenv(\"HOME\"), \"work/weat/data\")\n",
    "file_name = os.path.join(data_dir, \"synopsis.txt\")\n",
    "\n",
    "with open(file_name, 'r') as file:\n",
    "    for i in range(20):\n",
    "        print(file.readline(), end='')"
   ]
  },
  {
   "cell_type": "code",
   "execution_count": 10,
   "id": "109bd12a-1b1e-43b6-84bc-81e3a49dfc23",
   "metadata": {},
   "outputs": [
    {
     "name": "stdout",
     "output_type": "stream",
     "text": [
      "71156\n"
     ]
    }
   ],
   "source": [
    "okt = Okt()\n",
    "tokenized = []\n",
    "\n",
    "with open(file_name, 'r') as file:\n",
    "    while True:\n",
    "        line = file.readline()\n",
    "        if not line: break\n",
    "        words = okt.pos(line, stem=True, norm=True)\n",
    "        res = []\n",
    "        for w in words:\n",
    "            if w[1] in [\"Noun\"]:      \n",
    "                res.append(w[0])    \n",
    "        tokenized.append(res)\n",
    "\n",
    "print(len(tokenized))"
   ]
  },
  {
   "cell_type": "markdown",
   "id": "bc5359c0-2077-48e0-b433-c83248034726",
   "metadata": {},
   "source": [
    "##### 2. 추출된 결과로 embedding model 만들기"
   ]
  },
  {
   "cell_type": "code",
   "execution_count": 11,
   "id": "42a16465-3df9-4424-b22e-deed6f842e21",
   "metadata": {},
   "outputs": [
    {
     "data": {
      "text/plain": [
       "[('작품', 0.8849062919616699),\n",
       " ('다큐멘터리', 0.8490180969238281),\n",
       " ('드라마', 0.8129664063453674),\n",
       " ('영화로', 0.8015310764312744),\n",
       " ('형식', 0.791653573513031),\n",
       " ('스토리', 0.7912924885749817),\n",
       " ('감동', 0.783164381980896),\n",
       " ('코미디', 0.7824512720108032),\n",
       " ('소재', 0.7725465297698975),\n",
       " ('설정', 0.7651930451393127)]"
      ]
     },
     "execution_count": 11,
     "metadata": {},
     "output_type": "execute_result"
    }
   ],
   "source": [
    "cbow_model = Word2Vec(tokenized, vector_size=100, window=5, min_count=3, sg=0)\n",
    "cbow_model.wv.most_similar(positive=['영화'])"
   ]
  },
  {
   "cell_type": "code",
   "execution_count": 12,
   "id": "90fde986-63da-4815-8d2a-5788e4ff0ee8",
   "metadata": {},
   "outputs": [
    {
     "data": {
      "text/plain": [
       "[('진심', 0.7030475735664368),\n",
       " ('첫사랑', 0.7010370492935181),\n",
       " ('행복', 0.685215175151825),\n",
       " ('만남', 0.6847836375236511),\n",
       " ('이별', 0.6842653155326843),\n",
       " ('고백', 0.6804848909378052),\n",
       " ('애정', 0.6801978945732117),\n",
       " ('정해준', 0.6768277883529663),\n",
       " ('가슴', 0.6702662110328674),\n",
       " ('운명', 0.6606400012969971)]"
      ]
     },
     "execution_count": 12,
     "metadata": {},
     "output_type": "execute_result"
    }
   ],
   "source": [
    "cbow_model.wv.most_similar(positive=['사랑'])"
   ]
  },
  {
   "cell_type": "code",
   "execution_count": 13,
   "id": "c61dc44c-f3a7-4244-bec3-4f292c9666eb",
   "metadata": {},
   "outputs": [
    {
     "data": {
      "text/plain": [
       "[('영화감독', 0.8918158411979675),\n",
       " ('상대역', 0.8901895880699158),\n",
       " ('시나리오', 0.8845314979553223),\n",
       " ('대본', 0.8745266795158386),\n",
       " ('배우', 0.8684196472167969),\n",
       " ('영감', 0.8665754199028015),\n",
       " ('연기', 0.8621103763580322),\n",
       " ('캐스팅', 0.861130952835083),\n",
       " ('차이밍량', 0.8584094643592834),\n",
       " ('각색', 0.8542295694351196)]"
      ]
     },
     "execution_count": 13,
     "metadata": {},
     "output_type": "execute_result"
    }
   ],
   "source": [
    "cbow_model.wv.most_similar(positive=['연극'])"
   ]
  },
  {
   "cell_type": "code",
   "execution_count": 14,
   "id": "eb28307e-05ba-4573-9086-84782497fb6c",
   "metadata": {},
   "outputs": [
    {
     "data": {
      "text/plain": [
       "[('영화로', 0.7610088586807251),\n",
       " ('작품', 0.7586717009544373),\n",
       " ('픽션', 0.7162696123123169),\n",
       " ('무성영화', 0.7142334580421448),\n",
       " ('드라마', 0.7120762467384338),\n",
       " ('코미디', 0.7104827761650085),\n",
       " ('주제', 0.7081711888313293),\n",
       " ('논픽션', 0.7070721387863159),\n",
       " ('형식', 0.7022795081138611),\n",
       " ('공포영화', 0.6971406936645508)]"
      ]
     },
     "execution_count": 14,
     "metadata": {},
     "output_type": "execute_result"
    }
   ],
   "source": [
    "skipgram_model = Word2Vec(tokenized, vector_size=100, window=5, min_count=3, sg=1)\n",
    "skipgram_model.wv.most_similar(positive=['영화'])"
   ]
  },
  {
   "cell_type": "code",
   "execution_count": 15,
   "id": "9a9506d8-eba1-4459-94b3-f22069bebbd7",
   "metadata": {},
   "outputs": [
    {
     "data": {
      "text/plain": [
       "[('삼각관계', 0.6702848076820374),\n",
       " ('로미오', 0.6631877422332764),\n",
       " ('진심', 0.6550824642181396),\n",
       " ('마르코', 0.6550232768058777),\n",
       " ('해피엔딩', 0.6445109248161316),\n",
       " ('배려', 0.6420074701309204),\n",
       " ('타이밍', 0.6410582661628723),\n",
       " ('동성', 0.6408491134643555),\n",
       " ('짊어지', 0.6398073434829712),\n",
       " ('각별', 0.6394619941711426)]"
      ]
     },
     "execution_count": 15,
     "metadata": {},
     "output_type": "execute_result"
    }
   ],
   "source": [
    "skipgram_model.wv.most_similar(positive=['사랑'])"
   ]
  },
  {
   "cell_type": "code",
   "execution_count": 16,
   "id": "23f92c95-b0bf-444a-a7c6-e4f7c33cf889",
   "metadata": {},
   "outputs": [
    {
     "data": {
      "text/plain": [
       "[('대본', 0.849460780620575),\n",
       " ('에로영화', 0.7886894345283508),\n",
       " ('리허설', 0.7852922081947327),\n",
       " ('배역', 0.7807679772377014),\n",
       " ('연기자', 0.7750521898269653),\n",
       " ('햄릿', 0.7735323905944824),\n",
       " ('전시회', 0.7710059285163879),\n",
       " ('엑스트라', 0.7688952088356018),\n",
       " ('구상', 0.7642116546630859),\n",
       " ('스탭들', 0.7601429224014282)]"
      ]
     },
     "execution_count": 16,
     "metadata": {},
     "output_type": "execute_result"
    }
   ],
   "source": [
    "skipgram_model.wv.most_similar(positive=['연극'])"
   ]
  },
  {
   "cell_type": "markdown",
   "id": "c0148e29-0740-4524-af7e-ebf71e81295a",
   "metadata": {},
   "source": [
    "##### 3. TF-IDF로 해당 데이터를 가장 잘 표현하는 단어 셋 만들기"
   ]
  },
  {
   "cell_type": "code",
   "execution_count": 54,
   "id": "a5ca7094-69b4-4749-b0cf-0d624ef5350a",
   "metadata": {},
   "outputs": [],
   "source": [
    "# art_txt = 'synopsis_art.txt'\n",
    "# gen_txt = 'synopsis_gen.txt'\n",
    "\n",
    "# def read_token(file_name):\n",
    "#     okt = Okt()\n",
    "#     result = []\n",
    "#     with open(data_dir + '/' + file_name, 'r') as fread:\n",
    "#         print(file_name, '파일을 읽고 있습니다.')\n",
    "#         while True:\n",
    "#             line = fread.readline()\n",
    "#             if not line: break\n",
    "#             tokenlist = okt.pos(line, stem=True, norm=True)\n",
    "#             for word in tokenlist:\n",
    "#                 if word[1] in [\"Noun\"]:\n",
    "#                     result.append((word[0]))\n",
    "#     return ' '.join(result)\n",
    "\n",
    "# art = read_token(art_txt)\n",
    "# gen = read_token(gen_txt)"
   ]
  },
  {
   "cell_type": "code",
   "execution_count": 55,
   "id": "d820598f-a4aa-4b25-8286-3822f129b445",
   "metadata": {},
   "outputs": [],
   "source": [
    "# vectorizer = TfidfVectorizer()\n",
    "# X = vectorizer.fit_transform([art, gen])\n",
    "\n",
    "# print(X.shape)"
   ]
  },
  {
   "cell_type": "code",
   "execution_count": 56,
   "id": "0dc82cef-5fd0-451c-8839-13448bb2daa1",
   "metadata": {},
   "outputs": [],
   "source": [
    "# print(vectorizer.vocabulary_['영화'])\n",
    "# print(vectorizer.get_feature_names_out()[23976])"
   ]
  },
  {
   "cell_type": "code",
   "execution_count": 57,
   "id": "26b79f03-fe34-45bc-87e6-a672ff88d2be",
   "metadata": {},
   "outputs": [],
   "source": [
    "# m1 = X[0].tocoo()   \n",
    "# m2 = X[1].tocoo()  \n",
    "\n",
    "# w1 = [[i, j] for i, j in zip(m1.col, m1.data)]\n",
    "# w2 = [[i, j] for i, j in zip(m2.col, m2.data)]\n",
    "\n",
    "# w1.sort(key=lambda x: x[1], reverse=True)  \n",
    "# w2.sort(key=lambda x: x[1], reverse=True)   \n",
    "\n",
    "# print('예술영화를 대표하는 단어들:')\n",
    "# for i in range(100):\n",
    "#     print(vectorizer.get_feature_names_out()[w1[i][0]], end=', ')\n",
    "\n",
    "# print('\\n')\n",
    "\n",
    "# print('일반영화를 대표하는 단어들:')\n",
    "# for i in range(100):\n",
    "#     print(vectorizer.get_feature_names_out()[w2[i][0]], end=', ')"
   ]
  },
  {
   "cell_type": "code",
   "execution_count": 58,
   "id": "1c956bef-657b-40f3-8bc0-a65773d18d46",
   "metadata": {},
   "outputs": [],
   "source": [
    "# n = 15\n",
    "# w1_, w2_ = [], []\n",
    "# for i in range(100):\n",
    "#     w1_.append(vectorizer.get_feature_names_out()[w1[i][0]])\n",
    "#     w2_.append(vectorizer.get_feature_names_out()[w2[i][0]])\n",
    "\n",
    "# target_art, target_gen = [], []\n",
    "# for i in range(100):\n",
    "#     if (w1_[i] not in w2_) and (w1_[i] in cbow_model.wv): target_art.append(w1_[i])\n",
    "#     if len(target_art) == n: break\n",
    "\n",
    "# for i in range(100):\n",
    "#     if (w2_[i] not in w1_) and (w2_[i] in cbow_model.wv): target_gen.append(w2_[i])\n",
    "#     if len(target_gen) == n: break\n",
    "\n",
    "# print(target_art)\n",
    "# print(target_gen)"
   ]
  },
  {
   "cell_type": "code",
   "execution_count": 59,
   "id": "060ea4e0-06ce-4637-9292-b7b24c4ef7fa",
   "metadata": {},
   "outputs": [],
   "source": [
    "# n = 15\n",
    "# w1_, w2_ = [], []\n",
    "# for i in range(100):\n",
    "#     w1_.append(vectorizer.get_feature_names_out()[w1[i][0]])\n",
    "#     w2_.append(vectorizer.get_feature_names_out()[w2[i][0]])\n",
    "\n",
    "# target_art, target_gen = [], []\n",
    "# for i in range(100):\n",
    "#     if (w1_[i] not in w2_) and (w1_[i] in skipgram_model.wv): target_art.append(w1_[i])\n",
    "#     if len(target_art) == n: break\n",
    "\n",
    "# for i in range(100):\n",
    "#     if (w2_[i] not in w1_) and (w2_[i] in skipgram_model.wv): target_gen.append(w2_[i])\n",
    "#     if len(target_gen) == n: break\n",
    "\n",
    "# print(target_art)\n",
    "# print(target_gen)"
   ]
  },
  {
   "cell_type": "code",
   "execution_count": 60,
   "id": "cab8f969-32d3-4898-af34-c730367c3aa6",
   "metadata": {},
   "outputs": [],
   "source": [
    "# genre_txt = ['synopsis_SF.txt', 'synopsis_family.txt', 'synopsis_show.txt', 'synopsis_horror.txt', 'synopsis_etc.txt',\n",
    "#              'synopsis_documentary.txt', 'synopsis_drama.txt', 'synopsis_romance.txt', 'synopsis_musical.txt',\n",
    "#              'synopsis_mystery.txt', 'synopsis_crime.txt', 'synopsis_historical.txt', 'synopsis_western.txt',\n",
    "#              'synopsis_adult.txt', 'synopsis_thriller.txt', 'synopsis_animation.txt', 'synopsis_action.txt',\n",
    "#              'synopsis_adventure.txt', 'synopsis_war.txt', 'synopsis_comedy.txt', 'synopsis_fantasy.txt']\n",
    "\n",
    "# genre_name = ['SF', '가족', '공연', '공포(호러)', '기타', '다큐멘터리', '드라마', '멜로로맨스', '뮤지컬', '미스터리', '범죄', '사극', '서부극(웨스턴)',\n",
    "#          '성인물(에로)', '스릴러', '애니메이션', '액션', '어드벤처', '전쟁', '코미디', '판타지']"
   ]
  },
  {
   "cell_type": "code",
   "execution_count": 61,
   "id": "433c1907-7004-4f7f-ad92-80c4ae93971d",
   "metadata": {},
   "outputs": [],
   "source": [
    "# genre = []\n",
    "# for file_name in genre_txt:\n",
    "#     genre.append(read_token(file_name))"
   ]
  },
  {
   "cell_type": "code",
   "execution_count": 62,
   "id": "7fa6e538-e597-459b-a75d-7d85fe235722",
   "metadata": {},
   "outputs": [],
   "source": [
    "# vectorizer = TfidfVectorizer()\n",
    "# X = vectorizer.fit_transform(genre)\n",
    "\n",
    "# print(X.shape)"
   ]
  },
  {
   "cell_type": "code",
   "execution_count": 63,
   "id": "cba3c085-8a36-44d2-aac6-51fb4ec13e28",
   "metadata": {},
   "outputs": [],
   "source": [
    "# m = [X[i].tocoo() for i in range(X.shape[0])]\n",
    "\n",
    "# w = [[[i, j] for i, j in zip(mm.col, mm.data)] for mm in m]\n",
    "\n",
    "# for i in range(len(w)):\n",
    "#     w[i].sort(key=lambda x: x[1], reverse=True)\n",
    "# attributes = []\n",
    "# for i in range(len(w)):\n",
    "#     print(genre_name[i], end=': ')\n",
    "#     attr = []\n",
    "#     j = 0\n",
    "#     while (len(attr) < 15):\n",
    "#         if vectorizer.get_feature_names_out()[w[i][j][0]] in cbow_model.wv:\n",
    "#             attr.append(vectorizer.get_feature_names_out()[w[i][j][0]])\n",
    "#             print(vectorizer.get_feature_names_out()[w[i][j][0]], end=', ')\n",
    "#         j += 1\n",
    "#     attributes.append(attr)\n",
    "#     print()"
   ]
  },
  {
   "cell_type": "code",
   "execution_count": 64,
   "id": "4412e1d8-a692-4101-b6a4-d0471fde8c85",
   "metadata": {},
   "outputs": [],
   "source": [
    "# m = [X[i].tocoo() for i in range(X.shape[0])]\n",
    "\n",
    "# w = [[[i, j] for i, j in zip(mm.col, mm.data)] for mm in m]\n",
    "\n",
    "# for i in range(len(w)):\n",
    "#     w[i].sort(key=lambda x: x[1], reverse=True)\n",
    "# attributes = []\n",
    "# for i in range(len(w)):\n",
    "#     print(genre_name[i], end=': ')\n",
    "#     attr = []\n",
    "#     j = 0\n",
    "#     while (len(attr) < 15):\n",
    "#         if vectorizer.get_feature_names_out()[w[i][j][0]] in skipgram_model.wv:\n",
    "#             attr.append(vectorizer.get_feature_names_out()[w[i][j][0]])\n",
    "#             print(vectorizer.get_feature_names_out()[w[i][j][0]], end=', ')\n",
    "#         j += 1\n",
    "#     attributes.append(attr)\n",
    "#     print()"
   ]
  },
  {
   "cell_type": "markdown",
   "id": "4ecdb302-207c-4304-a2c9-e339b60e5dca",
   "metadata": {},
   "source": [
    "##### 3. LDA로 해당 데이터를 가장 잘 표현하는 단어 셋 만들기"
   ]
  },
  {
   "cell_type": "code",
   "execution_count": 18,
   "id": "991d9893-2f6f-4bb7-83c3-08c6f4664978",
   "metadata": {},
   "outputs": [
    {
     "name": "stdout",
     "output_type": "stream",
     "text": [
      "synopsis_art.txt 파일을 읽고 있습니다.\n",
      "synopsis_gen.txt 파일을 읽고 있습니다.\n"
     ]
    }
   ],
   "source": [
    "art_txt = 'synopsis_art.txt'\n",
    "gen_txt = 'synopsis_gen.txt'\n",
    "\n",
    "def read_token(file_name):\n",
    "    okt = Okt()\n",
    "    result = []\n",
    "    with open(data_dir + '/' + file_name, 'r') as fread:\n",
    "        print(file_name, '파일을 읽고 있습니다.')\n",
    "        while True:\n",
    "            line = fread.readline()\n",
    "            if not line: break\n",
    "            tokenlist = okt.pos(line, stem=True, norm=True)\n",
    "            \n",
    "            line_tokens = []\n",
    "            for word in tokenlist:\n",
    "                if word[1] in [\"Noun\"]:\n",
    "                    line_tokens.append(word[0])   \n",
    "            \n",
    "            if line_tokens:      \n",
    "                result.append(line_tokens)\n",
    "    return result\n",
    "\n",
    "art = read_token(art_txt)\n",
    "gen = read_token(gen_txt)"
   ]
  },
  {
   "cell_type": "code",
   "execution_count": 21,
   "id": "7eac547b-aa3e-4129-bc17-274e2062e603",
   "metadata": {},
   "outputs": [],
   "source": [
    "art_dict = corpora.Dictionary(art)                     \n",
    "art_corpus = [art_dict.doc2bow(text) for text in art]  \n",
    "\n",
    "gen_dict = corpora.Dictionary(gen)\n",
    "gen_corpus = [gen_dict.doc2bow(text) for text in gen]"
   ]
  },
  {
   "cell_type": "code",
   "execution_count": 22,
   "id": "7a7a2ee2-d36d-4663-90d2-595a9b8ed1e9",
   "metadata": {},
   "outputs": [],
   "source": [
    "lda_art = LdaModel(corpus=art_corpus, id2word=art_dict, num_topics=1, passes=10, random_state=42)\n",
    "\n",
    "lda_gen = LdaModel(corpus=gen_corpus, id2word=gen_dict, num_topics=1, passes=10, random_state=42)"
   ]
  },
  {
   "cell_type": "code",
   "execution_count": 23,
   "id": "8e822ccf-82f1-4834-90c3-639f9bedde03",
   "metadata": {},
   "outputs": [
    {
     "name": "stdout",
     "output_type": "stream",
     "text": [
      "예술영화를 대표하는 단어들:\n",
      "['그', '것', '시작', '수', '그녀', '이', '자신', '위해', '사랑', '날', '사람', '의', '친구', '영화', '두', '집', '속', '남자', '살', '은', '알', '마을', '곳', '를', '삶', '가족', '이야기', '마음', '세상', '모든', '후', '아버지', '일', '과연', '아이', '여자', '엄마', '서로', '중', '못', '전', '다시', '사건', '소녀', '시간', '말', '대한', '아들', '위', '더', '딸', '다른', '하나', '사실', '뒤', '점점', '남편', '가장', '세계', '향', '세', '온', '꿈', '제', '과', '때', '영화제', '사이', '둘', '여행', '앞', '아내', '기억', '소년', '이자', '마지막', '우리', '채', '아빠', '모습', '통해', '발견', '인생', '등', '명의', '나', '순간', '모두', '안', '생각', '생활', '한편', '최고', '감독', '구', '눈', '도시', '돈', '끝', '때문']\n",
      "일반영화를 대표하는 단어들:\n",
      "['그', '것', '이', '자신', '영화제', '그녀', '제', '수', '영화', '사람', '위해', '시작', '국제', '날', '집', '친구', '이야기', '사랑', '남자', '알', '속', '대한', '두', '일', '의', '곳', '삶', '살', '중', '가족', '아이', '여자', '후', '서울', '사건', '남편', '아버지', '감독', '작품', '다른', '마을', '말', '전', '아들', '단편', '때', '은', '모습', '딸', '시간', '세계', '사실', '모든', '위', '생각', '통해', '엄마', '서로', '다시', '를', '아내', '마음', '못', '소녀', '관계', '더', '세상', '사이', '등', '발견', '둘', '온', '여성', '세', '하나', '때문', '우리', '안', '돈', '뒤', '꿈', '인간', '나', '향', '여행', '소년', '상황', '생활', '앞', '결혼', '애니메이션', '명의', '한편', '채', '기억', '점점', '모두', '죽음', '가장', '밤']\n"
     ]
    }
   ],
   "source": [
    "art_words_100 = [w for w, p in lda_art.show_topic(0, topn=100)]\n",
    "gen_words_100 = [w for w, p in lda_gen.show_topic(0, topn=100)]\n",
    "\n",
    "print('예술영화를 대표하는 단어들:')\n",
    "print(art_words_100)\n",
    "\n",
    "print('일반영화를 대표하는 단어들:')\n",
    "print(gen_words_100)"
   ]
  },
  {
   "cell_type": "code",
   "execution_count": 69,
   "id": "b3218fae-e02c-40d1-821e-e1648d215d3a",
   "metadata": {},
   "outputs": [
    {
     "name": "stdout",
     "output_type": "stream",
     "text": [
      "['편지', '파리', '무대', '북한', '생', '성격', '연애', '통', '고양이', '샘', '행복', '당신', '공연', '그날', '하루하루']\n",
      "['애니메이션', '그것', '부천', '연출', '부문', '초', '페스티벌', '판타스틱', '소리', '다큐', '의도', '관객', '노인', '공격', '장면']\n"
     ]
    }
   ],
   "source": [
    "n = 15\n",
    "\n",
    "stopwords = {\n",
    "    \"그\",\"것\",\"이\",\"저\",\"거\",\"누구\",\"아무\",\"자신\",\"자기\",\"수\",\"의\",\"를\",\"은\",\"는\",\"가\",\"과\",\"와\",\n",
    "    \"및\",\"에서\",\"에게\",\"으로\",\"부터\",\"까지\",\"도\",\"만\",\"보다\",\"처럼\",\"같이\",\"라도\",\"이며\",\"되다\",\"하다\",\n",
    "    \"후\",\"전\",\"때\",\"이후\",\"동안\",\"현재\",\"지금\",\"또한\",\"그리고\",\"그러나\",\"등\",\"더\",\"못\",\"안\",\"또\",\"모두\",\n",
    "    \"모든\",\"각\",\"각각\",\"다시\",\"이미\",\"위\",\"아래\",\"안\",\"밖\",\"속\",\"중\",\"앞\",\"뒤\",\"끝\",\"위해\",\"마지막\",\"최고\",\n",
    "    \"최초\",\"과연\",\"바로\",\"그냥\",\"결국\",\"또는\",\"즉\",\"그래서\",\"때문에\", \"시작\",\"사람\",\"그녀\",\"날\",\"집\",\"알\",\"영화\",\n",
    "    \"친구\",\"남자\",\"두\",\"제\",\"국제\",\"영화제\",\"이야기\", \"사랑\",\"아이\",\"세계\",\"세상\",\"삶\",\"사실\",\"마을\",\"곳\",\"일\"\n",
    "}\n",
    "\n",
    "\n",
    "w1_ = [w for w, p in lda_art.show_topic(0, topn=500)]  \n",
    "w2_ = [w for w, p in lda_gen.show_topic(0, topn=500)]  \n",
    "\n",
    "target_art, target_gen = [], []\n",
    "\n",
    "for i in range(len(w1_)):\n",
    "    if (w1_[i] not in w2_) and (w1_[i] not in stopwords) and (w1_[i] in cbow_model.wv):\n",
    "        target_art.append(w1_[i])\n",
    "    if len(target_art) == n:\n",
    "        break\n",
    "\n",
    "for i in range(len(w2_)):\n",
    "    if (w2_[i] not in w1_) and (w2_[i] not in stopwords) and (w2_[i] in cbow_model.wv):\n",
    "        target_gen.append(w2_[i])\n",
    "    if len(target_gen) == n:\n",
    "        break\n",
    "\n",
    "print(target_art)\n",
    "print(target_gen)"
   ]
  },
  {
   "cell_type": "code",
   "execution_count": 70,
   "id": "8af0e6a3-13b6-4799-8e09-ccbd3762badc",
   "metadata": {},
   "outputs": [
    {
     "name": "stdout",
     "output_type": "stream",
     "text": [
      "['편지', '파리', '무대', '북한', '생', '성격', '연애', '통', '고양이', '샘', '행복', '당신', '공연', '그날', '하루하루']\n",
      "['애니메이션', '그것', '부천', '연출', '부문', '초', '페스티벌', '판타스틱', '소리', '다큐', '의도', '관객', '노인', '공격', '장면']\n"
     ]
    }
   ],
   "source": [
    "n = 15\n",
    "\n",
    "stopwords = {\n",
    "    \"그\",\"것\",\"이\",\"저\",\"거\",\"누구\",\"아무\",\"자신\",\"자기\",\"수\",\"의\",\"를\",\"은\",\"는\",\"가\",\"과\",\"와\",\n",
    "    \"및\",\"에서\",\"에게\",\"으로\",\"부터\",\"까지\",\"도\",\"만\",\"보다\",\"처럼\",\"같이\",\"라도\",\"이며\",\"되다\",\"하다\",\n",
    "    \"후\",\"전\",\"때\",\"이후\",\"동안\",\"현재\",\"지금\",\"또한\",\"그리고\",\"그러나\",\"등\",\"더\",\"못\",\"안\",\"또\",\"모두\",\n",
    "    \"모든\",\"각\",\"각각\",\"다시\",\"이미\",\"위\",\"아래\",\"안\",\"밖\",\"속\",\"중\",\"앞\",\"뒤\",\"끝\",\"위해\",\"마지막\",\"최고\",\n",
    "    \"최초\",\"과연\",\"바로\",\"그냥\",\"결국\",\"또는\",\"즉\",\"그래서\",\"때문에\", \"시작\",\"사람\",\"그녀\",\"날\",\"집\",\"알\",\"영화\",\n",
    "    \"친구\",\"남자\",\"두\",\"제\",\"국제\",\"영화제\",\"이야기\", \"사랑\",\"아이\",\"세계\",\"세상\",\"삶\",\"사실\",\"마을\",\"곳\",\"일\"\n",
    "}\n",
    "\n",
    "\n",
    "w1_ = [w for w, p in lda_art.show_topic(0, topn=500)]  \n",
    "w2_ = [w for w, p in lda_gen.show_topic(0, topn=500)]  \n",
    "\n",
    "target_art, target_gen = [], []\n",
    "\n",
    "for i in range(len(w1_)):\n",
    "    if (w1_[i] not in w2_) and (w1_[i] not in stopwords) and (w1_[i] in skipgram_model.wv):\n",
    "        target_art.append(w1_[i])\n",
    "    if len(target_art) == n:\n",
    "        break\n",
    "\n",
    "for i in range(len(w2_)):\n",
    "    if (w2_[i] not in w1_) and (w2_[i] not in stopwords) and (w2_[i] in skipgram_model.wv):\n",
    "        target_gen.append(w2_[i])\n",
    "    if len(target_gen) == n:\n",
    "        break\n",
    "\n",
    "print(target_art)\n",
    "print(target_gen)"
   ]
  },
  {
   "cell_type": "code",
   "execution_count": 25,
   "id": "8c788aeb-4b35-4914-9d09-47d573e1a4ec",
   "metadata": {},
   "outputs": [],
   "source": [
    "genre_txt = ['synopsis_SF.txt', 'synopsis_family.txt', 'synopsis_show.txt', 'synopsis_horror.txt', 'synopsis_etc.txt',\n",
    "             'synopsis_documentary.txt', 'synopsis_drama.txt', 'synopsis_romance.txt', 'synopsis_musical.txt',\n",
    "             'synopsis_mystery.txt', 'synopsis_crime.txt', 'synopsis_historical.txt', 'synopsis_western.txt',\n",
    "             'synopsis_adult.txt', 'synopsis_thriller.txt', 'synopsis_animation.txt', 'synopsis_action.txt',\n",
    "             'synopsis_adventure.txt', 'synopsis_war.txt', 'synopsis_comedy.txt', 'synopsis_fantasy.txt']\n",
    "\n",
    "genre_name = ['SF', '가족', '공연', '공포(호러)', '기타', '다큐멘터리', '드라마', '멜로로맨스', '뮤지컬', '미스터리', '범죄', '사극', '서부극(웨스턴)',\n",
    "         '성인물(에로)', '스릴러', '애니메이션', '액션', '어드벤처', '전쟁', '코미디', '판타지']"
   ]
  },
  {
   "cell_type": "code",
   "execution_count": 26,
   "id": "236b3472-82fd-401e-b384-9eb20b5a4e52",
   "metadata": {},
   "outputs": [
    {
     "name": "stdout",
     "output_type": "stream",
     "text": [
      "synopsis_SF.txt 파일을 읽고 있습니다.\n",
      "synopsis_family.txt 파일을 읽고 있습니다.\n",
      "synopsis_show.txt 파일을 읽고 있습니다.\n",
      "synopsis_horror.txt 파일을 읽고 있습니다.\n",
      "synopsis_etc.txt 파일을 읽고 있습니다.\n",
      "synopsis_documentary.txt 파일을 읽고 있습니다.\n",
      "synopsis_drama.txt 파일을 읽고 있습니다.\n",
      "synopsis_romance.txt 파일을 읽고 있습니다.\n",
      "synopsis_musical.txt 파일을 읽고 있습니다.\n",
      "synopsis_mystery.txt 파일을 읽고 있습니다.\n",
      "synopsis_crime.txt 파일을 읽고 있습니다.\n",
      "synopsis_historical.txt 파일을 읽고 있습니다.\n",
      "synopsis_western.txt 파일을 읽고 있습니다.\n",
      "synopsis_adult.txt 파일을 읽고 있습니다.\n",
      "synopsis_thriller.txt 파일을 읽고 있습니다.\n",
      "synopsis_animation.txt 파일을 읽고 있습니다.\n",
      "synopsis_action.txt 파일을 읽고 있습니다.\n",
      "synopsis_adventure.txt 파일을 읽고 있습니다.\n",
      "synopsis_war.txt 파일을 읽고 있습니다.\n",
      "synopsis_comedy.txt 파일을 읽고 있습니다.\n",
      "synopsis_fantasy.txt 파일을 읽고 있습니다.\n"
     ]
    }
   ],
   "source": [
    "genre = []\n",
    "for file_name in genre_txt:\n",
    "    genre.append(read_token(file_name))"
   ]
  },
  {
   "cell_type": "code",
   "execution_count": 67,
   "id": "773ab2b8-a77d-417f-8f8d-740e32360608",
   "metadata": {},
   "outputs": [
    {
     "name": "stdout",
     "output_type": "stream",
     "text": [
      "SF: 지구, 인간, 인류, 미래, 우주, 로봇, 박사, 존재, 발견, 정체, 비밀, 시간, 기억, 사건, 전쟁, \n",
      "가족: 엄마, 아빠, 가족, 살, 아버지, 아들, 딸, 할머니, 학교, 소년, 가장, 어머니, 소녀, 대한, 아내, \n",
      "공연: 오페라, 공연, 돈, 실황, 딸, 토스카, 왕자, 도시, 비, 무대, 카바, 결혼, 백작, 올레, 음악, \n",
      "공포(호러): 사건, 공포, 발견, 죽음, 가족, 밤, 소녀, 말, 하나, 정체, 좀비, 살, 살인, 살해, 딸, \n",
      "기타: 서울, 단편, 초, 여자, 대한, 살, 페스티벌, 다른, 작품, 엄마, 우리, 독립, 통해, 소녀, 모습, \n",
      "다큐멘터리: 다큐멘터리, 대한, 감독, 우리, 다큐, 서울, 통해, 여성, 가족, 살, 나, 작품, 모습, 한국, 가장, \n",
      "드라마: 살, 아버지, 엄마, 가족, 서울, 대한, 아들, 단편, 여자, 마음, 말, 남편, 딸, 서로, 소녀, \n",
      "멜로로맨스: 남편, 여자, 마음, 섹스, 아내, 결혼, 서로, 관계, 둘, 엄마, 아버지, 점점, 코, 살, 사이, \n",
      "뮤지컬: 뮤지컬, 음악, 충무로, 춤, 모차르트, 에스메랄다, 공연, 도시, 대한, 손, 카바, 바흐, 아버지, 무대, 소녀, \n",
      "미스터리: 사건, 발견, 죽음, 진실, 사고, 살인, 기억, 아내, 말, 하나, 딸, 살, 비밀, 발생, 정체, \n",
      "범죄: 사건, 경찰, 돈, 살인, 조직, 범죄, 마약, 발견, 살해, 계획, 형사, 범인, 딸, 수사, 아버지, \n",
      "사극: 조선, 왕, 향, 운명, 황제, 전쟁, 권력, 명, 사건, 역사, 소리, 마음, 가장, 채, 청, \n",
      "서부극(웨스턴): 서부, 보안관, 존, 헨리, 삭, 카우보이, 딸, 분, 아내, 복수, 분노, 가족, 무법자, 마리아, 아들, \n",
      "성인물(에로): 남편, 코, 관계, 몸, 애, 섹스, 마사지, 여자, 정사, 마음, 카, 아내, 둘, 그린, 결혼, \n",
      "스릴러: 사건, 살인, 발견, 경찰, 아내, 살해, 비밀, 점점, 가족, 형사, 시간, 딸, 범인, 다른, 하나, \n",
      "애니메이션: 애니메이션, 서울, 페스티벌, 소녀, 인디애니페스트, 애니, 만화, 구, 살, 소년, 단편, 인간, 작품, 다른, 엄마, \n",
      "액션: 조직, 사건, 경찰, 구, 전쟁, 가족, 목숨, 딸, 한편, 아들, 복수, 아버지, 살인, 돈, 죽음, \n",
      "어드벤처: 아버지, 여행, 살, 가족, 섬, 구, 대한, 모험, 비밀, 인간, 발견, 소년, 한편, 여정, 향, \n",
      "전쟁: 전쟁, 전투, 작전, 독일군, 부대, 독일, 차, 공격, 임무, 명, 미국, 목숨, 병사, 연합군, 단, \n",
      "코미디: 여자, 가족, 인생, 살, 아버지, 돈, 사건, 서로, 다른, 생활, 결혼, 말, 분, 생각, 마음, \n",
      "판타지: 소녀, 인간, 꿈, 살, 존재, 요괴, 사건, 시간, 모습, 서로, 구, 말, 여자, 과거, 판타스틱, \n"
     ]
    }
   ],
   "source": [
    "attributes = []\n",
    "n = 15  \n",
    "\n",
    "stopwords = {\n",
    "    \"그\",\"것\",\"이\",\"저\",\"거\",\"누구\",\"아무\",\"자신\",\"자기\",\"수\",\"의\",\"를\",\"은\",\"는\",\"가\",\"과\",\"와\",\n",
    "    \"및\",\"에서\",\"에게\",\"으로\",\"부터\",\"까지\",\"도\",\"만\",\"보다\",\"처럼\",\"같이\",\"라도\",\"이며\",\"되다\",\"하다\",\n",
    "    \"후\",\"전\",\"때\",\"이후\",\"동안\",\"현재\",\"지금\",\"또한\",\"그리고\",\"그러나\",\"등\",\"더\",\"못\",\"안\",\"또\",\"모두\",\n",
    "    \"모든\",\"각\",\"각각\",\"다시\",\"이미\",\"위\",\"아래\",\"안\",\"밖\",\"속\",\"중\",\"앞\",\"뒤\",\"끝\",\"위해\",\"마지막\",\"최고\",\n",
    "    \"최초\",\"과연\",\"바로\",\"그냥\",\"결국\",\"또는\",\"즉\",\"그래서\",\"때문에\", \"시작\",\"사람\",\"그녀\",\"날\",\"집\",\"알\",\"영화\",\n",
    "    \"친구\",\"남자\",\"두\",\"제\",\"국제\",\"영화제\",\"이야기\", \"사랑\",\"아이\",\"세계\",\"세상\",\"삶\",\"사실\",\"마을\",\"곳\",\"일\"\n",
    "}\n",
    "\n",
    "\n",
    "for i, tokens in enumerate(genre):   \n",
    "    print(genre_name[i], end=': ')\n",
    "    attr = []\n",
    "\n",
    "    dictionary = corpora.Dictionary(tokens)\n",
    "    corpus = [dictionary.doc2bow(text) for text in tokens]\n",
    "\n",
    "    lda = LdaModel(corpus=corpus, id2word=dictionary,\n",
    "                   num_topics=1, passes=10, random_state=42)\n",
    "\n",
    "    words = [w for w, p in lda.show_topic(0, topn=100)]\n",
    "\n",
    "    j = 0\n",
    "    while len(attr) < n and j < len(words):\n",
    "        if (words[j] not in stopwords) and (words[j] in cbow_model.wv):    \n",
    "            attr.append(words[j])\n",
    "            print(words[j], end=', ')\n",
    "        j += 1\n",
    "\n",
    "    attributes.append(attr)\n",
    "    print()"
   ]
  },
  {
   "cell_type": "code",
   "execution_count": 68,
   "id": "82ab3250-f414-469c-bd40-64daaa9b5af8",
   "metadata": {},
   "outputs": [
    {
     "name": "stdout",
     "output_type": "stream",
     "text": [
      "SF: 지구, 인간, 인류, 미래, 우주, 로봇, 박사, 존재, 발견, 정체, 비밀, 시간, 기억, 사건, 전쟁, \n",
      "가족: 엄마, 아빠, 가족, 살, 아버지, 아들, 딸, 할머니, 학교, 소년, 가장, 어머니, 소녀, 대한, 아내, \n",
      "공연: 오페라, 공연, 돈, 실황, 딸, 토스카, 왕자, 도시, 비, 무대, 카바, 결혼, 백작, 올레, 음악, \n",
      "공포(호러): 사건, 공포, 발견, 죽음, 가족, 밤, 소녀, 말, 하나, 정체, 좀비, 살, 살인, 살해, 딸, \n",
      "기타: 서울, 단편, 초, 여자, 대한, 살, 페스티벌, 다른, 작품, 엄마, 우리, 독립, 통해, 소녀, 모습, \n",
      "다큐멘터리: 다큐멘터리, 대한, 감독, 우리, 다큐, 서울, 통해, 여성, 가족, 살, 나, 작품, 모습, 한국, 가장, \n",
      "드라마: 살, 아버지, 엄마, 가족, 서울, 대한, 아들, 단편, 여자, 마음, 말, 남편, 딸, 서로, 소녀, \n",
      "멜로로맨스: 남편, 여자, 마음, 섹스, 아내, 결혼, 서로, 관계, 둘, 엄마, 아버지, 점점, 코, 살, 사이, \n",
      "뮤지컬: 뮤지컬, 음악, 충무로, 춤, 모차르트, 에스메랄다, 공연, 도시, 대한, 손, 카바, 바흐, 아버지, 무대, 소녀, \n",
      "미스터리: 사건, 발견, 죽음, 진실, 사고, 살인, 기억, 아내, 말, 하나, 딸, 살, 비밀, 발생, 정체, \n",
      "범죄: 사건, 경찰, 돈, 살인, 조직, 범죄, 마약, 발견, 살해, 계획, 형사, 범인, 딸, 수사, 아버지, \n",
      "사극: 조선, 왕, 향, 운명, 황제, 전쟁, 권력, 명, 사건, 역사, 소리, 마음, 가장, 채, 청, \n",
      "서부극(웨스턴): 서부, 보안관, 존, 헨리, 삭, 카우보이, 딸, 분, 아내, 복수, 분노, 가족, 무법자, 마리아, 아들, \n",
      "성인물(에로): 남편, 코, 관계, 몸, 애, 섹스, 마사지, 여자, 정사, 마음, 카, 아내, 둘, 그린, 결혼, \n",
      "스릴러: 사건, 살인, 발견, 경찰, 아내, 살해, 비밀, 점점, 가족, 형사, 시간, 딸, 범인, 다른, 하나, \n",
      "애니메이션: 애니메이션, 서울, 페스티벌, 소녀, 인디애니페스트, 애니, 만화, 구, 살, 소년, 단편, 인간, 작품, 다른, 엄마, \n",
      "액션: 조직, 사건, 경찰, 구, 전쟁, 가족, 목숨, 딸, 한편, 아들, 복수, 아버지, 살인, 돈, 죽음, \n",
      "어드벤처: 아버지, 여행, 살, 가족, 섬, 구, 대한, 모험, 비밀, 인간, 발견, 소년, 한편, 여정, 향, \n",
      "전쟁: 전쟁, 전투, 작전, 독일군, 부대, 독일, 차, 공격, 임무, 명, 미국, 목숨, 병사, 연합군, 단, \n",
      "코미디: 여자, 가족, 인생, 살, 아버지, 돈, 사건, 서로, 다른, 생활, 결혼, 말, 분, 생각, 마음, \n",
      "판타지: 소녀, 인간, 꿈, 살, 존재, 요괴, 사건, 시간, 모습, 서로, 구, 말, 여자, 과거, 판타스틱, \n"
     ]
    }
   ],
   "source": [
    "attributes = []\n",
    "n = 15  \n",
    "\n",
    "stopwords = {\n",
    "    \"그\",\"것\",\"이\",\"저\",\"거\",\"누구\",\"아무\",\"자신\",\"자기\",\"수\",\"의\",\"를\",\"은\",\"는\",\"가\",\"과\",\"와\",\n",
    "    \"및\",\"에서\",\"에게\",\"으로\",\"부터\",\"까지\",\"도\",\"만\",\"보다\",\"처럼\",\"같이\",\"라도\",\"이며\",\"되다\",\"하다\",\n",
    "    \"후\",\"전\",\"때\",\"이후\",\"동안\",\"현재\",\"지금\",\"또한\",\"그리고\",\"그러나\",\"등\",\"더\",\"못\",\"안\",\"또\",\"모두\",\n",
    "    \"모든\",\"각\",\"각각\",\"다시\",\"이미\",\"위\",\"아래\",\"안\",\"밖\",\"속\",\"중\",\"앞\",\"뒤\",\"끝\",\"위해\",\"마지막\",\"최고\",\n",
    "    \"최초\",\"과연\",\"바로\",\"그냥\",\"결국\",\"또는\",\"즉\",\"그래서\",\"때문에\", \"시작\",\"사람\",\"그녀\",\"날\",\"집\",\"알\",\"영화\",\n",
    "    \"친구\",\"남자\",\"두\",\"제\",\"국제\",\"영화제\",\"이야기\", \"사랑\",\"아이\",\"세계\",\"세상\",\"삶\",\"사실\",\"마을\",\"곳\",\"일\"\n",
    "}\n",
    "\n",
    "for i, tokens in enumerate(genre):   \n",
    "    print(genre_name[i], end=': ')\n",
    "    attr = []\n",
    "\n",
    "    dictionary = corpora.Dictionary(tokens)\n",
    "    corpus = [dictionary.doc2bow(text) for text in tokens]\n",
    "\n",
    "    lda = LdaModel(corpus=corpus, id2word=dictionary,\n",
    "                   num_topics=1, passes=10, random_state=42)\n",
    "\n",
    "    words = [w for w, p in lda.show_topic(0, topn=100)]\n",
    "\n",
    "    j = 0\n",
    "    while len(attr) < n and j < len(words):\n",
    "        if (words[j] not in stopwords) and (words[j] in skipgram_model.wv):    \n",
    "            attr.append(words[j])\n",
    "            print(words[j], end=', ')\n",
    "        j += 1\n",
    "\n",
    "    attributes.append(attr)\n",
    "    print()"
   ]
  },
  {
   "cell_type": "markdown",
   "id": "d18d837e-d6ef-49d6-b408-a4929ebc3865",
   "metadata": {},
   "source": [
    "##### 4. embedding model과 단어 셋으로 WEAT score 구해보기"
   ]
  },
  {
   "cell_type": "code",
   "execution_count": 71,
   "id": "580b2f11-52aa-44e0-b9ef-39f7fa81db21",
   "metadata": {},
   "outputs": [],
   "source": [
    "def cos_sim(i, j):\n",
    "    return dot(i, j.T)/(norm(i)*norm(j))\n",
    "\n",
    "def s(w, A, B):\n",
    "    c_a = cos_sim(w, A)\n",
    "    c_b = cos_sim(w, B)\n",
    "    mean_A = np.mean(c_a, axis=-1)\n",
    "    mean_B = np.mean(c_b, axis=-1)\n",
    "    return mean_A - mean_B \n",
    "\n",
    "def weat_score(X, Y, A, B):\n",
    "\n",
    "    s_X = s(X, A, B)\n",
    "    s_Y = s(Y, A, B)\n",
    "\n",
    "    mean_X = np.mean(s_X)\n",
    "    mean_Y = np.mean(s_Y)\n",
    "\n",
    "    std_dev = np.std(np.concatenate([s_X, s_Y], axis=0))\n",
    "\n",
    "    return  (mean_X-mean_Y)/std_dev"
   ]
  },
  {
   "cell_type": "code",
   "execution_count": 72,
   "id": "6fa6dd69-a3b1-4b82-a834-b96c057cd1d5",
   "metadata": {},
   "outputs": [],
   "source": [
    "matrix = [[0 for _ in range(len(genre_name))] for _ in range(len(genre_name))]"
   ]
  },
  {
   "cell_type": "code",
   "execution_count": 73,
   "id": "869502aa-9ec0-4939-9e07-e50ca14dd603",
   "metadata": {},
   "outputs": [],
   "source": [
    "X = np.array([cbow_model.wv[word] for word in target_art])\n",
    "Y = np.array([cbow_model.wv[word] for word in target_gen])\n",
    "\n",
    "for i in range(len(genre_name)-1):\n",
    "    for j in range(i+1, len(genre_name)):\n",
    "        A = np.array([cbow_model.wv[word] for word in attributes[i]])\n",
    "        B = np.array([cbow_model.wv[word] for word in attributes[j]])\n",
    "        matrix[i][j] = weat_score(X, Y, A, B)"
   ]
  },
  {
   "cell_type": "code",
   "execution_count": 74,
   "id": "6d027e9c-b560-4ff8-ac5f-e189419cdc92",
   "metadata": {},
   "outputs": [
    {
     "name": "stdout",
     "output_type": "stream",
     "text": [
      "SF 가족 -1.2962935\n",
      "SF 공연 -0.43358552\n",
      "SF 공포(호러) -1.0867318\n",
      "SF 기타 0.045358993\n",
      "SF 다큐멘터리 0.093996115\n",
      "SF 드라마 -1.1018703\n",
      "SF 멜로로맨스 -1.127896\n",
      "SF 뮤지컬 -0.12239661\n",
      "SF 미스터리 -1.0644056\n",
      "SF 범죄 -0.58405775\n",
      "SF 사극 -0.7358662\n",
      "SF 서부극(웨스턴) -1.1918644\n",
      "SF 성인물(에로) -0.9893939\n",
      "SF 스릴러 -0.9874907\n",
      "SF 애니메이션 0.1855897\n",
      "SF 액션 -1.1370107\n",
      "SF 어드벤처 -1.3741175\n",
      "SF 전쟁 0.21992895\n",
      "SF 코미디 -1.1425197\n",
      "SF 판타지 -1.0303347\n",
      "가족 공연 0.80745405\n",
      "가족 공포(호러) 1.0945587\n",
      "가족 기타 1.1960168\n",
      "가족 다큐멘터리 1.102681\n",
      "가족 드라마 0.9965683\n",
      "가족 멜로로맨스 0.09220788\n",
      "가족 뮤지컬 0.9917593\n",
      "가족 미스터리 1.0105822\n",
      "가족 범죄 1.0014277\n",
      "가족 사극 1.2133183\n",
      "가족 서부극(웨스턴) 0.51467544\n",
      "가족 성인물(에로) 0.24031048\n",
      "가족 스릴러 1.0430045\n",
      "가족 애니메이션 1.1714352\n",
      "가족 액션 0.7775452\n",
      "가족 어드벤처 1.061974\n",
      "가족 전쟁 1.0525167\n",
      "가족 코미디 0.84261173\n",
      "가족 판타지 1.236398\n",
      "공연 공포(호러) -0.22768098\n",
      "공연 기타 1.0366689\n",
      "공연 다큐멘터리 0.8709278\n",
      "공연 드라마 -0.6238477\n",
      "공연 멜로로맨스 -0.77277076\n",
      "공연 뮤지컬 1.0365345\n",
      "공연 미스터리 -0.23474872\n",
      "공연 범죄 -0.011073315\n",
      "공연 사극 0.23949677\n",
      "공연 서부극(웨스턴) -0.70001954\n",
      "공연 성인물(에로) -0.73388535\n",
      "공연 스릴러 -0.23121652\n",
      "공연 애니메이션 1.4055502\n",
      "공연 액션 -0.38252908\n",
      "공연 어드벤처 -0.30234826\n",
      "공연 전쟁 0.70872587\n",
      "공연 코미디 -0.63947105\n",
      "공연 판타지 -0.14659289\n",
      "공포(호러) 기타 0.64975756\n",
      "공포(호러) 다큐멘터리 0.60924256\n",
      "공포(호러) 드라마 -0.5080948\n",
      "공포(호러) 멜로로맨스 -0.80378073\n",
      "공포(호러) 뮤지컬 0.47343937\n",
      "공포(호러) 미스터리 -0.16353425\n",
      "공포(호러) 범죄 0.44997242\n",
      "공포(호러) 사극 0.6733747\n",
      "공포(호러) 서부극(웨스턴) -0.6975447\n",
      "공포(호러) 성인물(에로) -0.5498243\n",
      "공포(호러) 스릴러 0.0054705646\n",
      "공포(호러) 애니메이션 0.695699\n",
      "공포(호러) 액션 -0.38226202\n",
      "공포(호러) 어드벤처 0.02091282\n",
      "공포(호러) 전쟁 0.73704684\n",
      "공포(호러) 코미디 -0.5262223\n",
      "공포(호러) 판타지 0.2924689\n",
      "기타 다큐멘터리 0.16435352\n",
      "기타 드라마 -1.1620256\n",
      "기타 멜로로맨스 -1.1530054\n",
      "기타 뮤지컬 -0.5316026\n",
      "기타 미스터리 -0.63792974\n",
      "기타 범죄 -0.4063437\n",
      "기타 사극 -0.48310357\n",
      "기타 서부극(웨스턴) -1.0462695\n",
      "기타 성인물(에로) -1.1353428\n",
      "기타 스릴러 -0.6398627\n",
      "기타 애니메이션 0.50047904\n",
      "기타 액션 -0.75286573\n",
      "기타 어드벤처 -0.8658409\n",
      "기타 전쟁 0.14576156\n",
      "기타 코미디 -1.1431882\n",
      "기타 판타지 -0.8350992\n",
      "다큐멘터리 드라마 -1.0195972\n",
      "다큐멘터리 멜로로맨스 -1.0430672\n",
      "다큐멘터리 뮤지컬 -0.5605971\n",
      "다큐멘터리 미스터리 -0.6098487\n",
      "다큐멘터리 범죄 -0.3937711\n",
      "다큐멘터리 사극 -0.45421067\n",
      "다큐멘터리 서부극(웨스턴) -0.944556\n",
      "다큐멘터리 성인물(에로) -1.01683\n",
      "다큐멘터리 스릴러 -0.6011505\n",
      "다큐멘터리 애니메이션 0.17389967\n",
      "다큐멘터리 액션 -0.7054832\n",
      "다큐멘터리 어드벤처 -0.77811205\n",
      "다큐멘터리 전쟁 0.081569724\n",
      "다큐멘터리 코미디 -1.0193492\n",
      "다큐멘터리 판타지 -0.74656874\n",
      "드라마 멜로로맨스 -0.80726594\n",
      "드라마 뮤지컬 0.873356\n",
      "드라마 미스터리 0.44179115\n",
      "드라마 범죄 0.6475051\n",
      "드라마 사극 1.0177892\n",
      "드라마 서부극(웨스턴) -0.19458202\n",
      "드라마 성인물(에로) -0.37118205\n",
      "드라마 스릴러 0.50162274\n",
      "드라마 애니메이션 1.113632\n",
      "드라마 액션 0.21534503\n",
      "드라마 어드벤처 0.57093287\n",
      "드라마 전쟁 0.8953046\n",
      "드라마 코미디 -0.016929775\n",
      "드라마 판타지 1.0353571\n",
      "멜로로맨스 뮤지컬 0.9390556\n",
      "멜로로맨스 미스터리 0.7622494\n",
      "멜로로맨스 범죄 0.87127805\n",
      "멜로로맨스 사극 1.0589492\n",
      "멜로로맨스 서부극(웨스턴) 0.32942447\n",
      "멜로로맨스 성인물(에로) 0.4340099\n",
      "멜로로맨스 스릴러 0.8534655\n",
      "멜로로맨스 애니메이션 1.1123183\n",
      "멜로로맨스 액션 0.5594059\n",
      "멜로로맨스 어드벤처 0.7405802\n",
      "멜로로맨스 전쟁 0.95513546\n",
      "멜로로맨스 코미디 0.88989127\n",
      "멜로로맨스 판타지 1.0872416\n",
      "뮤지컬 미스터리 -0.46953315\n",
      "뮤지컬 범죄 -0.2638593\n",
      "뮤지컬 사극 -0.22778703\n",
      "뮤지컬 서부극(웨스턴) -0.87098557\n",
      "뮤지컬 성인물(에로) -0.9134878\n",
      "뮤지컬 스릴러 -0.4688282\n",
      "뮤지컬 애니메이션 0.9712036\n",
      "뮤지컬 액션 -0.5973044\n",
      "뮤지컬 어드벤처 -0.6398674\n",
      "뮤지컬 전쟁 0.32628113\n",
      "뮤지컬 코미디 -0.8798932\n",
      "뮤지컬 판타지 -0.5332057\n",
      "미스터리 범죄 0.4834249\n",
      "미스터리 사극 0.6489551\n",
      "미스터리 서부극(웨스턴) -0.6301228\n",
      "미스터리 성인물(에로) -0.51723033\n",
      "미스터리 스릴러 0.11577614\n",
      "미스터리 애니메이션 0.6765253\n",
      "미스터리 액션 -0.32682857\n",
      "미스터리 어드벤처 0.058514252\n",
      "미스터리 전쟁 0.7203622\n",
      "미스터리 코미디 -0.46693248\n",
      "미스터리 판타지 0.30559367\n",
      "범죄 사극 0.25578433\n",
      "범죄 서부극(웨스턴) -1.2291315\n",
      "범죄 성인물(에로) -0.7156855\n",
      "범죄 스릴러 -0.6046022\n",
      "범죄 애니메이션 0.5033038\n",
      "범죄 액션 -1.168609\n",
      "범죄 어드벤처 -0.34966034\n",
      "범죄 전쟁 0.6784966\n",
      "범죄 코미디 -0.69356537\n",
      "범죄 판타지 -0.131401\n",
      "사극 서부극(웨스턴) -1.1636423\n",
      "사극 성인물(에로) -0.9315422\n",
      "사극 스릴러 -0.6537614\n",
      "사극 애니메이션 0.6256719\n",
      "사극 액션 -0.8842423\n",
      "사극 어드벤처 -1.1434737\n",
      "사극 전쟁 0.64786637\n",
      "사극 코미디 -1.0787213\n",
      "사극 판타지 -0.69232017\n",
      "서부극(웨스턴) 성인물(에로) -0.115600556\n",
      "서부극(웨스턴) 스릴러 0.8425457\n",
      "서부극(웨스턴) 애니메이션 1.0904902\n",
      "서부극(웨스턴) 액션 0.69399583\n",
      "서부극(웨스턴) 어드벤처 0.7058013\n",
      "서부극(웨스턴) 전쟁 1.1340035\n",
      "서부극(웨스턴) 코미디 0.20109415\n",
      "서부극(웨스턴) 판타지 0.81756276\n",
      "성인물(에로) 스릴러 0.5932889\n",
      "성인물(에로) 애니메이션 1.0949442\n",
      "성인물(에로) 액션 0.35251874\n",
      "성인물(에로) 어드벤처 0.5369766\n",
      "성인물(에로) 전쟁 0.8932025\n",
      "성인물(에로) 코미디 0.39327946\n",
      "성인물(에로) 판타지 0.85985297\n",
      "스릴러 애니메이션 0.6883714\n",
      "스릴러 액션 -0.52673465\n",
      "스릴러 어드벤처 0.015060935\n",
      "스릴러 전쟁 0.75393903\n",
      "스릴러 코미디 -0.5525867\n",
      "스릴러 판타지 0.25770319\n",
      "애니메이션 액션 -0.8128957\n",
      "애니메이션 어드벤처 -0.9251403\n",
      "애니메이션 전쟁 0.008719357\n",
      "애니메이션 코미디 -1.097186\n",
      "애니메이션 판타지 -0.83005476\n",
      "액션 어드벤처 0.3106074\n",
      "액션 전쟁 0.97461087\n",
      "액션 코미디 -0.24135447\n",
      "액션 판타지 0.4531847\n",
      "어드벤처 전쟁 0.91835654\n",
      "어드벤처 코미디 -0.57539886\n",
      "어드벤처 판타지 0.4080426\n",
      "전쟁 코미디 -0.9234882\n",
      "전쟁 판타지 -0.6699088\n",
      "코미디 판타지 1.0897897\n"
     ]
    }
   ],
   "source": [
    "for i in range(len(genre_name)-1):\n",
    "    for j in range(i+1, len(genre_name)):\n",
    "        print(genre_name[i], genre_name[j],matrix[i][j])"
   ]
  },
  {
   "cell_type": "code",
   "execution_count": 75,
   "id": "51ee5301-524d-45af-b4fc-9ec23658a694",
   "metadata": {},
   "outputs": [],
   "source": [
    "font_path = '/usr/share/fonts/truetype/nanum/NanumGothic.ttf'\n",
    "fm.fontManager.addfont(font_path)\n",
    "plt.rc('font', family='NanumGothic')"
   ]
  },
  {
   "cell_type": "code",
   "execution_count": 76,
   "id": "e3401950-6367-4ddd-8564-91e959adc3c1",
   "metadata": {},
   "outputs": [
    {
     "data": {
      "text/plain": [
       "<Axes: >"
      ]
     },
     "execution_count": 76,
     "metadata": {},
     "output_type": "execute_result"
    },
    {
     "data": {
      "image/png": "[encoded data removed]",
      "text/plain": [
       "<Figure size 640x480 with 2 Axes>"
      ]
     },
     "metadata": {},
     "output_type": "display_data"
    }
   ],
   "source": [
    "np.random.seed(0)\n",
    "\n",
    "sns.set(font='NanumGothic')\n",
    "\n",
    "plt.rcParams['axes.unicode_minus'] = False\n",
    "\n",
    "ax = sns.heatmap(matrix, xticklabels=genre_name, yticklabels=genre_name, annot=False,  cmap='RdYlGn_r')\n",
    "ax"
   ]
  },
  {
   "cell_type": "code",
   "execution_count": 77,
   "id": "6f410cc5-5e86-4d2a-9feb-c47651db23d5",
   "metadata": {},
   "outputs": [],
   "source": [
    "X = np.array([skipgram_model.wv[word] for word in target_art])\n",
    "Y = np.array([skipgram_model.wv[word] for word in target_gen])\n",
    "\n",
    "for i in range(len(genre_name)-1):\n",
    "    for j in range(i+1, len(genre_name)):\n",
    "        A = np.array([skipgram_model.wv[word] for word in attributes[i]])\n",
    "        B = np.array([skipgram_model.wv[word] for word in attributes[j]])\n",
    "        matrix[i][j] = weat_score(X, Y, A, B)"
   ]
  },
  {
   "cell_type": "code",
   "execution_count": 78,
   "id": "3046429d-e02e-461c-8ced-ab165bdc1ff7",
   "metadata": {},
   "outputs": [
    {
     "name": "stdout",
     "output_type": "stream",
     "text": [
      "SF 가족 -0.99236625\n",
      "SF 공연 -0.31652167\n",
      "SF 공포(호러) -0.5526049\n",
      "SF 기타 0.74029267\n",
      "SF 다큐멘터리 0.5308868\n",
      "SF 드라마 -0.46815804\n",
      "SF 멜로로맨스 -0.88183814\n",
      "SF 뮤지컬 0.1364251\n",
      "SF 미스터리 -0.6811004\n",
      "SF 범죄 -0.362057\n",
      "SF 사극 -0.35369292\n",
      "SF 서부극(웨스턴) -1.2382189\n",
      "SF 성인물(에로) -0.59082264\n",
      "SF 스릴러 -0.74347144\n",
      "SF 애니메이션 0.81038415\n",
      "SF 액션 -0.7768371\n",
      "SF 어드벤처 -0.54161996\n",
      "SF 전쟁 0.20705457\n",
      "SF 코미디 -0.999208\n",
      "SF 판타지 -0.057457153\n",
      "가족 공연 0.4627811\n",
      "가족 공포(호러) 0.9533638\n",
      "가족 기타 1.2931974\n",
      "가족 다큐멘터리 1.2237219\n",
      "가족 드라마 1.0384518\n",
      "가족 멜로로맨스 0.21384095\n",
      "가족 뮤지컬 0.7523286\n",
      "가족 미스터리 0.85775334\n",
      "가족 범죄 0.89518124\n",
      "가족 사극 0.8797192\n",
      "가족 서부극(웨스턴) -0.14586402\n",
      "가족 성인물(에로) 0.52259403\n",
      "가족 스릴러 0.8021653\n",
      "가족 애니메이션 1.2207052\n",
      "가족 액션 0.72889143\n",
      "가족 어드벤처 1.1074739\n",
      "가족 전쟁 0.80652094\n",
      "가족 코미디 0.049187463\n",
      "가족 판타지 1.2145302\n",
      "공연 공포(호러) 0.05355167\n",
      "공연 기타 1.1887134\n",
      "공연 다큐멘터리 0.9532778\n",
      "공연 드라마 -0.0015062544\n",
      "공연 멜로로맨스 -0.37182522\n",
      "공연 뮤지컬 1.1448776\n",
      "공연 미스터리 0.0059632948\n",
      "공연 범죄 0.117037944\n",
      "공연 사극 0.20283812\n",
      "공연 서부극(웨스턴) -0.57319266\n",
      "공연 성인물(에로) -0.15323994\n",
      "공연 스릴러 -0.06862415\n",
      "공연 애니메이션 1.2316858\n",
      "공연 액션 -0.09243662\n",
      "공연 어드벤처 0.0510728\n",
      "공연 전쟁 0.5097758\n",
      "공연 코미디 -0.4559471\n",
      "공연 판타지 0.37440887\n",
      "공포(호러) 기타 0.88353926\n",
      "공포(호러) 다큐멘터리 0.72951406\n",
      "공포(호러) 드라마 -0.090135224\n",
      "공포(호러) 멜로로맨스 -0.6914377\n",
      "공포(호러) 뮤지컬 0.35373712\n",
      "공포(호러) 미스터리 -0.21207258\n",
      "공포(호러) 범죄 0.18688163\n",
      "공포(호러) 사극 0.21575612\n",
      "공포(호러) 서부극(웨스턴) -1.3022684\n",
      "공포(호러) 성인물(에로) -0.28248015\n",
      "공포(호러) 스릴러 -0.5057487\n",
      "공포(호러) 애니메이션 0.9000285\n",
      "공포(호러) 액션 -0.45427758\n",
      "공포(호러) 어드벤처 -0.02740464\n",
      "공포(호러) 전쟁 0.47942078\n",
      "공포(호러) 코미디 -0.82210064\n",
      "공포(호러) 판타지 0.4717505\n",
      "기타 다큐멘터리 -0.5728897\n",
      "기타 드라마 -1.3208594\n",
      "기타 멜로로맨스 -1.2362423\n",
      "기타 뮤지컬 -0.8085709\n",
      "기타 미스터리 -0.9049679\n",
      "기타 범죄 -0.8592923\n",
      "기타 사극 -1.0122669\n",
      "기타 서부극(웨스턴) -1.271827\n",
      "기타 성인물(에로) -1.1593567\n",
      "기타 스릴러 -0.972999\n",
      "기타 애니메이션 0.7542014\n",
      "기타 액션 -1.0354618\n",
      "기타 어드벤처 -1.0784239\n",
      "기타 전쟁 -0.6028633\n",
      "기타 코미디 -1.2795563\n",
      "기타 판타지 -0.9780341\n",
      "다큐멘터리 드라마 -1.0947676\n",
      "다큐멘터리 멜로로맨스 -1.0994899\n",
      "다큐멘터리 뮤지컬 -0.43031105\n",
      "다큐멘터리 미스터리 -0.7905836\n",
      "다큐멘터리 범죄 -0.6866123\n",
      "다큐멘터리 사극 -0.86804515\n",
      "다큐멘터리 서부극(웨스턴) -1.1869603\n",
      "다큐멘터리 성인물(에로) -0.980602\n",
      "다큐멘터리 스릴러 -0.851442\n",
      "다큐멘터리 애니메이션 0.71971816\n",
      "다큐멘터리 액션 -0.91761893\n",
      "다큐멘터리 어드벤처 -0.9335735\n",
      "다큐멘터리 전쟁 -0.32576874\n",
      "다큐멘터리 코미디 -1.1907454\n",
      "다큐멘터리 판타지 -0.7383903\n",
      "드라마 멜로로맨스 -0.8302721\n",
      "드라마 뮤지컬 0.47281995\n",
      "드라마 미스터리 0.012728242\n",
      "드라마 범죄 0.19966105\n",
      "드라마 사극 0.28001198\n",
      "드라마 서부극(웨스턴) -0.8790118\n",
      "드라마 성인물(에로) -0.26561546\n",
      "드라마 스릴러 -0.13081138\n",
      "드라마 애니메이션 1.1867564\n",
      "드라마 액션 -0.1538236\n",
      "드라마 어드벤처 0.09122542\n",
      "드라마 전쟁 0.4825592\n",
      "드라마 코미디 -0.94285995\n",
      "드라마 판타지 0.75030947\n",
      "멜로로맨스 뮤지컬 0.67643905\n",
      "멜로로맨스 미스터리 0.6894012\n",
      "멜로로맨스 범죄 0.78502625\n",
      "멜로로맨스 사극 0.7324192\n",
      "멜로로맨스 서부극(웨스턴) -0.281378\n",
      "멜로로맨스 성인물(에로) 0.8111811\n",
      "멜로로맨스 스릴러 0.59808457\n",
      "멜로로맨스 애니메이션 1.1550794\n",
      "멜로로맨스 액션 0.47796986\n",
      "멜로로맨스 어드벤처 0.63042456\n",
      "멜로로맨스 전쟁 0.69706696\n",
      "멜로로맨스 코미디 -0.3036073\n",
      "멜로로맨스 판타지 1.1720109\n",
      "뮤지컬 미스터리 -0.37385172\n",
      "뮤지컬 범죄 -0.29266182\n",
      "뮤지컬 사극 -0.35189956\n",
      "뮤지컬 서부극(웨스턴) -0.8240049\n",
      "뮤지컬 성인물(에로) -0.5636894\n",
      "뮤지컬 스릴러 -0.43073446\n",
      "뮤지컬 애니메이션 1.0141321\n",
      "뮤지컬 액션 -0.47909135\n",
      "뮤지컬 어드벤처 -0.4348393\n",
      "뮤지컬 전쟁 0.012219839\n",
      "뮤지컬 코미디 -0.73918617\n",
      "뮤지컬 판타지 -0.19628443\n",
      "미스터리 범죄 0.3214467\n",
      "미스터리 사극 0.30185655\n",
      "미스터리 서부극(웨스턴) -1.1037972\n",
      "미스터리 성인물(에로) -0.23114058\n",
      "미스터리 스릴러 -0.4238938\n",
      "미스터리 애니메이션 0.9055774\n",
      "미스터리 액션 -0.28210515\n",
      "미스터리 어드벤처 0.07120168\n",
      "미스터리 전쟁 0.4889196\n",
      "미스터리 코미디 -0.8353029\n",
      "미스터리 판타지 0.59036237\n",
      "범죄 사극 0.06805988\n",
      "범죄 서부극(웨스턴) -1.441893\n",
      "범죄 성인물(에로) -0.38548943\n",
      "범죄 스릴러 -0.7915906\n",
      "범죄 애니메이션 0.8730793\n",
      "범죄 액션 -0.84242874\n",
      "범죄 어드벤처 -0.14267206\n",
      "범죄 전쟁 0.42109036\n",
      "범죄 코미디 -1.0229923\n",
      "범죄 판타지 0.32613292\n",
      "사극 서부극(웨스턴) -1.1554726\n",
      "사극 성인물(에로) -0.44241232\n",
      "사극 스릴러 -0.45095363\n",
      "사극 애니메이션 0.9825641\n",
      "사극 액션 -0.587628\n",
      "사극 어드벤처 -0.25905624\n",
      "사극 전쟁 0.5212973\n",
      "사극 코미디 -0.90500313\n",
      "사극 판타지 0.33901855\n",
      "서부극(웨스턴) 성인물(에로) 0.5903872\n",
      "서부극(웨스턴) 스릴러 1.1393173\n",
      "서부극(웨스턴) 애니메이션 1.2128593\n",
      "서부극(웨스턴) 액션 1.3367769\n",
      "서부극(웨스턴) 어드벤처 1.206632\n",
      "서부극(웨스턴) 전쟁 1.0412354\n",
      "서부극(웨스턴) 코미디 0.18309364\n",
      "서부극(웨스턴) 판타지 1.2671134\n",
      "성인물(에로) 스릴러 0.0993484\n",
      "성인물(에로) 애니메이션 1.0865073\n",
      "성인물(에로) 액션 0.06632745\n",
      "성인물(에로) 어드벤처 0.24886478\n",
      "성인물(에로) 전쟁 0.5435883\n",
      "성인물(에로) 코미디 -0.76368016\n",
      "성인물(에로) 판타지 0.8280723\n",
      "스릴러 애니메이션 0.95610356\n",
      "스릴러 액션 -0.06259552\n",
      "스릴러 어드벤처 0.2337546\n",
      "스릴러 전쟁 0.5690605\n",
      "스릴러 코미디 -0.8078741\n",
      "스릴러 판타지 0.7267374\n",
      "애니메이션 액션 -1.0090356\n",
      "애니메이션 어드벤처 -1.0618616\n",
      "애니메이션 전쟁 -0.7511904\n",
      "애니메이션 코미디 -1.1817704\n",
      "애니메이션 판타지 -0.9635211\n",
      "액션 어드벤처 0.33237624\n",
      "액션 전쟁 0.6852563\n",
      "액션 코미디 -0.71638215\n",
      "액션 판타지 0.76787037\n",
      "어드벤처 전쟁 0.5386489\n",
      "어드벤처 코미디 -0.79276407\n",
      "어드벤처 판타지 0.598481\n",
      "전쟁 코미디 -0.79206836\n",
      "전쟁 판타지 -0.2144215\n",
      "코미디 판타지 1.302601\n"
     ]
    }
   ],
   "source": [
    "for i in range(len(genre_name)-1):\n",
    "    for j in range(i+1, len(genre_name)):\n",
    "        print(genre_name[i], genre_name[j],matrix[i][j])"
   ]
  },
  {
   "cell_type": "code",
   "execution_count": 79,
   "id": "811e832b-78f3-4529-920e-4d63fabc946e",
   "metadata": {},
   "outputs": [],
   "source": [
    "font_path = '/usr/share/fonts/truetype/nanum/NanumGothic.ttf'\n",
    "fm.fontManager.addfont(font_path)\n",
    "plt.rc('font', family='NanumGothic')"
   ]
  },
  {
   "cell_type": "code",
   "execution_count": 80,
   "id": "50a558c7-4a81-4d36-8ffb-70b35180a8b3",
   "metadata": {},
   "outputs": [
    {
     "data": {
      "text/plain": [
       "<Axes: >"
      ]
     },
     "execution_count": 80,
     "metadata": {},
     "output_type": "execute_result"
    },
    {
     "data": {
      "image/png": "[encoded data removed]",
      "text/plain": [
       "<Figure size 640x480 with 2 Axes>"
      ]
     },
     "metadata": {},
     "output_type": "display_data"
    }
   ],
   "source": [
    "np.random.seed(0)\n",
    "\n",
    "sns.set(font='NanumGothic')\n",
    "\n",
    "plt.rcParams['axes.unicode_minus'] = False\n",
    "\n",
    "ax = sns.heatmap(matrix, xticklabels=genre_name, yticklabels=genre_name, annot=False,  cmap='RdYlGn_r')\n",
    "ax"
   ]
  },
  {
   "cell_type": "markdown",
   "id": "389fdbac-fc0a-4452-9b29-31cdaf93e3a5",
   "metadata": {},
   "source": [
    "##### CBOW와 Skip-gram의 WEAT score 비교 (TF-IDF)"
   ]
  },
  {
   "cell_type": "markdown",
   "id": "a57728a1-463c-4116-ac6c-2be37ea0b073",
   "metadata": {},
   "source": [
    "| 장르쌍           | CBOW | Skip-gram |\n",
    "| ------------- | ---------- | --------------- |\n",
    "| SF – 가족       | -0.5178    | -0.1246         |\n",
    "| SF – 공연       | -0.3706    | -0.3176         |\n",
    "| SF – 공포(호러)   | -0.6765    | -0.4046         |\n",
    "| SF – 기타       | +0.3424    | +0.5744         |\n",
    "| SF – 다큐멘터리    | +0.5981    | +0.7869         |\n",
    "| SF – 드라마      | -0.3548    | +0.0909         |\n",
    "| SF – 멜로로맨스    | -0.7615    | -0.4546         |\n",
    "| SF – 뮤지컬      | +0.3546    | +0.3663         |\n",
    "| SF – 미스터리     | -0.6779    | -0.2444         |\n",
    "| SF – 범죄       | -0.2159    | +0.1873         |\n",
    "| SF – 사극       | -0.8267    | -0.6984         |\n",
    "| SF – 서부극(웨스턴) | -0.4304    | -0.2387         |\n",
    "| SF – 성인물(에로)  | -0.5373    | -0.0874         |\n",
    "| SF – 스릴러      | -0.5144    | -0.2293         |\n",
    "| SF – 애니메이션    | +0.3568    | +0.6147         |\n",
    "| SF – 액션       | -0.4396    | -0.2205         |\n",
    "| SF – 어드벤처     | -0.7729    | -0.0252         |\n",
    "| SF – 전쟁       | +0.2346    | +0.1114         |\n",
    "| SF – 코미디      | -0.4056    | +0.1361         |\n",
    "| SF – 판타지      | -0.0606    | +0.2466         |"
   ]
  },
  {
   "cell_type": "markdown",
   "id": "1f844feb-500a-4d02-a17a-e099b200a552",
   "metadata": {},
   "source": [
    "| 장르쌍           | CBOW | Skip-gram |\n",
    "| ------------- | ---------- | --------------- |\n",
    "| 가족 – 공연       | +0.1856    | -0.1920         |\n",
    "| 가족 – 공포(호러)   | -0.1406    | -0.1679         |\n",
    "| 가족 – 기타       | +0.7735    | +0.8716         |\n",
    "| 가족 – 다큐멘터리    | +0.8498    | +1.0350         |\n",
    "| 가족 – 드라마      | +0.2523    | +0.4352         |\n",
    "| 가족 – 멜로로맨스    | -0.5918    | -0.3071         |\n",
    "| 가족 – 뮤지컬      | +0.7300    | +0.5533         |\n",
    "| 가족 – 미스터리     | -0.2570    | -0.0543         |\n",
    "| 가족 – 범죄       | +0.2370    | +0.2612         |\n",
    "| 가족 – 사극       | -0.0899    | -0.2919         |\n",
    "| 가족 – 서부극(웨스턴) | +0.4077    | -0.0631         |\n",
    "| 가족 – 성인물(에로)  | -0.2800    | +0.0256         |\n",
    "| 가족 – 스릴러      | -0.1164    | -0.0487         |\n",
    "| 가족 – 애니메이션    | +0.8863    | +0.9668         |\n",
    "| 가족 – 액션       | +0.1400    | +0.0090         |\n",
    "| 가족 – 어드벤처     | +0.0493    | +0.1770         |\n",
    "| 가족 – 전쟁       | +0.6475    | +0.1878         |\n",
    "| 가족 – 코미디      | +0.2639    | +0.3488         |\n",
    "| 가족 – 판타지      | +0.4859    | +0.3997         |"
   ]
  },
  {
   "cell_type": "markdown",
   "id": "93460f97-3e57-44d0-ae07-708a47afa4be",
   "metadata": {},
   "source": [
    "| 장르쌍           | CBOW | Skip-gram |\n",
    "| ------------- | ---------- | --------------- |\n",
    "| 공연 – 공포(호러)   | -0.2247    | +0.0448         |\n",
    "| 공연 – 기타       | +0.9500    | +0.9306         |\n",
    "| 공연 – 다큐멘터리    | +0.9241    | +1.1076         |\n",
    "| 공연 – 드라마      | +0.0545    | +0.6011         |\n",
    "| 공연 – 멜로로맨스    | -0.6724    | -0.1625         |\n",
    "| 공연 – 뮤지컬      | +0.9047    | +0.9070         |\n",
    "| 공연 – 미스터리     | -0.3003    | +0.1421         |\n",
    "| 공연 – 범죄       | +0.1046    | +0.4812         |\n",
    "| 공연 – 사극       | -0.3628    | -0.1754         |\n",
    "| 공연 – 서부극(웨스턴) | +0.0538    | +0.1861         |\n",
    "| 공연 – 성인물(에로)  | -0.4360    | +0.2518         |\n",
    "| 공연 – 스릴러      | -0.1958    | +0.1450         |\n",
    "| 공연 – 애니메이션    | +0.9104    | +0.9591         |\n",
    "| 공연 – 액션       | -0.0004    | +0.2116         |\n",
    "| 공연 – 어드벤처     | -0.1440    | +0.3916         |\n",
    "| 공연 – 전쟁       | +0.5943    | +0.3963         |\n",
    "| 공연 – 코미디      | +0.0694    | +0.6647         |\n",
    "| 공연 – 판타지      | +0.4455    | +0.7054         |"
   ]
  },
  {
   "cell_type": "markdown",
   "id": "191f2c87-edd7-4e9b-bfe0-1752198bb120",
   "metadata": {},
   "source": [
    "| 장르쌍           | CBOW | Skip-gram |\n",
    "| ------------- | ---------- | --------------- |\n",
    "| 공포 – 기타       | +0.6339    | +0.7307         |\n",
    "| 공포 – 다큐멘터리    | +0.7465    | +0.9328         |\n",
    "| 공포 – 드라마      | +0.3069    | +0.4655         |\n",
    "| 공포 – 멜로로맨스    | -0.5946    | -0.2647         |\n",
    "| 공포 – 뮤지컬      | +0.6188    | +0.5494         |\n",
    "| 공포 – 미스터리     | -0.4408    | +0.2820         |\n",
    "| 공포 – 범죄       | +0.6836    | +0.9300         |\n",
    "| 공포 – 사극       | +0.0840    | -0.2310         |\n",
    "| 공포 – 서부극(웨스턴) | +0.3956    | +0.1940         |\n",
    "| 공포 – 성인물(에로)  | -0.1945    | +0.2044         |\n",
    "| 공포 – 스릴러      | +0.0027    | +0.2531         |\n",
    "| 공포 – 애니메이션    | +0.6521    | +0.7741         |\n",
    "| 공포 – 액션       | +0.5764    | +0.3450         |\n",
    "| 공포 – 어드벤처     | +0.2114    | +0.4783         |\n",
    "| 공포 – 전쟁       | +0.6455    | +0.3852         |\n",
    "| 공포 – 코미디      | +0.4658    | +0.7106         |\n",
    "| 공포 – 판타지      | +0.5432    | +0.6544         |"
   ]
  },
  {
   "cell_type": "markdown",
   "id": "88d6f221-0ecd-4cf6-988f-b5cb173f2e25",
   "metadata": {},
   "source": [
    "| 장르쌍           | CBOW | Skip-gram |\n",
    "| ------------- | ---------- | --------------- |\n",
    "| 기타 – 다큐멘터리    | +0.5996    | +0.2858         |\n",
    "| 기타 – 드라마      | -0.8838    | -0.8470         |\n",
    "| 기타 – 멜로로맨스    | -0.8707    | -0.7581         |\n",
    "| 기타 – 뮤지컬      | +0.0724    | -0.6365         |\n",
    "| 기타 – 미스터리     | -0.6353    | -0.6496         |\n",
    "| 기타 – 범죄       | -0.3714    | -0.4898         |\n",
    "| 기타 – 사극       | -0.8348    | -0.8450         |\n",
    "| 기타 – 서부극(웨스턴) | -0.6332    | -0.7873         |\n",
    "| 기타 – 성인물(에로)  | -0.7885    | -0.6092         |\n",
    "| 기타 – 스릴러      | -0.5550    | -0.6187         |\n",
    "| 기타 – 애니메이션    | -0.0639    | +0.0471         |\n",
    "| 기타 – 액션       | -0.4673    | -0.6168         |\n",
    "| 기타 – 어드벤처     | -0.7919    | -0.6944         |\n",
    "| 기타 – 전쟁       | -0.2189    | -0.5777         |\n",
    "| 기타 – 코미디      | -0.7100    | -0.6926         |\n",
    "| 기타 – 판타지      | -0.6261    | -0.6559         |"
   ]
  },
  {
   "cell_type": "markdown",
   "id": "5054d8b1-4d63-449c-81a8-8e618b0725b1",
   "metadata": {},
   "source": [
    "| 장르쌍              | CBOW | Skip-gram |\n",
    "| ---------------- | ---------- | --------------- |\n",
    "| 다큐멘터리 – 드라마      | -0.9089    | -1.1051         |\n",
    "| 다큐멘터리 – 멜로로맨스    | -0.8794    | -0.9116         |\n",
    "| 다큐멘터리 – 뮤지컬      | -0.7057    | -0.9270         |\n",
    "| 다큐멘터리 – 미스터리     | -0.7429    | -0.8470         |\n",
    "| 다큐멘터리 – 범죄       | -0.5026    | -0.6703         |\n",
    "| 다큐멘터리 – 사극       | -0.9129    | -1.0463         |\n",
    "| 다큐멘터리 – 서부극(웨스턴) | -0.7423    | -0.9757         |\n",
    "| 다큐멘터리 – 성인물(에로)  | -0.8127    | -0.7642         |\n",
    "| 다큐멘터리 – 스릴러      | -0.6509    | -0.7880         |\n",
    "| 다큐멘터리 – 애니메이션    | -0.5552    | -0.2759         |\n",
    "| 다큐멘터리 – 액션       | -0.6045    | -0.8173         |\n",
    "| 다큐멘터리 – 어드벤처     | -0.9470    | -0.9804         |\n",
    "| 다큐멘터리 – 전쟁       | -0.4452    | -0.7564         |\n",
    "| 다큐멘터리 – 코미디      | -0.8107    | -0.9643         |\n",
    "| 다큐멘터리 – 판타지      | -0.9004    | -0.9930         |"
   ]
  },
  {
   "cell_type": "markdown",
   "id": "4c5ad1a4-20ce-46af-9390-34c54c2aeb8b",
   "metadata": {},
   "source": [
    "| 장르쌍            | CBOW | Skip-gram |\n",
    "| -------------- | ---------- | --------------- |\n",
    "| 드라마 – 멜로로맨스    | -0.8093    | -0.5820         |\n",
    "| 드라마 – 뮤지컬      | +0.8271    | +0.5117         |\n",
    "| 드라마 – 미스터리     | -0.3799    | -0.3125         |\n",
    "| 드라마 – 범죄       | +0.0891    | +0.0449         |\n",
    "| 드라마 – 사극       | -0.3845    | -0.6040         |\n",
    "| 드라마 – 서부극(웨스턴) | +0.0138    | -0.3989         |\n",
    "| 드라마 – 성인물(에로)  | -0.5522    | -0.1985         |\n",
    "| 드라마 – 스릴러      | -0.2465    | -0.2863         |\n",
    "| 드라마 – 애니메이션    | +0.8619    | +0.9170         |\n",
    "| 드라마 – 액션       | -0.0251    | -0.2334         |\n",
    "| 드라마 – 어드벤처     | -0.2395    | -0.2004         |\n",
    "| 드라마 – 전쟁       | +0.4571    | -0.0049         |\n",
    "| 드라마 – 코미디      | +0.0523    | +0.0468         |\n",
    "| 드라마 – 판타지      | +0.5801    | +0.2344         |"
   ]
  },
  {
   "cell_type": "markdown",
   "id": "d87c4a21-e6de-44e1-9c1e-f1c87589c333",
   "metadata": {},
   "source": [
    "| 장르쌍              | CBOW | Skip-gram |\n",
    "| ---------------- | ---------- | --------------- |\n",
    "| 멜로로맨스 – 뮤지컬      | +0.8463    | +0.6222         |\n",
    "| 멜로로맨스 – 미스터리     | +0.4589    | +0.4768         |\n",
    "| 멜로로맨스 – 범죄       | +0.8396    | +0.8908         |\n",
    "| 멜로로맨스 – 사극       | +0.6068    | +0.0304         |\n",
    "| 멜로로맨스 – 서부극(웨스턴) | +0.7173    | +0.3024         |\n",
    "| 멜로로맨스 – 성인물(에로)  | +0.8276    | +0.8212         |\n",
    "| 멜로로맨스 – 스릴러      | +0.6458    | +0.5246         |\n",
    "| 멜로로맨스 – 애니메이션    | +0.8496    | +0.7863         |\n",
    "| 멜로로맨스 – 액션       | +0.7317    | +0.4407         |\n",
    "| 멜로로맨스 – 어드벤처     | +0.5929    | +0.5194         |\n",
    "| 멜로로맨스 – 전쟁       | +0.7778    | +0.4125         |\n",
    "| 멜로로맨스 – 코미디      | +0.8787    | +0.6910         |\n",
    "| 멜로로맨스 – 판타지      | +0.8064    | +0.6655         |"
   ]
  },
  {
   "cell_type": "markdown",
   "id": "fa11bd6d-03b5-4231-ad5d-a9db92fd84a6",
   "metadata": {},
   "source": [
    "| 장르쌍            | CBOW | Skip-gram |\n",
    "| -------------- | ---------- | --------------- |\n",
    "| 뮤지컬 – 미스터리     | -0.6266    | -0.4610         |\n",
    "| 뮤지컬 – 범죄       | -0.3651    | -0.2627         |\n",
    "| 뮤지컬 – 사극       | -0.8152    | -0.7153         |\n",
    "| 뮤지컬 – 서부극(웨스턴) | -0.5968    | -0.5493         |\n",
    "| 뮤지컬 – 성인물(에로)  | -0.7708    | -0.4279         |\n",
    "| 뮤지컬 – 스릴러      | -0.5426    | -0.4363         |\n",
    "| 뮤지컬 – 애니메이션    | -0.0880    | +0.6430         |\n",
    "| 뮤지컬 – 액션       | -0.4616    | -0.4283         |\n",
    "| 뮤지컬 – 어드벤처     | -0.7788    | -0.4771         |\n",
    "| 뮤지컬 – 전쟁       | -0.2207    | -0.3152         |\n",
    "| 뮤지컬 – 코미디      | -0.6769    | -0.4122         |\n",
    "| 뮤지컬 – 판타지      | -0.6492    | -0.3679         |"
   ]
  },
  {
   "cell_type": "markdown",
   "id": "9a0e3bc3-82ba-4471-983c-3f896cf62f0f",
   "metadata": {},
   "source": [
    "| 장르쌍             | CBOW | Skip-gram |\n",
    "| --------------- | ---------- | --------------- |\n",
    "| 미스터리 – 범죄       | +0.9014    | +0.8606         |\n",
    "| 미스터리 – 사극       | +0.2138    | -0.3377         |\n",
    "| 미스터리 – 서부극(웨스턴) | +0.4655    | +0.0099         |\n",
    "| 미스터리 – 성인물(에로)  | -0.0647    | +0.1041         |\n",
    "| 미스터리 – 스릴러      | +0.4280    | +0.0118         |\n",
    "| 미스터리 – 애니메이션    | +0.6500    | +0.6866         |\n",
    "| 미스터리 – 액션       | +0.7774    | +0.1389         |\n",
    "| 미스터리 – 어드벤처     | +0.3136    | +0.2667         |\n",
    "| 미스터리 – 전쟁       | +0.6523    | +0.2508         |\n",
    "| 미스터리 – 코미디      | +0.5070    | +0.4488         |\n",
    "| 미스터리 – 판타지      | +0.5575    | +0.4614         |"
   ]
  },
  {
   "cell_type": "markdown",
   "id": "24360fcd-6124-48a5-9fa7-5160bcd5aeda",
   "metadata": {},
   "source": [
    "| 장르쌍           | CBOW | Skip-gram |\n",
    "| ------------- | ---------- | --------------- |\n",
    "| 범죄 – 사극       | -0.3568    | -0.8366         |\n",
    "| 범죄 – 서부극(웨스턴) | -0.1124    | -0.4469         |\n",
    "| 범죄 – 성인물(에로)  | -0.4804    | -0.2863         |\n",
    "| 범죄 – 스릴러      | -0.9841    | -0.9808         |\n",
    "| 범죄 – 애니메이션    | +0.3708    | +0.5176         |\n",
    "| 범죄 – 액션       | -0.3703    | -0.7010         |\n",
    "| 범죄 – 어드벤처     | -0.2176    | -0.2199         |\n",
    "| 범죄 – 전쟁       | +0.3602    | -0.0474         |\n",
    "| 범죄 – 코미디      | -0.0960    | -0.0378         |\n",
    "| 범죄 – 판타지      | +0.1396    | +0.0825         |"
   ]
  },
  {
   "cell_type": "markdown",
   "id": "a120caf3-9b3d-44c7-8093-127dd210552d",
   "metadata": {},
   "source": [
    "| 장르쌍           | CBOW | Skip-gram |\n",
    "| ------------- | ---------- | --------------- |\n",
    "| 사극 – 서부극(웨스턴) | +0.4418    | +0.4033         |\n",
    "| 사극 – 성인물(에로)  | -0.2700    | +0.3462         |\n",
    "| 사극 – 스릴러      | -0.0643    | +0.3544         |\n",
    "| 사극 – 애니메이션    | +0.8342    | +0.8802         |\n",
    "| 사극 – 액션       | +0.2660    | +0.5826         |\n",
    "| 사극 – 어드벤처     | +0.1911    | +0.5709         |\n",
    "| 사극 – 전쟁       | +0.8841    | +0.7599         |\n",
    "| 사극 – 코미디      | +0.5503    | +0.8098         |\n",
    "| 사극 – 판타지      | +0.7385    | +0.8438         |"
   ]
  },
  {
   "cell_type": "markdown",
   "id": "cbd77cfb-22ff-474f-b93c-7a54db8903d7",
   "metadata": {},
   "source": [
    "| 장르쌍           | CBOW | Skip-gram |\n",
    "| ------------- | ---------- | --------------- |\n",
    "| 서부극 – 성인물(에로) | -0.4101    | +0.0706         |\n",
    "| 서부극 – 스릴러     | -0.3151    | -0.0058         |\n",
    "| 서부극 – 애니메이션   | +0.7011    | +0.8507         |\n",
    "| 서부극 – 액션      | -0.0511    | +0.0829         |\n",
    "| 서부극 – 어드벤처    | -0.2820    | +0.2926         |\n",
    "| 서부극 – 전쟁      | +0.6722    | +0.3758         |\n",
    "| 서부극 – 코미디     | +0.0142    | +0.5563         |\n",
    "| 서부극 – 판타지     | +0.3272    | +0.5324         |"
   ]
  },
  {
   "cell_type": "markdown",
   "id": "e3eb36af-7c24-4f4a-bce2-ecd6742b58cd",
   "metadata": {},
   "source": [
    "| 장르쌍           | CBOW| Skip-gram |\n",
    "| ------------- | ---------- | --------------- |\n",
    "| 서부극 – 성인물(에로) | -0.4101    | +0.0706         |\n",
    "| 서부극 – 스릴러     | -0.3151    | -0.0058         |\n",
    "| 서부극 – 애니메이션   | +0.7011    | +0.8507         |\n",
    "| 서부극 – 액션      | -0.0511    | +0.0829         |\n",
    "| 서부극 – 어드벤처    | -0.2820    | +0.2926         |\n",
    "| 서부극 – 전쟁      | +0.6722    | +0.3758         |\n",
    "| 서부극 – 코미디     | +0.0142    | +0.5563         |\n",
    "| 서부극 – 판타지     | +0.3272    | +0.5324         |"
   ]
  },
  {
   "cell_type": "markdown",
   "id": "81d4058d-e4a4-44d9-b646-beada0812ccd",
   "metadata": {},
   "source": [
    "| 장르쌍         | CBOW | Skip-gram |\n",
    "| ----------- | ---------- | --------------- |\n",
    "| 성인물 – 스릴러   | +0.1981    | -0.1020         |\n",
    "| 성인물 – 애니메이션 | +0.7332    | +0.6224         |\n",
    "| 성인물 – 액션    | +0.3723    | -0.0234         |\n",
    "| 성인물 – 어드벤처  | +0.3011    | +0.0872         |\n",
    "| 성인물 – 전쟁    | +0.5868    | +0.1327         |\n",
    "| 성인물 – 코미디   | +0.5716    | +0.2417         |\n",
    "| 성인물 – 판타지   | +0.6321    | +0.2980         |"
   ]
  },
  {
   "cell_type": "markdown",
   "id": "01dc6f10-a1a3-449b-99fb-17ba0e9c09b0",
   "metadata": {},
   "source": [
    "| 장르쌍         | CBOW | Skip-gram |\n",
    "| ----------- | ---------- | --------------- |\n",
    "| 스릴러 – 애니메이션 | +0.5618    | +0.6530         |\n",
    "| 스릴러 – 액션    | +0.5281    | +0.1367         |\n",
    "| 스릴러 – 어드벤처  | +0.1459    | +0.2284         |\n",
    "| 스릴러 – 전쟁    | +0.5717    | +0.2498         |\n",
    "| 스릴러 – 코미디   | +0.3337    | +0.4070         |\n",
    "| 스릴러 – 판타지   | +0.4199    | +0.4135         |"
   ]
  },
  {
   "cell_type": "markdown",
   "id": "655ead25-f3db-4ad6-b92b-03c543fbbdbc",
   "metadata": {},
   "source": [
    "| 장르쌍          | CBOW | Skip-gram |\n",
    "| ------------ | ---------- | --------------- |\n",
    "| 애니메이션 – 액션   | -0.4795    | -0.6533         |\n",
    "| 애니메이션 – 어드벤처 | -0.8686    | -0.7556         |\n",
    "| 애니메이션 – 전쟁   | -0.2196    | -0.6116         |\n",
    "| 애니메이션 – 코미디  | -0.7060    | -0.7416         |\n",
    "| 애니메이션 – 판타지  | -0.5857    | -0.7009         |"
   ]
  },
  {
   "cell_type": "markdown",
   "id": "93db5138-aed1-4b91-b768-bb1d356dd7b8",
   "metadata": {},
   "source": [
    "| 장르쌍       | CBOW | Skip-gram |\n",
    "| --------- | ---------- | --------------- |\n",
    "| 액션 – 어드벤처 | -0.1225    | +0.1731         |\n",
    "| 액션 – 전쟁   | +0.5322    | +0.2606         |\n",
    "| 액션 – 코미디  | +0.0540    | +0.3517         |\n",
    "| 액션 – 판타지  | +0.2696    | +0.3973         |"
   ]
  },
  {
   "cell_type": "markdown",
   "id": "3ebf462f-6137-4b50-a188-eb7e33307cb6",
   "metadata": {},
   "source": [
    "| 장르쌍        | CBOW  | Skip-gram |\n",
    "| ---------- | ---------- | --------------- |\n",
    "| 어드벤처 – 전쟁  | +0.6666    | +0.1044         |\n",
    "| 어드벤처 – 코미디 | +0.3344    | +0.3101         |\n",
    "| 어드벤처 – 판타지 | +0.7487    | +0.4684         |"
   ]
  },
  {
   "cell_type": "markdown",
   "id": "a280f7df-02c4-4964-bfcd-5407869097f5",
   "metadata": {},
   "source": [
    "| 장르쌍      | CBOW | Skip-gram |\n",
    "| -------- | ---------- | --------------- |\n",
    "| 전쟁 – 코미디 | -0.4855    | +0.0241         |\n",
    "| 전쟁 – 판타지 | -0.2019    | +0.1099         |"
   ]
  },
  {
   "cell_type": "markdown",
   "id": "25b67d98-f35d-42d6-abf5-fde2557ed7f9",
   "metadata": {},
   "source": [
    "| 장르쌍       | CBOW | Skip-gram |\n",
    "| --------- | ---------- | --------------- |\n",
    "| 코미디 – 판타지 | +0.5155    | +0.2765         |"
   ]
  },
  {
   "cell_type": "markdown",
   "id": "36515c69-d5d5-4f01-a23f-e239da9ec72d",
   "metadata": {},
   "source": [
    "##### CBOW와 Skip-gram의 WEAT score 비교 (LDA)"
   ]
  },
  {
   "cell_type": "markdown",
   "id": "7b3aab72-c923-4b9e-888a-390047da62d4",
   "metadata": {},
   "source": [
    "| 장르쌍           | CBOW    | Skip-gram |\n",
    "| ------------- | ------- | --------- |\n",
    "| SF – 가족       | -1.2963 | -0.9924   |\n",
    "| SF – 공연       | -0.4336 | -0.3165   |\n",
    "| SF – 공포(호러)   | -1.0867 | -0.5526   |\n",
    "| SF – 기타       | +0.0454 | +0.7403   |\n",
    "| SF – 다큐멘터리    | +0.0940 | +0.5309   |\n",
    "| SF – 드라마      | -1.1019 | -0.4682   |\n",
    "| SF – 멜로로맨스    | -1.1279 | -0.8818   |\n",
    "| SF – 뮤지컬      | -0.1224 | +0.1364   |\n",
    "| SF – 미스터리     | -1.0644 | -0.6811   |\n",
    "| SF – 범죄       | -0.5841 | -0.3621   |\n",
    "| SF – 사극       | -0.7359 | -0.3537   |\n",
    "| SF – 서부극(웨스턴) | -1.1919 | -1.2382   |\n",
    "| SF – 성인물(에로)  | -0.9894 | -0.5908   |\n",
    "| SF – 스릴러      | -0.9875 | -0.7435   |\n",
    "| SF – 애니메이션    | +0.1856 | +0.8104   |\n",
    "| SF – 액션       | -1.1370 | -0.7768   |\n",
    "| SF – 어드벤처     | -1.3741 | -0.5416   |\n",
    "| SF – 전쟁       | +0.2199 | +0.2071   |\n",
    "| SF – 코미디      | -1.1425 | -0.9992   |\n",
    "| SF – 판타지      | -1.0303 | -0.0575   |\n"
   ]
  },
  {
   "cell_type": "markdown",
   "id": "7116ff1a-5d75-4d40-9694-dad76aad8631",
   "metadata": {},
   "source": [
    "| 장르쌍           | CBOW    | Skip-gram |\n",
    "| ------------- | ------- | --------- |\n",
    "| 가족 – 공연       | +0.8075 | +0.4628   |\n",
    "| 가족 – 공포(호러)   | +1.0946 | +0.9534   |\n",
    "| 가족 – 기타       | +1.1960 | +1.2932   |\n",
    "| 가족 – 다큐멘터리    | +1.1027 | +1.2237   |\n",
    "| 가족 – 드라마      | +0.9966 | +1.0385   |\n",
    "| 가족 – 멜로로맨스    | +0.0922 | +0.2138   |\n",
    "| 가족 – 뮤지컬      | +0.9918 | +0.7523   |\n",
    "| 가족 – 미스터리     | +1.0106 | +0.8578   |\n",
    "| 가족 – 범죄       | +1.0014 | +0.8952   |\n",
    "| 가족 – 사극       | +1.2133 | +0.8797   |\n",
    "| 가족 – 서부극(웨스턴) | +0.5147 | -0.1459   |\n",
    "| 가족 – 성인물(에로)  | +0.2403 | +0.5226   |\n",
    "| 가족 – 스릴러      | +1.0430 | +0.8022   |\n",
    "| 가족 – 애니메이션    | +1.1714 | +1.2207   |\n",
    "| 가족 – 액션       | +0.7775 | +0.7289   |\n",
    "| 가족 – 어드벤처     | +1.0620 | +1.1075   |\n",
    "| 가족 – 전쟁       | +1.0525 | +0.8065   |\n",
    "| 가족 – 코미디      | +0.8426 | +0.0492   |\n",
    "| 가족 – 판타지      | +1.2364 | +1.2145   |\n"
   ]
  },
  {
   "cell_type": "markdown",
   "id": "f5a255c2-1ade-4e82-9f66-e3fdaec0af9e",
   "metadata": {},
   "source": [
    "| 장르쌍           | CBOW    | Skip-gram |\n",
    "| ------------- | ------- | --------- |\n",
    "| 공연 – 공포(호러)   | -0.2277 | +0.0536   |\n",
    "| 공연 – 기타       | +1.0367 | +1.1887   |\n",
    "| 공연 – 다큐멘터리    | +0.8709 | +0.9533   |\n",
    "| 공연 – 드라마      | -0.6238 | -0.0015   |\n",
    "| 공연 – 멜로로맨스    | -0.7728 | -0.3718   |\n",
    "| 공연 – 뮤지컬      | +1.0365 | +1.1449   |\n",
    "| 공연 – 미스터리     | -0.2347 | +0.0060   |\n",
    "| 공연 – 범죄       | -0.0111 | +0.1170   |\n",
    "| 공연 – 사극       | +0.2395 | +0.2028   |\n",
    "| 공연 – 서부극(웨스턴) | -0.7000 | -0.5732   |\n",
    "| 공연 – 성인물(에로)  | -0.7339 | -0.1532   |\n",
    "| 공연 – 스릴러      | -0.2312 | -0.0686   |\n",
    "| 공연 – 애니메이션    | +1.4056 | +1.2317   |\n",
    "| 공연 – 액션       | -0.3825 | -0.0924   |\n",
    "| 공연 – 어드벤처     | -0.3023 | +0.0511   |\n",
    "| 공연 – 전쟁       | +0.7087 | +0.5098   |\n",
    "| 공연 – 코미디      | -0.6395 | -0.4559   |\n",
    "| 공연 – 판타지      | -0.1466 | +0.3744   |\n"
   ]
  },
  {
   "cell_type": "markdown",
   "id": "e3861b12-c61a-4887-8375-f71a4e4ebedd",
   "metadata": {},
   "source": [
    "| 장르쌍               | CBOW    | Skip-gram |\n",
    "| ----------------- | ------- | --------- |\n",
    "| 공포(호러) – 기타       | +0.6498 | +0.8835   |\n",
    "| 공포(호러) – 다큐멘터리    | +0.6092 | +0.7295   |\n",
    "| 공포(호러) – 드라마      | -0.5081 | -0.0901   |\n",
    "| 공포(호러) – 멜로로맨스    | -0.8038 | -0.6914   |\n",
    "| 공포(호러) – 뮤지컬      | +0.4734 | +0.3537   |\n",
    "| 공포(호러) – 미스터리     | -0.1635 | -0.2121   |\n",
    "| 공포(호러) – 범죄       | +0.4500 | +0.1869   |\n",
    "| 공포(호러) – 사극       | +0.6734 | +0.2158   |\n",
    "| 공포(호러) – 서부극(웨스턴) | -0.6975 | -1.3023   |\n",
    "| 공포(호러) – 성인물(에로)  | -0.5498 | -0.2825   |\n",
    "| 공포(호러) – 스릴러      | +0.0055 | -0.5057   |\n",
    "| 공포(호러) – 애니메이션    | +0.6957 | +0.9000   |\n",
    "| 공포(호러) – 액션       | -0.3823 | -0.4543   |\n",
    "| 공포(호러) – 어드벤처     | +0.0209 | -0.0274   |\n",
    "| 공포(호러) – 전쟁       | +0.7370 | +0.4794   |\n",
    "| 공포(호러) – 코미디      | -0.5262 | -0.8221   |\n",
    "| 공포(호러) – 판타지      | +0.2925 | +0.4718   |\n"
   ]
  },
  {
   "cell_type": "markdown",
   "id": "ad81b3b6-b8c9-4b15-ba49-00d9c4599a6a",
   "metadata": {},
   "source": [
    "| 장르쌍           | CBOW    | Skip-gram |\n",
    "| ------------- | ------- | --------- |\n",
    "| 기타 – 다큐멘터리    | +0.1644 | -0.5729   |\n",
    "| 기타 – 드라마      | -1.1620 | -1.3209   |\n",
    "| 기타 – 멜로로맨스    | -1.1530 | -1.2362   |\n",
    "| 기타 – 뮤지컬      | -0.5316 | -0.8086   |\n",
    "| 기타 – 미스터리     | -0.6379 | -0.9050   |\n",
    "| 기타 – 범죄       | -0.4063 | -0.8593   |\n",
    "| 기타 – 사극       | -0.4831 | -1.0123   |\n",
    "| 기타 – 서부극(웨스턴) | -1.0463 | -1.2718   |\n",
    "| 기타 – 성인물(에로)  | -1.1353 | -1.1594   |\n",
    "| 기타 – 스릴러      | -0.6399 | -0.9730   |\n",
    "| 기타 – 애니메이션    | +0.5005 | +0.7542   |\n",
    "| 기타 – 액션       | -0.7529 | -1.0355   |\n",
    "| 기타 – 어드벤처     | -0.8658 | -1.0784   |\n",
    "| 기타 – 전쟁       | +0.1458 | -0.6029   |\n",
    "| 기타 – 코미디      | -1.1432 | -1.2796   |\n",
    "| 기타 – 판타지      | -0.8351 | -0.9780   |\n"
   ]
  },
  {
   "cell_type": "markdown",
   "id": "abe72179-8046-42ac-b377-9053425c5f83",
   "metadata": {},
   "source": [
    "| 장르쌍              | CBOW    | Skip-gram |\n",
    "| ---------------- | ------- | --------- |\n",
    "| 다큐멘터리 – 드라마      | -1.0196 | -1.0948   |\n",
    "| 다큐멘터리 – 멜로로맨스    | -1.0431 | -1.0995   |\n",
    "| 다큐멘터리 – 뮤지컬      | -0.5606 | -0.4303   |\n",
    "| 다큐멘터리 – 미스터리     | -0.6098 | -0.7906   |\n",
    "| 다큐멘터리 – 범죄       | -0.3938 | -0.6866   |\n",
    "| 다큐멘터리 – 사극       | -0.4542 | -0.8680   |\n",
    "| 다큐멘터리 – 서부극(웨스턴) | -0.9446 | -1.1870   |\n",
    "| 다큐멘터리 – 성인물(에로)  | -1.0168 | -0.9806   |\n",
    "| 다큐멘터리 – 스릴러      | -0.6012 | -0.8514   |\n",
    "| 다큐멘터리 – 애니메이션    | +0.1739 | +0.7197   |\n",
    "| 다큐멘터리 – 액션       | -0.7055 | -0.9176   |\n",
    "| 다큐멘터리 – 어드벤처     | -0.7781 | -0.9336   |\n",
    "| 다큐멘터리 – 전쟁       | +0.0816 | -0.3258   |\n",
    "| 다큐멘터리 – 코미디      | -1.0193 | -1.1907   |\n",
    "| 다큐멘터리 – 판타지      | -0.7466 | -0.7384   |\n"
   ]
  },
  {
   "cell_type": "markdown",
   "id": "d3c9f180-2a08-40cb-83bc-e29a829c5858",
   "metadata": {},
   "source": [
    "| 장르쌍            | CBOW    | Skip-gram |\n",
    "| -------------- | ------- | --------- |\n",
    "| 드라마 – 멜로로맨스    | -0.8073 | -0.8303   |\n",
    "| 드라마 – 뮤지컬      | +0.8734 | +0.4728   |\n",
    "| 드라마 – 미스터리     | +0.4418 | +0.0127   |\n",
    "| 드라마 – 범죄       | +0.6475 | +0.1997   |\n",
    "| 드라마 – 사극       | +1.0178 | +0.2800   |\n",
    "| 드라마 – 서부극(웨스턴) | -0.1946 | -0.8790   |\n",
    "| 드라마 – 성인물(에로)  | -0.3712 | -0.2656   |\n",
    "| 드라마 – 스릴러      | +0.5016 | -0.1308   |\n",
    "| 드라마 – 애니메이션    | +1.1136 | +1.1868   |\n",
    "| 드라마 – 액션       | +0.2153 | -0.1538   |\n",
    "| 드라마 – 어드벤처     | +0.5709 | +0.0912   |\n",
    "| 드라마 – 전쟁       | +0.8953 | +0.4826   |\n",
    "| 드라마 – 코미디      | -0.0169 | -0.9429   |\n",
    "| 드라마 – 판타지      | +1.0354 | +0.7503   |\n"
   ]
  },
  {
   "cell_type": "markdown",
   "id": "a847defe-72f0-4e78-a8c2-f605a7194632",
   "metadata": {},
   "source": [
    "| 장르쌍              | CBOW    | Skip-gram |\n",
    "| ---------------- | ------- | --------- |\n",
    "| 멜로로맨스 – 뮤지컬      | +0.9391 | +0.6764   |\n",
    "| 멜로로맨스 – 미스터리     | +0.7622 | +0.6894   |\n",
    "| 멜로로맨스 – 범죄       | +0.8713 | +0.7850   |\n",
    "| 멜로로맨스 – 사극       | +1.0589 | +0.7324   |\n",
    "| 멜로로맨스 – 서부극(웨스턴) | +0.3294 | -0.2814   |\n",
    "| 멜로로맨스 – 성인물(에로)  | +0.4340 | +0.8112   |\n",
    "| 멜로로맨스 – 스릴러      | +0.8535 | +0.5981   |\n",
    "| 멜로로맨스 – 애니메이션    | +1.1123 | +1.1551   |\n",
    "| 멜로로맨스 – 액션       | +0.5594 | +0.4780   |\n",
    "| 멜로로맨스 – 어드벤처     | +0.7406 | +0.6304   |\n",
    "| 멜로로맨스 – 전쟁       | +0.9551 | +0.6971   |\n",
    "| 멜로로맨스 – 코미디      | +0.8899 | -0.3036   |\n",
    "| 멜로로맨스 – 판타지      | +1.0872 | +1.1720   |\n"
   ]
  },
  {
   "cell_type": "markdown",
   "id": "b6fd0188-708a-4f57-868e-5f8eab090dae",
   "metadata": {},
   "source": [
    "| 장르쌍            | CBOW    | Skip-gram |\n",
    "| -------------- | ------- | --------- |\n",
    "| 뮤지컬 – 미스터리     | -0.4695 | -0.3739   |\n",
    "| 뮤지컬 – 범죄       | -0.2639 | -0.2927   |\n",
    "| 뮤지컬 – 사극       | -0.2278 | -0.3519   |\n",
    "| 뮤지컬 – 서부극(웨스턴) | -0.8710 | -0.8240   |\n",
    "| 뮤지컬 – 성인물(에로)  | -0.9135 | -0.5637   |\n",
    "| 뮤지컬 – 스릴러      | -0.4688 | -0.4307   |\n",
    "| 뮤지컬 – 애니메이션    | +0.9712 | +1.0141   |\n",
    "| 뮤지컬 – 액션       | -0.5973 | -0.4791   |\n",
    "| 뮤지컬 – 어드벤처     | -0.6399 | -0.4348   |\n",
    "| 뮤지컬 – 전쟁       | +0.3263 | +0.0122   |\n",
    "| 뮤지컬 – 코미디      | -0.8799 | -0.7392   |\n",
    "| 뮤지컬 – 판타지      | -0.5332 | -0.1963   |\n"
   ]
  },
  {
   "cell_type": "markdown",
   "id": "363fdf6c-dd40-4529-bd28-4ed87e45802f",
   "metadata": {},
   "source": [
    "| 장르쌍             | CBOW    | Skip-gram |\n",
    "| --------------- | ------- | --------- |\n",
    "| 미스터리 – 범죄       | +0.4834 | +0.3214   |\n",
    "| 미스터리 – 사극       | +0.6490 | +0.3019   |\n",
    "| 미스터리 – 서부극(웨스턴) | -0.6301 | -1.1038   |\n",
    "| 미스터리 – 성인물(에로)  | -0.5172 | -0.2311   |\n",
    "| 미스터리 – 스릴러      | +0.1158 | -0.4239   |\n",
    "| 미스터리 – 애니메이션    | +0.6765 | +0.9056   |\n",
    "| 미스터리 – 액션       | -0.3268 | -0.2821   |\n",
    "| 미스터리 – 어드벤처     | +0.0585 | +0.0712   |\n",
    "| 미스터리 – 전쟁       | +0.7204 | +0.4889   |\n",
    "| 미스터리 – 코미디      | -0.4669 | -0.8353   |\n",
    "| 미스터리 – 판타지      | +0.3056 | +0.5904   |\n"
   ]
  },
  {
   "cell_type": "markdown",
   "id": "39ca4a43-cd35-47f9-a295-a3600aeb740d",
   "metadata": {},
   "source": [
    "| 장르쌍           | CBOW    | Skip-gram |\n",
    "| ------------- | ------- | --------- |\n",
    "| 범죄 – 사극       | +0.2558 | +0.0681   |\n",
    "| 범죄 – 서부극(웨스턴) | -1.2291 | -1.4419   |\n",
    "| 범죄 – 성인물(에로)  | -0.7157 | -0.3855   |\n",
    "| 범죄 – 스릴러      | -0.6046 | -0.7916   |\n",
    "| 범죄 – 애니메이션    | +0.5033 | +0.8731   |\n",
    "| 범죄 – 액션       | -1.1686 | -0.8424   |\n",
    "| 범죄 – 어드벤처     | -0.3497 | -0.1427   |\n",
    "| 범죄 – 전쟁       | +0.6785 | +0.4211   |\n",
    "| 범죄 – 코미디      | -0.6936 | -1.0230   |\n",
    "| 범죄 – 판타지      | -0.1314 | +0.3261   |\n"
   ]
  },
  {
   "cell_type": "markdown",
   "id": "f8df24a1-91ef-411a-8cba-e92f67d50d36",
   "metadata": {},
   "source": [
    "| 장르쌍           | CBOW    | Skip-gram |\n",
    "| ------------- | ------- | --------- |\n",
    "| 사극 – 서부극(웨스턴) | -1.1636 | -1.1555   |\n",
    "| 사극 – 성인물(에로)  | -0.9315 | -0.4424   |\n",
    "| 사극 – 스릴러      | -0.6538 | -0.4510   |\n",
    "| 사극 – 애니메이션    | +0.6257 | +0.9826   |\n",
    "| 사극 – 액션       | -0.8842 | -0.5876   |\n",
    "| 사극 – 어드벤처     | -1.1435 | -0.2591   |\n",
    "| 사극 – 전쟁       | +0.6479 | +0.5213   |\n",
    "| 사극 – 코미디      | -1.0787 | -0.9050   |\n",
    "| 사극 – 판타지      | -0.6923 | +0.3390   |\n"
   ]
  },
  {
   "cell_type": "markdown",
   "id": "8f20b6a4-cb9e-435b-92bc-82d2935d4002",
   "metadata": {},
   "source": [
    "| 장르쌍                | CBOW    | Skip-gram |\n",
    "| ------------------ | ------- | --------- |\n",
    "| 서부극(웨스턴) – 성인물(에로) | -0.1156 | +0.5904   |\n",
    "| 서부극(웨스턴) – 스릴러     | +0.8425 | +1.1393   |\n",
    "| 서부극(웨스턴) – 애니메이션   | +1.0905 | +1.2129   |\n",
    "| 서부극(웨스턴) – 액션      | +0.6940 | +1.3368   |\n",
    "| 서부극(웨스턴) – 어드벤처    | +0.7058 | +1.2066   |\n",
    "| 서부극(웨스턴) – 전쟁      | +1.1340 | +1.0412   |\n",
    "| 서부극(웨스턴) – 코미디     | +0.2011 | +0.1831   |\n",
    "| 서부극(웨스턴) – 판타지     | +0.8176 | +1.2671   |\n"
   ]
  },
  {
   "cell_type": "markdown",
   "id": "8defc447-e93e-483b-b25b-cbd1c160ac80",
   "metadata": {},
   "source": [
    "| 장르쌍             | CBOW    | Skip-gram |\n",
    "| --------------- | ------- | --------- |\n",
    "| 성인물(에로) – 스릴러   | +0.5933 | +0.0993   |\n",
    "| 성인물(에로) – 애니메이션 | +1.0949 | +1.0865   |\n",
    "| 성인물(에로) – 액션    | +0.3525 | +0.0663   |\n",
    "| 성인물(에로) – 어드벤처  | +0.5370 | +0.2489   |\n",
    "| 성인물(에로) – 전쟁    | +0.8932 | +0.5436   |\n",
    "| 성인물(에로) – 코미디   | +0.3933 | -0.7637   |\n",
    "| 성인물(에로) – 판타지   | +0.8599 | +0.8281   |\n"
   ]
  },
  {
   "cell_type": "markdown",
   "id": "ae8aa8ab-6043-45ed-8515-8a03a91e21e3",
   "metadata": {},
   "source": [
    "| 장르쌍         | CBOW    | Skip-gram |\n",
    "| ----------- | ------- | --------- |\n",
    "| 스릴러 – 애니메이션 | +0.6884 | +0.9561   |\n",
    "| 스릴러 – 액션    | -0.5267 | -0.0626   |\n",
    "| 스릴러 – 어드벤처  | +0.0151 | +0.2338   |\n",
    "| 스릴러 – 전쟁    | +0.7539 | +0.5691   |\n",
    "| 스릴러 – 코미디   | -0.5526 | -0.8079   |\n",
    "| 스릴러 – 판타지   | +0.2577 | +0.7267   |\n"
   ]
  },
  {
   "cell_type": "markdown",
   "id": "e5f9d81a-00de-48d0-85e2-801c9992b426",
   "metadata": {},
   "source": [
    "| 장르쌍          | CBOW    | Skip-gram |\n",
    "| ------------ | ------- | --------- |\n",
    "| 애니메이션 – 액션   | -0.8129 | -1.0090   |\n",
    "| 애니메이션 – 어드벤처 | -0.9251 | -1.0619   |\n",
    "| 애니메이션 – 전쟁   | +0.0087 | -0.7512   |\n",
    "| 애니메이션 – 코미디  | -1.0972 | -1.1818   |\n",
    "| 애니메이션 – 판타지  | -0.8301 | -0.9635   |\n"
   ]
  },
  {
   "cell_type": "markdown",
   "id": "215d900e-88b9-423f-ab2a-22292f0dde4b",
   "metadata": {},
   "source": [
    "| 장르쌍       | CBOW    | Skip-gram |\n",
    "| --------- | ------- | --------- |\n",
    "| 액션 – 어드벤처 | +0.3106 | +0.3324   |\n",
    "| 액션 – 전쟁   | +0.9746 | +0.6853   |\n",
    "| 액션 – 코미디  | -0.2414 | -0.7164   |\n",
    "| 액션 – 판타지  | +0.4532 | +0.7679   |\n"
   ]
  },
  {
   "cell_type": "markdown",
   "id": "3f988722-9f77-4532-bd33-fc803ac646b2",
   "metadata": {},
   "source": [
    "| 장르쌍        | CBOW    | Skip-gram |\n",
    "| ---------- | ------- | --------- |\n",
    "| 어드벤처 – 전쟁  | +0.9184 | +0.5386   |\n",
    "| 어드벤처 – 코미디 | -0.5754 | -0.7928   |\n",
    "| 어드벤처 – 판타지 | +0.4080 | +0.5985   |\n"
   ]
  },
  {
   "cell_type": "markdown",
   "id": "931ba627-428a-44e0-a3c1-119be6167d8d",
   "metadata": {},
   "source": [
    "| 장르쌍       | CBOW    | Skip-gram |\n",
    "| --------- | ------- | --------- |\n",
    "| 전쟁 – 코미디  | -0.9235 | -0.7921   |\n",
    "| 전쟁 – 판타지  | -0.6699 | -0.2144   |\n"
   ]
  },
  {
   "cell_type": "markdown",
   "id": "809c2fdc-24fd-4802-a297-0cabf2b1dff1",
   "metadata": {},
   "source": [
    "| 장르쌍       | CBOW    | Skip-gram |\n",
    "| --------- | ------- | --------- |\n",
    "| 코미디 – 판타지 | +1.0898 | +1.3026   |\n"
   ]
  },
  {
   "cell_type": "markdown",
   "id": "b28c4a32-e1f5-42c1-876e-7a8de4413753",
   "metadata": {},
   "source": [
    "##### Review"
   ]
  },
  {
   "cell_type": "markdown",
   "id": "2d7a94df-5854-42bd-8612-af48fb7a49aa",
   "metadata": {},
   "source": [
    "형태소 분석기를 이용하여 품사가 명사인 경우만 추출한 뒤 이를 바탕으로 두 가지 임베딩 모델인 CBOW와 Skip-gram을 학습하였다. 이후 일부 단어에 대해 유사도를 측정한 결과 두 모델 간 차이가 나타났는데, 이는 CBOW가 주변 단어로 중심 단어를 예측하는 방식이고 Skip-gram이 중심 단어로 주변 단어를 예측하는 방식이기 때문에 발생한 것이다.\n",
    "\n",
    "이어 target과 attribute 단어 셋을 구성할 때, baseline에서는 TF-IDF를 사용하여 대표 단어를 추출하였고 이후에는 LDA 기반 토픽 모델링을 적용하였다. 두 방식으로 추출된 단어들을 비교했을 때 일부는 겹쳤지만 차이도 존재했는데, 이는 TF-IDF가 단어의 상대적 빈도를 기반으로 가중치를 계산하기 때문에 불용어가 자연스럽게 낮은 중요도로 처리되는 반면, LDA는 단어 분포를 바탕으로 잠재 토픽을 추론하므로 불용어가 포함되면 토픽 구조 자체가 왜곡될 수 있기 때문이다. 따라서 LDA 적용 시에는 불용어 처리 과정이 특히 중요하다.\n",
    "\n",
    "이러한 전처리를 거쳐 LDA 기반 단어 셋을 구성한 뒤 WEAT score를 계산하고 이를 히트맵으로 시각화하였다. 마지막으로 각 장르 쌍별로 CBOW와 Skip-gram에서 산출된 WEAT score 차이를 테이블로 정리하였고, 이를 통해 어떤 워드 임베딩 모델을 사용하느냐와 target 및 attribute 단어 셋을 TF-IDF로 구성하느냐 LDA로 구성하느냐에 따라 결과에 차이가 발생함을 확인할 수 있었다."
   ]
  },
  {
   "cell_type": "markdown",
   "id": "4fcef308-6816-41cf-a10f-f3b320526299",
   "metadata": {},
   "source": [
    "TF-IDF\n",
    "\n",
    "(Target)\n",
    "\n",
    "예술영화: 아빠, 음악, 운명, 결심, 지금, 여인, 이름, 이후, 준비, 만난, 감정, 처음, 누구, 충격, 그린,\n",
    "\n",
    "일반영화: 서울, 애니메이션, 여성, 가지, 주인공, 대해, 연출, 사회, 다큐멘터리, 부문, 섹스, 바로, 의도, 계획, 정체,\n",
    "\n",
    "(Attribute)\n",
    "\n",
    "SF: 위해, 자신, 지구, 시작, 사람, 인류, 인간, 미래, 우주, 그녀, 로봇, 세계, 모든, 박사, 우주선, \n",
    "\n",
    "가족: 엄마, 아빠, 가족, 영화제, 자신, 위해, 친구, 아주르, 아버지, 시작, 그녀, 아들, 국제, 마을, 낙타, \n",
    "\n",
    "공연: 오페라, 사랑, 토스카, 실황, 올레, 자신, 카바, 그녀, 공연, 오텔로, 리골레토, 백작, 프레, 베르디, 위해, \n",
    "\n",
    "공포(호러): 시작, 위해, 사람, 자신, 친구, 그녀, 사건, 공포, 발견, 죽음, 마을, 가족, 악령, 남자, 좀비, \n",
    "\n",
    "기타: 영화제, 국제, 서울, 단편, 영화, 자신, 사람, 이야기, 그녀, 남자, 위해, 시작, 사랑, 뉴미디어, 페스티벌, \n",
    "\n",
    "다큐멘터리: 영화제, 영화, 다큐, 국제, 다큐멘터리, 사람, 이야기, 대한, 자신, 감독, 위해, 서울, 우리, 시작, 세계, \n",
    "\n",
    "드라마: 자신, 영화제, 그녀, 사람, 사랑, 영화, 위해, 시작, 국제, 남자, 친구, 이야기, 엄마, 여자, 아버지, \n",
    "\n",
    "멜로로맨스: 그녀, 사랑, 자신, 시작, 남편, 남자, 여자, 사람, 친구, 섹스, 위해, 마음, 결혼, 서로, 아내, \n",
    "\n",
    "뮤지컬: 뮤지컬, 사랑, 에스메랄다, 그녀, 음악, 충무로, 모차르트, 영화, 토스카, 자신, 니웨, 카바, 영화제, 바흐, 프롤, \n",
    "\n",
    "미스터리: 사건, 그녀, 시작, 자신, 위해, 사람, 발견, 사고, 진실, 죽음, 기억, 살인, 친구, 아내, 아이, \n",
    "\n",
    "범죄: 사건, 위해, 자신, 경찰, 시작, 그녀, 범죄, 조직, 살인, 사람, 마약, 형사, 남자, 모든, 살해, \n",
    "\n",
    "사극: 조선, 위해, 시작, 신기전, 사랑, 자신, 아가멤논, 황제, 그녀, 루안, 사람, 운명, 최고, 하선, 전쟁, \n",
    "\n",
    "서부극(웨스턴): 서부, 보안관, 위해, 벌린, 카우보이, 그레이프바인, 헨리, 마을, 자신, 개릿, 아이, 시작, 무법자, 프린트, 태구, \n",
    "\n",
    "성인물(에로): 그녀, 남편, 마사지, 자신, 섹스, 관계, 영화, 정사, 남자, 위해, 시작, 여자, 유부녀, 마음, 사랑, \n",
    "\n",
    "스릴러: 자신, 그녀, 사건, 시작, 위해, 사람, 살인, 남자, 발견, 아내, 경찰, 친구, 모든, 사실, 살해, \n",
    "\n",
    "애니메이션: 애니메이션, 국제, 영화제, 친구, 인디애니페스트, 위해, 자신, 시작, 사람, 페스티벌, 서울, 이야기, 아이, 마을, 소녀, \n",
    "\n",
    "액션: 위해, 자신, 시작, 조직, 사건, 사람, 그녀, 경찰, 전쟁, 모든, 목숨, 사실, 친구, 가족, 요원, \n",
    "\n",
    "어드벤처: 위해, 자신, 시작, 친구, 마을, 아버지, 영화, 사람, 아이, 여행, 세계, 앤트, 세상, 가족, 모험,\n",
    "\n",
    "전쟁: 전쟁, 독일군, 전투, 위해, 작전, 시작, 부대, 윈터스, 독일, 연합군, 미군, 임무, 자신, 사람, 나치, \n",
    "\n",
    "코미디: 그녀, 자신, 시작, 위해, 사랑, 사람, 친구, 영화, 남자, 여자, 영화제, 가족, 과연, 마을, 사건, \n",
    "\n",
    "판타지: 자신, 그녀, 시작, 위해, 사람, 사랑, 요괴, 영화제, 이야기, 영화, 소녀, 남자, 인간, 세상, 세계,\n",
    "\n",
    "LDA\n",
    "\n",
    "(Target)\n",
    "\n",
    "예술영화: 편지, 파리, 무대, 북한, 생, 성격, 연애, 통, 고양이, 샘, 행복, 당신, 공연, 그날, 하루하루,\n",
    "\n",
    "일반영화: 애니메이션, 그것, 부천, 연출, 부문, 초, 페스티벌, 판타스틱, 소리, 다큐, 의도, 관객, 노인, 공격, 장면,\n",
    "\n",
    "(Attribute)\n",
    "\n",
    "SF: 지구, 인간, 인류, 미래, 우주, 로봇, 박사, 존재, 발견, 정체, 비밀, 시간, 기억, 사건, 전쟁, \n",
    "\n",
    "가족: 엄마, 아빠, 가족, 살, 아버지, 아들, 딸, 할머니, 학교, 소년, 가장, 어머니, 소녀, 대한, 아내, \n",
    "\n",
    "공연: 오페라, 공연, 돈, 실황, 딸, 토스카, 왕자, 도시, 비, 무대, 카바, 결혼, 백작, 올레, 음악, \n",
    "\n",
    "공포(호러): 사건, 공포, 발견, 죽음, 가족, 밤, 소녀, 말, 하나, 정체, 좀비, 살, 살인, 살해, 딸, \n",
    "\n",
    "기타: 서울, 단편, 초, 여자, 대한, 살, 페스티벌, 다른, 작품, 엄마, 우리, 독립, 통해, 소녀, 모습, \n",
    "\n",
    "다큐멘터리: 다큐멘터리, 대한, 감독, 우리, 다큐, 서울, 통해, 여성, 가족, 살, 나, 작품, 모습, 한국, 가장, \n",
    "\n",
    "드라마: 살, 아버지, 엄마, 가족, 서울, 대한, 아들, 단편, 여자, 마음, 말, 남편, 딸, 서로, 소녀, \n",
    "\n",
    "멜로로맨스: 남편, 여자, 마음, 섹스, 아내, 결혼, 서로, 관계, 둘, 엄마, 아버지, 점점, 코, 살, 사이, \n",
    "\n",
    "뮤지컬: 뮤지컬, 음악, 충무로, 춤, 모차르트, 에스메랄다, 공연, 도시, 대한, 손, 카바, 바흐, 아버지, 무대, 소녀, \n",
    "\n",
    "미스터리: 사건, 발견, 죽음, 진실, 사고, 살인, 기억, 아내, 말, 하나, 딸, 살, 비밀, 발생, 정체, \n",
    "\n",
    "범죄: 사건, 경찰, 돈, 살인, 조직, 범죄, 마약, 발견, 살해, 계획, 형사, 범인, 딸, 수사, 아버지, \n",
    "\n",
    "사극: 조선, 왕, 향, 운명, 황제, 전쟁, 권력, 명, 사건, 역사, 소리, 마음, 가장, 채, 청, \n",
    "\n",
    "서부극(웨스턴): 서부, 보안관, 존, 헨리, 삭, 카우보이, 딸, 분, 아내, 복수, 분노, 가족, 무법자, 마리아, 아들, \n",
    "\n",
    "성인물(에로): 남편, 코, 관계, 몸, 애, 섹스, 마사지, 여자, 정사, 마음, 카, 아내, 둘, 그린, 결혼, \n",
    "\n",
    "스릴러: 사건, 살인, 발견, 경찰, 아내, 살해, 비밀, 점점, 가족, 형사, 시간, 딸, 범인, 다른, 하나, \n",
    "\n",
    "애니메이션: 애니메이션, 서울, 페스티벌, 소녀, 인디애니페스트, 애니, 만화, 구, 살, 소년, 단편, 인간, 작품, 다른, 엄마, \n",
    "\n",
    "액션: 조직, 사건, 경찰, 구, 전쟁, 가족, 목숨, 딸, 한편, 아들, 복수, 아버지, 살인, 돈, 죽음, \n",
    "\n",
    "어드벤처: 아버지, 여행, 살, 가족, 섬, 구, 대한, 모험, 비밀, 인간, 발견, 소년, 한편, 여정, 향, \n",
    "\n",
    "전쟁: 전쟁, 전투, 작전, 독일군, 부대, 독일, 차, 공격, 임무, 명, 미국, 목숨, 병사, 연합군, 단, \n",
    "\n",
    "코미디: 여자, 가족, 인생, 살, 아버지, 돈, 사건, 서로, 다른, 생활, 결혼, 말, 분, 생각, 마음, \n",
    "\n",
    "판타지: 소녀, 인간, 꿈, 살, 존재, 요괴, 사건, 시간, 모습, 서로, 구, 말, 여자, 과거, 판타스틱, "
   ]
  },
  {
   "cell_type": "markdown",
   "id": "79e84b36-2d29-4bcd-ba1c-51f13e6b7757",
   "metadata": {},
   "source": [
    "TF-IDF와 LDA를 활용해 예술영화와 일반영화의 대표 단어를 비교한 결과, 두 방법은 뚜렷한 차이를 보였다. 예술영화에서는 겹치는 단어가 전혀 나타나지 않았는데, 이는 실제로 두 방법 간에 공통된 단어가 없어서라기보다는, 코드 구현에서 차집합 방식을 사용하여 겹치는 단어를 출력하지 않도록 했기 때문이다. TF-IDF는 ‘아빠, 음악, 운명, 충격’처럼 작품 단위에서 줄거리나 감정적 맥락을 반영하는 단어들을 제시한 반면, LDA는 ‘편지, 파리, 무대, 연애, 공연’처럼 특정 주제나 상징적 소재를 드러내는 단어들을 선택했다. 즉, TF-IDF는 개별 영화의 특수성을 잘 반영하고, LDA는 장르 전반의 주제적 성격을 더 잘 보여준다.\n",
    "\n",
    "일반영화에서는 상황이 다소 달랐다. ‘애니메이션, 연출, 부문, 다큐, 의도’와 같은 단어들은 두 방법 모두에서 나타나 일반영화를 설명하는 핵심 키워드로 기능했다. 이 외에도 TF-IDF는 ‘서울, 여성, 사회, 주인공, 섹스’처럼 사회적 맥락이나 인물 중심의 서술적 단어를 강조한 반면, LDA는 ‘부천, 페스티벌, 관객, 장면’과 같이 상영 환경과 관객 경험을 반영하는 형식적 요소를 포착했다.\n",
    "\n",
    "장르별 Attribute 단어에서도 유사한 차이가 확인되었다. SF 장르에서는 TF-IDF와 LDA 모두 ‘지구, 인간, 인류, 미래, 우주, 로봇, 박사’를 핵심 단어로 잡으며 SF의 본질을 드러냈다. 그러나 TF-IDF는 ‘우주선, 모든, 위해’처럼 특정 작품 맥락에서 반복적으로 등장하는 표현을 포함한 반면, LDA는 ‘존재, 정체, 비밀, 기억, 사건, 전쟁’처럼 추상적이고 장르 전반을 포괄하는 단어들을 도출했다. 가족 영화에서는 두 방법 모두 ‘엄마, 아빠, 가족, 아버지, 아들, 딸’을 중요하게 잡아냈지만, TF-IDF는 맥락적이고 개별적인 표현을 포함한 반면 LDA는 ‘할머니, 학교, 소년, 어머니, 소녀, 아내’와 같이 관계와 역할을 중심으로 한 단어들을 선택했다. 공포영화에서도 ‘사건, 공포, 발견, 죽음, 마을’은 공통적으로 나타났지만, TF-IDF는 ‘악령, 좀비’처럼 시각적이고 구체적인 요소를, LDA는 ‘밤, 소녀, 정체, 살인, 살해, 딸’처럼 배경적이고 상황적인 요소를 뽑아내는 차이를 보였다.\n",
    "\n",
    "이러한 결과는 두 방법이 텍스트를 해석하는 관점에서 본질적인 차이를 갖고 있음을 보여준다. TF-IDF는 개별 문서 단위에서 특수한 단어를 강조하여 판별력을 높이는 반면, LDA는 토픽 단위에서 일관성을 유지하며 장르 전체의 주제를 드러낸다. 특히 이번 분석에서 LDA 결과가 더 높은 일관성을 보인 것은, Attribute 단어를 추출할 때 불필요한 중복을 제거하여 장르별 고유성이 강화되었기 때문으로 볼 수 있다. 만약 TF-IDF에도 같은 방식으로 중복 제거를 적용했다면 결과가 달라졌을 가능성이 충분히 있다. 따라서 두 방법을 상호 보완적으로 활용하는 것이 장르별 편향성을 해석하는 데 가장 효과적이라고 할 수 있다."
   ]
  },
  {
   "cell_type": "markdown",
   "id": "3d258a60-8781-4b31-9c44-6dcad9b3bf8a",
   "metadata": {},
   "source": [
    "TF-IDF 기반 분석에서는 불용어나 중복 단어 처리가 충분히 되지 않은 상태에서 대표 단어들이 선택되다 보니, 특정 작품 맥락에서 자주 등장하는 단어들이 그대로 반영되었다. 이로 인해 WEAT score가 다소 극단적으로 튀거나 방향성이 일관되지 않은 경우가 나타났고, 편향의 강도를 과대평가하거나 잡음을 포함하는 결과를 내기도 했다. 즉, 장르별 세부 차이를 민감하게 잡아내는 장점은 있지만, 결과의 안정성 면에서는 한계가 있었다.\n",
    "\n",
    "반면 LDA 기반 분석은 불용어 처리를 거치고 중복 단어를 상당 부분 제거한 상태에서 대표 단어가 추출되었기 때문에, 장르별 고유성이 보다 잘 유지되었다. 이 덕분에 WEAT score도 전반적으로 안정적이고 일관된 패턴을 보여주었고, 편향의 방향성과 강도가 더 신뢰할 만하게 나타났다. 예술영화는 SF, 드라마, 공포, 멜로로맨스 등과 가까운 경향을, 일반영화는 가족, 다큐멘터리, 애니메이션, 코미디 등과 더 가까운 경향을 보였는데, 이는 사회적으로도 흔히 받아들여지는 인식과 잘 맞아떨어졌다.\n",
    "\n",
    "결국 WEAT score는 단순히 모델의 특성만 반영하는 것이 아니라, 데이터에 내재된 사람들의 편향 역시 고스란히 드러내고 있었다. 모델은 학습 과정에서 사람들의 언어 사용 패턴을 그대로 흡수하기 때문에, TF-IDF와 LDA 모두에서 나타난 예술영화–일반영화의 구분은 인간 사회의 인식 구조를 반영하는 결과라 할 수 있다. 다만 TF-IDF는 데이터의 잡음까지 그대로 반영하는 경향이 있는 반면, LDA는 불용어 처리와 중복 제거를 통해 상대적으로 정제된 편향을 보여주었다는 점에서 더 신뢰할 만한 결과로 볼 수 있다."
   ]
  },
  {
   "cell_type": "markdown",
   "id": "987405cf-341e-43b0-9134-11fa1073b5bf",
   "metadata": {},
   "source": [
    "이번 프로젝트에서 확인된 중요한 점은, 단어 임베딩 모델이 결국 사람이 만든 데이터에 내재한 편향을 그대로 따라간다는 것이다. TF-IDF는 작품 단위의 특수성을 잘 잡아내지만 중복과 불용어로 인해 편향이 다소 불안정하게 나타났고, LDA는 불용어 처리와 중복 제거를 거쳐 더 일관되고 신뢰할 만한 WEAT score를 보여주었다.\n",
    "\n",
    "결과적으로 예술영화는 상징적·추상적 성격의 장르와, 일반영화는 대중적·흥행 중심의 장르와 가깝게 나타났는데 이는 사회적 인식과도 일치한다. 이 과정에서 드러난 것은 모델 편향과 데이터 편향이 동시에 작용하며, 우리가 학습한 임베딩조차 결국 사람들의 흔한 연상과 편향을 반영한다는 점이 매우 신기했다."
   ]
  },
  {
   "cell_type": "code",
   "execution_count": null,
   "id": "e032505b-3628-4925-91c4-b14bb8aa0be0",
   "metadata": {},
   "outputs": [],
   "source": []
  }
 ],
 "metadata": {
  "kernelspec": {
   "display_name": "Python 3 (ipykernel)",
   "language": "python",
   "name": "python3"
  },
  "language_info": {
   "codemirror_mode": {
    "name": "ipython",
    "version": 3
   },
   "file_extension": ".py",
   "mimetype": "text/x-python",
   "name": "python",
   "nbconvert_exporter": "python",
   "pygments_lexer": "ipython3",
   "version": "3.12.11"
  }
 },
 "nbformat": 4,
 "nbformat_minor": 5
}
