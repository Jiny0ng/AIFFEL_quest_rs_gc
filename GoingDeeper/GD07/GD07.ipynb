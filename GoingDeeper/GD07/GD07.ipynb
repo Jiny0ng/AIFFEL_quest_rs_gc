{
 "cells": [
  {
   "cell_type": "markdown",
   "id": "e9576ca3-0874-4c69-9b16-ff916d599724",
   "metadata": {},
   "source": [
    "#### 프로젝트 : 커스텀 프로젝트 직접 만들기\n",
    "##### 학습목표\n",
    "1. [X] 모델과 데이터를 정상적으로 불러오고, 작동하는 것을 확인하였다.\n",
    "2. [X] Preprocessing을 개선하고, fine-tuning을 통해 모델의 성능을 개선시켰다.\n",
    "3. [X] 모델 학습에 Bucketing을 성공적으로 적용하고, 그 결과를 비교분석하였다.\n",
    "##### 평가기준\n",
    "1. [X] klue/bert-base를 NSMC 데이터셋으로 fine-tuning 하여, 모델이 정상적으로 작동하는 것을 확인하였다.\n",
    "2. [X] Test accuracy를 90% 이상으로 개선하였다.\n",
    "3. [X] Bucketing task을 수행하여 fine-tuning 시 연산 속도와 모델 성능 간의 trade-off 관계가 발생하는지 여부를 확인하고, 분석한 결과를 제시하였다."
   ]
  },
  {
   "cell_type": "markdown",
   "id": "c0ae123b-7a55-4082-95d2-4bf254189000",
   "metadata": {},
   "source": [
    "##### 다운로드"
   ]
  },
  {
   "cell_type": "code",
   "execution_count": 1,
   "id": "16f8b565-7516-438d-ab17-663fc612ac88",
   "metadata": {},
   "outputs": [],
   "source": [
    "# NSMC 영화 리뷰 데이터 (train/test) 다운로드\n",
    "# !wget https://raw.githubusercontent.com/e9t/nsmc/master/ratings_train.txt\n",
    "# !wget https://raw.githubusercontent.com/e9t/nsmc/master/ratings_test.txt\n",
    "\n",
    "# 필수 라이브러리 설치\n",
    "# !pip install transformers     # Hugging Face 모델\n",
    "# !pip install accelerate       # 분산/최적화 학습\n",
    "# !pip install datasets         # 데이터셋 처리\n",
    "# !pip install evaluate         # 평가지표 계산\n",
    "# !pip install wandb            # 실험 추적/시각화"
   ]
  },
  {
   "cell_type": "markdown",
   "id": "eb239eff-c6e3-4957-90a1-3fb79ba487eb",
   "metadata": {},
   "source": [
    "##### 라이브러리"
   ]
  },
  {
   "cell_type": "code",
   "execution_count": 18,
   "id": "9a8a1f87-75f4-4b12-a90e-0cad7dc906e6",
   "metadata": {},
   "outputs": [
    {
     "name": "stderr",
     "output_type": "stream",
     "text": [
      "\u001b[34m\u001b[1mwandb\u001b[0m: \u001b[33mWARNING\u001b[0m Calling wandb.login() after wandb.init() has no effect.\n"
     ]
    },
    {
     "data": {
      "text/plain": [
       "True"
      ]
     },
     "execution_count": 18,
     "metadata": {},
     "output_type": "execute_result"
    }
   ],
   "source": [
    "# 기본 라이브러리\n",
    "import os, re, numpy as np, pandas as pd, matplotlib.pyplot as plt\n",
    "\n",
    "# 데이터셋 처리\n",
    "from datasets import load_dataset, Dataset, DatasetDict\n",
    "from sklearn.model_selection import train_test_split   # 데이터 분할\n",
    "\n",
    "# 모델 & 학습 도구\n",
    "from transformers import AutoTokenizer, AutoModelForSequenceClassification  # 토크나이저, 분류 모델\n",
    "from transformers import Trainer, TrainingArguments, EarlyStoppingCallback  # 학습 관리, 얼리 스토핑\n",
    "\n",
    "# 평가 지표\n",
    "from evaluate import load   # 정확도, F1 등 계산\n",
    "\n",
    "# 실험 추적\n",
    "import wandb\n",
    "wandb.login()"
   ]
  },
  {
   "cell_type": "markdown",
   "id": "072688cb-cd28-40b3-a108-6f23cdcd8645",
   "metadata": {},
   "source": [
    "##### STEP 1. NSMC 데이터 분석 및 Huggingface dataset 구성"
   ]
  },
  {
   "cell_type": "code",
   "execution_count": 19,
   "id": "90cc6a79-91dd-4e14-898d-c8388e0da048",
   "metadata": {},
   "outputs": [
    {
     "name": "stdout",
     "output_type": "stream",
     "text": [
      "150000\n",
      "50000\n",
      "149995\n",
      "49997\n",
      "146182\n",
      "49157\n"
     ]
    },
    {
     "data": {
      "text/html": [
       "<div>\n",
       "<style scoped>\n",
       "    .dataframe tbody tr th:only-of-type {\n",
       "        vertical-align: middle;\n",
       "    }\n",
       "\n",
       "    .dataframe tbody tr th {\n",
       "        vertical-align: top;\n",
       "    }\n",
       "\n",
       "    .dataframe thead th {\n",
       "        text-align: right;\n",
       "    }\n",
       "</style>\n",
       "<table border=\"1\" class=\"dataframe\">\n",
       "  <thead>\n",
       "    <tr style=\"text-align: right;\">\n",
       "      <th></th>\n",
       "      <th>id</th>\n",
       "      <th>document</th>\n",
       "      <th>label</th>\n",
       "    </tr>\n",
       "  </thead>\n",
       "  <tbody>\n",
       "    <tr>\n",
       "      <th>0</th>\n",
       "      <td>9976970</td>\n",
       "      <td>아 더빙.. 진짜 짜증나네요 목소리</td>\n",
       "      <td>0</td>\n",
       "    </tr>\n",
       "    <tr>\n",
       "      <th>1</th>\n",
       "      <td>3819312</td>\n",
       "      <td>흠...포스터보고 초딩영화줄....오버연기조차 가볍지 않구나</td>\n",
       "      <td>1</td>\n",
       "    </tr>\n",
       "    <tr>\n",
       "      <th>2</th>\n",
       "      <td>10265843</td>\n",
       "      <td>너무재밓었다그래서보는것을추천한다</td>\n",
       "      <td>0</td>\n",
       "    </tr>\n",
       "    <tr>\n",
       "      <th>3</th>\n",
       "      <td>9045019</td>\n",
       "      <td>교도소 이야기구먼 ..솔직히 재미는 없다..평점 조정</td>\n",
       "      <td>0</td>\n",
       "    </tr>\n",
       "    <tr>\n",
       "      <th>4</th>\n",
       "      <td>6483659</td>\n",
       "      <td>사이몬페그의 익살스런 연기가 돋보였던 영화!스파이더맨에서 늙어보이기만 했던 커스틴 ...</td>\n",
       "      <td>1</td>\n",
       "    </tr>\n",
       "  </tbody>\n",
       "</table>\n",
       "</div>"
      ],
      "text/plain": [
       "         id                                           document  label\n",
       "0   9976970                                아 더빙.. 진짜 짜증나네요 목소리      0\n",
       "1   3819312                  흠...포스터보고 초딩영화줄....오버연기조차 가볍지 않구나      1\n",
       "2  10265843                                  너무재밓었다그래서보는것을추천한다      0\n",
       "3   9045019                      교도소 이야기구먼 ..솔직히 재미는 없다..평점 조정      0\n",
       "4   6483659  사이몬페그의 익살스런 연기가 돋보였던 영화!스파이더맨에서 늙어보이기만 했던 커스틴 ...      1"
      ]
     },
     "execution_count": 19,
     "metadata": {},
     "output_type": "execute_result"
    }
   ],
   "source": [
    "# 데이터 불러오기 (NSMC train/test)\n",
    "train_df = pd.read_csv(\"ratings_train.txt\", sep=\"\\t\")\n",
    "test_df = pd.read_csv(\"ratings_test.txt\", sep=\"\\t\")\n",
    "print(len(train_df))  # train 전체 개수\n",
    "print(len(test_df))  # test 전체 개수\n",
    "\n",
    "# 결측치 제거\n",
    "train_df = train_df.dropna()\n",
    "test_df = test_df.dropna()\n",
    "print(len(train_df))  # 결측치 제거 후 train 개수\n",
    "print(len(test_df))  # 결측치 제거 후 test 개수\n",
    "\n",
    "# 중복 제거 (document 기준)\n",
    "train_df = train_df.drop_duplicates(subset=[\"document\"])\n",
    "test_df = test_df.drop_duplicates(subset=[\"document\"])\n",
    "print(len(train_df))  # 중복 제거 후 train 개수\n",
    "print(len(test_df))  # 중복 제거 후 test 개수\n",
    "\n",
    "# 데이터 확인\n",
    "train_df.head()"
   ]
  },
  {
   "cell_type": "code",
   "execution_count": 20,
   "id": "1f3cad2d-30e4-426b-856f-a4af293c39cb",
   "metadata": {},
   "outputs": [
    {
     "data": {
      "text/html": [
       "<div>\n",
       "<style scoped>\n",
       "    .dataframe tbody tr th:only-of-type {\n",
       "        vertical-align: middle;\n",
       "    }\n",
       "\n",
       "    .dataframe tbody tr th {\n",
       "        vertical-align: top;\n",
       "    }\n",
       "\n",
       "    .dataframe thead th {\n",
       "        text-align: right;\n",
       "    }\n",
       "</style>\n",
       "<table border=\"1\" class=\"dataframe\">\n",
       "  <thead>\n",
       "    <tr style=\"text-align: right;\">\n",
       "      <th></th>\n",
       "      <th>id</th>\n",
       "      <th>document</th>\n",
       "      <th>label</th>\n",
       "    </tr>\n",
       "  </thead>\n",
       "  <tbody>\n",
       "    <tr>\n",
       "      <th>0</th>\n",
       "      <td>9976970</td>\n",
       "      <td>아 더빙.. 진짜 짜증나네요 목소리</td>\n",
       "      <td>0</td>\n",
       "    </tr>\n",
       "    <tr>\n",
       "      <th>1</th>\n",
       "      <td>3819312</td>\n",
       "      <td>흠..포스터보고 초딩영화줄..오버연기조차 가볍지 않구나</td>\n",
       "      <td>1</td>\n",
       "    </tr>\n",
       "    <tr>\n",
       "      <th>2</th>\n",
       "      <td>10265843</td>\n",
       "      <td>너무재밓었다그래서보는것을추천한다</td>\n",
       "      <td>0</td>\n",
       "    </tr>\n",
       "    <tr>\n",
       "      <th>3</th>\n",
       "      <td>9045019</td>\n",
       "      <td>교도소 이야기구먼 ..솔직히 재미는 없다..평점 조정</td>\n",
       "      <td>0</td>\n",
       "    </tr>\n",
       "    <tr>\n",
       "      <th>4</th>\n",
       "      <td>6483659</td>\n",
       "      <td>사이몬페그의 익살스런 연기가 돋보였던 영화!스파이더맨에서 늙어보이기만 했던 커스틴 ...</td>\n",
       "      <td>1</td>\n",
       "    </tr>\n",
       "  </tbody>\n",
       "</table>\n",
       "</div>"
      ],
      "text/plain": [
       "         id                                           document  label\n",
       "0   9976970                                아 더빙.. 진짜 짜증나네요 목소리      0\n",
       "1   3819312                     흠..포스터보고 초딩영화줄..오버연기조차 가볍지 않구나      1\n",
       "2  10265843                                  너무재밓었다그래서보는것을추천한다      0\n",
       "3   9045019                      교도소 이야기구먼 ..솔직히 재미는 없다..평점 조정      0\n",
       "4   6483659  사이몬페그의 익살스런 연기가 돋보였던 영화!스파이더맨에서 늙어보이기만 했던 커스틴 ...      1"
      ]
     },
     "execution_count": 20,
     "metadata": {},
     "output_type": "execute_result"
    }
   ],
   "source": [
    "# 텍스트 전처리 함수\n",
    "def clean_text(text):\n",
    "    text = str(text).lower()                                     # 소문자 변환\n",
    "    text = re.sub(r\"[^ㄱ-ㅎ가-힣a-z0-9\\s\\.\\,\\!\\?]\", \" \", text)   # 한글/영문/숫자/.,!? 외 제거\n",
    "    text = re.sub(r\"(.)\\1{2,}\", r\"\\1\\1\", text)                   # 같은 문자 3번 이상 → 2번으로 축소\n",
    "    text = re.sub(r\"\\s+\", \" \", text).strip()                     # 공백 정리\n",
    "    return text\n",
    "\n",
    "# train/test 데이터에 전처리 적용\n",
    "train_df[\"document\"] = train_df[\"document\"].apply(clean_text)\n",
    "test_df[\"document\"]  = test_df[\"document\"].apply(clean_text)\n",
    "\n",
    "# 결과 확인\n",
    "train_df.head()"
   ]
  },
  {
   "cell_type": "code",
   "execution_count": 21,
   "id": "c992b0e1-2da8-465a-b904-21fa40525502",
   "metadata": {},
   "outputs": [
    {
     "data": {
      "image/png": "[encoded data removed]",
      "text/plain": [
       "<Figure size 600x400 with 1 Axes>"
      ]
     },
     "metadata": {},
     "output_type": "display_data"
    },
    {
     "name": "stdout",
     "output_type": "stream",
     "text": [
      "label\n",
      "0    0.501717\n",
      "1    0.498283\n",
      "Name: proportion, dtype: float64\n"
     ]
    }
   ],
   "source": [
    "# 라벨 분포 시각화\n",
    "plt.figure(figsize=(6,4))\n",
    "train_df[\"label\"].value_counts().plot(kind=\"bar\", color=\"salmon\", edgecolor=\"black\")\n",
    "\n",
    "plt.title(\"Label Distribution (Train Set)\")  # 제목\n",
    "plt.xlabel(\"Label\")                          # X축: 라벨 (0=부정, 1=긍정)\n",
    "plt.ylabel(\"Count\")                          # Y축: 개수\n",
    "plt.xticks(rotation=0)                       # 라벨 가독성 (0도 회전)\n",
    "plt.show()\n",
    "\n",
    "# 라벨 비율 확인\n",
    "print(train_df[\"label\"].value_counts(normalize=True))"
   ]
  },
  {
   "cell_type": "code",
   "execution_count": 22,
   "id": "add8718f-375d-4448-a148-73d860ebad35",
   "metadata": {},
   "outputs": [
    {
     "data": {
      "image/png": "[encoded data removed]",
      "text/plain": [
       "<Figure size 1000x500 with 1 Axes>"
      ]
     },
     "metadata": {},
     "output_type": "display_data"
    },
    {
     "name": "stdout",
     "output_type": "stream",
     "text": [
      "count    146182.000000\n",
      "mean         35.033034\n",
      "std          29.266275\n",
      "min           0.000000\n",
      "25%          16.000000\n",
      "50%          26.000000\n",
      "75%          42.000000\n",
      "max         140.000000\n",
      "Name: document, dtype: float64\n"
     ]
    }
   ],
   "source": [
    "# 문서 길이 분포 시각화\n",
    "plt.figure(figsize=(10,5))\n",
    "plt.hist(train_df[\"document\"].apply(len), bins=50, color=\"skyblue\", edgecolor=\"black\")\n",
    "plt.title(\"Distribution of Document Lengths (Characters)\")  # 제목\n",
    "plt.xlabel(\"Length of document (characters)\")              # X축: 문서 길이\n",
    "plt.ylabel(\"Frequency\")                                    # Y축: 빈도\n",
    "plt.show()\n",
    "\n",
    "# 문서 길이에 대한 기본 통계치 확인\n",
    "print(train_df[\"document\"].apply(len).describe())"
   ]
  },
  {
   "cell_type": "code",
   "execution_count": 23,
   "id": "75b5a168-2ec8-43c6-ab10-406393becad7",
   "metadata": {},
   "outputs": [
    {
     "name": "stdout",
     "output_type": "stream",
     "text": [
      "116945\n",
      "29237\n",
      "49157\n"
     ]
    }
   ],
   "source": [
    "# train 데이터를 train/validation 으로 분리\n",
    "train_df, valid_df = train_test_split(\n",
    "    train_df,\n",
    "    test_size=0.2,            # 20% → validation\n",
    "    random_state=42,          # 재현 가능성 유지\n",
    "    stratify=train_df[\"label\"] # 라벨 비율 유지 (층화 추출)\n",
    ")\n",
    "\n",
    "# 분리된 데이터 크기 확인\n",
    "print(len(train_df))   # train 개수\n",
    "print(len(valid_df))   # validation 개수\n",
    "print(len(test_df))    # test 개수"
   ]
  },
  {
   "cell_type": "code",
   "execution_count": 24,
   "id": "b6b2fa89-ed08-48d2-8cd1-e11387880d45",
   "metadata": {},
   "outputs": [
    {
     "name": "stdout",
     "output_type": "stream",
     "text": [
      "DatasetDict({\n",
      "    train: Dataset({\n",
      "        features: ['id', 'document', 'label', '__index_level_0__'],\n",
      "        num_rows: 116945\n",
      "    })\n",
      "    validation: Dataset({\n",
      "        features: ['id', 'document', 'label', '__index_level_0__'],\n",
      "        num_rows: 29237\n",
      "    })\n",
      "    test: Dataset({\n",
      "        features: ['id', 'document', 'label', '__index_level_0__'],\n",
      "        num_rows: 49157\n",
      "    })\n",
      "})\n"
     ]
    }
   ],
   "source": [
    "# Pandas → Hugging Face Dataset 변환\n",
    "train_dataset = Dataset.from_pandas(train_df)\n",
    "valid_dataset = Dataset.from_pandas(valid_df)\n",
    "test_dataset  = Dataset.from_pandas(test_df)\n",
    "\n",
    "# DatasetDict 형태로 묶기 (Trainer에서 사용하기 편리)\n",
    "nsmc_dataset = DatasetDict({\n",
    "    \"train\": train_dataset,\n",
    "    \"validation\": valid_dataset,\n",
    "    \"test\": test_dataset\n",
    "})\n",
    "\n",
    "# 데이터셋 구조 출력\n",
    "print(nsmc_dataset)"
   ]
  },
  {
   "cell_type": "markdown",
   "id": "6fbb77c5-ac8e-45c1-a904-9bb621d244d2",
   "metadata": {},
   "source": [
    "##### STEP 2. klue/bert-base model 및 tokenizer 불러오기"
   ]
  },
  {
   "cell_type": "code",
   "execution_count": 25,
   "id": "c38e4d19-6e61-4118-bbcf-c6bd3777d7f7",
   "metadata": {},
   "outputs": [
    {
     "name": "stdout",
     "output_type": "stream",
     "text": [
      "32000\n"
     ]
    },
    {
     "name": "stderr",
     "output_type": "stream",
     "text": [
      "Some weights of BertForSequenceClassification were not initialized from the model checkpoint at klue/bert-base and are newly initialized: ['classifier.bias', 'classifier.weight']\n",
      "You should probably TRAIN this model on a down-stream task to be able to use it for predictions and inference.\n"
     ]
    },
    {
     "name": "stdout",
     "output_type": "stream",
     "text": [
      "BertForSequenceClassification(\n",
      "  (bert): BertModel(\n",
      "    (embeddings): BertEmbeddings(\n",
      "      (word_embeddings): Embedding(32000, 768, padding_idx=0)\n",
      "      (position_embeddings): Embedding(512, 768)\n",
      "      (token_type_embeddings): Embedding(2, 768)\n",
      "      (LayerNorm): LayerNorm((768,), eps=1e-12, elementwise_affine=True)\n",
      "      (dropout): Dropout(p=0.1, inplace=False)\n",
      "    )\n",
      "    (encoder): BertEncoder(\n",
      "      (layer): ModuleList(\n",
      "        (0-11): 12 x BertLayer(\n",
      "          (attention): BertAttention(\n",
      "            (self): BertSdpaSelfAttention(\n",
      "              (query): Linear(in_features=768, out_features=768, bias=True)\n",
      "              (key): Linear(in_features=768, out_features=768, bias=True)\n",
      "              (value): Linear(in_features=768, out_features=768, bias=True)\n",
      "              (dropout): Dropout(p=0.1, inplace=False)\n",
      "            )\n",
      "            (output): BertSelfOutput(\n",
      "              (dense): Linear(in_features=768, out_features=768, bias=True)\n",
      "              (LayerNorm): LayerNorm((768,), eps=1e-12, elementwise_affine=True)\n",
      "              (dropout): Dropout(p=0.1, inplace=False)\n",
      "            )\n",
      "          )\n",
      "          (intermediate): BertIntermediate(\n",
      "            (dense): Linear(in_features=768, out_features=3072, bias=True)\n",
      "            (intermediate_act_fn): GELUActivation()\n",
      "          )\n",
      "          (output): BertOutput(\n",
      "            (dense): Linear(in_features=3072, out_features=768, bias=True)\n",
      "            (LayerNorm): LayerNorm((768,), eps=1e-12, elementwise_affine=True)\n",
      "            (dropout): Dropout(p=0.1, inplace=False)\n",
      "          )\n",
      "        )\n",
      "      )\n",
      "    )\n",
      "    (pooler): BertPooler(\n",
      "      (dense): Linear(in_features=768, out_features=768, bias=True)\n",
      "      (activation): Tanh()\n",
      "    )\n",
      "  )\n",
      "  (dropout): Dropout(p=0.1, inplace=False)\n",
      "  (classifier): Linear(in_features=768, out_features=2, bias=True)\n",
      ")\n"
     ]
    }
   ],
   "source": [
    "# KLUE-BERT 토크나이저 불러오기\n",
    "kluebert_tokenizer = AutoTokenizer.from_pretrained(\"klue/bert-base\")\n",
    "print(kluebert_tokenizer.vocab_size)   # 단어 집합 크기 출력\n",
    "\n",
    "# KLUE-BERT 분류 모델 불러오기 (이진 분류 → num_labels=2)\n",
    "kluebert_model = AutoModelForSequenceClassification.from_pretrained(\n",
    "    \"klue/bert-base\",\n",
    "    num_labels=2\n",
    ")\n",
    "print(kluebert_model)  # 모델 구조 출력"
   ]
  },
  {
   "cell_type": "markdown",
   "id": "6ce5967b-1a1a-457a-8eda-c2fa4426725a",
   "metadata": {},
   "source": [
    "##### STEP 3. 위에서 불러온 tokenizer으로 데이터셋을 전처리하기"
   ]
  },
  {
   "cell_type": "code",
   "execution_count": 26,
   "id": "e6dd9b3d-90a0-448a-9e41-7162c2bd320e",
   "metadata": {},
   "outputs": [
    {
     "data": {
      "application/vnd.jupyter.widget-view+json": {
       "model_id": "fe5a2709e3124e9f804df45c0458f300",
       "version_major": 2,
       "version_minor": 0
      },
      "text/plain": [
       "Map:   0%|          | 0/116945 [00:00<?, ? examples/s]"
      ]
     },
     "metadata": {},
     "output_type": "display_data"
    },
    {
     "data": {
      "application/vnd.jupyter.widget-view+json": {
       "model_id": "6fc7bae3ebf14dd99e92899c8a0fcc6e",
       "version_major": 2,
       "version_minor": 0
      },
      "text/plain": [
       "Map:   0%|          | 0/29237 [00:00<?, ? examples/s]"
      ]
     },
     "metadata": {},
     "output_type": "display_data"
    },
    {
     "data": {
      "application/vnd.jupyter.widget-view+json": {
       "model_id": "0d16ae1039df4b99b77a85dffb2f9150",
       "version_major": 2,
       "version_minor": 0
      },
      "text/plain": [
       "Map:   0%|          | 0/49157 [00:00<?, ? examples/s]"
      ]
     },
     "metadata": {},
     "output_type": "display_data"
    }
   ],
   "source": [
    "# 토큰화 함수 정의\n",
    "def tokenize(batch):\n",
    "    return kluebert_tokenizer(\n",
    "        batch[\"document\"],\n",
    "        truncation=True,       # 길면 자르기\n",
    "        padding=\"max_length\",  # 고정 길이 패딩\n",
    "        max_length=128         # 최대 길이\n",
    "    )\n",
    "\n",
    "# 전체 데이터셋 토큰화\n",
    "tokenized_dataset = nsmc_dataset.map(tokenize, batched=True)\n",
    "\n",
    "# 불필요한 열 제거 (id는 안 씀)\n",
    "tokenized_dataset = tokenized_dataset.remove_columns([\"id\"])\n",
    "\n",
    "# PyTorch 텐서 형태로 변환\n",
    "tokenized_dataset.set_format(\"torch\")"
   ]
  },
  {
   "cell_type": "code",
   "execution_count": 27,
   "id": "f23f186b-bfbe-4522-950b-3c07c46d76f9",
   "metadata": {},
   "outputs": [
    {
     "name": "stdout",
     "output_type": "stream",
     "text": [
      "{'document': '허니잼 예스잼 꿀잼 잼잼', 'label': tensor(1), '__index_level_0__': tensor(3514), 'input_ids': tensor([    2, 17945,  3468, 19704,  3468,   692,  3468,  1530,  3468,     3,\n",
      "            0,     0,     0,     0,     0,     0,     0,     0,     0,     0,\n",
      "            0,     0,     0,     0,     0,     0,     0,     0,     0,     0,\n",
      "            0,     0,     0,     0,     0,     0,     0,     0,     0,     0,\n",
      "            0,     0,     0,     0,     0,     0,     0,     0,     0,     0,\n",
      "            0,     0,     0,     0,     0,     0,     0,     0,     0,     0,\n",
      "            0,     0,     0,     0,     0,     0,     0,     0,     0,     0,\n",
      "            0,     0,     0,     0,     0,     0,     0,     0,     0,     0,\n",
      "            0,     0,     0,     0,     0,     0,     0,     0,     0,     0,\n",
      "            0,     0,     0,     0,     0,     0,     0,     0,     0,     0,\n",
      "            0,     0,     0,     0,     0,     0,     0,     0,     0,     0,\n",
      "            0,     0,     0,     0,     0,     0,     0,     0,     0,     0,\n",
      "            0,     0,     0,     0,     0,     0,     0,     0]), 'token_type_ids': tensor([0, 0, 0, 0, 0, 0, 0, 0, 0, 0, 0, 0, 0, 0, 0, 0, 0, 0, 0, 0, 0, 0, 0, 0,\n",
      "        0, 0, 0, 0, 0, 0, 0, 0, 0, 0, 0, 0, 0, 0, 0, 0, 0, 0, 0, 0, 0, 0, 0, 0,\n",
      "        0, 0, 0, 0, 0, 0, 0, 0, 0, 0, 0, 0, 0, 0, 0, 0, 0, 0, 0, 0, 0, 0, 0, 0,\n",
      "        0, 0, 0, 0, 0, 0, 0, 0, 0, 0, 0, 0, 0, 0, 0, 0, 0, 0, 0, 0, 0, 0, 0, 0,\n",
      "        0, 0, 0, 0, 0, 0, 0, 0, 0, 0, 0, 0, 0, 0, 0, 0, 0, 0, 0, 0, 0, 0, 0, 0,\n",
      "        0, 0, 0, 0, 0, 0, 0, 0]), 'attention_mask': tensor([1, 1, 1, 1, 1, 1, 1, 1, 1, 1, 0, 0, 0, 0, 0, 0, 0, 0, 0, 0, 0, 0, 0, 0,\n",
      "        0, 0, 0, 0, 0, 0, 0, 0, 0, 0, 0, 0, 0, 0, 0, 0, 0, 0, 0, 0, 0, 0, 0, 0,\n",
      "        0, 0, 0, 0, 0, 0, 0, 0, 0, 0, 0, 0, 0, 0, 0, 0, 0, 0, 0, 0, 0, 0, 0, 0,\n",
      "        0, 0, 0, 0, 0, 0, 0, 0, 0, 0, 0, 0, 0, 0, 0, 0, 0, 0, 0, 0, 0, 0, 0, 0,\n",
      "        0, 0, 0, 0, 0, 0, 0, 0, 0, 0, 0, 0, 0, 0, 0, 0, 0, 0, 0, 0, 0, 0, 0, 0,\n",
      "        0, 0, 0, 0, 0, 0, 0, 0])}\n",
      "{'document': '진정한 지성인이란 어떠한 사람인가. 그 지성이 어떻게 쓰이는가 무엇을 변화시키는가에 대해 다시 한번 생각해보게 하는 영화.', 'label': tensor(1), '__index_level_0__': tensor(66559), 'input_ids': tensor([    2, 10660,  8575,  2179,  2052,  2241,  5520,  2470,  3611,  2179,\n",
      "         2116,    18,   636,  8575,  2052,  3842,  8026,  2259,  2116,  3890,\n",
      "         2069,  3908,  2067,  2089,  2259,  2116,  2170,  3643,  3690,  6791,\n",
      "         3628,  2097,  2178,  2318,  1889,  2259,  3771,    18,     3,     0,\n",
      "            0,     0,     0,     0,     0,     0,     0,     0,     0,     0,\n",
      "            0,     0,     0,     0,     0,     0,     0,     0,     0,     0,\n",
      "            0,     0,     0,     0,     0,     0,     0,     0,     0,     0,\n",
      "            0,     0,     0,     0,     0,     0,     0,     0,     0,     0,\n",
      "            0,     0,     0,     0,     0,     0,     0,     0,     0,     0,\n",
      "            0,     0,     0,     0,     0,     0,     0,     0,     0,     0,\n",
      "            0,     0,     0,     0,     0,     0,     0,     0,     0,     0,\n",
      "            0,     0,     0,     0,     0,     0,     0,     0,     0,     0,\n",
      "            0,     0,     0,     0,     0,     0,     0,     0]), 'token_type_ids': tensor([0, 0, 0, 0, 0, 0, 0, 0, 0, 0, 0, 0, 0, 0, 0, 0, 0, 0, 0, 0, 0, 0, 0, 0,\n",
      "        0, 0, 0, 0, 0, 0, 0, 0, 0, 0, 0, 0, 0, 0, 0, 0, 0, 0, 0, 0, 0, 0, 0, 0,\n",
      "        0, 0, 0, 0, 0, 0, 0, 0, 0, 0, 0, 0, 0, 0, 0, 0, 0, 0, 0, 0, 0, 0, 0, 0,\n",
      "        0, 0, 0, 0, 0, 0, 0, 0, 0, 0, 0, 0, 0, 0, 0, 0, 0, 0, 0, 0, 0, 0, 0, 0,\n",
      "        0, 0, 0, 0, 0, 0, 0, 0, 0, 0, 0, 0, 0, 0, 0, 0, 0, 0, 0, 0, 0, 0, 0, 0,\n",
      "        0, 0, 0, 0, 0, 0, 0, 0]), 'attention_mask': tensor([1, 1, 1, 1, 1, 1, 1, 1, 1, 1, 1, 1, 1, 1, 1, 1, 1, 1, 1, 1, 1, 1, 1, 1,\n",
      "        1, 1, 1, 1, 1, 1, 1, 1, 1, 1, 1, 1, 1, 1, 1, 0, 0, 0, 0, 0, 0, 0, 0, 0,\n",
      "        0, 0, 0, 0, 0, 0, 0, 0, 0, 0, 0, 0, 0, 0, 0, 0, 0, 0, 0, 0, 0, 0, 0, 0,\n",
      "        0, 0, 0, 0, 0, 0, 0, 0, 0, 0, 0, 0, 0, 0, 0, 0, 0, 0, 0, 0, 0, 0, 0, 0,\n",
      "        0, 0, 0, 0, 0, 0, 0, 0, 0, 0, 0, 0, 0, 0, 0, 0, 0, 0, 0, 0, 0, 0, 0, 0,\n",
      "        0, 0, 0, 0, 0, 0, 0, 0])}\n",
      "{'document': '굳 ㅋ', 'label': tensor(1), '__index_level_0__': tensor(0), 'input_ids': tensor([  2, 618, 191,   3,   0,   0,   0,   0,   0,   0,   0,   0,   0,   0,\n",
      "          0,   0,   0,   0,   0,   0,   0,   0,   0,   0,   0,   0,   0,   0,\n",
      "          0,   0,   0,   0,   0,   0,   0,   0,   0,   0,   0,   0,   0,   0,\n",
      "          0,   0,   0,   0,   0,   0,   0,   0,   0,   0,   0,   0,   0,   0,\n",
      "          0,   0,   0,   0,   0,   0,   0,   0,   0,   0,   0,   0,   0,   0,\n",
      "          0,   0,   0,   0,   0,   0,   0,   0,   0,   0,   0,   0,   0,   0,\n",
      "          0,   0,   0,   0,   0,   0,   0,   0,   0,   0,   0,   0,   0,   0,\n",
      "          0,   0,   0,   0,   0,   0,   0,   0,   0,   0,   0,   0,   0,   0,\n",
      "          0,   0,   0,   0,   0,   0,   0,   0,   0,   0,   0,   0,   0,   0,\n",
      "          0,   0]), 'token_type_ids': tensor([0, 0, 0, 0, 0, 0, 0, 0, 0, 0, 0, 0, 0, 0, 0, 0, 0, 0, 0, 0, 0, 0, 0, 0,\n",
      "        0, 0, 0, 0, 0, 0, 0, 0, 0, 0, 0, 0, 0, 0, 0, 0, 0, 0, 0, 0, 0, 0, 0, 0,\n",
      "        0, 0, 0, 0, 0, 0, 0, 0, 0, 0, 0, 0, 0, 0, 0, 0, 0, 0, 0, 0, 0, 0, 0, 0,\n",
      "        0, 0, 0, 0, 0, 0, 0, 0, 0, 0, 0, 0, 0, 0, 0, 0, 0, 0, 0, 0, 0, 0, 0, 0,\n",
      "        0, 0, 0, 0, 0, 0, 0, 0, 0, 0, 0, 0, 0, 0, 0, 0, 0, 0, 0, 0, 0, 0, 0, 0,\n",
      "        0, 0, 0, 0, 0, 0, 0, 0]), 'attention_mask': tensor([1, 1, 1, 1, 0, 0, 0, 0, 0, 0, 0, 0, 0, 0, 0, 0, 0, 0, 0, 0, 0, 0, 0, 0,\n",
      "        0, 0, 0, 0, 0, 0, 0, 0, 0, 0, 0, 0, 0, 0, 0, 0, 0, 0, 0, 0, 0, 0, 0, 0,\n",
      "        0, 0, 0, 0, 0, 0, 0, 0, 0, 0, 0, 0, 0, 0, 0, 0, 0, 0, 0, 0, 0, 0, 0, 0,\n",
      "        0, 0, 0, 0, 0, 0, 0, 0, 0, 0, 0, 0, 0, 0, 0, 0, 0, 0, 0, 0, 0, 0, 0, 0,\n",
      "        0, 0, 0, 0, 0, 0, 0, 0, 0, 0, 0, 0, 0, 0, 0, 0, 0, 0, 0, 0, 0, 0, 0, 0,\n",
      "        0, 0, 0, 0, 0, 0, 0, 0])}\n"
     ]
    }
   ],
   "source": [
    "# 토큰화된 샘플 확인\n",
    "print(tokenized_dataset[\"train\"][0])        # train 첫 샘플\n",
    "print(tokenized_dataset[\"validation\"][0])   # validation 첫 샘플\n",
    "print(tokenized_dataset[\"test\"][0])         # test 첫 샘플"
   ]
  },
  {
   "cell_type": "markdown",
   "id": "3576a87e-833e-4a2b-bc26-e0f4c3fe1652",
   "metadata": {},
   "source": [
    "##### STEP 4. 모델 Fine-tuning을 통하여 모델 성능(accuarcy) 향상시키기"
   ]
  },
  {
   "cell_type": "code",
   "execution_count": 12,
   "id": "3de2918e-ebc5-44f3-b1a0-a4b269379dd3",
   "metadata": {},
   "outputs": [],
   "source": [
    "training_arguments = TrainingArguments(\n",
    "    output_dir=\"./result1\",          # 결과 저장 경로\n",
    "    eval_strategy=\"epoch\",           # 에폭마다 평가\n",
    "    save_strategy=\"epoch\",           # 에폭마다 체크포인트 저장\n",
    "    learning_rate=2e-5,              # 학습률\n",
    "    per_device_train_batch_size=32,  # GPU/장치당 train 배치 크기\n",
    "    per_device_eval_batch_size=32,   # GPU/장치당 eval 배치 크기\n",
    "    num_train_epochs=5,              # 학습 epoch 수\n",
    "    weight_decay=0.01,               # 가중치 감쇠 (L2 정규화)\n",
    "    load_best_model_at_end=True,     # 가장 좋은 모델 불러오기\n",
    "    metric_for_best_model=\"eval_loss\", # 기준 메트릭 (평가 손실)\n",
    "    greater_is_better=False,         # 손실은 낮을수록 좋음\n",
    "    logging_strategy=\"epoch\",        # 에폭마다 로그 기록\n",
    "    report_to=\"wandb\",               # W&B에 기록\n",
    "    seed=42                          # 랜덤 시드 고정\n",
    ")"
   ]
  },
  {
   "cell_type": "code",
   "execution_count": 13,
   "id": "0eb6d2ca-3965-4825-bfcc-658af8a6e987",
   "metadata": {},
   "outputs": [
    {
     "data": {
      "application/vnd.jupyter.widget-view+json": {
       "model_id": "17f4f8ecaa5748a698c5709afa099696",
       "version_major": 2,
       "version_minor": 0
      },
      "text/plain": [
       "Downloading builder script: 0.00B [00:00, ?B/s]"
      ]
     },
     "metadata": {},
     "output_type": "display_data"
    },
    {
     "data": {
      "application/vnd.jupyter.widget-view+json": {
       "model_id": "ba53fb883d254b53b65c3314b535badc",
       "version_major": 2,
       "version_minor": 0
      },
      "text/plain": [
       "Downloading builder script: 0.00B [00:00, ?B/s]"
      ]
     },
     "metadata": {},
     "output_type": "display_data"
    },
    {
     "data": {
      "application/vnd.jupyter.widget-view+json": {
       "model_id": "f6b85557e5544d078c32a8c4fd611e90",
       "version_major": 2,
       "version_minor": 0
      },
      "text/plain": [
       "Downloading builder script: 0.00B [00:00, ?B/s]"
      ]
     },
     "metadata": {},
     "output_type": "display_data"
    },
    {
     "data": {
      "application/vnd.jupyter.widget-view+json": {
       "model_id": "1ed4a5ce3a80408880732c0a4ce28164",
       "version_major": 2,
       "version_minor": 0
      },
      "text/plain": [
       "Downloading builder script: 0.00B [00:00, ?B/s]"
      ]
     },
     "metadata": {},
     "output_type": "display_data"
    },
    {
     "data": {
      "application/vnd.jupyter.widget-view+json": {
       "model_id": "2601534dd1fd4415885f621346050a47",
       "version_major": 2,
       "version_minor": 0
      },
      "text/plain": [
       "Downloading builder script: 0.00B [00:00, ?B/s]"
      ]
     },
     "metadata": {},
     "output_type": "display_data"
    }
   ],
   "source": [
    "# 평가 지표 불러오기\n",
    "accuracy  = load(\"accuracy\")\n",
    "precision = load(\"precision\")\n",
    "recall    = load(\"recall\")\n",
    "f1        = load(\"f1\")\n",
    "roc_auc   = load(\"roc_auc\")\n",
    "\n",
    "# 모델 평가 함수 정의\n",
    "def compute_metrics(eval_pred):\n",
    "    logits, labels = eval_pred\n",
    "    preds = np.argmax(logits, axis=-1)  # 예측 라벨\n",
    "    probs = logits[:, 1]                # positive 클래스 확률\n",
    "\n",
    "    return {\n",
    "        \"accuracy\":  accuracy.compute(predictions=preds, references=labels),\n",
    "        \"precision\": precision.compute(predictions=preds, references=labels, average=\"binary\"),\n",
    "        \"recall\":    recall.compute(predictions=preds, references=labels, average=\"binary\"),\n",
    "        \"f1\":        f1.compute(predictions=preds, references=labels, average=\"binary\"),\n",
    "        \"roc_auc\":   roc_auc.compute(prediction_scores=probs, references=labels),\n",
    "    }"
   ]
  },
  {
   "cell_type": "code",
   "execution_count": 14,
   "id": "3c0167c5-6101-470c-be87-3bdb7ee30df9",
   "metadata": {},
   "outputs": [
    {
     "data": {
      "text/html": [],
      "text/plain": [
       "<IPython.core.display.HTML object>"
      ]
     },
     "metadata": {},
     "output_type": "display_data"
    },
    {
     "data": {
      "text/html": [
       "Tracking run with wandb version 0.21.4"
      ],
      "text/plain": [
       "<IPython.core.display.HTML object>"
      ]
     },
     "metadata": {},
     "output_type": "display_data"
    },
    {
     "data": {
      "text/html": [
       "Run data is saved locally in <code>/home/jovyan/work/GD07/wandb/run-20250916_013738-9wpbu5db</code>"
      ],
      "text/plain": [
       "<IPython.core.display.HTML object>"
      ]
     },
     "metadata": {},
     "output_type": "display_data"
    },
    {
     "data": {
      "text/html": [
       "Syncing run <strong><a href='https://wandb.ai/9cheol2_huggingface/huggingface/runs/9wpbu5db' target=\"_blank\">colorful-armadillo-1</a></strong> to <a href='https://wandb.ai/9cheol2_huggingface/huggingface' target=\"_blank\">Weights & Biases</a> (<a href='https://wandb.me/developer-guide' target=\"_blank\">docs</a>)<br>"
      ],
      "text/plain": [
       "<IPython.core.display.HTML object>"
      ]
     },
     "metadata": {},
     "output_type": "display_data"
    },
    {
     "data": {
      "text/html": [
       " View project at <a href='https://wandb.ai/9cheol2_huggingface/huggingface' target=\"_blank\">https://wandb.ai/9cheol2_huggingface/huggingface</a>"
      ],
      "text/plain": [
       "<IPython.core.display.HTML object>"
      ]
     },
     "metadata": {},
     "output_type": "display_data"
    },
    {
     "data": {
      "text/html": [
       " View run at <a href='https://wandb.ai/9cheol2_huggingface/huggingface/runs/9wpbu5db' target=\"_blank\">https://wandb.ai/9cheol2_huggingface/huggingface/runs/9wpbu5db</a>"
      ],
      "text/plain": [
       "<IPython.core.display.HTML object>"
      ]
     },
     "metadata": {},
     "output_type": "display_data"
    },
    {
     "data": {
      "text/html": [
       "\n",
       "    <div>\n",
       "      \n",
       "      <progress value='10965' max='18275' style='width:300px; height:20px; vertical-align: middle;'></progress>\n",
       "      [10965/18275 2:08:46 < 1:25:52, 1.42 it/s, Epoch 3/5]\n",
       "    </div>\n",
       "    <table border=\"1\" class=\"dataframe\">\n",
       "  <thead>\n",
       " <tr style=\"text-align: left;\">\n",
       "      <th>Epoch</th>\n",
       "      <th>Training Loss</th>\n",
       "      <th>Validation Loss</th>\n",
       "      <th>Accuracy</th>\n",
       "      <th>Precision</th>\n",
       "      <th>Recall</th>\n",
       "      <th>F1</th>\n",
       "      <th>Roc Auc</th>\n",
       "    </tr>\n",
       "  </thead>\n",
       "  <tbody>\n",
       "    <tr>\n",
       "      <td>1</td>\n",
       "      <td>0.283200</td>\n",
       "      <td>0.262883</td>\n",
       "      <td>{'accuracy': 0.8954065054554161}</td>\n",
       "      <td>{'precision': 0.872926386728875}</td>\n",
       "      <td>{'recall': 0.9246979681493684}</td>\n",
       "      <td>{'f1': 0.8980666666666667}</td>\n",
       "      <td>{'roc_auc': 0.9640484548867451}</td>\n",
       "    </tr>\n",
       "    <tr>\n",
       "      <td>2</td>\n",
       "      <td>0.186400</td>\n",
       "      <td>0.244163</td>\n",
       "      <td>{'accuracy': 0.9054964599651127}</td>\n",
       "      <td>{'precision': 0.9056979861158843}</td>\n",
       "      <td>{'recall': 0.9045167490389896}</td>\n",
       "      <td>{'f1': 0.9051069821753615}</td>\n",
       "      <td>{'roc_auc': 0.9670953810366174}</td>\n",
       "    </tr>\n",
       "    <tr>\n",
       "      <td>3</td>\n",
       "      <td>0.121500</td>\n",
       "      <td>0.314894</td>\n",
       "      <td>{'accuracy': 0.905222834080104}</td>\n",
       "      <td>{'precision': 0.8933644548182728}</td>\n",
       "      <td>{'recall': 0.9195496979681493}</td>\n",
       "      <td>{'f1': 0.9062679700977573}</td>\n",
       "      <td>{'roc_auc': 0.9648453060803679}</td>\n",
       "    </tr>\n",
       "  </tbody>\n",
       "</table><p>"
      ],
      "text/plain": [
       "<IPython.core.display.HTML object>"
      ]
     },
     "metadata": {},
     "output_type": "display_data"
    },
    {
     "data": {
      "text/plain": [
       "TrainOutput(global_step=10965, training_loss=0.1970232322125798, metrics={'train_runtime': 7729.8015, 'train_samples_per_second': 75.646, 'train_steps_per_second': 2.364, 'total_flos': 2.30771417768064e+16, 'train_loss': 0.1970232322125798, 'epoch': 3.0})"
      ]
     },
     "execution_count": 14,
     "metadata": {},
     "output_type": "execute_result"
    }
   ],
   "source": [
    "# Hugging Face Trainer 설정\n",
    "trainer = Trainer(\n",
    "    model=kluebert_model,                       # 학습할 모델\n",
    "    args=training_arguments,                    # 학습 설정\n",
    "    train_dataset=tokenized_dataset[\"train\"],   # 학습 데이터\n",
    "    eval_dataset=tokenized_dataset[\"validation\"], # 검증 데이터\n",
    "    compute_metrics=compute_metrics,            # 평가 지표 함수\n",
    "    callbacks=[EarlyStoppingCallback(early_stopping_patience=1)]  # 조기 종료 (1 epoch 개선 없으면 stop)\n",
    ")\n",
    "\n",
    "# 모델 학습 시작\n",
    "trainer.train()"
   ]
  },
  {
   "cell_type": "code",
   "execution_count": 43,
   "id": "96e193b4-f438-4ec4-8eaf-e225f684d340",
   "metadata": {},
   "outputs": [
    {
     "data": {
      "image/png": "[encoded data removed]",
      "text/plain": [
       "<Figure size 800x500 with 1 Axes>"
      ]
     },
     "metadata": {},
     "output_type": "display_data"
    }
   ],
   "source": [
    "# DataFrame 생성\n",
    "result1 = {\n",
    "    \"Epoch\": [1, 2, 3],\n",
    "    \"Training Loss\": [0.2832, 0.1864, 0.1215],\n",
    "    \"Validation Loss\": [0.2629, 0.2442, 0.3149],\n",
    "    \"Accuracy\": [0.8954, 0.9055, 0.9052],\n",
    "    \"Precision\": [0.8729, 0.9057, 0.8934],\n",
    "    \"Recall\": [0.9247, 0.9045, 0.9195],\n",
    "    \"F1\": [0.8981, 0.9051, 0.9063],\n",
    "    \"Roc Auc\": [0.9640, 0.9671, 0.9648],\n",
    "}\n",
    "result1_df = pd.DataFrame(result1)\n",
    "\n",
    "# Loss 곡선 시각화\n",
    "plt.figure(figsize=(8,5))\n",
    "plt.plot(result1_df[\"Epoch\"], result1_df[\"Training Loss\"], marker=\"o\", label=\"Training Loss\")\n",
    "plt.plot(result1_df[\"Epoch\"], result1_df[\"Validation Loss\"], marker=\"o\", label=\"Validation Loss\")\n",
    "plt.xlabel(\"Epoch\")\n",
    "plt.ylabel(\"Loss\")\n",
    "plt.title(\"Training vs Validation Loss\")\n",
    "plt.legend()\n",
    "plt.grid(False)\n",
    "plt.show()"
   ]
  },
  {
   "cell_type": "code",
   "execution_count": 15,
   "id": "73dc4fe5-c061-440c-b3a5-d279aaa88d3d",
   "metadata": {},
   "outputs": [
    {
     "data": {
      "text/html": [
       "\n",
       "    <div>\n",
       "      \n",
       "      <progress value='1537' max='1537' style='width:300px; height:20px; vertical-align: middle;'></progress>\n",
       "      [1537/1537 05:41]\n",
       "    </div>\n",
       "    "
      ],
      "text/plain": [
       "<IPython.core.display.HTML object>"
      ]
     },
     "metadata": {},
     "output_type": "display_data"
    },
    {
     "data": {
      "text/plain": [
       "{'eval_loss': 0.2515687346458435,\n",
       " 'eval_accuracy': {'accuracy': 0.9015603067721789},\n",
       " 'eval_precision': {'precision': 0.9039352792909993},\n",
       " 'eval_recall': {'recall': 0.8998017077414916},\n",
       " 'eval_f1': {'f1': 0.901863757123446},\n",
       " 'eval_roc_auc': {'roc_auc': 0.9655558276584956},\n",
       " 'eval_runtime': 342.2997,\n",
       " 'eval_samples_per_second': 143.608,\n",
       " 'eval_steps_per_second': 4.49,\n",
       " 'epoch': 3.0}"
      ]
     },
     "execution_count": 15,
     "metadata": {},
     "output_type": "execute_result"
    }
   ],
   "source": [
    "# 학습된 모델을 test 데이터셋으로 평가\n",
    "trainer.evaluate(tokenized_dataset[\"test\"])"
   ]
  },
  {
   "cell_type": "markdown",
   "id": "4e9f5e27-e96e-4a0c-8f0d-a1b17cb21975",
   "metadata": {},
   "source": [
    "##### STEP 5. Bucketing을 적용하여 학습시키고, STEP 4의 결과와의 비교"
   ]
  },
  {
   "cell_type": "code",
   "execution_count": 28,
   "id": "d111494f-4c1c-4223-aaf2-196626a83c66",
   "metadata": {},
   "outputs": [],
   "source": [
    "training_arguments = TrainingArguments(\n",
    "    output_dir=\"./result2\",          # 결과 저장 경로\n",
    "    eval_strategy=\"epoch\",           # 에폭마다 평가\n",
    "    save_strategy=\"epoch\",           # 에폭마다 체크포인트 저장\n",
    "    learning_rate=2e-5,              # 학습률\n",
    "    per_device_train_batch_size=32,  # train 배치 크기\n",
    "    per_device_eval_batch_size=32,   # eval 배치 크기\n",
    "    num_train_epochs=5,              # 학습 epoch 수\n",
    "    weight_decay=0.01,               # 가중치 감쇠\n",
    "    group_by_length=True,            # 문장 길이 기준으로 버킷팅 (패딩 효율 ↑)\n",
    "    load_best_model_at_end=True,     # 가장 좋은 모델 불러오기\n",
    "    metric_for_best_model=\"eval_loss\", # 기준 메트릭: 평가 손실\n",
    "    greater_is_better=False,         # 손실은 낮을수록 좋음\n",
    "    logging_strategy=\"epoch\",        # 에폭마다 로그 기록\n",
    "    report_to=\"wandb\",               # W&B에 기록\n",
    "    seed=42                          # 랜덤 시드 고정\n",
    ")"
   ]
  },
  {
   "cell_type": "code",
   "execution_count": 29,
   "id": "a811a081-4b04-4f24-8780-19665caa6aa3",
   "metadata": {},
   "outputs": [],
   "source": [
    "# 평가 지표 불러오기\n",
    "accuracy  = load(\"accuracy\")\n",
    "precision = load(\"precision\")\n",
    "recall    = load(\"recall\")\n",
    "f1        = load(\"f1\")\n",
    "roc_auc   = load(\"roc_auc\")\n",
    "\n",
    "# 평가 함수 정의\n",
    "def compute_metrics(eval_pred):\n",
    "    logits, labels = eval_pred\n",
    "    preds = np.argmax(logits, axis=-1)  # 가장 큰 확률 → 예측 라벨\n",
    "    probs = logits[:, 1]                # positive(1) 클래스 확률\n",
    "\n",
    "    return {\n",
    "        \"accuracy\":  accuracy.compute(predictions=preds, references=labels)[\"accuracy\"],\n",
    "        \"precision\": precision.compute(predictions=preds, references=labels, average=\"binary\")[\"precision\"],\n",
    "        \"recall\":    recall.compute(predictions=preds, references=labels, average=\"binary\")[\"recall\"],\n",
    "        \"f1\":        f1.compute(predictions=preds, references=labels, average=\"binary\")[\"f1\"],\n",
    "        \"roc_auc\":   roc_auc.compute(prediction_scores=probs, references=labels)[\"roc_auc\"],\n",
    "    }"
   ]
  },
  {
   "cell_type": "code",
   "execution_count": 31,
   "id": "648ebe65-75d6-4daf-a8fd-4d070f23a154",
   "metadata": {},
   "outputs": [
    {
     "data": {
      "text/html": [
       "\n",
       "    <div>\n",
       "      \n",
       "      <progress value='7310' max='18275' style='width:300px; height:20px; vertical-align: middle;'></progress>\n",
       "      [ 7310/18275 1:25:59 < 2:09:01, 1.42 it/s, Epoch 2/5]\n",
       "    </div>\n",
       "    <table border=\"1\" class=\"dataframe\">\n",
       "  <thead>\n",
       " <tr style=\"text-align: left;\">\n",
       "      <th>Epoch</th>\n",
       "      <th>Training Loss</th>\n",
       "      <th>Validation Loss</th>\n",
       "      <th>Accuracy</th>\n",
       "      <th>Precision</th>\n",
       "      <th>Recall</th>\n",
       "      <th>F1</th>\n",
       "      <th>Roc Auc</th>\n",
       "    </tr>\n",
       "  </thead>\n",
       "  <tbody>\n",
       "    <tr>\n",
       "      <td>1</td>\n",
       "      <td>0.283500</td>\n",
       "      <td>0.245627</td>\n",
       "      <td>0.901289</td>\n",
       "      <td>0.902772</td>\n",
       "      <td>0.898682</td>\n",
       "      <td>0.900722</td>\n",
       "      <td>0.964518</td>\n",
       "    </tr>\n",
       "    <tr>\n",
       "      <td>2</td>\n",
       "      <td>0.186200</td>\n",
       "      <td>0.246023</td>\n",
       "      <td>0.905223</td>\n",
       "      <td>0.895103</td>\n",
       "      <td>0.917284</td>\n",
       "      <td>0.906058</td>\n",
       "      <td>0.966906</td>\n",
       "    </tr>\n",
       "  </tbody>\n",
       "</table><p>"
      ],
      "text/plain": [
       "<IPython.core.display.HTML object>"
      ]
     },
     "metadata": {},
     "output_type": "display_data"
    },
    {
     "data": {
      "text/plain": [
       "TrainOutput(global_step=7310, training_loss=0.23487719993747863, metrics={'train_runtime': 5159.9712, 'train_samples_per_second': 113.319, 'train_steps_per_second': 3.542, 'total_flos': 1.53847611845376e+16, 'train_loss': 0.23487719993747863, 'epoch': 2.0})"
      ]
     },
     "execution_count": 31,
     "metadata": {},
     "output_type": "execute_result"
    }
   ],
   "source": [
    "# Trainer 설정\n",
    "trainer = Trainer(\n",
    "    model=kluebert_model,                        # 학습할 모델\n",
    "    args=training_arguments,                     # 학습 파라미터\n",
    "    train_dataset=tokenized_dataset[\"train\"],    # 학습 데이터\n",
    "    eval_dataset=tokenized_dataset[\"validation\"],# 검증 데이터\n",
    "    compute_metrics=compute_metrics,             # 평가 지표 함수\n",
    "    callbacks=[EarlyStoppingCallback(early_stopping_patience=1)]  # 조기 종료 (1epoch 개선 없으면 stop)\n",
    ")\n",
    "\n",
    "# 학습 시작\n",
    "trainer.train()"
   ]
  },
  {
   "cell_type": "code",
   "execution_count": 42,
   "id": "32a30e7e-f7f6-471f-a6cf-b119c97c64df",
   "metadata": {},
   "outputs": [
    {
     "data": {
      "image/png": "[encoded data removed]",
      "text/plain": [
       "<Figure size 800x500 with 1 Axes>"
      ]
     },
     "metadata": {},
     "output_type": "display_data"
    }
   ],
   "source": [
    "# DataFrame 생성\n",
    "result2 = {\n",
    "    \"Epoch\": [1, 2],\n",
    "    \"Training Loss\": [0.283500, 0.186200],\n",
    "    \"Validation Loss\": [0.245627, 0.246023],\n",
    "    \"Accuracy\": [0.901289, 0.905223],\n",
    "    \"Precision\": [0.902772, 0.895103],\n",
    "    \"Recall\": [0.898682, 0.917284],\n",
    "    \"F1\": [0.900722, 0.906058],\n",
    "    \"Roc Auc\": [0.964518, 0.966906],\n",
    "}\n",
    "result2_df = pd.DataFrame(result2)\n",
    "\n",
    "# Loss 곡선 시각화\n",
    "plt.figure(figsize=(8,5))\n",
    "plt.plot(result2_df[\"Epoch\"], result2_df[\"Training Loss\"], marker=\"o\", label=\"Training Loss\")\n",
    "plt.plot(result2_df[\"Epoch\"], result2_df[\"Validation Loss\"], marker=\"o\", label=\"Validation Loss\")\n",
    "plt.xlabel(\"Epoch\")\n",
    "plt.ylabel(\"Loss\")\n",
    "plt.title(\"Training vs Validation Loss\")\n",
    "plt.legend()\n",
    "plt.grid(False)\n",
    "plt.show()"
   ]
  },
  {
   "cell_type": "code",
   "execution_count": 39,
   "id": "a7a904d5-c874-460f-ab86-a26c7398a55d",
   "metadata": {},
   "outputs": [
    {
     "data": {
      "text/html": [
       "\n",
       "    <div>\n",
       "      \n",
       "      <progress value='1537' max='1537' style='width:300px; height:20px; vertical-align: middle;'></progress>\n",
       "      [1537/1537 05:43]\n",
       "    </div>\n",
       "    "
      ],
      "text/plain": [
       "<IPython.core.display.HTML object>"
      ]
     },
     "metadata": {},
     "output_type": "display_data"
    },
    {
     "data": {
      "text/plain": [
       "{'eval_loss': 0.2500600814819336,\n",
       " 'eval_accuracy': 0.8984071444555201,\n",
       " 'eval_precision': 0.9012250213666517,\n",
       " 'eval_recall': 0.8961191372263364,\n",
       " 'eval_f1': 0.8986648269144921,\n",
       " 'eval_roc_auc': 0.9635472886497553,\n",
       " 'eval_runtime': 345.025,\n",
       " 'eval_samples_per_second': 142.474,\n",
       " 'eval_steps_per_second': 4.455,\n",
       " 'epoch': 2.0}"
      ]
     },
     "execution_count": 39,
     "metadata": {},
     "output_type": "execute_result"
    }
   ],
   "source": [
    "# 학습된 모델을 test 데이터셋으로 평가\n",
    "trainer.evaluate(tokenized_dataset[\"test\"])"
   ]
  },
  {
   "cell_type": "markdown",
   "id": "38c9f705-e786-4462-b92e-93e5c505fc9c",
   "metadata": {},
   "source": [
    "##### 결과"
   ]
  },
  {
   "cell_type": "code",
   "execution_count": 46,
   "id": "ea00dfa4-2101-42b6-b8ef-6c09634bfec5",
   "metadata": {},
   "outputs": [
    {
     "data": {
      "text/html": [
       "<div>\n",
       "<style scoped>\n",
       "    .dataframe tbody tr th:only-of-type {\n",
       "        vertical-align: middle;\n",
       "    }\n",
       "\n",
       "    .dataframe tbody tr th {\n",
       "        vertical-align: top;\n",
       "    }\n",
       "\n",
       "    .dataframe thead th {\n",
       "        text-align: right;\n",
       "    }\n",
       "</style>\n",
       "<table border=\"1\" class=\"dataframe\">\n",
       "  <thead>\n",
       "    <tr style=\"text-align: right;\">\n",
       "      <th></th>\n",
       "      <th>Accuracy</th>\n",
       "      <th>Precision</th>\n",
       "      <th>Recall</th>\n",
       "      <th>F1</th>\n",
       "      <th>Roc Auc</th>\n",
       "    </tr>\n",
       "  </thead>\n",
       "  <tbody>\n",
       "    <tr>\n",
       "      <th>Result1</th>\n",
       "      <td>0.9016</td>\n",
       "      <td>0.9039</td>\n",
       "      <td>0.8998</td>\n",
       "      <td>0.9019</td>\n",
       "      <td>0.9656</td>\n",
       "    </tr>\n",
       "    <tr>\n",
       "      <th>Result2</th>\n",
       "      <td>0.8984</td>\n",
       "      <td>0.9012</td>\n",
       "      <td>0.8961</td>\n",
       "      <td>0.8987</td>\n",
       "      <td>0.9635</td>\n",
       "    </tr>\n",
       "  </tbody>\n",
       "</table>\n",
       "</div>"
      ],
      "text/plain": [
       "         Accuracy  Precision  Recall      F1  Roc Auc\n",
       "Result1    0.9016     0.9039  0.8998  0.9019   0.9656\n",
       "Result2    0.8984     0.9012  0.8961  0.8987   0.9635"
      ]
     },
     "execution_count": 46,
     "metadata": {},
     "output_type": "execute_result"
    }
   ],
   "source": [
    "result1 = {\n",
    "    \"Accuracy\": 0.9016,\n",
    "    \"Precision\": 0.9039,\n",
    "    \"Recall\": 0.8998,\n",
    "    \"F1\": 0.9019,\n",
    "    \"Roc Auc\": 0.9656\n",
    "}\n",
    "\n",
    "result2 = {\n",
    "    \"Accuracy\": 0.8984,\n",
    "    \"Precision\": 0.9012,\n",
    "    \"Recall\": 0.8961,\n",
    "    \"F1\": 0.8987,\n",
    "    \"Roc Auc\": 0.9635\n",
    "}\n",
    "\n",
    "df = pd.DataFrame([result1, result2], index=[\"Result1\", \"Result2\"])\n",
    "df"
   ]
  },
  {
   "cell_type": "markdown",
   "id": "b1a8a865-eed7-4a4b-9ea8-32fd05c66d5d",
   "metadata": {},
   "source": [
    "#### 프로젝트 회고\n",
    "\n",
    "KLUE-BERT 모델을 NSMC 데이터셋으로 파인튜닝하여 한국어 감정 분석 이진 분류 모델을 구축했다. 목표는 Test Accuracy 90% 이상 달성과 함께, 부켓팅(bucketting) 적용 여부에 따른 연산 속도와 성능 간 트레이드오프를 검증하는 것이었다.\n",
    "\n",
    "##### 1. 데이터셋과 전처리\n",
    "- NSMC: train 150,000 / test 50,000, label은 0·1 이진\n",
    "- 결측치·중복 제거 후: train 146,182 / test 49,157\n",
    "- 텍스트 정제: 영문 소문자화, 한글·영문·숫자·.,!? 유지, 3회 이상 반복 문자는 2회로 축소, 공백 정리\n",
    "- 라벨 분포는 거의 5:5, 문서 길이는 우측 꼬리(long-tail)\n",
    "\n",
    "##### 2. 분할과 토크나이징\n",
    "- train/val/test = 116,945 / 29,237 / 49,157\n",
    "- KLUE-BERT 토크나이저 사용, vocab size = 32,000\n",
    "\n",
    "##### 3. 실험 설계\n",
    "- 동일 모델·동일 하이퍼파라미터\n",
    "- 차이점: 부켓팅 적용 여부만 변경\n",
    "- early stopping 기준: validation loss 악화 시 중단\n",
    "  - 부켓팅 미적용: epoch 3에서 중단\n",
    "  - 부켓팅 적용: epoch 2에서 중단\n",
    "\n",
    "##### 4. 성능 결과 (검증 세트)\n",
    "\n",
    "| 조건       | Accuracy | Precision | Recall | F1     | ROC AUC |\n",
    "|------------|----------|-----------|--------|--------|---------|\n",
    "| 부켓팅 X   | 0.9016   | 0.9039    | 0.8998 | 0.9019 | 0.9656  |\n",
    "| 부켓팅 O   | 0.8984   | 0.9012    | 0.8961 | 0.8987 | 0.9635  |\n",
    "\n",
    "해석: 부켓팅 미적용이 전 지표에서 근소하게 더 우수했다.\n",
    "\n",
    "##### 5. 학습 속도 비교\n",
    "\n",
    "| 조건       | 학습 시간(hh:mm:ss) | steps/sec | samples/sec | epoch | global_step |\n",
    "|------------|----------------------|-----------|-------------|-------|-------------|\n",
    "| 부켓팅 X   | 02:08:50             | 2.364     | 75.646      | 3.0   | 10,965      |\n",
    "| 부켓팅 O   | 01:26:00             | 3.542     | 113.319     | 2.0   | 7,310       |\n",
    "\n",
    "해석: 부켓팅 적용 시 처리 속도는 약 1.5배 빨라졌지만, 최종 성능은 소폭 하락했다.\n",
    "\n",
    "##### 6. 평가지표 선택 이유\n",
    "\n",
    "- Accuracy  \n",
    "  클래스 분포가 거의 5:5로 균형이라 전체 정답률이 의미 있다. 다만 오검 유형을 구분하지 못하므로 단독 평가는 한계가 있다.\n",
    "\n",
    "- Precision  \n",
    "  긍정(또는 부정)으로 예측한 것 중 실제로 맞춘 비율. 오탐(false positive)을 줄이는 능력을 본다. 사용자 알림·추천 등에서 오탐 비용이 높을 때 중요하다.\n",
    "\n",
    "- Recall  \n",
    "  실제 긍정(또는 부정) 중에서 모델이 놓치지 않고 찾아낸 비율. 미탐(false negative)을 줄이는 능력을 본다. 민감도(sensitivity)가 중요한 안전·품질 시나리오에서 중요하다.\n",
    "\n",
    "- F1  \n",
    "  Precision과 Recall의 조화 평균으로 두 지표의 균형을 본다. 어느 한쪽만 높은 모델을 경계하는 데 유용하다.\n",
    "\n",
    "- ROC AUC  \n",
    "  분류 임계값(threshold)에 독립적인 순위화 능력 지표. 다양한 운영 임계값에서의 평균적 판별력(민감도-특이도 트레이드오프)을 확인할 수 있어, 배포 환경에서 임계값을 조정할 여지가 있을 때 특히 유용하다.\n",
    "\n",
    "##### 7. 결론\n",
    "\n",
    "부켓팅 적용은 steps/sec과 samples/sec 지표에서 확인되듯 학습 효율을 뚜렷하게 개선했다. 그러나 본 실험 환경과 NSMC 데이터셋에서는 검증 성능이 소폭 하락하는 양상이 나타났다. 목표로 삼았던 Test Accuracy 90% 이상은 부켓팅을 적용하지 않았을 때 달성할 수 있었다. 따라서 운영 환경에서 속도가 더 중요하다면 부켓팅 적용이 적절하고, 최종 성능을 극대화하는 것이 우선이라면 부켓팅을 적용하지 않는 편이 더 적합하다.\n",
    "\n",
    "##### 8. 다음 과제\n",
    "\n",
    "- 데이터 길이 분포 개선  \n",
    "  현재 document 길이가 오른쪽으로 꼬리가 긴(long-tail) 형태를 보인다. 지나치게 긴 문장들은 학습 안정성을 저해하는 노이즈로 작용할 수 있으므로, 일정 길이 이상을 제거하거나 잘라내어 분포를 더 정규화시키는 방안을 검토한다.\n",
    "\n",
    "- 학습 안정화 및 성능 향상  \n",
    "  전통적인 Grid search나 Random search 방식의 하이퍼파라미터 탐색은 대규모 모델 학습에서는 비효율적이다. 대신 학습률 스케줄러(cosine decay, linear decay, warmup 등)와 적절한 weight decay, dropout 비율 조정 등으로 안정성과 성능을 개선하는 방향을 모색한다. 또한 early stopping에서 patience를 1로 두는 것은 지나치게 보수적이므로, 2~3으로 늘려 모델이 수렴할 수 있는 여지를 확보한 뒤 실험을 진행한다.\n",
    "\n",
    "\n",
    "##### 9. 회고\n",
    " Hugging Face 프레임워크를 활용해 데이터셋 구성, 파인튜닝, 추론까지 진행했는데 전체 과정이 간단하고 직관적이었다. 앞으로 Hugging Face에 더 익숙해진다면, PyTorch의 유연성을 살려 직접 데이터로더나 학습 루프를 구성하는 방식과 Hugging Face의 Trainer를 통한 자동화된 학습 방식을 상황에 맞게 병행할 수 있을 것으로 보인다. 또한 Trainer를 Weights & Biases와 연동하니 실험 결과가 체계적으로 기록·시각화되어 관리 효율성이 높았다.  \n",
    "\n",
    " 이번 실험에서는 버켓팅(bucketting) 적용 여부가 학습 속도와 성능에 어떤 영향을 주는지를 확인할 수 있었다. 버켓팅은 문장 길이가 비슷한 샘플을 묶어 배치를 구성하는 방식으로, 불필요한 패딩을 줄여 처리 속도를 높여주는 장점이 있다. 다만 배치가 길이 기준으로 고정되다 보니 무작위성이 줄어들어 데이터 다양성이 낮아질 수 있다는 한계도 있다. 따라서 문장 길이 분포가 균일하다면 버켓팅 여부에 따른 차이는 거의 없을 것이고, 반대로 길이 분포가 긴 꼬리를 가진 경우에는 속도 개선 효과가 더욱 두드러질 수 있다."
   ]
  },
  {
   "cell_type": "code",
   "execution_count": null,
   "id": "00066ed9-a72d-4c00-85b8-01415d3d9eff",
   "metadata": {},
   "outputs": [],
   "source": []
  }
 ],
 "metadata": {
  "kernelspec": {
   "display_name": "Python 3 (ipykernel)",
   "language": "python",
   "name": "python3"
  },
  "language_info": {
   "codemirror_mode": {
    "name": "ipython",
    "version": 3
   },
   "file_extension": ".py",
   "mimetype": "text/x-python",
   "name": "python",
   "nbconvert_exporter": "python",
   "pygments_lexer": "ipython3",
   "version": "3.12.11"
  }
 },
 "nbformat": 4,
 "nbformat_minor": 5
}
