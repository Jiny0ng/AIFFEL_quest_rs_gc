{
 "cells": [
  {
   "cell_type": "markdown",
   "id": "d175ccb8-8f13-4a81-9563-1288dc71bf32",
   "metadata": {},
   "source": [
    "#### 프로젝트: Seq2seq으로 번역기 만들기\n",
    "#### 학습목표\n",
    "##### 번역기 모델 학습에 필요한 텍스트 데이터 전처리가 한국어 포함하여 잘 이루어졌다.\n",
    "##### Attentional Seq2seq 모델이 정상적으로 구동된다.\n",
    "##### 테스트 결과 의미가 통하는 수준의 번역문이 생성되었다.\n",
    "#### 평가기준\n",
    "##### 구두점, 대소문자, 띄어쓰기, 한글 형태소분석 등 번역기 모델에 요구되는 전처리가 정상적으로 진행되었다.\n",
    "##### seq2seq 모델 훈련 과정에서 training loss가 안정적으로 떨어지면서 학습이 진행됨이 확인되었다.\n",
    "##### 테스트용 디코더 모델이 정상적으로 만들어져서, 정답과 어느 정도 유사한 영어 번역이 진행됨을 확인하였다."
   ]
  },
  {
   "cell_type": "code",
   "execution_count": 1,
   "id": "d07ca920-6007-4f95-93bb-69511e070cd6",
   "metadata": {
    "id": "d07ca920-6007-4f95-93bb-69511e070cd6"
   },
   "outputs": [],
   "source": [
    "# !mkdir -p dataset\n",
    "# !cd dataset && \\\n",
    "# wget -q https://raw.githubusercontent.com/jungyeul/korean-parallel-corpora/master/korean-english-news-v1/korean-english-park.dev.tar.gz && \\\n",
    "# wget -q https://raw.githubusercontent.com/jungyeul/korean-parallel-corpora/master/korean-english-news-v1/korean-english-park.test.tar.gz && \\\n",
    "# wget -q https://raw.githubusercontent.com/jungyeul/korean-parallel-corpora/master/korean-english-news-v1/korean-english-park.train.tar.gz && \\\n",
    "# for f in *.tar.gz; do tar -xvzf \"$f\"; done"
   ]
  },
  {
   "cell_type": "code",
   "execution_count": 2,
   "id": "8b634550-a854-4f36-abfe-3582146a7c30",
   "metadata": {
    "colab": {
     "base_uri": "https://localhost:8080/"
    },
    "id": "8b634550-a854-4f36-abfe-3582146a7c30",
    "outputId": "0f1cc6cc-5168-45c5-fe4c-ea4f0e95d647"
   },
   "outputs": [],
   "source": [
    "# !pip install nltk\n",
    "# !pip install konlpy\n",
    "# !git clone https://github.com/SOMJANG/Mecab-ko-for-Google-Colab.git\n",
    "# %cd Mecab-ko-for-Google-Colab/\n",
    "# !bash install_mecab-ko_on_colab_light_220429.sh\n",
    "# !pip install tensorflow-cpu"
   ]
  },
  {
   "cell_type": "code",
   "execution_count": 3,
   "id": "98d191e4-c59c-487f-96c1-0b0e0af325ed",
   "metadata": {},
   "outputs": [],
   "source": [
    "# !sudo apt-get update -y\n",
    "# !sudo apt-get install -y fonts-nanum\n",
    "# import matplotlib as mpl\n",
    "# import os\n",
    "# import shutil\n",
    "\n",
    "# # matplotlib 폰트 캐시 삭제\n",
    "# cache_dir = mpl.get_cachedir()\n",
    "# print(\"캐시 위치:\", cache_dir)\n",
    "# shutil.rmtree(cache_dir)"
   ]
  },
  {
   "cell_type": "code",
   "execution_count": 4,
   "id": "4478d1ee-d839-4582-94e5-9b13596e57f0",
   "metadata": {},
   "outputs": [
    {
     "name": "stdout",
     "output_type": "stream",
     "text": [
      "설정된 폰트: NanumBarunGothic\n"
     ]
    }
   ],
   "source": [
    "import matplotlib as mpl\n",
    "import matplotlib.pyplot as plt\n",
    "import matplotlib.font_manager as fm\n",
    "import matplotlib.ticker as ticker\n",
    "import logging\n",
    "\n",
    "logging.getLogger(\"matplotlib.font_manager\").setLevel(logging.ERROR)\n",
    "\n",
    "fontpath = \"/usr/share/fonts/truetype/nanum/NanumBarunGothic.ttf\"\n",
    "fontprop = fm.FontProperties(fname=fontpath, size=12)\n",
    "plt.rcParams[\"font.family\"] = fontprop.get_name()\n",
    "\n",
    "print(f\"설정된 폰트: {fontprop.get_name()}\")"
   ]
  },
  {
   "cell_type": "code",
   "execution_count": 5,
   "id": "00e36a29-a42d-444e-af1a-0fbb4abfde76",
   "metadata": {},
   "outputs": [
    {
     "name": "stdout",
     "output_type": "stream",
     "text": [
      "Device: cuda\n"
     ]
    }
   ],
   "source": [
    "# ======================\n",
    "# 1. 라이브러리 임포트\n",
    "# ======================\n",
    "import re\n",
    "import random\n",
    "import numpy as np\n",
    "import pandas as pd\n",
    "import torch\n",
    "import torch.nn as nn\n",
    "import torch.optim as optim\n",
    "from torch.utils.data import Dataset, DataLoader\n",
    "import matplotlib.pyplot as plt\n",
    "import matplotlib.ticker as ticker\n",
    "from tqdm import tqdm\n",
    "\n",
    "from konlpy.tag import Mecab\n",
    "\n",
    "device = torch.device(\"cuda\" if torch.cuda.is_available() else \"cpu\")\n",
    "print(\"Device:\", device)"
   ]
  },
  {
   "cell_type": "code",
   "execution_count": 6,
   "id": "4a3c1d08-89cd-4f69-ba3f-fb02c9cf7b54",
   "metadata": {},
   "outputs": [],
   "source": [
    "# ======================\n",
    "# 2. 시드 고정\n",
    "# ======================\n",
    "def set_seed(seed: int = 42):\n",
    "    random.seed(seed)\n",
    "    np.random.seed(seed)\n",
    "    torch.manual_seed(seed)\n",
    "    if torch.cuda.is_available():\n",
    "        torch.cuda.manual_seed_all(seed)\n",
    "    torch.backends.cudnn.deterministic = True\n",
    "    torch.backends.cudnn.benchmark = False\n",
    "\n",
    "set_seed(42)"
   ]
  },
  {
   "cell_type": "code",
   "execution_count": 7,
   "id": "cb40c509-61a5-46aa-9bdf-20469b30a6c0",
   "metadata": {},
   "outputs": [],
   "source": [
    "# ======================\n",
    "# 3. 데이터 불러오기\n",
    "# ======================\n",
    "base_dir = \"dataset\"\n",
    "\n",
    "train_ko = open(f\"{base_dir}/korean-english-park.train.ko\", encoding=\"utf-8\").read().splitlines()\n",
    "train_en = open(f\"{base_dir}/korean-english-park.train.en\", encoding=\"utf-8\").read().splitlines()\n",
    "train_df = pd.DataFrame({\"ko\": train_ko, \"en\": train_en})\n",
    "\n",
    "valid_ko = open(f\"{base_dir}/korean-english-park.dev.ko\", encoding=\"utf-8\").read().splitlines()\n",
    "valid_en = open(f\"{base_dir}/korean-english-park.dev.en\", encoding=\"utf-8\").read().splitlines()\n",
    "valid_df = pd.DataFrame({\"ko\": valid_ko, \"en\": valid_en})\n",
    "\n",
    "test_ko = open(f\"{base_dir}/korean-english-park.test.ko\", encoding=\"utf-8\").read().splitlines()\n",
    "test_en = open(f\"{base_dir}/korean-english-park.test.en\", encoding=\"utf-8\").read().splitlines()\n",
    "test_df = pd.DataFrame({\"ko\": test_ko, \"en\": test_en})"
   ]
  },
  {
   "cell_type": "code",
   "execution_count": 8,
   "id": "72be03a0-e611-4e0a-b080-e21522173846",
   "metadata": {},
   "outputs": [],
   "source": [
    "# ======================\n",
    "# 4. 데이터 전처리\n",
    "# ======================\n",
    "def clean_ko(text):\n",
    "    text = re.sub(r\"([?.!,])\", r\" \\1 \", text)\n",
    "    text = re.sub(r'[\" \"]+', \" \", text)\n",
    "    text = re.sub(r\"[^ㄱ-ㅎ가-힣0-9?.!,]+\", \" \", text)\n",
    "    return text.strip()\n",
    "\n",
    "def clean_en(text):\n",
    "    text = text.lower().strip()\n",
    "    text = re.sub(r\"([?.!,])\", r\" \\1 \", text)\n",
    "    text = re.sub(r'[\" \"]+', \" \", text)\n",
    "    text = re.sub(r\"[^a-zA-Z0-9?.!,]+\", \" \", text)\n",
    "    return text.strip()\n",
    "\n",
    "def clean_df(df):\n",
    "    df = df.dropna().drop_duplicates()\n",
    "    df = df[df[\"ko\"].str.strip() != \"\"]\n",
    "    df = df[df[\"en\"].str.strip() != \"\"]\n",
    "    return df\n",
    "\n",
    "def filter_by_length(df, max_len=40):\n",
    "    en_len = df[\"en\"].apply(lambda x: len(x.split()))\n",
    "    return df[en_len <= max_len]\n",
    "\n",
    "def add_start_end(df):\n",
    "    df = df.copy()\n",
    "    df[\"en\"] = df[\"en\"].apply(lambda x: \"<sos> \" + x.strip() + \" <eos>\")\n",
    "    return df\n",
    "\n",
    "# 전처리 적용\n",
    "for dataset in [train_df, valid_df, test_df]:\n",
    "    dataset[\"ko\"] = dataset[\"ko\"].apply(clean_ko)\n",
    "    dataset[\"en\"] = dataset[\"en\"].apply(clean_en)\n",
    "\n",
    "train_df = clean_df(train_df)\n",
    "valid_df = clean_df(valid_df)\n",
    "test_df = clean_df(test_df)\n",
    "\n",
    "train_df = filter_by_length(train_df)\n",
    "valid_df = filter_by_length(valid_df)\n",
    "test_df = filter_by_length(test_df)\n",
    "\n",
    "train_df = add_start_end(train_df)\n",
    "valid_df = add_start_end(valid_df)\n",
    "test_df = add_start_end(test_df)"
   ]
  },
  {
   "cell_type": "code",
   "execution_count": 9,
   "id": "59a6ef50-9367-400b-8cc4-e31204a54970",
   "metadata": {},
   "outputs": [
    {
     "name": "stderr",
     "output_type": "stream",
     "text": [
      "2025-09-07 23:16:31.792676: I tensorflow/core/platform/cpu_feature_guard.cc:210] This TensorFlow binary is optimized to use available CPU instructions in performance-critical operations.\n",
      "To enable the following instructions: AVX2 FMA, in other operations, rebuild TensorFlow with the appropriate compiler flags.\n"
     ]
    }
   ],
   "source": [
    "# ======================\n",
    "# 5. 토크나이징 & Tensor 변환\n",
    "# ======================\n",
    "from tensorflow.keras.preprocessing.text import Tokenizer\n",
    "from tensorflow.keras.preprocessing.sequence import pad_sequences\n",
    "\n",
    "mecab = Mecab()\n",
    "maxlen = 40\n",
    "\n",
    "def apply_mecab(df):\n",
    "    df = df.copy()\n",
    "    df[\"ko\"] = df[\"ko\"].apply(lambda x: \" \".join(mecab.morphs(x)))\n",
    "    return df\n",
    "\n",
    "train_df = apply_mecab(train_df)\n",
    "valid_df = apply_mecab(valid_df)\n",
    "test_df  = apply_mecab(test_df)\n",
    "\n",
    "def tokenize(corpus, tokenizer=None, padding=\"post\"):\n",
    "    if tokenizer is None:\n",
    "        tokenizer = Tokenizer(filters='', num_words=20000, oov_token=\"<unk>\")\n",
    "        tokenizer.fit_on_texts(corpus)\n",
    "    tensor = tokenizer.texts_to_sequences(corpus)\n",
    "    tensor = pad_sequences(tensor, padding=padding, maxlen=maxlen)\n",
    "    return tensor, tokenizer\n",
    "\n",
    "enc_train, enc_tokenizer = tokenize(train_df[\"ko\"])\n",
    "dec_train, dec_tokenizer = tokenize(train_df[\"en\"])\n",
    "\n",
    "enc_val, _  = tokenize(valid_df[\"ko\"], tokenizer=enc_tokenizer)\n",
    "dec_val, _  = tokenize(valid_df[\"en\"], tokenizer=dec_tokenizer)\n",
    "\n",
    "enc_test, _ = tokenize(test_df[\"ko\"], tokenizer=enc_tokenizer)\n",
    "dec_test, _ = tokenize(test_df[\"en\"], tokenizer=dec_tokenizer)\n",
    "\n",
    "PAD_ID = 0\n",
    "EOS_ID = dec_tokenizer.word_index.get(\"<eos>\")"
   ]
  },
  {
   "cell_type": "code",
   "execution_count": 10,
   "id": "4ec76c41-621b-4e65-ac17-6dae1ec2ab22",
   "metadata": {},
   "outputs": [],
   "source": [
    "# ======================\n",
    "# 6. Dataset & DataLoader\n",
    "# ======================\n",
    "class TranslationDataset(Dataset):\n",
    "    def __init__(self, enc_tensor, dec_tensor):\n",
    "        self.enc_tensor = enc_tensor\n",
    "        self.dec_tensor = dec_tensor\n",
    "\n",
    "    def __len__(self):\n",
    "        return len(self.enc_tensor)\n",
    "\n",
    "    def __getitem__(self, idx):\n",
    "        enc_input = torch.tensor(self.enc_tensor[idx], dtype=torch.long)\n",
    "        dec_input = torch.tensor(self.dec_tensor[idx][:-1], dtype=torch.long)\n",
    "        dec_target = torch.tensor(self.dec_tensor[idx][1:], dtype=torch.long)\n",
    "        return enc_input, dec_input, dec_target\n",
    "\n",
    "train_dataset = TranslationDataset(enc_train, dec_train)\n",
    "valid_dataset = TranslationDataset(enc_val, dec_val)\n",
    "test_dataset  = TranslationDataset(enc_test, dec_test)\n",
    "\n",
    "train_loader = DataLoader(train_dataset, batch_size=64, shuffle=True)\n",
    "valid_loader = DataLoader(valid_dataset, batch_size=64)\n",
    "test_loader  = DataLoader(test_dataset, batch_size=64)"
   ]
  },
  {
   "cell_type": "code",
   "execution_count": 11,
   "id": "cc77c98c-21c8-4d82-ab0d-ef3cfaf34142",
   "metadata": {},
   "outputs": [],
   "source": [
    "class BahdanauAttention(nn.Module):\n",
    "    def __init__(self, hidden_dim):\n",
    "        super().__init__()\n",
    "        self.W1 = nn.Linear(hidden_dim * 2, hidden_dim)  # 인코더는 bidirectional → hidden_dim*2\n",
    "        self.W2 = nn.Linear(hidden_dim, hidden_dim)\n",
    "        self.v = nn.Linear(hidden_dim, 1, bias=False)\n",
    "\n",
    "    def forward(self, hidden, encoder_outputs):\n",
    "        # hidden: (batch, hidden_dim)\n",
    "        # encoder_outputs: (batch, src_len, hidden_dim*2)\n",
    "        src_len = encoder_outputs.size(1)\n",
    "        hidden = hidden.unsqueeze(1).repeat(1, src_len, 1)\n",
    "        energy = torch.tanh(self.W1(encoder_outputs) + self.W2(hidden))\n",
    "        attention = self.v(energy).squeeze(2)  # (batch, src_len)\n",
    "        return nn.functional.softmax(attention, dim=1)\n",
    "\n",
    "\n",
    "class Encoder(nn.Module):\n",
    "    def __init__(self, input_dim, emb_dim, hidden_dim):\n",
    "        super().__init__()\n",
    "        self.embedding = nn.Embedding(input_dim, emb_dim, padding_idx=PAD_ID)\n",
    "        self.rnn = nn.GRU(\n",
    "            emb_dim,\n",
    "            hidden_dim,\n",
    "            num_layers=2,\n",
    "            batch_first=True,\n",
    "            dropout=0.5,\n",
    "            bidirectional=True\n",
    "        )\n",
    "        self.fc = nn.Linear(hidden_dim * 2, hidden_dim)  # 양방향 hidden → 디코더 hidden 크기 맞춤\n",
    "\n",
    "    def forward(self, src):\n",
    "        # src: (batch, src_len)\n",
    "        embedded = self.embedding(src)\n",
    "        outputs, hidden = self.rnn(embedded)\n",
    "        # outputs: (batch, src_len, hidden_dim*2)\n",
    "        # hidden: (num_layers*2, batch, hidden_dim)\n",
    "\n",
    "        # 최종 forward/backward hidden state 결합 후 projection\n",
    "        hidden_cat = torch.cat((hidden[-2], hidden[-1]), dim=1)  # (batch, hidden_dim*2)\n",
    "        hidden = torch.tanh(self.fc(hidden_cat)).unsqueeze(0)    # (1, batch, hidden_dim)\n",
    "\n",
    "        return outputs, hidden\n",
    "\n",
    "\n",
    "class Decoder(nn.Module):\n",
    "    def __init__(self, output_dim, emb_dim, hidden_dim, attention):\n",
    "        super().__init__()\n",
    "        self.output_dim = output_dim\n",
    "        self.attention = attention\n",
    "        self.embedding = nn.Embedding(output_dim, emb_dim, padding_idx=PAD_ID)\n",
    "        self.rnn = nn.GRU(emb_dim + hidden_dim * 2, hidden_dim, batch_first=True)\n",
    "        self.fc_out = nn.Linear(hidden_dim * 3, output_dim)\n",
    "\n",
    "    def forward(self, input, hidden, encoder_outputs):\n",
    "        # input: (batch,)\n",
    "        input = input.unsqueeze(1)  # (batch, 1)\n",
    "        embedded = self.embedding(input)  # (batch, 1, emb_dim)\n",
    "\n",
    "        a = self.attention(hidden[-1], encoder_outputs)  # (batch, src_len)\n",
    "        a = a.unsqueeze(1)  # (batch, 1, src_len)\n",
    "        context = torch.bmm(a, encoder_outputs)  # (batch, 1, hidden_dim*2)\n",
    "\n",
    "        rnn_input = torch.cat((embedded, context), dim=2)  # (batch, 1, emb_dim + hidden_dim*2)\n",
    "        output, hidden = self.rnn(rnn_input, hidden)       # output: (batch, 1, hidden_dim)\n",
    "\n",
    "        output = output.squeeze(1)   # (batch, hidden_dim)\n",
    "        context = context.squeeze(1) # (batch, hidden_dim*2)\n",
    "        prediction = self.fc_out(torch.cat((output, context), dim=1))  # (batch, output_dim)\n",
    "\n",
    "        return prediction, hidden, a.squeeze(1)\n",
    "\n",
    "\n",
    "class Seq2SeqAttention(nn.Module):\n",
    "    def __init__(self, encoder, decoder, device):\n",
    "        super().__init__()\n",
    "        self.encoder = encoder\n",
    "        self.decoder = decoder\n",
    "        self.device = device\n",
    "\n",
    "    def forward(self, src, trg=None, max_len=30, bos_id=1, eos_id=2):\n",
    "        batch_size = src.size(0)\n",
    "        encoder_outputs, hidden = self.encoder(src)\n",
    "\n",
    "        outputs, attentions = [], []\n",
    "\n",
    "        if trg is not None:\n",
    "            for t in range(trg.size(1)):\n",
    "                input = trg[:, t]\n",
    "                output, hidden, attention = self.decoder(input, hidden, encoder_outputs)\n",
    "                outputs.append(output.unsqueeze(1))\n",
    "                attentions.append(attention.unsqueeze(1))\n",
    "        else:\n",
    "            input = torch.full((batch_size,), bos_id, dtype=torch.long, device=self.device)\n",
    "            finished = torch.zeros(batch_size, dtype=torch.bool, device=self.device)\n",
    "            for _ in range(max_len):\n",
    "                output, hidden, attention = self.decoder(input, hidden, encoder_outputs)\n",
    "                outputs.append(output.unsqueeze(1))\n",
    "                attentions.append(attention.unsqueeze(1))\n",
    "                top1 = output.argmax(1)\n",
    "                input = top1\n",
    "                finished |= (top1 == eos_id)\n",
    "                if finished.all():\n",
    "                    break\n",
    "\n",
    "        outputs = torch.cat(outputs, dim=1)      # (batch, trg_len, output_dim)\n",
    "        attentions = torch.cat(attentions, dim=1)  # (batch, trg_len, src_len)\n",
    "        return outputs, attentions"
   ]
  },
  {
   "cell_type": "code",
   "execution_count": 12,
   "id": "4951f9c5-58aa-4b07-96d7-ab2d63249cc6",
   "metadata": {},
   "outputs": [],
   "source": [
    "# ======================\n",
    "# 8. 학습 루프\n",
    "# ======================\n",
    "def train_step(model, data_loader, optimizer, criterion, epoch, device):\n",
    "    model.train()\n",
    "    epoch_loss = 0\n",
    "    progress_bar = tqdm(data_loader, desc=f\"Train Epoch {epoch+1}\", leave=False)\n",
    "    for src, trg_input, trg_label in progress_bar:\n",
    "        src, trg_input, trg_label = src.to(device), trg_input.to(device), trg_label.to(device)\n",
    "        optimizer.zero_grad()\n",
    "        outputs, _ = model(src, trg_input)\n",
    "        outputs = outputs.view(-1, outputs.shape[-1])\n",
    "        trg_label = trg_label.view(-1)\n",
    "        loss = criterion(outputs, trg_label)\n",
    "        loss.backward()\n",
    "        torch.nn.utils.clip_grad_norm_(model.parameters(), max_norm=1)\n",
    "        optimizer.step()\n",
    "        epoch_loss += loss.item()\n",
    "        progress_bar.set_postfix(loss=loss.item())\n",
    "    return epoch_loss / len(data_loader)\n",
    "\n",
    "def evaluate_loss(model, data_loader, criterion, device):\n",
    "    model.eval()\n",
    "    epoch_loss = 0\n",
    "    with torch.no_grad():\n",
    "        for src, trg_input, trg_label in data_loader:\n",
    "            src, trg_input, trg_label = src.to(device), trg_input.to(device), trg_label.to(device)\n",
    "            outputs, _ = model(src, trg_input)\n",
    "            outputs = outputs.view(-1, outputs.shape[-1])\n",
    "            trg_label = trg_label.view(-1)\n",
    "            loss = criterion(outputs, trg_label)\n",
    "            epoch_loss += loss.item()\n",
    "    return epoch_loss / len(data_loader)\n",
    "\n",
    "def train_model(model, train_loader, valid_loader, optimizer, criterion,\n",
    "                device, n_epochs=20, patience=3, save_path=\"best_seq2seq.pt\"):\n",
    "\n",
    "    best_valid_loss = float(\"inf\")\n",
    "    patience_counter = 0\n",
    "\n",
    "    for epoch in range(n_epochs):\n",
    "        train_loss = train_step(model, train_loader, optimizer, criterion, epoch, device)\n",
    "        valid_loss = evaluate_loss(model, valid_loader, criterion, device)\n",
    "\n",
    "        print(f\"[Epoch {epoch+1:02}] Train Loss: {train_loss:.3f} | Valid Loss: {valid_loss:.3f}\")\n",
    "\n",
    "        if valid_loss < best_valid_loss:\n",
    "            best_valid_loss = valid_loss\n",
    "            patience_counter = 0\n",
    "            torch.save(model.state_dict(), save_path)\n",
    "            print(f\"  ✅ Model saved at epoch {epoch+1} (Valid Loss: {valid_loss:.3f})\")\n",
    "        else:\n",
    "            patience_counter += 1\n",
    "            print(f\"  ⚠️ No improvement. Patience {patience_counter}/{patience}\")\n",
    "\n",
    "        if patience_counter >= patience:\n",
    "            print(\"⏹️ Early stopping triggered.\")\n",
    "            break"
   ]
  },
  {
   "cell_type": "code",
   "execution_count": 13,
   "id": "e55b0275-7997-43ed-af27-675d726decfb",
   "metadata": {},
   "outputs": [],
   "source": [
    "# ======================\n",
    "# 9. Inference & Attention Plot\n",
    "# ======================\n",
    "def plot_attention(attention, src_tokens, pred_tokens):\n",
    "    fig = plt.figure(figsize=(10,10))\n",
    "    ax = fig.add_subplot(1,1,1)\n",
    "    cax = ax.matshow(attention, cmap=\"viridis\")\n",
    "    ax.set_xticks(range(len(src_tokens)))\n",
    "    ax.set_xticklabels(src_tokens, rotation=90)\n",
    "    ax.set_yticks(range(len(pred_tokens)))\n",
    "    ax.set_yticklabels(pred_tokens)\n",
    "    fig.colorbar(cax)\n",
    "    plt.show()\n",
    "\n",
    "\n",
    "def translate(sentence, model, enc_tokenizer, dec_tokenizer, device, max_len=30, bos_id=1, eos_id=2):\n",
    "    model.eval()\n",
    "    sentence = clean_ko(sentence)\n",
    "    src_seq = enc_tokenizer.texts_to_sequences([sentence])[0]\n",
    "    src_seq = src_seq[:max_len] + [0]*(max_len-len(src_seq))\n",
    "    src_tensor = torch.tensor([src_seq]).to(device)  # (1, src_len)\n",
    "    with torch.no_grad():\n",
    "        outputs, attentions = model(src_tensor, trg=None, max_len=max_len, bos_id=bos_id, eos_id=eos_id)\n",
    "    pred_ids = outputs.argmax(2).squeeze(0).tolist()\n",
    "    result_tokens = []\n",
    "    for idx in pred_ids:\n",
    "        if idx == eos_id:\n",
    "            break\n",
    "        if idx > 0:\n",
    "            result_tokens.append(dec_tokenizer.index_word.get(idx, \"<unk>\"))\n",
    "    print(\"Input :\", sentence)\n",
    "    print(\"Pred  :\", \" \".join(result_tokens))\n",
    "    attention = attentions.squeeze(0).cpu().numpy()\n",
    "    plot_attention(attention[:len(result_tokens), :len(sentence.split())], sentence.split(), result_tokens)"
   ]
  },
  {
   "cell_type": "code",
   "execution_count": 14,
   "id": "15bb612c-ef6c-4f7c-9f17-d7a48c1e3351",
   "metadata": {},
   "outputs": [
    {
     "name": "stderr",
     "output_type": "stream",
     "text": [
      "                                                                             "
     ]
    },
    {
     "name": "stdout",
     "output_type": "stream",
     "text": [
      "[Epoch 01] Train Loss: 5.215 | Valid Loss: 4.440\n",
      "  ✅ Model saved at epoch 1 (Valid Loss: 4.440)\n"
     ]
    },
    {
     "name": "stderr",
     "output_type": "stream",
     "text": [
      "                                                                             "
     ]
    },
    {
     "name": "stdout",
     "output_type": "stream",
     "text": [
      "[Epoch 02] Train Loss: 3.938 | Valid Loss: 4.185\n",
      "  ✅ Model saved at epoch 2 (Valid Loss: 4.185)\n"
     ]
    },
    {
     "name": "stderr",
     "output_type": "stream",
     "text": [
      "                                                                             "
     ]
    },
    {
     "name": "stdout",
     "output_type": "stream",
     "text": [
      "[Epoch 03] Train Loss: 3.235 | Valid Loss: 4.194\n",
      "  ⚠️ No improvement. Patience 1/3\n"
     ]
    },
    {
     "name": "stderr",
     "output_type": "stream",
     "text": [
      "                                                                             "
     ]
    },
    {
     "name": "stdout",
     "output_type": "stream",
     "text": [
      "[Epoch 04] Train Loss: 2.775 | Valid Loss: 4.292\n",
      "  ⚠️ No improvement. Patience 2/3\n"
     ]
    },
    {
     "name": "stderr",
     "output_type": "stream",
     "text": [
      "                                                                             "
     ]
    },
    {
     "name": "stdout",
     "output_type": "stream",
     "text": [
      "[Epoch 05] Train Loss: 2.473 | Valid Loss: 4.401\n",
      "  ⚠️ No improvement. Patience 3/3\n",
      "⏹️ Early stopping triggered.\n"
     ]
    }
   ],
   "source": [
    "# ======================\n",
    "# 10. 학습 실행\n",
    "# ======================\n",
    "input_dim = len(enc_tokenizer.index_word)+1\n",
    "output_dim = len(dec_tokenizer.index_word)+1\n",
    "emb_dim = 256\n",
    "hid_dim = 512\n",
    "\n",
    "encoder = Encoder(input_dim, emb_dim, hid_dim).to(device)\n",
    "attention = BahdanauAttention(hid_dim).to(device)\n",
    "decoder = Decoder(output_dim, emb_dim, hid_dim, attention).to(device)\n",
    "model = Seq2SeqAttention(encoder, decoder, device).to(device)\n",
    "\n",
    "optimizer = optim.Adam(model.parameters(), lr=1e-3)\n",
    "criterion = nn.CrossEntropyLoss(ignore_index=PAD_ID)\n",
    "\n",
    "# 학습\n",
    "train_model(model, train_loader, valid_loader, optimizer, criterion, device,\n",
    "            n_epochs=20, patience=3, save_path=\"best_seq2seq.pt\")"
   ]
  },
  {
   "cell_type": "code",
   "execution_count": 16,
   "id": "ee0064cf-a10c-4f69-bb29-eb5491b731e6",
   "metadata": {},
   "outputs": [
    {
     "name": "stdout",
     "output_type": "stream",
     "text": [
      "Input : 저는 학생 입니다 .\n",
      "Pred  : <unk> <unk> , a student at the university of california .\n"
     ]
    },
    {
     "data": {
      "image/png": "[encoded data removed]",
      "text/plain": [
       "<Figure size 1000x1000 with 2 Axes>"
      ]
     },
     "metadata": {},
     "output_type": "display_data"
    }
   ],
   "source": [
    "# ======================\n",
    "# 11. 저장된 모델 로드 후 번역 테스트\n",
    "# ======================\n",
    "model.load_state_dict(torch.load(\"best_seq2seq.pt\", map_location=device))\n",
    "translate(\"저는 학생 입니다.\", model, enc_tokenizer, dec_tokenizer, device,\n",
    "          max_len=40, bos_id=dec_tokenizer.word_index[\"<sos>\"], eos_id=EOS_ID)"
   ]
  },
  {
   "cell_type": "code",
   "execution_count": 17,
   "id": "5b88deaa-aa2e-4e72-a744-99816f625cfd",
   "metadata": {},
   "outputs": [
    {
     "name": "stdout",
     "output_type": "stream",
     "text": [
      "Input : 저는 오바마 입니다 .\n",
      "Pred  : obama s top <unk> , d . c .\n"
     ]
    },
    {
     "data": {
      "image/png": "[encoded data removed]",
      "text/plain": [
       "<Figure size 1000x1000 with 2 Axes>"
      ]
     },
     "metadata": {},
     "output_type": "display_data"
    }
   ],
   "source": [
    "translate(\"저는 오바마 입니다.\", model, enc_tokenizer, dec_tokenizer, device,\n",
    "          max_len=40, bos_id=dec_tokenizer.word_index[\"<sos>\"], eos_id=EOS_ID)"
   ]
  },
  {
   "cell_type": "markdown",
   "id": "b7683e72-9aea-482e-b522-968fc31e8496",
   "metadata": {},
   "source": [
    "#### Review\n",
    "한국어–영어 번역 프로젝트를 진행하였다. 사용한 모델은 GRU 기반 Seq2Seq 구조에 Bahdanau Attention을 적용한 형태였다. 초기에는 단일 GRU 레이어로 실험했으나 성능이 잘 나오지 않아, 인코더를 양방향 GRU(bidirectional GRU)로 확장하고 레이어 수를 2개로 늘려 표현력을 강화하였다.\n",
    "\n",
    "데이터 전처리 과정에서는 한국어와 영어 데이터에서 중복 및 결측치를 제거하고, 정규표현식 기반 텍스트 정제를 수행하였다. 한국어는 Mecab 형태소 분석기를 이용해 형태소 단위로 토크나이징하였고, 영어는 공백 기준 토크나이징을 적용하였다. 이후 학습 데이터(train), 검증 데이터(validation), 테스트 데이터(test)로 구분된 코퍼스를 각각의 토크나이저에 적용하여 학습에 활용하였다.\n",
    "\n",
    "학습 과정에서는 Cross Entropy Loss를 이용하여 손실 감소 여부를 확인하면서 모델이 제대로 학습되는지 확인하였다. 최종적으로 학습된 모델에 한국어 문장을 입력하여 영어 번역 결과를 확인하고, Attention Map 시각화를 통해 번역 시 어떤 입력 토큰에 집중하는지를 분석하였다. 예를 들어 “저는 학생입니다.” 문장의 경우 학생(student)에 집중했고, “저는 오바마입니다.” 문장에서는 오바마(Obama)에 주로 어텐션이 할당된 것을 확인할 수 있었다.\n",
    "\n",
    "다만, 모델 성능이 기대에 미치지 못한 이유는 Early Stopping 전략 때문으로 판단된다. 검증 손실이 3회 연속 감소하지 않으면 학습을 중단하도록 설정했는데, 이로 인해 충분히 수렴하기 전에 학습이 조기 종료되었을 가능성이 크다. 오히려 학습 데이터를 대상으로 먼저 과적합 수준까지 학습을 진행했더라면, 차라리 더 나은 번역 결과를 얻을 수 있었을 것이다."
   ]
  },
  {
   "cell_type": "code",
   "execution_count": null,
   "id": "9bdc0a23-0cad-4a2c-819e-d7694f8ff8f4",
   "metadata": {},
   "outputs": [],
   "source": []
  }
 ],
 "metadata": {
  "accelerator": "GPU",
  "colab": {
   "gpuType": "T4",
   "provenance": []
  },
  "kernelspec": {
   "display_name": "Python 3 (ipykernel)",
   "language": "python",
   "name": "python3"
  },
  "language_info": {
   "codemirror_mode": {
    "name": "ipython",
    "version": 3
   },
   "file_extension": ".py",
   "mimetype": "text/x-python",
   "name": "python",
   "nbconvert_exporter": "python",
   "pygments_lexer": "ipython3",
   "version": "3.12.11"
  }
 },
 "nbformat": 4,
 "nbformat_minor": 5
}
